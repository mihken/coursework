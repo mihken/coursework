{
 "cells": [
  {
   "cell_type": "code",
   "execution_count": 1,
   "metadata": {
    "colab": {
     "base_uri": "https://localhost:8080/"
    },
    "id": "VD3uyr62ZJ3r",
    "outputId": "e79ff2ea-03ad-4e6f-804a-6bb9df8d70cb"
   },
   "outputs": [],
   "source": [
    "import pandas as pd\n"
   ]
  },
  {
   "cell_type": "code",
   "execution_count": 2,
   "metadata": {
    "id": "qec2RyjTbDg5"
   },
   "outputs": [],
   "source": [
    "import pandas as pd\n",
    "import matplotlib.pyplot as plt\n",
    "import numpy as np\n",
    "import os\n",
    "import keras\n",
    "import graphviz, pydot, pydotplus\n",
    "from sklearn.model_selection import train_test_split\n"
   ]
  },
  {
   "cell_type": "code",
   "execution_count": 3,
   "metadata": {
    "colab": {
     "base_uri": "https://localhost:8080/",
     "height": 235
    },
    "id": "hw6EFtAXbD7Z",
    "outputId": "043f42d2-cc31-4097-adc7-1aa20b48aaa7"
   },
   "outputs": [
    {
     "name": "stdout",
     "output_type": "stream",
     "text": [
      "['image_cortex_patient15012020_633nm_obj20_power100_1sec_acc1_сenter2900 (2).txt', 'image_cortex_patient20022019_633nm_obj20_power100_1sec_сenter2900 (1).txt', 'image_cortex_patient15012020_633nm_obj20_power100_1sec_acc1_сenter2900 (1).txt', 'image_cortex_patient20022019_633nm_obj20_power100_1sec_сenter2900.txt', 'image_cortex_patient13012020_633nm_obj20_power100_1sec_step4um_сenter2900.txt', 'image_cortex_patient25022020_633nm_obj20_power100_1sec_сenter2900.txt', 'image_cortex_patient15012020_633nm_obj20_power100_2sec_acc1_сenter2900.txt', 'image_cortex_patient78_633nm_obj20_power100_step4um_2sec_acc1_сenter2900.txt', 'image_cortex_patient25022020_633nm_obj20_power100_2sec_сenter2900.txt', 'image_cortex_patient15012020_633nm_obj20_power100_1sec_acc1_сenter2900.txt']\n"
     ]
    }
   ],
   "source": [
    "root_folder = \"h\"\n",
    "healthy = []\n",
    "for root, dirs, files in os.walk(root_folder):  \n",
    "    for filename in files:\n",
    "        healthy.append(filename)\n",
    "print(healthy)"
   ]
  },
  {
   "cell_type": "code",
   "execution_count": 4,
   "metadata": {
    "id": "urBlfotCewo6"
   },
   "outputs": [],
   "source": [
    "measurements = []\n",
    "classifications = []\n",
    "points = []"
   ]
  },
  {
   "cell_type": "code",
   "execution_count": 5,
   "metadata": {
    "id": "QFgRRW_DbZi-"
   },
   "outputs": [],
   "source": [
    "count_healthy = 0\n",
    "\n",
    "for name in healthy:\n",
    "    df = pd.read_csv(\"h/\" + name, sep='\\t',skiprows=[0],\n",
    "                     header=None, names=['X', 'Y', 'Wave', 'Intensity'])\n",
    "    for i in range(len(df)//1015):\n",
    "        measurements.append(df[['Intensity']][i*1015:(i+1)*1015].to_numpy())\n",
    "        classifications.append([1,0])\n",
    "        points.append(df[[\"X\", \"Y\"]].iloc[i * 1015].values)\n",
    "        count_healthy += 1"
   ]
  },
  {
   "cell_type": "code",
   "execution_count": 6,
   "metadata": {
    "id": "oK_mBl21fl2G"
   },
   "outputs": [],
   "source": [
    "root_folder = \"s/\"\n",
    "sick = []\n",
    "for root, dirs, files in os.walk(root_folder):  \n",
    "    for filename in files:\n",
    "        sick.append(filename)"
   ]
  },
  {
   "cell_type": "code",
   "execution_count": 7,
   "metadata": {
    "id": "VBWbzg8xbdZU"
   },
   "outputs": [],
   "source": [
    "count_sick = 0\n",
    "\n",
    "for name in sick:\n",
    "    df = pd.read_csv(\"s/\" + name, sep='\\t',skiprows=[0],\n",
    "                     header=None, names=['X', 'Y', 'Wave', 'Intensity'])\n",
    "    for i in range(len(df)//1015):\n",
    "        measurements.append(df[['Intensity']][i*1015:(i+1)*1015].to_numpy())\n",
    "        classifications.append([0,1])\n",
    "        count_sick += 1"
   ]
  },
  {
   "cell_type": "code",
   "execution_count": 8,
   "metadata": {
    "id": "ArTlf30Jf7zm"
   },
   "outputs": [],
   "source": [
    "X = np.asarray(measurements)\n",
    "y = np.asarray(classifications)"
   ]
  },
  {
   "cell_type": "code",
   "execution_count": 9,
   "metadata": {
    "colab": {
     "base_uri": "https://localhost:8080/"
    },
    "id": "841x-tHjf_nV",
    "outputId": "d10f8082-0faf-4dda-90c8-003bd5be5872"
   },
   "outputs": [
    {
     "data": {
      "text/plain": [
       "(6348, 1015, 1)"
      ]
     },
     "execution_count": 9,
     "metadata": {},
     "output_type": "execute_result"
    }
   ],
   "source": [
    "X.shape"
   ]
  },
  {
   "cell_type": "code",
   "execution_count": 10,
   "metadata": {
    "colab": {
     "base_uri": "https://localhost:8080/"
    },
    "id": "0XjHtO5YgBq5",
    "outputId": "d4d2c030-cd4f-4c97-d67e-2d24d4e9f418"
   },
   "outputs": [
    {
     "data": {
      "text/plain": [
       "(6348, 1015)"
      ]
     },
     "execution_count": 10,
     "metadata": {},
     "output_type": "execute_result"
    }
   ],
   "source": [
    "X = X.reshape(-1, 1015)\n",
    "X.shape"
   ]
  },
  {
   "cell_type": "code",
   "execution_count": 11,
   "metadata": {
    "colab": {
     "base_uri": "https://localhost:8080/"
    },
    "id": "mbowo8RzgGvD",
    "outputId": "2de67992-7398-4e89-901d-3d18f28b5f69"
   },
   "outputs": [
    {
     "data": {
      "text/plain": [
       "(6348, 2)"
      ]
     },
     "execution_count": 11,
     "metadata": {},
     "output_type": "execute_result"
    }
   ],
   "source": [
    "y.shape"
   ]
  },
  {
   "cell_type": "code",
   "execution_count": 12,
   "metadata": {
    "colab": {
     "base_uri": "https://localhost:8080/"
    },
    "id": "cZogzB33gI7r",
    "outputId": "dc7497ac-b2a3-4c80-b2a6-b57ae9268b4d"
   },
   "outputs": [
    {
     "name": "stdout",
     "output_type": "stream",
     "text": [
      "Total amount of train measurements: (4761, 1015)\n",
      "Total amount of train labels: (4761, 2)\n",
      "Total amount of test measurements: (1587, 1015)\n",
      "Total amount of test labels: (1587, 2)\n"
     ]
    }
   ],
   "source": [
    "X_train, X_test, y_train, y_test = train_test_split(X, y, test_size=0.25, random_state=42)\n",
    "print(f'Total amount of train measurements: {X_train.shape}')\n",
    "print(f'Total amount of train labels: {y_train.shape}')\n",
    "print(f'Total amount of test measurements: {X_test.shape}')\n",
    "print(f'Total amount of test labels: {y_test.shape}')\n",
    "y_train_labels = np.argmax(y_train, axis=1)\n",
    "y_test_labels = np.argmax(y_test, axis=1)"
   ]
  },
  {
   "cell_type": "code",
   "execution_count": 13,
   "metadata": {
    "id": "VrSjEx2rgMi-"
   },
   "outputs": [],
   "source": [
    "#from scipy.signal import savgol_filter\n",
    "#for i in range(len(X_train)):\n",
    " #   X_train[i] = savgol_filter(X_train[i], 101, 2)\n",
    "#for i in range(len(X_test)):\n",
    " #   X_test[i] = savgol_filter(X_test[i], 101, 2)"
   ]
  },
  {
   "cell_type": "code",
   "execution_count": 14,
   "metadata": {
    "colab": {
     "base_uri": "https://localhost:8080/"
    },
    "id": "ZaSaxTJVgPui",
    "outputId": "0c451a84-9d82-4ad2-bb63-cc065c1c6273"
   },
   "outputs": [
    {
     "name": "stderr",
     "output_type": "stream",
     "text": [
      "/opt/homebrew/lib/python3.10/site-packages/tqdm/auto.py:22: TqdmWarning: IProgress not found. Please update jupyter and ipywidgets. See https://ipywidgets.readthedocs.io/en/stable/user_install.html\n",
      "  from .autonotebook import tqdm as notebook_tqdm\n"
     ]
    }
   ],
   "source": [
    "from sklearn.ensemble import RandomForestClassifier\n",
    "from sklearn.metrics import f1_score, accuracy_score\n",
    "from optuna.samplers import TPESampler\n",
    "def objective(trial):\n",
    "    param = {\n",
    "        \"n_estimators\": trial.suggest_int(\"n_estimators\", 50, 2000, log=True),\n",
    "        \"criterion\": trial.suggest_categorical(\"criterion\", [\"gini\", \"entropy\", \"log_loss\"]),\n",
    "        \"max_depth\": trial.suggest_int(\"max_depth\", 5, 50, log=True),\n",
    "        \"min_samples_split\": trial.suggest_int(\"min_samples_split\", 2, 200, log=True),\n",
    "        \"min_samples_leaf\": trial.suggest_int(\"min_samples_leaf\", 1, 200, log=True),\n",
    "        \"max_features\": trial.suggest_categorical(\"max_features\", [\"sqrt\", \"log2\", None]),\n",
    "        \"bootstrap\": trial.suggest_categorical(\"bootstrap\", [False, True]),\n",
    "    }\n",
    "    rf_cls = RandomForestClassifier(**param)\n",
    "\n",
    "    rf_cls.fit(X_train, y_train_labels)\n",
    "\n",
    "    preds = rf_cls.predict(X_test)\n",
    "    f1 = f1_score(y_test_labels, preds)\n",
    "    acc = accuracy_score(y_test_labels, preds)\n",
    "    print(f\"{f1}, {acc}\")\n",
    "    return f1"
   ]
  },
  {
   "cell_type": "code",
   "execution_count": 15,
   "metadata": {
    "scrolled": false
   },
   "outputs": [
    {
     "name": "stderr",
     "output_type": "stream",
     "text": [
      "\u001b[32m[I 2023-05-15 00:42:54,107]\u001b[0m A new study created in memory with name: rf\u001b[0m\n",
      "\u001b[32m[I 2023-05-15 00:43:31,953]\u001b[0m Trial 0 finished with value: 0.831479897348161 and parameters: {'n_estimators': 248, 'criterion': 'entropy', 'max_depth': 12, 'min_samples_split': 8, 'min_samples_leaf': 2, 'max_features': 'sqrt', 'bootstrap': False}. Best is trial 0 with value: 0.831479897348161.\u001b[0m\n"
     ]
    },
    {
     "name": "stdout",
     "output_type": "stream",
     "text": [
      "0.831479897348161, 0.8758664146187776\n"
     ]
    },
    {
     "name": "stderr",
     "output_type": "stream",
     "text": [
      "\u001b[32m[I 2023-05-15 00:43:34,477]\u001b[0m Trial 1 finished with value: 0.7051397655545537 and parameters: {'n_estimators': 81, 'criterion': 'log_loss', 'max_depth': 35, 'min_samples_split': 17, 'min_samples_leaf': 80, 'max_features': 'log2', 'bootstrap': False}. Best is trial 0 with value: 0.831479897348161.\u001b[0m\n"
     ]
    },
    {
     "name": "stdout",
     "output_type": "stream",
     "text": [
      "0.7051397655545537, 0.7939508506616257\n"
     ]
    },
    {
     "name": "stderr",
     "output_type": "stream",
     "text": [
      "\u001b[32m[I 2023-05-15 00:43:36,584]\u001b[0m Trial 2 finished with value: 0.7659574468085105 and parameters: {'n_estimators': 79, 'criterion': 'gini', 'max_depth': 8, 'min_samples_split': 8, 'min_samples_leaf': 8, 'max_features': 'log2', 'bootstrap': False}. Best is trial 0 with value: 0.831479897348161.\u001b[0m\n"
     ]
    },
    {
     "name": "stdout",
     "output_type": "stream",
     "text": [
      "0.7659574468085105, 0.833648393194707\n"
     ]
    },
    {
     "name": "stderr",
     "output_type": "stream",
     "text": [
      "\u001b[32m[I 2023-05-15 00:43:50,496]\u001b[0m Trial 3 finished with value: 0.6571969696969697 and parameters: {'n_estimators': 932, 'criterion': 'log_loss', 'max_depth': 46, 'min_samples_split': 17, 'min_samples_leaf': 103, 'max_features': 'log2', 'bootstrap': True}. Best is trial 0 with value: 0.831479897348161.\u001b[0m\n"
     ]
    },
    {
     "name": "stdout",
     "output_type": "stream",
     "text": [
      "0.6571969696969697, 0.7718966603654694\n"
     ]
    },
    {
     "name": "stderr",
     "output_type": "stream",
     "text": [
      "\u001b[32m[I 2023-05-15 00:44:01,575]\u001b[0m Trial 4 finished with value: 0.7592425608656447 and parameters: {'n_estimators': 359, 'criterion': 'gini', 'max_depth': 11, 'min_samples_split': 97, 'min_samples_leaf': 6, 'max_features': 'log2', 'bootstrap': False}. Best is trial 0 with value: 0.831479897348161.\u001b[0m\n"
     ]
    },
    {
     "name": "stdout",
     "output_type": "stream",
     "text": [
      "0.7592425608656447, 0.831758034026465\n"
     ]
    },
    {
     "name": "stderr",
     "output_type": "stream",
     "text": [
      "\u001b[32m[I 2023-05-15 00:44:35,319]\u001b[0m Trial 5 finished with value: 0.7669039145907474 and parameters: {'n_estimators': 956, 'criterion': 'entropy', 'max_depth': 9, 'min_samples_split': 20, 'min_samples_leaf': 4, 'max_features': 'log2', 'bootstrap': False}. Best is trial 0 with value: 0.831479897348161.\u001b[0m\n"
     ]
    },
    {
     "name": "stdout",
     "output_type": "stream",
     "text": [
      "0.7669039145907474, 0.8349086326402017\n"
     ]
    },
    {
     "name": "stderr",
     "output_type": "stream",
     "text": [
      "\u001b[32m[I 2023-05-15 00:44:39,392]\u001b[0m Trial 6 finished with value: 0.7194112235510579 and parameters: {'n_estimators': 129, 'criterion': 'entropy', 'max_depth': 11, 'min_samples_split': 2, 'min_samples_leaf': 60, 'max_features': 'log2', 'bootstrap': False}. Best is trial 0 with value: 0.831479897348161.\u001b[0m\n"
     ]
    },
    {
     "name": "stdout",
     "output_type": "stream",
     "text": [
      "0.7194112235510579, 0.8078134845620668\n"
     ]
    },
    {
     "name": "stderr",
     "output_type": "stream",
     "text": [
      "\u001b[32m[I 2023-05-15 00:44:48,255]\u001b[0m Trial 7 finished with value: 0.8494342906875544 and parameters: {'n_estimators': 311, 'criterion': 'log_loss', 'max_depth': 47, 'min_samples_split': 3, 'min_samples_leaf': 3, 'max_features': 'log2', 'bootstrap': True}. Best is trial 7 with value: 0.8494342906875544.\u001b[0m\n"
     ]
    },
    {
     "name": "stdout",
     "output_type": "stream",
     "text": [
      "0.8494342906875544, 0.8909892879647133\n"
     ]
    },
    {
     "name": "stderr",
     "output_type": "stream",
     "text": [
      "\u001b[32m[I 2023-05-15 00:44:56,968]\u001b[0m Trial 8 finished with value: 0.6559849198868991 and parameters: {'n_estimators': 536, 'criterion': 'log_loss', 'max_depth': 30, 'min_samples_split': 3, 'min_samples_leaf': 91, 'max_features': 'log2', 'bootstrap': True}. Best is trial 7 with value: 0.8494342906875544.\u001b[0m\n"
     ]
    },
    {
     "name": "stdout",
     "output_type": "stream",
     "text": [
      "0.6559849198868991, 0.7700063011972275\n"
     ]
    },
    {
     "name": "stderr",
     "output_type": "stream",
     "text": [
      "\u001b[32m[I 2023-05-15 00:45:50,974]\u001b[0m Trial 9 finished with value: 0.7823008849557521 and parameters: {'n_estimators': 442, 'criterion': 'log_loss', 'max_depth': 12, 'min_samples_split': 21, 'min_samples_leaf': 19, 'max_features': 'sqrt', 'bootstrap': False}. Best is trial 7 with value: 0.8494342906875544.\u001b[0m\n"
     ]
    },
    {
     "name": "stdout",
     "output_type": "stream",
     "text": [
      "0.7823008849557521, 0.8449905482041588\n"
     ]
    },
    {
     "name": "stderr",
     "output_type": "stream",
     "text": [
      "\u001b[32m[I 2023-05-15 01:35:56,786]\u001b[0m Trial 10 finished with value: 0.7036363636363636 and parameters: {'n_estimators': 1737, 'criterion': 'log_loss', 'max_depth': 5, 'min_samples_split': 2, 'min_samples_leaf': 1, 'max_features': None, 'bootstrap': True}. Best is trial 7 with value: 0.8494342906875544.\u001b[0m\n"
     ]
    },
    {
     "name": "stdout",
     "output_type": "stream",
     "text": [
      "0.7036363636363636, 0.794580970384373\n"
     ]
    },
    {
     "name": "stderr",
     "output_type": "stream",
     "text": [
      "\u001b[32m[I 2023-05-15 01:36:14,136]\u001b[0m Trial 11 finished with value: 0.8679896462467644 and parameters: {'n_estimators': 176, 'criterion': 'entropy', 'max_depth': 21, 'min_samples_split': 4, 'min_samples_leaf': 1, 'max_features': 'sqrt', 'bootstrap': True}. Best is trial 11 with value: 0.8679896462467644.\u001b[0m\n"
     ]
    },
    {
     "name": "stdout",
     "output_type": "stream",
     "text": [
      "0.8679896462467644, 0.9035916824196597\n"
     ]
    },
    {
     "name": "stderr",
     "output_type": "stream",
     "text": [
      "\u001b[32m[I 2023-05-15 01:36:42,892]\u001b[0m Trial 12 finished with value: 0.8711340206185567 and parameters: {'n_estimators': 242, 'criterion': 'entropy', 'max_depth': 21, 'min_samples_split': 4, 'min_samples_leaf': 1, 'max_features': 'sqrt', 'bootstrap': True}. Best is trial 12 with value: 0.8711340206185567.\u001b[0m\n"
     ]
    },
    {
     "name": "stdout",
     "output_type": "stream",
     "text": [
      "0.8711340206185567, 0.9054820415879017\n"
     ]
    },
    {
     "name": "stderr",
     "output_type": "stream",
     "text": [
      "\u001b[32m[I 2023-05-15 01:37:02,292]\u001b[0m Trial 13 finished with value: 0.8714408973252804 and parameters: {'n_estimators': 170, 'criterion': 'entropy', 'max_depth': 20, 'min_samples_split': 5, 'min_samples_leaf': 1, 'max_features': 'sqrt', 'bootstrap': True}. Best is trial 13 with value: 0.8714408973252804.\u001b[0m\n"
     ]
    },
    {
     "name": "stdout",
     "output_type": "stream",
     "text": [
      "0.8714408973252804, 0.906112161310649\n"
     ]
    },
    {
     "name": "stderr",
     "output_type": "stream",
     "text": [
      "\u001b[32m[I 2023-05-15 01:37:08,116]\u001b[0m Trial 14 finished with value: 0.8734835355285963 and parameters: {'n_estimators': 52, 'criterion': 'entropy', 'max_depth': 22, 'min_samples_split': 5, 'min_samples_leaf': 1, 'max_features': 'sqrt', 'bootstrap': True}. Best is trial 14 with value: 0.8734835355285963.\u001b[0m\n"
     ]
    },
    {
     "name": "stdout",
     "output_type": "stream",
     "text": [
      "0.8734835355285963, 0.908002520478891\n"
     ]
    },
    {
     "name": "stderr",
     "output_type": "stream",
     "text": [
      "\u001b[32m[I 2023-05-15 01:37:13,580]\u001b[0m Trial 15 finished with value: 0.8516912402428448 and parameters: {'n_estimators': 55, 'criterion': 'entropy', 'max_depth': 19, 'min_samples_split': 8, 'min_samples_leaf': 2, 'max_features': 'sqrt', 'bootstrap': True}. Best is trial 14 with value: 0.8734835355285963.\u001b[0m\n"
     ]
    },
    {
     "name": "stdout",
     "output_type": "stream",
     "text": [
      "0.8516912402428448, 0.8922495274102079\n"
     ]
    },
    {
     "name": "stderr",
     "output_type": "stream",
     "text": [
      "\u001b[32m[I 2023-05-15 01:39:43,515]\u001b[0m Trial 16 finished with value: 0.8664944013781224 and parameters: {'n_estimators': 51, 'criterion': 'entropy', 'max_depth': 17, 'min_samples_split': 6, 'min_samples_leaf': 1, 'max_features': None, 'bootstrap': True}. Best is trial 14 with value: 0.8734835355285963.\u001b[0m\n"
     ]
    },
    {
     "name": "stdout",
     "output_type": "stream",
     "text": [
      "0.8664944013781224, 0.9023314429741651\n"
     ]
    },
    {
     "name": "stderr",
     "output_type": "stream",
     "text": [
      "\u001b[32m[I 2023-05-15 01:39:52,562]\u001b[0m Trial 17 finished with value: 0.7927601809954751 and parameters: {'n_estimators': 130, 'criterion': 'entropy', 'max_depth': 25, 'min_samples_split': 2, 'min_samples_leaf': 16, 'max_features': 'sqrt', 'bootstrap': True}. Best is trial 14 with value: 0.8734835355285963.\u001b[0m\n"
     ]
    },
    {
     "name": "stdout",
     "output_type": "stream",
     "text": [
      "0.7927601809954751, 0.8557025834908633\n"
     ]
    },
    {
     "name": "stderr",
     "output_type": "stream",
     "text": [
      "\u001b[32m[I 2023-05-15 01:39:58,474]\u001b[0m Trial 18 finished with value: 0.8406304728546409 and parameters: {'n_estimators': 92, 'criterion': 'gini', 'max_depth': 16, 'min_samples_split': 11, 'min_samples_leaf': 3, 'max_features': 'sqrt', 'bootstrap': True}. Best is trial 14 with value: 0.8734835355285963.\u001b[0m\n"
     ]
    },
    {
     "name": "stdout",
     "output_type": "stream",
     "text": [
      "0.8406304728546409, 0.8853182104599874\n"
     ]
    },
    {
     "name": "stderr",
     "output_type": "stream",
     "text": [
      "\u001b[32m[I 2023-05-15 01:40:11,826]\u001b[0m Trial 19 finished with value: 0.8650519031141868 and parameters: {'n_estimators': 160, 'criterion': 'entropy', 'max_depth': 27, 'min_samples_split': 5, 'min_samples_leaf': 2, 'max_features': 'sqrt', 'bootstrap': True}. Best is trial 14 with value: 0.8734835355285963.\u001b[0m\n"
     ]
    },
    {
     "name": "stdout",
     "output_type": "stream",
     "text": [
      "0.8650519031141868, 0.9017013232514177\n"
     ]
    },
    {
     "name": "stderr",
     "output_type": "stream",
     "text": [
      "\u001b[32m[I 2023-05-15 01:44:23,417]\u001b[0m Trial 20 finished with value: 0.8310991957104557 and parameters: {'n_estimators': 99, 'criterion': 'entropy', 'max_depth': 35, 'min_samples_split': 40, 'min_samples_leaf': 1, 'max_features': None, 'bootstrap': True}. Best is trial 14 with value: 0.8734835355285963.\u001b[0m\n"
     ]
    },
    {
     "name": "stdout",
     "output_type": "stream",
     "text": [
      "0.8310991957104557, 0.8809073724007561\n"
     ]
    },
    {
     "name": "stderr",
     "output_type": "stream",
     "text": [
      "\u001b[32m[I 2023-05-15 01:44:40,387]\u001b[0m Trial 21 finished with value: 0.8748921484037964 and parameters: {'n_estimators': 200, 'criterion': 'entropy', 'max_depth': 23, 'min_samples_split': 4, 'min_samples_leaf': 1, 'max_features': 'sqrt', 'bootstrap': True}. Best is trial 21 with value: 0.8748921484037964.\u001b[0m\n"
     ]
    },
    {
     "name": "stdout",
     "output_type": "stream",
     "text": [
      "0.8748921484037964, 0.9086326402016384\n"
     ]
    },
    {
     "name": "stderr",
     "output_type": "stream",
     "text": [
      "\u001b[32m[I 2023-05-15 01:44:57,232]\u001b[0m Trial 22 finished with value: 0.8613264427217916 and parameters: {'n_estimators': 201, 'criterion': 'entropy', 'max_depth': 21, 'min_samples_split': 3, 'min_samples_leaf': 2, 'max_features': 'sqrt', 'bootstrap': True}. Best is trial 21 with value: 0.8748921484037964.\u001b[0m\n"
     ]
    },
    {
     "name": "stdout",
     "output_type": "stream",
     "text": [
      "0.8613264427217916, 0.8985507246376812\n"
     ]
    },
    {
     "name": "stderr",
     "output_type": "stream",
     "text": [
      "\u001b[32m[I 2023-05-15 01:45:08,020]\u001b[0m Trial 23 finished with value: 0.8526863084922011 and parameters: {'n_estimators': 133, 'criterion': 'entropy', 'max_depth': 15, 'min_samples_split': 5, 'min_samples_leaf': 1, 'max_features': 'sqrt', 'bootstrap': True}. Best is trial 21 with value: 0.8748921484037964.\u001b[0m\n"
     ]
    },
    {
     "name": "stdout",
     "output_type": "stream",
     "text": [
      "0.8526863084922011, 0.8928796471329553\n"
     ]
    },
    {
     "name": "stderr",
     "output_type": "stream",
     "text": [
      "\u001b[32m[I 2023-05-15 01:45:13,229]\u001b[0m Trial 24 finished with value: 0.8521434820647419 and parameters: {'n_estimators': 65, 'criterion': 'entropy', 'max_depth': 24, 'min_samples_split': 11, 'min_samples_leaf': 5, 'max_features': 'sqrt', 'bootstrap': True}. Best is trial 21 with value: 0.8748921484037964.\u001b[0m\n"
     ]
    },
    {
     "name": "stdout",
     "output_type": "stream",
     "text": [
      "0.8521434820647419, 0.8935097668557026\n"
     ]
    },
    {
     "name": "stderr",
     "output_type": "stream",
     "text": [
      "\u001b[32m[I 2023-05-15 01:45:20,215]\u001b[0m Trial 25 finished with value: 0.8591549295774649 and parameters: {'n_estimators': 106, 'criterion': 'gini', 'max_depth': 30, 'min_samples_split': 3, 'min_samples_leaf': 2, 'max_features': 'sqrt', 'bootstrap': True}. Best is trial 21 with value: 0.8748921484037964.\u001b[0m\n"
     ]
    },
    {
     "name": "stdout",
     "output_type": "stream",
     "text": [
      "0.8591549295774649, 0.8991808443604284\n"
     ]
    },
    {
     "name": "stderr",
     "output_type": "stream",
     "text": [
      "\u001b[32m[I 2023-05-15 01:45:25,139]\u001b[0m Trial 26 finished with value: 0.8135593220338982 and parameters: {'n_estimators': 68, 'criterion': 'entropy', 'max_depth': 17, 'min_samples_split': 6, 'min_samples_leaf': 10, 'max_features': 'sqrt', 'bootstrap': True}. Best is trial 21 with value: 0.8748921484037964.\u001b[0m\n"
     ]
    },
    {
     "name": "stdout",
     "output_type": "stream",
     "text": [
      "0.8135593220338982, 0.8683049779458097\n"
     ]
    },
    {
     "name": "stderr",
     "output_type": "stream",
     "text": [
      "\u001b[32m[I 2023-05-15 01:48:54,059]\u001b[0m Trial 27 finished with value: 0.6412213740458016 and parameters: {'n_estimators': 182, 'criterion': 'entropy', 'max_depth': 24, 'min_samples_split': 2, 'min_samples_leaf': 174, 'max_features': None, 'bootstrap': True}. Best is trial 21 with value: 0.8748921484037964.\u001b[0m\n"
     ]
    },
    {
     "name": "stdout",
     "output_type": "stream",
     "text": [
      "0.6412213740458016, 0.7630749842470069\n"
     ]
    },
    {
     "name": "stderr",
     "output_type": "stream",
     "text": [
      "\u001b[32m[I 2023-05-15 01:49:02,565]\u001b[0m Trial 28 finished with value: 0.8446771378708551 and parameters: {'n_estimators': 108, 'criterion': 'entropy', 'max_depth': 14, 'min_samples_split': 4, 'min_samples_leaf': 3, 'max_features': 'sqrt', 'bootstrap': True}. Best is trial 21 with value: 0.8748921484037964.\u001b[0m\n"
     ]
    },
    {
     "name": "stdout",
     "output_type": "stream",
     "text": [
      "0.8446771378708551, 0.8878386893509767\n"
     ]
    },
    {
     "name": "stderr",
     "output_type": "stream",
     "text": [
      "\u001b[32m[I 2023-05-15 01:49:22,084]\u001b[0m Trial 29 finished with value: 0.8635193133047211 and parameters: {'n_estimators': 226, 'criterion': 'entropy', 'max_depth': 18, 'min_samples_split': 7, 'min_samples_leaf': 1, 'max_features': 'sqrt', 'bootstrap': True}. Best is trial 21 with value: 0.8748921484037964.\u001b[0m\n"
     ]
    },
    {
     "name": "stdout",
     "output_type": "stream",
     "text": [
      "0.8635193133047211, 0.8998109640831758\n"
     ]
    },
    {
     "name": "stderr",
     "output_type": "stream",
     "text": [
      "\u001b[32m[I 2023-05-15 01:49:41,036]\u001b[0m Trial 30 finished with value: 0.8481123792800702 and parameters: {'n_estimators': 288, 'criterion': 'gini', 'max_depth': 21, 'min_samples_split': 10, 'min_samples_leaf': 2, 'max_features': 'sqrt', 'bootstrap': True}. Best is trial 21 with value: 0.8748921484037964.\u001b[0m\n"
     ]
    },
    {
     "name": "stdout",
     "output_type": "stream",
     "text": [
      "0.8481123792800702, 0.8909892879647133\n"
     ]
    },
    {
     "name": "stderr",
     "output_type": "stream",
     "text": [
      "\u001b[32m[I 2023-05-15 01:50:00,743]\u001b[0m Trial 31 finished with value: 0.8669527896995709 and parameters: {'n_estimators': 231, 'criterion': 'entropy', 'max_depth': 20, 'min_samples_split': 5, 'min_samples_leaf': 1, 'max_features': 'sqrt', 'bootstrap': True}. Best is trial 21 with value: 0.8748921484037964.\u001b[0m\n"
     ]
    },
    {
     "name": "stdout",
     "output_type": "stream",
     "text": [
      "0.8669527896995709, 0.9023314429741651\n"
     ]
    },
    {
     "name": "stderr",
     "output_type": "stream",
     "text": [
      "\u001b[32m[I 2023-05-15 01:50:23,274]\u001b[0m Trial 32 finished with value: 0.8620689655172414 and parameters: {'n_estimators': 260, 'criterion': 'entropy', 'max_depth': 23, 'min_samples_split': 4, 'min_samples_leaf': 1, 'max_features': 'sqrt', 'bootstrap': True}. Best is trial 21 with value: 0.8748921484037964.\u001b[0m\n"
     ]
    },
    {
     "name": "stdout",
     "output_type": "stream",
     "text": [
      "0.8620689655172414, 0.8991808443604284\n"
     ]
    },
    {
     "name": "stderr",
     "output_type": "stream",
     "text": [
      "\u001b[32m[I 2023-05-15 01:50:37,369]\u001b[0m Trial 33 finished with value: 0.8568950563746747 and parameters: {'n_estimators': 162, 'criterion': 'entropy', 'max_depth': 28, 'min_samples_split': 8, 'min_samples_leaf': 2, 'max_features': 'sqrt', 'bootstrap': True}. Best is trial 21 with value: 0.8748921484037964.\u001b[0m\n"
     ]
    },
    {
     "name": "stdout",
     "output_type": "stream",
     "text": [
      "0.8568950563746747, 0.8960302457466919\n"
     ]
    },
    {
     "name": "stderr",
     "output_type": "stream",
     "text": [
      "\u001b[32m[I 2023-05-15 01:50:49,997]\u001b[0m Trial 34 finished with value: 0.8742411101474414 and parameters: {'n_estimators': 82, 'criterion': 'entropy', 'max_depth': 33, 'min_samples_split': 4, 'min_samples_leaf': 3, 'max_features': 'sqrt', 'bootstrap': False}. Best is trial 21 with value: 0.8748921484037964.\u001b[0m\n"
     ]
    },
    {
     "name": "stdout",
     "output_type": "stream",
     "text": [
      "0.8742411101474414, 0.9086326402016384\n"
     ]
    },
    {
     "name": "stderr",
     "output_type": "stream",
     "text": [
      "\u001b[32m[I 2023-05-15 01:51:01,302]\u001b[0m Trial 35 finished with value: 0.8578901482127288 and parameters: {'n_estimators': 77, 'criterion': 'entropy', 'max_depth': 36, 'min_samples_split': 13, 'min_samples_leaf': 6, 'max_features': 'sqrt', 'bootstrap': False}. Best is trial 21 with value: 0.8748921484037964.\u001b[0m\n"
     ]
    },
    {
     "name": "stdout",
     "output_type": "stream",
     "text": [
      "0.8578901482127288, 0.8972904851921865\n"
     ]
    },
    {
     "name": "stderr",
     "output_type": "stream",
     "text": [
      "\u001b[32m[I 2023-05-15 01:51:10,881]\u001b[0m Trial 36 finished with value: 0.8621291448516579 and parameters: {'n_estimators': 83, 'criterion': 'gini', 'max_depth': 41, 'min_samples_split': 6, 'min_samples_leaf': 4, 'max_features': 'sqrt', 'bootstrap': False}. Best is trial 21 with value: 0.8748921484037964.\u001b[0m\n"
     ]
    },
    {
     "name": "stdout",
     "output_type": "stream",
     "text": [
      "0.8621291448516579, 0.9004410838059231\n"
     ]
    },
    {
     "name": "stderr",
     "output_type": "stream",
     "text": [
      "\u001b[32m[I 2023-05-15 01:55:18,325]\u001b[0m Trial 37 finished with value: 0.8226351351351352 and parameters: {'n_estimators': 50, 'criterion': 'entropy', 'max_depth': 33, 'min_samples_split': 9, 'min_samples_leaf': 3, 'max_features': None, 'bootstrap': False}. Best is trial 21 with value: 0.8748921484037964.\u001b[0m\n"
     ]
    },
    {
     "name": "stdout",
     "output_type": "stream",
     "text": [
      "0.8226351351351352, 0.8676748582230623\n"
     ]
    },
    {
     "name": "stderr",
     "output_type": "stream",
     "text": [
      "\u001b[32m[I 2023-05-15 01:55:27,821]\u001b[0m Trial 38 finished with value: 0.862369337979094 and parameters: {'n_estimators': 63, 'criterion': 'entropy', 'max_depth': 42, 'min_samples_split': 7, 'min_samples_leaf': 4, 'max_features': 'sqrt', 'bootstrap': False}. Best is trial 21 with value: 0.8748921484037964.\u001b[0m\n"
     ]
    },
    {
     "name": "stdout",
     "output_type": "stream",
     "text": [
      "0.862369337979094, 0.9004410838059231\n"
     ]
    },
    {
     "name": "stderr",
     "output_type": "stream",
     "text": [
      "\u001b[32m[I 2023-05-15 01:55:31,220]\u001b[0m Trial 39 finished with value: 0.8362676056338029 and parameters: {'n_estimators': 78, 'criterion': 'log_loss', 'max_depth': 26, 'min_samples_split': 3, 'min_samples_leaf': 7, 'max_features': 'log2', 'bootstrap': False}. Best is trial 21 with value: 0.8748921484037964.\u001b[0m\n"
     ]
    },
    {
     "name": "stdout",
     "output_type": "stream",
     "text": [
      "0.8362676056338029, 0.8827977315689981\n"
     ]
    },
    {
     "name": "stderr",
     "output_type": "stream",
     "text": [
      "\u001b[32m[I 2023-05-15 01:55:47,457]\u001b[0m Trial 40 finished with value: 0.8496503496503497 and parameters: {'n_estimators': 114, 'criterion': 'entropy', 'max_depth': 28, 'min_samples_split': 12, 'min_samples_leaf': 8, 'max_features': 'sqrt', 'bootstrap': False}. Best is trial 21 with value: 0.8748921484037964.\u001b[0m\n"
     ]
    },
    {
     "name": "stdout",
     "output_type": "stream",
     "text": [
      "0.8496503496503497, 0.8916194076874606\n"
     ]
    },
    {
     "name": "stderr",
     "output_type": "stream",
     "text": [
      "\u001b[32m[I 2023-05-15 01:56:10,702]\u001b[0m Trial 41 finished with value: 0.8676975945017182 and parameters: {'n_estimators': 153, 'criterion': 'entropy', 'max_depth': 23, 'min_samples_split': 4, 'min_samples_leaf': 1, 'max_features': 'sqrt', 'bootstrap': False}. Best is trial 21 with value: 0.8748921484037964.\u001b[0m\n"
     ]
    },
    {
     "name": "stdout",
     "output_type": "stream",
     "text": [
      "0.8676975945017182, 0.9029615626969124\n"
     ]
    },
    {
     "name": "stderr",
     "output_type": "stream",
     "text": [
      "\u001b[32m[I 2023-05-15 01:56:28,790]\u001b[0m Trial 42 finished with value: 0.8521739130434782 and parameters: {'n_estimators': 217, 'criterion': 'entropy', 'max_depth': 19, 'min_samples_split': 3, 'min_samples_leaf': 3, 'max_features': 'sqrt', 'bootstrap': True}. Best is trial 21 with value: 0.8748921484037964.\u001b[0m\n"
     ]
    },
    {
     "name": "stdout",
     "output_type": "stream",
     "text": [
      "0.8521739130434782, 0.8928796471329553\n"
     ]
    },
    {
     "name": "stderr",
     "output_type": "stream",
     "text": [
      "\u001b[32m[I 2023-05-15 01:57:20,067]\u001b[0m Trial 43 finished with value: 0.8712186689714779 and parameters: {'n_estimators': 266, 'criterion': 'entropy', 'max_depth': 31, 'min_samples_split': 5, 'min_samples_leaf': 2, 'max_features': 'sqrt', 'bootstrap': False}. Best is trial 21 with value: 0.8748921484037964.\u001b[0m\n"
     ]
    },
    {
     "name": "stdout",
     "output_type": "stream",
     "text": [
      "0.8712186689714779, 0.906112161310649\n"
     ]
    },
    {
     "name": "stderr",
     "output_type": "stream",
     "text": [
      "\u001b[32m[I 2023-05-15 01:57:25,514]\u001b[0m Trial 44 finished with value: 0.8528896672504379 and parameters: {'n_estimators': 90, 'criterion': 'log_loss', 'max_depth': 31, 'min_samples_split': 16, 'min_samples_leaf': 2, 'max_features': 'log2', 'bootstrap': False}. Best is trial 21 with value: 0.8748921484037964.\u001b[0m\n"
     ]
    },
    {
     "name": "stdout",
     "output_type": "stream",
     "text": [
      "0.8528896672504379, 0.8941398865784499\n"
     ]
    },
    {
     "name": "stderr",
     "output_type": "stream",
     "text": [
      "\u001b[32m[I 2023-05-15 01:58:07,495]\u001b[0m Trial 45 finished with value: 0.75 and parameters: {'n_estimators': 336, 'criterion': 'entropy', 'max_depth': 37, 'min_samples_split': 9, 'min_samples_leaf': 41, 'max_features': 'sqrt', 'bootstrap': False}. Best is trial 21 with value: 0.8748921484037964.\u001b[0m\n"
     ]
    },
    {
     "name": "stdout",
     "output_type": "stream",
     "text": [
      "0.75, 0.8286074354127284\n"
     ]
    },
    {
     "name": "stderr",
     "output_type": "stream",
     "text": [
      "\u001b[32m[I 2023-05-15 01:58:44,634]\u001b[0m Trial 46 finished with value: 0.8708551483420595 and parameters: {'n_estimators': 195, 'criterion': 'entropy', 'max_depth': 31, 'min_samples_split': 5, 'min_samples_leaf': 5, 'max_features': 'sqrt', 'bootstrap': False}. Best is trial 21 with value: 0.8748921484037964.\u001b[0m\n"
     ]
    },
    {
     "name": "stdout",
     "output_type": "stream",
     "text": [
      "0.8708551483420595, 0.9067422810333964\n"
     ]
    },
    {
     "name": "stderr",
     "output_type": "stream",
     "text": [
      "\u001b[32m[I 2023-05-15 01:59:58,798]\u001b[0m Trial 47 finished with value: 0.8251996450754214 and parameters: {'n_estimators': 409, 'criterion': 'entropy', 'max_depth': 27, 'min_samples_split': 7, 'min_samples_leaf': 13, 'max_features': 'sqrt', 'bootstrap': False}. Best is trial 21 with value: 0.8748921484037964.\u001b[0m\n"
     ]
    },
    {
     "name": "stdout",
     "output_type": "stream",
     "text": [
      "0.8251996450754214, 0.8758664146187776\n"
     ]
    },
    {
     "name": "stderr",
     "output_type": "stream",
     "text": [
      "\u001b[32m[I 2023-05-15 02:00:11,970]\u001b[0m Trial 48 finished with value: 0.7688073394495413 and parameters: {'n_estimators': 284, 'criterion': 'log_loss', 'max_depth': 38, 'min_samples_split': 2, 'min_samples_leaf': 31, 'max_features': 'log2', 'bootstrap': False}. Best is trial 21 with value: 0.8748921484037964.\u001b[0m\n"
     ]
    },
    {
     "name": "stdout",
     "output_type": "stream",
     "text": [
      "0.7688073394495413, 0.8412098298676749\n"
     ]
    },
    {
     "name": "stderr",
     "output_type": "stream",
     "text": [
      "\u001b[32m[I 2023-05-15 02:13:05,196]\u001b[0m Trial 49 finished with value: 0.8274706867671692 and parameters: {'n_estimators': 145, 'criterion': 'entropy', 'max_depth': 47, 'min_samples_split': 4, 'min_samples_leaf': 3, 'max_features': None, 'bootstrap': False}. Best is trial 21 with value: 0.8748921484037964.\u001b[0m\n"
     ]
    },
    {
     "name": "stdout",
     "output_type": "stream",
     "text": [
      "0.8274706867671692, 0.8701953371140516\n"
     ]
    },
    {
     "name": "stderr",
     "output_type": "stream",
     "text": [
      "\u001b[32m[I 2023-05-15 02:13:20,627]\u001b[0m Trial 50 finished with value: 0.8757602085143354 and parameters: {'n_estimators': 123, 'criterion': 'gini', 'max_depth': 32, 'min_samples_split': 3, 'min_samples_leaf': 1, 'max_features': 'sqrt', 'bootstrap': False}. Best is trial 50 with value: 0.8757602085143354.\u001b[0m\n"
     ]
    },
    {
     "name": "stdout",
     "output_type": "stream",
     "text": [
      "0.8757602085143354, 0.909892879647133\n"
     ]
    },
    {
     "name": "stderr",
     "output_type": "stream",
     "text": [
      "\u001b[32m[I 2023-05-15 02:13:36,504]\u001b[0m Trial 51 finished with value: 0.8745644599303136 and parameters: {'n_estimators': 122, 'criterion': 'gini', 'max_depth': 33, 'min_samples_split': 3, 'min_samples_leaf': 1, 'max_features': 'sqrt', 'bootstrap': False}. Best is trial 50 with value: 0.8757602085143354.\u001b[0m\n"
     ]
    },
    {
     "name": "stdout",
     "output_type": "stream",
     "text": [
      "0.8745644599303136, 0.9092627599243857\n"
     ]
    },
    {
     "name": "stderr",
     "output_type": "stream",
     "text": [
      "\u001b[32m[I 2023-05-15 02:13:51,871]\u001b[0m Trial 52 finished with value: 0.8700173310225303 and parameters: {'n_estimators': 127, 'criterion': 'gini', 'max_depth': 33, 'min_samples_split': 3, 'min_samples_leaf': 1, 'max_features': 'sqrt', 'bootstrap': False}. Best is trial 50 with value: 0.8757602085143354.\u001b[0m\n"
     ]
    },
    {
     "name": "stdout",
     "output_type": "stream",
     "text": [
      "0.8700173310225303, 0.9054820415879017\n"
     ]
    },
    {
     "name": "stderr",
     "output_type": "stream",
     "text": [
      "\u001b[32m[I 2023-05-15 02:14:05,386]\u001b[0m Trial 53 finished with value: 0.8673647469458987 and parameters: {'n_estimators': 117, 'criterion': 'gini', 'max_depth': 25, 'min_samples_split': 2, 'min_samples_leaf': 1, 'max_features': 'sqrt', 'bootstrap': False}. Best is trial 50 with value: 0.8757602085143354.\u001b[0m\n"
     ]
    },
    {
     "name": "stdout",
     "output_type": "stream",
     "text": [
      "0.8673647469458987, 0.9042218021424071\n"
     ]
    },
    {
     "name": "stderr",
     "output_type": "stream",
     "text": [
      "\u001b[32m[I 2023-05-15 02:14:16,543]\u001b[0m Trial 54 finished with value: 0.8764044943820225 and parameters: {'n_estimators': 95, 'criterion': 'gini', 'max_depth': 28, 'min_samples_split': 3, 'min_samples_leaf': 1, 'max_features': 'sqrt', 'bootstrap': False}. Best is trial 54 with value: 0.8764044943820225.\u001b[0m\n"
     ]
    },
    {
     "name": "stdout",
     "output_type": "stream",
     "text": [
      "0.8764044943820225, 0.909892879647133\n"
     ]
    },
    {
     "name": "stderr",
     "output_type": "stream",
     "text": [
      "\u001b[32m[I 2023-05-15 02:14:27,265]\u001b[0m Trial 55 finished with value: 0.8667820069204152 and parameters: {'n_estimators': 92, 'criterion': 'gini', 'max_depth': 41, 'min_samples_split': 3, 'min_samples_leaf': 2, 'max_features': 'sqrt', 'bootstrap': False}. Best is trial 54 with value: 0.8764044943820225.\u001b[0m\n"
     ]
    },
    {
     "name": "stdout",
     "output_type": "stream",
     "text": [
      "0.8667820069204152, 0.9029615626969124\n"
     ]
    },
    {
     "name": "stderr",
     "output_type": "stream",
     "text": [
      "\u001b[32m[I 2023-05-15 02:14:34,486]\u001b[0m Trial 56 finished with value: 0.877922077922078 and parameters: {'n_estimators': 61, 'criterion': 'gini', 'max_depth': 49, 'min_samples_split': 2, 'min_samples_leaf': 1, 'max_features': 'sqrt', 'bootstrap': False}. Best is trial 56 with value: 0.877922077922078.\u001b[0m\n"
     ]
    },
    {
     "name": "stdout",
     "output_type": "stream",
     "text": [
      "0.877922077922078, 0.9111531190926276\n"
     ]
    },
    {
     "name": "stderr",
     "output_type": "stream",
     "text": [
      "\u001b[32m[I 2023-05-15 02:14:46,781]\u001b[0m Trial 57 finished with value: 0.8781331028522039 and parameters: {'n_estimators': 102, 'criterion': 'gini', 'max_depth': 50, 'min_samples_split': 2, 'min_samples_leaf': 1, 'max_features': 'sqrt', 'bootstrap': False}. Best is trial 57 with value: 0.8781331028522039.\u001b[0m\n"
     ]
    },
    {
     "name": "stdout",
     "output_type": "stream",
     "text": [
      "0.8781331028522039, 0.9111531190926276\n"
     ]
    },
    {
     "name": "stderr",
     "output_type": "stream",
     "text": [
      "\u001b[32m[I 2023-05-15 02:14:58,864]\u001b[0m Trial 58 finished with value: 0.8738197424892703 and parameters: {'n_estimators': 101, 'criterion': 'gini', 'max_depth': 49, 'min_samples_split': 2, 'min_samples_leaf': 1, 'max_features': 'sqrt', 'bootstrap': False}. Best is trial 57 with value: 0.8781331028522039.\u001b[0m\n"
     ]
    },
    {
     "name": "stdout",
     "output_type": "stream",
     "text": [
      "0.8738197424892703, 0.9073724007561437\n"
     ]
    },
    {
     "name": "stderr",
     "output_type": "stream",
     "text": [
      "\u001b[32m[I 2023-05-15 02:15:02,939]\u001b[0m Trial 59 finished with value: 0.7905711695376246 and parameters: {'n_estimators': 132, 'criterion': 'gini', 'max_depth': 49, 'min_samples_split': 2, 'min_samples_leaf': 22, 'max_features': 'log2', 'bootstrap': False}. Best is trial 57 with value: 0.8781331028522039.\u001b[0m\n"
     ]
    },
    {
     "name": "stdout",
     "output_type": "stream",
     "text": [
      "0.7905711695376246, 0.8544423440453687\n"
     ]
    },
    {
     "name": "stderr",
     "output_type": "stream",
     "text": [
      "\u001b[32m[I 2023-05-15 02:15:19,625]\u001b[0m Trial 60 finished with value: 0.8721934369602763 and parameters: {'n_estimators': 141, 'criterion': 'gini', 'max_depth': 45, 'min_samples_split': 2, 'min_samples_leaf': 1, 'max_features': 'sqrt', 'bootstrap': False}. Best is trial 57 with value: 0.8781331028522039.\u001b[0m\n"
     ]
    },
    {
     "name": "stdout",
     "output_type": "stream",
     "text": [
      "0.8721934369602763, 0.9067422810333964\n"
     ]
    },
    {
     "name": "stderr",
     "output_type": "stream",
     "text": [
      "\u001b[32m[I 2023-05-15 02:15:27,791]\u001b[0m Trial 61 finished with value: 0.8658008658008658 and parameters: {'n_estimators': 71, 'criterion': 'gini', 'max_depth': 44, 'min_samples_split': 3, 'min_samples_leaf': 2, 'max_features': 'sqrt', 'bootstrap': False}. Best is trial 57 with value: 0.8781331028522039.\u001b[0m\n"
     ]
    },
    {
     "name": "stdout",
     "output_type": "stream",
     "text": [
      "0.8658008658008658, 0.9023314429741651\n"
     ]
    },
    {
     "name": "stderr",
     "output_type": "stream",
     "text": [
      "\u001b[32m[I 2023-05-15 02:15:37,864]\u001b[0m Trial 62 finished with value: 0.8660869565217391 and parameters: {'n_estimators': 87, 'criterion': 'gini', 'max_depth': 38, 'min_samples_split': 4, 'min_samples_leaf': 1, 'max_features': 'sqrt', 'bootstrap': False}. Best is trial 57 with value: 0.8781331028522039.\u001b[0m\n"
     ]
    },
    {
     "name": "stdout",
     "output_type": "stream",
     "text": [
      "0.8660869565217391, 0.9029615626969124\n"
     ]
    },
    {
     "name": "stderr",
     "output_type": "stream",
     "text": [
      "\u001b[32m[I 2023-05-15 02:15:49,897]\u001b[0m Trial 63 finished with value: 0.8317008014247551 and parameters: {'n_estimators': 116, 'criterion': 'gini', 'max_depth': 40, 'min_samples_split': 3, 'min_samples_leaf': 9, 'max_features': 'sqrt', 'bootstrap': False}. Best is trial 57 with value: 0.8781331028522039.\u001b[0m\n"
     ]
    },
    {
     "name": "stdout",
     "output_type": "stream",
     "text": [
      "0.8317008014247551, 0.8809073724007561\n"
     ]
    },
    {
     "name": "stderr",
     "output_type": "stream",
     "text": [
      "\u001b[32m[I 2023-05-15 02:15:55,926]\u001b[0m Trial 64 finished with value: 0.8187556357078449 and parameters: {'n_estimators': 57, 'criterion': 'gini', 'max_depth': 35, 'min_samples_split': 2, 'min_samples_leaf': 13, 'max_features': 'sqrt', 'bootstrap': False}. Best is trial 57 with value: 0.8781331028522039.\u001b[0m\n"
     ]
    },
    {
     "name": "stdout",
     "output_type": "stream",
     "text": [
      "0.8187556357078449, 0.8733459357277883\n"
     ]
    },
    {
     "name": "stderr",
     "output_type": "stream",
     "text": [
      "\u001b[32m[I 2023-05-15 02:16:05,006]\u001b[0m Trial 65 finished with value: 0.7451343836886005 and parameters: {'n_estimators': 100, 'criterion': 'gini', 'max_depth': 44, 'min_samples_split': 193, 'min_samples_leaf': 3, 'max_features': 'sqrt', 'bootstrap': False}. Best is trial 57 with value: 0.8781331028522039.\u001b[0m\n"
     ]
    },
    {
     "name": "stdout",
     "output_type": "stream",
     "text": [
      "0.7451343836886005, 0.8267170762444864\n"
     ]
    },
    {
     "name": "stderr",
     "output_type": "stream",
     "text": [
      "\u001b[32m[I 2023-05-15 02:20:41,959]\u001b[0m Trial 66 finished with value: 0.8330494037478705 and parameters: {'n_estimators': 72, 'criterion': 'gini', 'max_depth': 33, 'min_samples_split': 3, 'min_samples_leaf': 1, 'max_features': None, 'bootstrap': False}. Best is trial 57 with value: 0.8781331028522039.\u001b[0m\n"
     ]
    },
    {
     "name": "stdout",
     "output_type": "stream",
     "text": [
      "0.8330494037478705, 0.8764965343415249\n"
     ]
    },
    {
     "name": "stderr",
     "output_type": "stream",
     "text": [
      "\u001b[32m[I 2023-05-15 02:20:49,075]\u001b[0m Trial 67 finished with value: 0.8327402135231315 and parameters: {'n_estimators': 59, 'criterion': 'gini', 'max_depth': 29, 'min_samples_split': 29, 'min_samples_leaf': 2, 'max_features': 'sqrt', 'bootstrap': False}. Best is trial 57 with value: 0.8781331028522039.\u001b[0m\n"
     ]
    },
    {
     "name": "stdout",
     "output_type": "stream",
     "text": [
      "0.8327402135231315, 0.8815374921235035\n"
     ]
    },
    {
     "name": "stderr",
     "output_type": "stream",
     "text": [
      "\u001b[32m[I 2023-05-15 02:20:54,100]\u001b[0m Trial 68 finished with value: 0.6459510357815442 and parameters: {'n_estimators': 80, 'criterion': 'gini', 'max_depth': 38, 'min_samples_split': 4, 'min_samples_leaf': 185, 'max_features': 'sqrt', 'bootstrap': False}. Best is trial 57 with value: 0.8781331028522039.\u001b[0m\n"
     ]
    },
    {
     "name": "stdout",
     "output_type": "stream",
     "text": [
      "0.6459510357815442, 0.7630749842470069\n"
     ]
    },
    {
     "name": "stderr",
     "output_type": "stream",
     "text": [
      "\u001b[32m[I 2023-05-15 02:21:15,033]\u001b[0m Trial 69 finished with value: 0.8646288209606987 and parameters: {'n_estimators': 175, 'criterion': 'gini', 'max_depth': 47, 'min_samples_split': 2, 'min_samples_leaf': 4, 'max_features': 'sqrt', 'bootstrap': False}. Best is trial 57 with value: 0.8781331028522039.\u001b[0m\n"
     ]
    },
    {
     "name": "stdout",
     "output_type": "stream",
     "text": [
      "0.8646288209606987, 0.9023314429741651\n"
     ]
    },
    {
     "name": "stderr",
     "output_type": "stream",
     "text": [
      "\u001b[32m[I 2023-05-15 02:21:26,222]\u001b[0m Trial 70 finished with value: 0.8609154929577465 and parameters: {'n_estimators': 94, 'criterion': 'gini', 'max_depth': 34, 'min_samples_split': 6, 'min_samples_leaf': 5, 'max_features': 'sqrt', 'bootstrap': False}. Best is trial 57 with value: 0.8781331028522039.\u001b[0m\n"
     ]
    },
    {
     "name": "stdout",
     "output_type": "stream",
     "text": [
      "0.8609154929577465, 0.9004410838059231\n"
     ]
    },
    {
     "name": "stderr",
     "output_type": "stream",
     "text": [
      "\u001b[32m[I 2023-05-15 02:21:39,560]\u001b[0m Trial 71 finished with value: 0.8712186689714779 and parameters: {'n_estimators': 105, 'criterion': 'gini', 'max_depth': 50, 'min_samples_split': 2, 'min_samples_leaf': 1, 'max_features': 'sqrt', 'bootstrap': False}. Best is trial 57 with value: 0.8781331028522039.\u001b[0m\n"
     ]
    },
    {
     "name": "stdout",
     "output_type": "stream",
     "text": [
      "0.8712186689714779, 0.906112161310649\n"
     ]
    },
    {
     "name": "stderr",
     "output_type": "stream",
     "text": [
      "\u001b[32m[I 2023-05-15 02:21:52,528]\u001b[0m Trial 72 finished with value: 0.8710801393728222 and parameters: {'n_estimators': 99, 'criterion': 'gini', 'max_depth': 49, 'min_samples_split': 2, 'min_samples_leaf': 1, 'max_features': 'sqrt', 'bootstrap': False}. Best is trial 57 with value: 0.8781331028522039.\u001b[0m\n"
     ]
    },
    {
     "name": "stdout",
     "output_type": "stream",
     "text": [
      "0.8710801393728222, 0.9067422810333964\n"
     ]
    },
    {
     "name": "stderr",
     "output_type": "stream",
     "text": [
      "\u001b[32m[I 2023-05-15 02:22:07,942]\u001b[0m Trial 73 finished with value: 0.8725065047701647 and parameters: {'n_estimators': 119, 'criterion': 'gini', 'max_depth': 43, 'min_samples_split': 3, 'min_samples_leaf': 1, 'max_features': 'sqrt', 'bootstrap': False}. Best is trial 57 with value: 0.8781331028522039.\u001b[0m\n"
     ]
    },
    {
     "name": "stdout",
     "output_type": "stream",
     "text": [
      "0.8725065047701647, 0.9073724007561437\n"
     ]
    },
    {
     "name": "stderr",
     "output_type": "stream",
     "text": [
      "\u001b[32m[I 2023-05-15 02:22:18,522]\u001b[0m Trial 74 finished with value: 0.8673647469458987 and parameters: {'n_estimators': 85, 'criterion': 'gini', 'max_depth': 41, 'min_samples_split': 3, 'min_samples_leaf': 1, 'max_features': 'sqrt', 'bootstrap': False}. Best is trial 57 with value: 0.8781331028522039.\u001b[0m\n"
     ]
    },
    {
     "name": "stdout",
     "output_type": "stream",
     "text": [
      "0.8673647469458987, 0.9042218021424071\n"
     ]
    },
    {
     "name": "stderr",
     "output_type": "stream",
     "text": [
      "\u001b[32m[I 2023-05-15 02:22:26,950]\u001b[0m Trial 75 finished with value: 0.8679896462467644 and parameters: {'n_estimators': 65, 'criterion': 'gini', 'max_depth': 50, 'min_samples_split': 4, 'min_samples_leaf': 2, 'max_features': 'sqrt', 'bootstrap': False}. Best is trial 57 with value: 0.8781331028522039.\u001b[0m\n"
     ]
    },
    {
     "name": "stdout",
     "output_type": "stream",
     "text": [
      "0.8679896462467644, 0.9035916824196597\n"
     ]
    },
    {
     "name": "stderr",
     "output_type": "stream",
     "text": [
      "\u001b[32m[I 2023-05-15 02:22:32,703]\u001b[0m Trial 76 finished with value: 0.6969972702456778 and parameters: {'n_estimators': 74, 'criterion': 'gini', 'max_depth': 45, 'min_samples_split': 2, 'min_samples_leaf': 100, 'max_features': 'sqrt', 'bootstrap': False}. Best is trial 57 with value: 0.8781331028522039.\u001b[0m\n"
     ]
    },
    {
     "name": "stdout",
     "output_type": "stream",
     "text": [
      "0.6969972702456778, 0.7901701323251418\n"
     ]
    },
    {
     "name": "stderr",
     "output_type": "stream",
     "text": [
      "\u001b[32m[I 2023-05-15 02:28:42,761]\u001b[0m Trial 77 finished with value: 0.8055797733217088 and parameters: {'n_estimators': 106, 'criterion': 'gini', 'max_depth': 39, 'min_samples_split': 5, 'min_samples_leaf': 8, 'max_features': None, 'bootstrap': False}. Best is trial 57 with value: 0.8781331028522039.\u001b[0m\n"
     ]
    },
    {
     "name": "stdout",
     "output_type": "stream",
     "text": [
      "0.8055797733217088, 0.8594833018273472\n"
     ]
    },
    {
     "name": "stderr",
     "output_type": "stream",
     "text": [
      "\u001b[32m[I 2023-05-15 02:29:00,771]\u001b[0m Trial 78 finished with value: 0.8633217993079584 and parameters: {'n_estimators': 150, 'criterion': 'gini', 'max_depth': 36, 'min_samples_split': 4, 'min_samples_leaf': 1, 'max_features': 'sqrt', 'bootstrap': False}. Best is trial 57 with value: 0.8781331028522039.\u001b[0m\n"
     ]
    },
    {
     "name": "stdout",
     "output_type": "stream",
     "text": [
      "0.8633217993079584, 0.9004410838059231\n"
     ]
    },
    {
     "name": "stderr",
     "output_type": "stream",
     "text": [
      "\u001b[32m[I 2023-05-15 02:29:12,751]\u001b[0m Trial 79 finished with value: 0.829225352112676 and parameters: {'n_estimators': 82, 'criterion': 'log_loss', 'max_depth': 29, 'min_samples_split': 40, 'min_samples_leaf': 2, 'max_features': 'sqrt', 'bootstrap': False}. Best is trial 57 with value: 0.8781331028522039.\u001b[0m\n"
     ]
    },
    {
     "name": "stdout",
     "output_type": "stream",
     "text": [
      "0.829225352112676, 0.8777567737870196\n"
     ]
    },
    {
     "name": "stderr",
     "output_type": "stream",
     "text": [
      "\u001b[32m[I 2023-05-15 02:29:17,397]\u001b[0m Trial 80 finished with value: 0.8586296617519514 and parameters: {'n_estimators': 130, 'criterion': 'gini', 'max_depth': 26, 'min_samples_split': 3, 'min_samples_leaf': 3, 'max_features': 'log2', 'bootstrap': False}. Best is trial 57 with value: 0.8781331028522039.\u001b[0m\n"
     ]
    },
    {
     "name": "stdout",
     "output_type": "stream",
     "text": [
      "0.8586296617519514, 0.8972904851921865\n"
     ]
    },
    {
     "name": "stderr",
     "output_type": "stream",
     "text": [
      "\u001b[32m[I 2023-05-15 02:29:19,694]\u001b[0m Trial 81 finished with value: 0.7110300820419326 and parameters: {'n_estimators': 53, 'criterion': 'gini', 'max_depth': 32, 'min_samples_split': 6, 'min_samples_leaf': 58, 'max_features': 'sqrt', 'bootstrap': True}. Best is trial 57 with value: 0.8781331028522039.\u001b[0m\n"
     ]
    },
    {
     "name": "stdout",
     "output_type": "stream",
     "text": [
      "0.7110300820419326, 0.800252047889099\n"
     ]
    },
    {
     "name": "stderr",
     "output_type": "stream",
     "text": [
      "\u001b[32m[I 2023-05-15 02:29:23,800]\u001b[0m Trial 82 finished with value: 0.8633594429939078 and parameters: {'n_estimators': 61, 'criterion': 'gini', 'max_depth': 35, 'min_samples_split': 4, 'min_samples_leaf': 1, 'max_features': 'sqrt', 'bootstrap': True}. Best is trial 57 with value: 0.8781331028522039.\u001b[0m\n"
     ]
    },
    {
     "name": "stdout",
     "output_type": "stream",
     "text": [
      "0.8633594429939078, 0.9010712035286704\n"
     ]
    },
    {
     "name": "stderr",
     "output_type": "stream",
     "text": [
      "\u001b[32m[I 2023-05-15 02:29:27,938]\u001b[0m Trial 83 finished with value: 0.8226822682268226 and parameters: {'n_estimators': 68, 'criterion': 'gini', 'max_depth': 30, 'min_samples_split': 5, 'min_samples_leaf': 7, 'max_features': 'sqrt', 'bootstrap': True}. Best is trial 57 with value: 0.8781331028522039.\u001b[0m\n"
     ]
    },
    {
     "name": "stdout",
     "output_type": "stream",
     "text": [
      "0.8226822682268226, 0.8758664146187776\n"
     ]
    },
    {
     "name": "stderr",
     "output_type": "stream",
     "text": [
      "\u001b[32m[I 2023-05-15 02:29:32,695]\u001b[0m Trial 84 finished with value: 0.8638743455497382 and parameters: {'n_estimators': 55, 'criterion': 'log_loss', 'max_depth': 22, 'min_samples_split': 3, 'min_samples_leaf': 1, 'max_features': 'sqrt', 'bootstrap': True}. Best is trial 57 with value: 0.8781331028522039.\u001b[0m\n"
     ]
    },
    {
     "name": "stdout",
     "output_type": "stream",
     "text": [
      "0.8638743455497382, 0.9017013232514177\n"
     ]
    },
    {
     "name": "stderr",
     "output_type": "stream",
     "text": [
      "\u001b[32m[I 2023-05-15 02:29:38,694]\u001b[0m Trial 85 finished with value: 0.6408317580340265 and parameters: {'n_estimators': 77, 'criterion': 'entropy', 'max_depth': 27, 'min_samples_split': 15, 'min_samples_leaf': 160, 'max_features': 'sqrt', 'bootstrap': False}. Best is trial 57 with value: 0.8781331028522039.\u001b[0m\n"
     ]
    },
    {
     "name": "stdout",
     "output_type": "stream",
     "text": [
      "0.6408317580340265, 0.7605545053560177\n"
     ]
    },
    {
     "name": "stderr",
     "output_type": "stream",
     "text": [
      "\u001b[32m[I 2023-05-15 02:29:44,796]\u001b[0m Trial 86 finished with value: 0.8506550218340613 and parameters: {'n_estimators': 91, 'criterion': 'gini', 'max_depth': 42, 'min_samples_split': 4, 'min_samples_leaf': 2, 'max_features': 'sqrt', 'bootstrap': True}. Best is trial 57 with value: 0.8781331028522039.\u001b[0m\n"
     ]
    },
    {
     "name": "stdout",
     "output_type": "stream",
     "text": [
      "0.8506550218340613, 0.8922495274102079\n"
     ]
    },
    {
     "name": "stderr",
     "output_type": "stream",
     "text": [
      "\u001b[32m[I 2023-05-15 02:29:52,628]\u001b[0m Trial 87 finished with value: 0.8666085440278989 and parameters: {'n_estimators': 50, 'criterion': 'entropy', 'max_depth': 46, 'min_samples_split': 7, 'min_samples_leaf': 1, 'max_features': 'sqrt', 'bootstrap': False}. Best is trial 57 with value: 0.8781331028522039.\u001b[0m\n"
     ]
    },
    {
     "name": "stdout",
     "output_type": "stream",
     "text": [
      "0.8666085440278989, 0.9035916824196597\n"
     ]
    },
    {
     "name": "stderr",
     "output_type": "stream",
     "text": [
      "\u001b[32m[I 2023-05-15 02:29:58,762]\u001b[0m Trial 88 finished with value: 0.7917042380522993 and parameters: {'n_estimators': 62, 'criterion': 'gini', 'max_depth': 24, 'min_samples_split': 8, 'min_samples_leaf': 22, 'max_features': 'sqrt', 'bootstrap': False}. Best is trial 57 with value: 0.8781331028522039.\u001b[0m\n"
     ]
    },
    {
     "name": "stdout",
     "output_type": "stream",
     "text": [
      "0.7917042380522993, 0.8544423440453687\n"
     ]
    },
    {
     "name": "stderr",
     "output_type": "stream",
     "text": [
      "\u001b[32m[I 2023-05-15 02:30:12,360]\u001b[0m Trial 89 finished with value: 0.8541484716157206 and parameters: {'n_estimators': 159, 'criterion': 'entropy', 'max_depth': 39, 'min_samples_split': 10, 'min_samples_leaf': 1, 'max_features': 'sqrt', 'bootstrap': True}. Best is trial 57 with value: 0.8781331028522039.\u001b[0m\n"
     ]
    },
    {
     "name": "stdout",
     "output_type": "stream",
     "text": [
      "0.8541484716157206, 0.8947700063011972\n"
     ]
    },
    {
     "name": "stderr",
     "output_type": "stream",
     "text": [
      "\u001b[32m[I 2023-05-15 02:34:38,542]\u001b[0m Trial 90 finished with value: 0.8164665523156089 and parameters: {'n_estimators': 70, 'criterion': 'gini', 'max_depth': 36, 'min_samples_split': 19, 'min_samples_leaf': 1, 'max_features': None, 'bootstrap': False}. Best is trial 57 with value: 0.8781331028522039.\u001b[0m\n"
     ]
    },
    {
     "name": "stdout",
     "output_type": "stream",
     "text": [
      "0.8164665523156089, 0.8651543793320731\n"
     ]
    },
    {
     "name": "stderr",
     "output_type": "stream",
     "text": [
      "\u001b[32m[I 2023-05-15 02:34:52,381]\u001b[0m Trial 91 finished with value: 0.8693379790940766 and parameters: {'n_estimators': 115, 'criterion': 'gini', 'max_depth': 44, 'min_samples_split': 3, 'min_samples_leaf': 1, 'max_features': 'sqrt', 'bootstrap': False}. Best is trial 57 with value: 0.8781331028522039.\u001b[0m\n"
     ]
    },
    {
     "name": "stdout",
     "output_type": "stream",
     "text": [
      "0.8693379790940766, 0.9054820415879017\n"
     ]
    },
    {
     "name": "stderr",
     "output_type": "stream",
     "text": [
      "\u001b[32m[I 2023-05-15 02:35:07,730]\u001b[0m Trial 92 finished with value: 0.871304347826087 and parameters: {'n_estimators': 124, 'criterion': 'gini', 'max_depth': 42, 'min_samples_split': 3, 'min_samples_leaf': 1, 'max_features': 'sqrt', 'bootstrap': False}. Best is trial 57 with value: 0.8781331028522039.\u001b[0m\n"
     ]
    },
    {
     "name": "stdout",
     "output_type": "stream",
     "text": [
      "0.871304347826087, 0.9067422810333964\n"
     ]
    },
    {
     "name": "stderr",
     "output_type": "stream",
     "text": [
      "\u001b[32m[I 2023-05-15 02:35:22,701]\u001b[0m Trial 93 finished with value: 0.8658008658008658 and parameters: {'n_estimators': 138, 'criterion': 'gini', 'max_depth': 47, 'min_samples_split': 2, 'min_samples_leaf': 2, 'max_features': 'sqrt', 'bootstrap': False}. Best is trial 57 with value: 0.8781331028522039.\u001b[0m\n"
     ]
    },
    {
     "name": "stdout",
     "output_type": "stream",
     "text": [
      "0.8658008658008658, 0.9023314429741651\n"
     ]
    },
    {
     "name": "stderr",
     "output_type": "stream",
     "text": [
      "\u001b[32m[I 2023-05-15 02:35:32,266]\u001b[0m Trial 94 finished with value: 0.829443447037702 and parameters: {'n_estimators': 97, 'criterion': 'gini', 'max_depth': 37, 'min_samples_split': 5, 'min_samples_leaf': 11, 'max_features': 'sqrt', 'bootstrap': False}. Best is trial 57 with value: 0.8781331028522039.\u001b[0m\n"
     ]
    },
    {
     "name": "stdout",
     "output_type": "stream",
     "text": [
      "0.829443447037702, 0.8802772526780088\n"
     ]
    },
    {
     "name": "stderr",
     "output_type": "stream",
     "text": [
      "\u001b[32m[I 2023-05-15 02:35:45,374]\u001b[0m Trial 95 finished with value: 0.8633975481611208 and parameters: {'n_estimators': 124, 'criterion': 'gini', 'max_depth': 32, 'min_samples_split': 6, 'min_samples_leaf': 4, 'max_features': 'sqrt', 'bootstrap': False}. Best is trial 57 with value: 0.8781331028522039.\u001b[0m\n"
     ]
    },
    {
     "name": "stdout",
     "output_type": "stream",
     "text": [
      "0.8633975481611208, 0.9017013232514177\n"
     ]
    },
    {
     "name": "stderr",
     "output_type": "stream",
     "text": [
      "\u001b[32m[I 2023-05-15 02:36:06,748]\u001b[0m Trial 96 finished with value: 0.8705473501303215 and parameters: {'n_estimators': 109, 'criterion': 'entropy', 'max_depth': 34, 'min_samples_split': 3, 'min_samples_leaf': 3, 'max_features': 'sqrt', 'bootstrap': False}. Best is trial 57 with value: 0.8781331028522039.\u001b[0m\n"
     ]
    },
    {
     "name": "stdout",
     "output_type": "stream",
     "text": [
      "0.8705473501303215, 0.906112161310649\n"
     ]
    },
    {
     "name": "stderr",
     "output_type": "stream",
     "text": [
      "\u001b[32m[I 2023-05-15 02:36:08,816]\u001b[0m Trial 97 finished with value: 0.8204667863554757 and parameters: {'n_estimators': 83, 'criterion': 'gini', 'max_depth': 43, 'min_samples_split': 2, 'min_samples_leaf': 5, 'max_features': 'log2', 'bootstrap': True}. Best is trial 57 with value: 0.8781331028522039.\u001b[0m\n"
     ]
    },
    {
     "name": "stdout",
     "output_type": "stream",
     "text": [
      "0.8204667863554757, 0.8739760554505356\n"
     ]
    },
    {
     "name": "stderr",
     "output_type": "stream",
     "text": [
      "\u001b[32m[I 2023-05-15 02:36:16,619]\u001b[0m Trial 98 finished with value: 0.7150735294117647 and parameters: {'n_estimators': 88, 'criterion': 'log_loss', 'max_depth': 40, 'min_samples_split': 4, 'min_samples_leaf': 71, 'max_features': 'sqrt', 'bootstrap': False}. Best is trial 57 with value: 0.8781331028522039.\u001b[0m\n"
     ]
    },
    {
     "name": "stdout",
     "output_type": "stream",
     "text": [
      "0.7150735294117647, 0.8046628859483301\n"
     ]
    },
    {
     "name": "stderr",
     "output_type": "stream",
     "text": [
      "\u001b[32m[I 2023-05-15 02:36:33,625]\u001b[0m Trial 99 finished with value: 0.8397887323943662 and parameters: {'n_estimators': 103, 'criterion': 'entropy', 'max_depth': 50, 'min_samples_split': 5, 'min_samples_leaf': 11, 'max_features': 'sqrt', 'bootstrap': False}. Best is trial 57 with value: 0.8781331028522039.\u001b[0m\n"
     ]
    },
    {
     "name": "stdout",
     "output_type": "stream",
     "text": [
      "0.8397887323943662, 0.8853182104599874\n"
     ]
    },
    {
     "name": "stderr",
     "output_type": "stream",
     "text": [
      "\u001b[32m[I 2023-05-15 02:36:54,083]\u001b[0m Trial 100 finished with value: 0.8730434782608694 and parameters: {'n_estimators': 118, 'criterion': 'gini', 'max_depth': 43, 'min_samples_split': 3, 'min_samples_leaf': 1, 'max_features': 'sqrt', 'bootstrap': False}. Best is trial 57 with value: 0.8781331028522039.\u001b[0m\n"
     ]
    },
    {
     "name": "stdout",
     "output_type": "stream",
     "text": [
      "0.8730434782608694, 0.908002520478891\n"
     ]
    },
    {
     "name": "stderr",
     "output_type": "stream",
     "text": [
      "\u001b[32m[I 2023-05-15 02:37:14,060]\u001b[0m Trial 101 finished with value: 0.8759757155247181 and parameters: {'n_estimators': 119, 'criterion': 'gini', 'max_depth': 48, 'min_samples_split': 3, 'min_samples_leaf': 1, 'max_features': 'sqrt', 'bootstrap': False}. Best is trial 57 with value: 0.8781331028522039.\u001b[0m\n"
     ]
    },
    {
     "name": "stdout",
     "output_type": "stream",
     "text": [
      "0.8759757155247181, 0.909892879647133\n"
     ]
    },
    {
     "name": "stderr",
     "output_type": "stream",
     "text": [
      "\u001b[32m[I 2023-05-15 02:37:35,754]\u001b[0m Trial 102 finished with value: 0.8697916666666666 and parameters: {'n_estimators': 139, 'criterion': 'gini', 'max_depth': 47, 'min_samples_split': 2, 'min_samples_leaf': 1, 'max_features': 'sqrt', 'bootstrap': False}. Best is trial 57 with value: 0.8781331028522039.\u001b[0m\n"
     ]
    },
    {
     "name": "stdout",
     "output_type": "stream",
     "text": [
      "0.8697916666666666, 0.9054820415879017\n"
     ]
    },
    {
     "name": "stderr",
     "output_type": "stream",
     "text": [
      "\u001b[32m[I 2023-05-15 02:37:52,516]\u001b[0m Trial 103 finished with value: 0.8689655172413793 and parameters: {'n_estimators': 109, 'criterion': 'gini', 'max_depth': 44, 'min_samples_split': 4, 'min_samples_leaf': 1, 'max_features': 'sqrt', 'bootstrap': False}. Best is trial 57 with value: 0.8781331028522039.\u001b[0m\n"
     ]
    },
    {
     "name": "stdout",
     "output_type": "stream",
     "text": [
      "0.8689655172413793, 0.9042218021424071\n"
     ]
    },
    {
     "name": "stderr",
     "output_type": "stream",
     "text": [
      "\u001b[32m[I 2023-05-15 02:38:03,992]\u001b[0m Trial 104 finished with value: 0.8061041292639138 and parameters: {'n_estimators': 96, 'criterion': 'gini', 'max_depth': 48, 'min_samples_split': 3, 'min_samples_leaf': 17, 'max_features': 'sqrt', 'bootstrap': False}. Best is trial 57 with value: 0.8781331028522039.\u001b[0m\n"
     ]
    },
    {
     "name": "stdout",
     "output_type": "stream",
     "text": [
      "0.8061041292639138, 0.8638941398865785\n"
     ]
    },
    {
     "name": "stderr",
     "output_type": "stream",
     "text": [
      "\u001b[32m[I 2023-05-15 02:38:17,757]\u001b[0m Trial 105 finished with value: 0.7547857793983591 and parameters: {'n_estimators': 148, 'criterion': 'gini', 'max_depth': 46, 'min_samples_split': 3, 'min_samples_leaf': 41, 'max_features': 'sqrt', 'bootstrap': False}. Best is trial 57 with value: 0.8781331028522039.\u001b[0m\n"
     ]
    },
    {
     "name": "stdout",
     "output_type": "stream",
     "text": [
      "0.7547857793983591, 0.8304977945809704\n"
     ]
    },
    {
     "name": "stderr",
     "output_type": "stream",
     "text": [
      "\u001b[32m[I 2023-05-15 02:38:44,271]\u001b[0m Trial 106 finished with value: 0.846894138232721 and parameters: {'n_estimators': 167, 'criterion': 'entropy', 'max_depth': 39, 'min_samples_split': 27, 'min_samples_leaf': 2, 'max_features': 'sqrt', 'bootstrap': False}. Best is trial 57 with value: 0.8781331028522039.\u001b[0m\n"
     ]
    },
    {
     "name": "stdout",
     "output_type": "stream",
     "text": [
      "0.846894138232721, 0.8897290485192186\n"
     ]
    },
    {
     "name": "stderr",
     "output_type": "stream",
     "text": [
      "\u001b[32m[I 2023-05-15 02:38:52,392]\u001b[0m Trial 107 finished with value: 0.8234234234234236 and parameters: {'n_estimators': 123, 'criterion': 'gini', 'max_depth': 50, 'min_samples_split': 4, 'min_samples_leaf': 6, 'max_features': 'sqrt', 'bootstrap': True}. Best is trial 57 with value: 0.8781331028522039.\u001b[0m\n"
     ]
    },
    {
     "name": "stdout",
     "output_type": "stream",
     "text": [
      "0.8234234234234236, 0.8764965343415249\n"
     ]
    },
    {
     "name": "stderr",
     "output_type": "stream",
     "text": [
      "\u001b[32m[I 2023-05-15 02:39:00,842]\u001b[0m Trial 108 finished with value: 0.7960108794197642 and parameters: {'n_estimators': 75, 'criterion': 'gini', 'max_depth': 41, 'min_samples_split': 67, 'min_samples_leaf': 1, 'max_features': 'sqrt', 'bootstrap': False}. Best is trial 57 with value: 0.8781331028522039.\u001b[0m\n"
     ]
    },
    {
     "name": "stdout",
     "output_type": "stream",
     "text": [
      "0.7960108794197642, 0.8582230623818525\n"
     ]
    },
    {
     "name": "stderr",
     "output_type": "stream",
     "text": [
      "\u001b[32m[I 2023-05-15 02:39:18,715]\u001b[0m Trial 109 finished with value: 0.8751076658053402 and parameters: {'n_estimators': 111, 'criterion': 'entropy', 'max_depth': 29, 'min_samples_split': 2, 'min_samples_leaf': 1, 'max_features': 'sqrt', 'bootstrap': False}. Best is trial 57 with value: 0.8781331028522039.\u001b[0m\n"
     ]
    },
    {
     "name": "stdout",
     "output_type": "stream",
     "text": [
      "0.8751076658053402, 0.9086326402016384\n"
     ]
    },
    {
     "name": "stderr",
     "output_type": "stream",
     "text": [
      "\u001b[32m[I 2023-05-15 02:47:30,368]\u001b[0m Trial 110 finished with value: 0.7791095890410958 and parameters: {'n_estimators': 100, 'criterion': 'entropy', 'max_depth': 29, 'min_samples_split': 2, 'min_samples_leaf': 10, 'max_features': None, 'bootstrap': False}. Best is trial 57 with value: 0.8781331028522039.\u001b[0m\n"
     ]
    },
    {
     "name": "stdout",
     "output_type": "stream",
     "text": [
      "0.7791095890410958, 0.8374291115311909\n"
     ]
    },
    {
     "name": "stderr",
     "output_type": "stream",
     "text": [
      "\u001b[32m[I 2023-05-15 02:47:53,019]\u001b[0m Trial 111 finished with value: 0.8761904761904762 and parameters: {'n_estimators': 112, 'criterion': 'entropy', 'max_depth': 28, 'min_samples_split': 2, 'min_samples_leaf': 1, 'max_features': 'sqrt', 'bootstrap': False}. Best is trial 57 with value: 0.8781331028522039.\u001b[0m\n"
     ]
    },
    {
     "name": "stdout",
     "output_type": "stream",
     "text": [
      "0.8761904761904762, 0.909892879647133\n"
     ]
    },
    {
     "name": "stderr",
     "output_type": "stream",
     "text": [
      "\u001b[32m[I 2023-05-15 02:48:08,537]\u001b[0m Trial 112 finished with value: 0.8293545534924847 and parameters: {'n_estimators': 89, 'criterion': 'entropy', 'max_depth': 28, 'min_samples_split': 2, 'min_samples_leaf': 13, 'max_features': 'sqrt', 'bootstrap': False}. Best is trial 57 with value: 0.8781331028522039.\u001b[0m\n"
     ]
    },
    {
     "name": "stdout",
     "output_type": "stream",
     "text": [
      "0.8293545534924847, 0.8783868935097668\n"
     ]
    },
    {
     "name": "stderr",
     "output_type": "stream",
     "text": [
      "\u001b[32m[I 2023-05-15 02:48:30,360]\u001b[0m Trial 113 finished with value: 0.880275624461671 and parameters: {'n_estimators': 109, 'criterion': 'entropy', 'max_depth': 25, 'min_samples_split': 2, 'min_samples_leaf': 1, 'max_features': 'sqrt', 'bootstrap': False}. Best is trial 113 with value: 0.880275624461671.\u001b[0m\n"
     ]
    },
    {
     "name": "stdout",
     "output_type": "stream",
     "text": [
      "0.880275624461671, 0.9124133585381222\n"
     ]
    },
    {
     "name": "stderr",
     "output_type": "stream",
     "text": [
      "\u001b[32m[I 2023-05-15 02:48:51,975]\u001b[0m Trial 114 finished with value: 0.8583765112262522 and parameters: {'n_estimators': 112, 'criterion': 'entropy', 'max_depth': 25, 'min_samples_split': 2, 'min_samples_leaf': 4, 'max_features': 'sqrt', 'bootstrap': False}. Best is trial 113 with value: 0.880275624461671.\u001b[0m\n"
     ]
    },
    {
     "name": "stdout",
     "output_type": "stream",
     "text": [
      "0.8583765112262522, 0.8966603654694392\n"
     ]
    },
    {
     "name": "stderr",
     "output_type": "stream",
     "text": [
      "\u001b[32m[I 2023-05-15 02:49:19,154]\u001b[0m Trial 115 finished with value: 0.8760757314974182 and parameters: {'n_estimators': 133, 'criterion': 'entropy', 'max_depth': 30, 'min_samples_split': 2, 'min_samples_leaf': 1, 'max_features': 'sqrt', 'bootstrap': False}. Best is trial 113 with value: 0.880275624461671.\u001b[0m\n"
     ]
    },
    {
     "name": "stdout",
     "output_type": "stream",
     "text": [
      "0.8760757314974182, 0.9092627599243857\n"
     ]
    },
    {
     "name": "stderr",
     "output_type": "stream",
     "text": [
      "\u001b[32m[I 2023-05-15 02:49:45,657]\u001b[0m Trial 116 finished with value: 0.872822299651568 and parameters: {'n_estimators': 133, 'criterion': 'entropy', 'max_depth': 31, 'min_samples_split': 2, 'min_samples_leaf': 1, 'max_features': 'sqrt', 'bootstrap': False}. Best is trial 113 with value: 0.880275624461671.\u001b[0m\n"
     ]
    },
    {
     "name": "stdout",
     "output_type": "stream",
     "text": [
      "0.872822299651568, 0.908002520478891\n"
     ]
    },
    {
     "name": "stderr",
     "output_type": "stream",
     "text": [
      "\u001b[32m[I 2023-05-15 02:50:04,934]\u001b[0m Trial 117 finished with value: 0.8531468531468531 and parameters: {'n_estimators': 108, 'criterion': 'entropy', 'max_depth': 26, 'min_samples_split': 15, 'min_samples_leaf': 7, 'max_features': 'sqrt', 'bootstrap': False}. Best is trial 113 with value: 0.880275624461671.\u001b[0m\n"
     ]
    },
    {
     "name": "stdout",
     "output_type": "stream",
     "text": [
      "0.8531468531468531, 0.8941398865784499\n"
     ]
    },
    {
     "name": "stderr",
     "output_type": "stream",
     "text": [
      "\u001b[32m[I 2023-05-15 02:50:14,174]\u001b[0m Trial 118 finished with value: 0.8668407310704961 and parameters: {'n_estimators': 151, 'criterion': 'entropy', 'max_depth': 28, 'min_samples_split': 2, 'min_samples_leaf': 2, 'max_features': 'log2', 'bootstrap': False}. Best is trial 113 with value: 0.880275624461671.\u001b[0m\n"
     ]
    },
    {
     "name": "stdout",
     "output_type": "stream",
     "text": [
      "0.8668407310704961, 0.9035916824196597\n"
     ]
    },
    {
     "name": "stderr",
     "output_type": "stream",
     "text": [
      "\u001b[32m[I 2023-05-15 02:50:53,070]\u001b[0m Trial 119 finished with value: 0.871304347826087 and parameters: {'n_estimators': 180, 'criterion': 'entropy', 'max_depth': 33, 'min_samples_split': 3, 'min_samples_leaf': 1, 'max_features': 'sqrt', 'bootstrap': False}. Best is trial 113 with value: 0.880275624461671.\u001b[0m\n"
     ]
    },
    {
     "name": "stdout",
     "output_type": "stream",
     "text": [
      "0.871304347826087, 0.9067422810333964\n"
     ]
    },
    {
     "name": "stderr",
     "output_type": "stream",
     "text": [
      "\u001b[32m[I 2023-05-15 02:51:21,624]\u001b[0m Trial 120 finished with value: 0.8658008658008658 and parameters: {'n_estimators': 134, 'criterion': 'entropy', 'max_depth': 30, 'min_samples_split': 2, 'min_samples_leaf': 1, 'max_features': 'sqrt', 'bootstrap': False}. Best is trial 113 with value: 0.880275624461671.\u001b[0m\n"
     ]
    },
    {
     "name": "stdout",
     "output_type": "stream",
     "text": [
      "0.8658008658008658, 0.9023314429741651\n"
     ]
    },
    {
     "name": "stderr",
     "output_type": "stream",
     "text": [
      "\u001b[32m[I 2023-05-15 02:51:41,657]\u001b[0m Trial 121 finished with value: 0.8621291448516579 and parameters: {'n_estimators': 100, 'criterion': 'entropy', 'max_depth': 27, 'min_samples_split': 2, 'min_samples_leaf': 5, 'max_features': 'sqrt', 'bootstrap': False}. Best is trial 113 with value: 0.880275624461671.\u001b[0m\n"
     ]
    },
    {
     "name": "stdout",
     "output_type": "stream",
     "text": [
      "0.8621291448516579, 0.9004410838059231\n"
     ]
    },
    {
     "name": "stderr",
     "output_type": "stream",
     "text": [
      "\u001b[32m[I 2023-05-15 02:52:05,095]\u001b[0m Trial 122 finished with value: 0.8422907488986784 and parameters: {'n_estimators': 120, 'criterion': 'entropy', 'max_depth': 32, 'min_samples_split': 2, 'min_samples_leaf': 9, 'max_features': 'sqrt', 'bootstrap': False}. Best is trial 113 with value: 0.880275624461671.\u001b[0m\n"
     ]
    },
    {
     "name": "stdout",
     "output_type": "stream",
     "text": [
      "0.8422907488986784, 0.8872085696282294\n"
     ]
    },
    {
     "name": "stderr",
     "output_type": "stream",
     "text": [
      "\u001b[32m[I 2023-05-15 02:52:24,863]\u001b[0m Trial 123 finished with value: 0.8728522336769761 and parameters: {'n_estimators': 91, 'criterion': 'entropy', 'max_depth': 29, 'min_samples_split': 13, 'min_samples_leaf': 1, 'max_features': 'sqrt', 'bootstrap': False}. Best is trial 113 with value: 0.880275624461671.\u001b[0m\n"
     ]
    },
    {
     "name": "stdout",
     "output_type": "stream",
     "text": [
      "0.8728522336769761, 0.9067422810333964\n"
     ]
    },
    {
     "name": "stderr",
     "output_type": "stream",
     "text": [
      "\u001b[32m[I 2023-05-15 02:52:36,637]\u001b[0m Trial 124 finished with value: 0.6458333333333334 and parameters: {'n_estimators': 104, 'criterion': 'entropy', 'max_depth': 23, 'min_samples_split': 12, 'min_samples_leaf': 145, 'max_features': 'sqrt', 'bootstrap': False}. Best is trial 113 with value: 0.880275624461671.\u001b[0m\n"
     ]
    },
    {
     "name": "stdout",
     "output_type": "stream",
     "text": [
      "0.6458333333333334, 0.7643352236925016\n"
     ]
    },
    {
     "name": "stderr",
     "output_type": "stream",
     "text": [
      "\u001b[32m[I 2023-05-15 02:52:49,553]\u001b[0m Trial 125 finished with value: 0.6445497630331753 and parameters: {'n_estimators': 112, 'criterion': 'entropy', 'max_depth': 35, 'min_samples_split': 9, 'min_samples_leaf': 138, 'max_features': 'sqrt', 'bootstrap': False}. Best is trial 113 with value: 0.880275624461671.\u001b[0m\n"
     ]
    },
    {
     "name": "stdout",
     "output_type": "stream",
     "text": [
      "0.6445497630331753, 0.7637051039697542\n"
     ]
    },
    {
     "name": "stderr",
     "output_type": "stream",
     "text": [
      "\u001b[32m[I 2023-05-15 02:53:16,243]\u001b[0m Trial 126 finished with value: 0.8665511265164645 and parameters: {'n_estimators': 127, 'criterion': 'entropy', 'max_depth': 26, 'min_samples_split': 2, 'min_samples_leaf': 1, 'max_features': 'sqrt', 'bootstrap': False}. Best is trial 113 with value: 0.880275624461671.\u001b[0m\n"
     ]
    },
    {
     "name": "stdout",
     "output_type": "stream",
     "text": [
      "0.8665511265164645, 0.9029615626969124\n"
     ]
    },
    {
     "name": "stderr",
     "output_type": "stream",
     "text": [
      "\u001b[32m[I 2023-05-15 02:53:46,902]\u001b[0m Trial 127 finished with value: 0.8703220191470844 and parameters: {'n_estimators': 142, 'criterion': 'log_loss', 'max_depth': 31, 'min_samples_split': 3, 'min_samples_leaf': 1, 'max_features': 'sqrt', 'bootstrap': False}. Best is trial 113 with value: 0.880275624461671.\u001b[0m\n"
     ]
    },
    {
     "name": "stdout",
     "output_type": "stream",
     "text": [
      "0.8703220191470844, 0.906112161310649\n"
     ]
    },
    {
     "name": "stderr",
     "output_type": "stream",
     "text": [
      "\u001b[32m[I 2023-05-15 02:54:00,430]\u001b[0m Trial 128 finished with value: 0.7888086642599278 and parameters: {'n_estimators': 80, 'criterion': 'entropy', 'max_depth': 37, 'min_samples_split': 7, 'min_samples_leaf': 25, 'max_features': 'sqrt', 'bootstrap': False}. Best is trial 113 with value: 0.880275624461671.\u001b[0m\n"
     ]
    },
    {
     "name": "stdout",
     "output_type": "stream",
     "text": [
      "0.7888086642599278, 0.8525519848771267\n"
     ]
    },
    {
     "name": "stderr",
     "output_type": "stream",
     "text": [
      "\u001b[32m[I 2023-05-15 02:54:19,566]\u001b[0m Trial 129 finished with value: 0.8724137931034482 and parameters: {'n_estimators': 97, 'criterion': 'entropy', 'max_depth': 24, 'min_samples_split': 3, 'min_samples_leaf': 2, 'max_features': 'sqrt', 'bootstrap': False}. Best is trial 113 with value: 0.880275624461671.\u001b[0m\n"
     ]
    },
    {
     "name": "stdout",
     "output_type": "stream",
     "text": [
      "0.8724137931034482, 0.9067422810333964\n"
     ]
    },
    {
     "name": "stderr",
     "output_type": "stream",
     "text": [
      "\u001b[32m[I 2023-05-15 02:54:44,968]\u001b[0m Trial 130 finished with value: 0.8727272727272727 and parameters: {'n_estimators': 160, 'criterion': 'gini', 'max_depth': 34, 'min_samples_split': 2, 'min_samples_leaf': 1, 'max_features': 'sqrt', 'bootstrap': False}. Best is trial 113 with value: 0.880275624461671.\u001b[0m\n"
     ]
    },
    {
     "name": "stdout",
     "output_type": "stream",
     "text": [
      "0.8727272727272727, 0.9073724007561437\n"
     ]
    },
    {
     "name": "stderr",
     "output_type": "stream",
     "text": [
      "\u001b[32m[I 2023-05-15 02:54:51,717]\u001b[0m Trial 131 finished with value: 0.8707482993197279 and parameters: {'n_estimators': 58, 'criterion': 'entropy', 'max_depth': 22, 'min_samples_split': 4, 'min_samples_leaf': 1, 'max_features': 'sqrt', 'bootstrap': True}. Best is trial 113 with value: 0.880275624461671.\u001b[0m\n"
     ]
    },
    {
     "name": "stdout",
     "output_type": "stream",
     "text": [
      "0.8707482993197279, 0.9042218021424071\n"
     ]
    },
    {
     "name": "stderr",
     "output_type": "stream",
     "text": [
      "\u001b[32m[I 2023-05-15 02:54:55,718]\u001b[0m Trial 132 finished with value: 0.6337760910815939 and parameters: {'n_estimators': 86, 'criterion': 'entropy', 'max_depth': 27, 'min_samples_split': 5, 'min_samples_leaf': 198, 'max_features': 'sqrt', 'bootstrap': True}. Best is trial 113 with value: 0.880275624461671.\u001b[0m\n"
     ]
    },
    {
     "name": "stdout",
     "output_type": "stream",
     "text": [
      "0.6337760910815939, 0.7567737870195337\n"
     ]
    },
    {
     "name": "stderr",
     "output_type": "stream",
     "text": [
      "\u001b[32m[I 2023-05-15 02:55:19,128]\u001b[0m Trial 133 finished with value: 0.8697916666666666 and parameters: {'n_estimators': 115, 'criterion': 'entropy', 'max_depth': 30, 'min_samples_split': 3, 'min_samples_leaf': 1, 'max_features': 'sqrt', 'bootstrap': False}. Best is trial 113 with value: 0.880275624461671.\u001b[0m\n"
     ]
    },
    {
     "name": "stdout",
     "output_type": "stream",
     "text": [
      "0.8697916666666666, 0.9054820415879017\n"
     ]
    },
    {
     "name": "stderr",
     "output_type": "stream",
     "text": [
      "\u001b[32m[I 2023-05-15 02:55:25,797]\u001b[0m Trial 134 finished with value: 0.844483058210252 and parameters: {'n_estimators': 64, 'criterion': 'entropy', 'max_depth': 20, 'min_samples_split': 11, 'min_samples_leaf': 1, 'max_features': 'sqrt', 'bootstrap': True}. Best is trial 113 with value: 0.880275624461671.\u001b[0m\n"
     ]
    },
    {
     "name": "stdout",
     "output_type": "stream",
     "text": [
      "0.844483058210252, 0.8872085696282294\n"
     ]
    },
    {
     "name": "stderr",
     "output_type": "stream",
     "text": [
      "\u001b[32m[I 2023-05-15 02:55:44,318]\u001b[0m Trial 135 finished with value: 0.8513632365875109 and parameters: {'n_estimators': 127, 'criterion': 'gini', 'max_depth': 25, 'min_samples_split': 8, 'min_samples_leaf': 6, 'max_features': 'sqrt', 'bootstrap': False}. Best is trial 113 with value: 0.880275624461671.\u001b[0m\n"
     ]
    },
    {
     "name": "stdout",
     "output_type": "stream",
     "text": [
      "0.8513632365875109, 0.8935097668557026\n"
     ]
    },
    {
     "name": "stderr",
     "output_type": "stream",
     "text": [
      "\u001b[32m[I 2023-05-15 02:56:03,952]\u001b[0m Trial 136 finished with value: 0.8740225890529975 and parameters: {'n_estimators': 95, 'criterion': 'entropy', 'max_depth': 46, 'min_samples_split': 6, 'min_samples_leaf': 3, 'max_features': 'sqrt', 'bootstrap': False}. Best is trial 113 with value: 0.880275624461671.\u001b[0m\n"
     ]
    },
    {
     "name": "stdout",
     "output_type": "stream",
     "text": [
      "0.8740225890529975, 0.9086326402016384\n"
     ]
    },
    {
     "name": "stderr",
     "output_type": "stream",
     "text": [
      "\u001b[32m[I 2023-05-15 02:56:19,742]\u001b[0m Trial 137 finished with value: 0.7989228007181329 and parameters: {'n_estimators': 95, 'criterion': 'entropy', 'max_depth': 48, 'min_samples_split': 24, 'min_samples_leaf': 19, 'max_features': 'sqrt', 'bootstrap': False}. Best is trial 113 with value: 0.880275624461671.\u001b[0m\n"
     ]
    },
    {
     "name": "stdout",
     "output_type": "stream",
     "text": [
      "0.7989228007181329, 0.8588531821045998\n"
     ]
    },
    {
     "name": "stderr",
     "output_type": "stream",
     "text": [
      "\u001b[32m[I 2023-05-15 03:04:25,067]\u001b[0m Trial 138 finished with value: 0.8151986183074266 and parameters: {'n_estimators': 109, 'criterion': 'gini', 'max_depth': 47, 'min_samples_split': 17, 'min_samples_leaf': 4, 'max_features': None, 'bootstrap': False}. Best is trial 113 with value: 0.880275624461671.\u001b[0m\n"
     ]
    },
    {
     "name": "stdout",
     "output_type": "stream",
     "text": [
      "0.8151986183074266, 0.8651543793320731\n"
     ]
    },
    {
     "name": "stderr",
     "output_type": "stream",
     "text": [
      "\u001b[32m[I 2023-05-15 03:04:41,836]\u001b[0m Trial 139 finished with value: 0.8697916666666666 and parameters: {'n_estimators': 82, 'criterion': 'entropy', 'max_depth': 46, 'min_samples_split': 4, 'min_samples_leaf': 3, 'max_features': 'sqrt', 'bootstrap': False}. Best is trial 113 with value: 0.880275624461671.\u001b[0m\n"
     ]
    },
    {
     "name": "stdout",
     "output_type": "stream",
     "text": [
      "0.8697916666666666, 0.9054820415879017\n"
     ]
    },
    {
     "name": "stderr",
     "output_type": "stream",
     "text": [
      "\u001b[32m[I 2023-05-15 03:04:46,555]\u001b[0m Trial 140 finished with value: 0.8598615916955016 and parameters: {'n_estimators': 103, 'criterion': 'gini', 'max_depth': 32, 'min_samples_split': 6, 'min_samples_leaf': 3, 'max_features': 'log2', 'bootstrap': False}. Best is trial 113 with value: 0.880275624461671.\u001b[0m\n"
     ]
    },
    {
     "name": "stdout",
     "output_type": "stream",
     "text": [
      "0.8598615916955016, 0.8979206049149339\n"
     ]
    },
    {
     "name": "stderr",
     "output_type": "stream",
     "text": [
      "\u001b[32m[I 2023-05-15 03:04:59,682]\u001b[0m Trial 141 finished with value: 0.8437775816416594 and parameters: {'n_estimators': 70, 'criterion': 'entropy', 'max_depth': 45, 'min_samples_split': 5, 'min_samples_leaf': 10, 'max_features': 'sqrt', 'bootstrap': False}. Best is trial 113 with value: 0.880275624461671.\u001b[0m\n"
     ]
    },
    {
     "name": "stdout",
     "output_type": "stream",
     "text": [
      "0.8437775816416594, 0.888468809073724\n"
     ]
    },
    {
     "name": "stderr",
     "output_type": "stream",
     "text": [
      "\u001b[32m[I 2023-05-15 03:05:16,570]\u001b[0m Trial 142 finished with value: 0.8479020979020979 and parameters: {'n_estimators': 89, 'criterion': 'entropy', 'max_depth': 29, 'min_samples_split': 19, 'min_samples_leaf': 7, 'max_features': 'sqrt', 'bootstrap': False}. Best is trial 113 with value: 0.880275624461671.\u001b[0m\n"
     ]
    },
    {
     "name": "stdout",
     "output_type": "stream",
     "text": [
      "0.8479020979020979, 0.8903591682419659\n"
     ]
    },
    {
     "name": "stderr",
     "output_type": "stream",
     "text": [
      "\u001b[32m[I 2023-05-15 03:05:27,044]\u001b[0m Trial 143 finished with value: 0.8488576449912126 and parameters: {'n_estimators': 54, 'criterion': 'entropy', 'max_depth': 50, 'min_samples_split': 4, 'min_samples_leaf': 8, 'max_features': 'sqrt', 'bootstrap': False}. Best is trial 113 with value: 0.880275624461671.\u001b[0m\n"
     ]
    },
    {
     "name": "stdout",
     "output_type": "stream",
     "text": [
      "0.8488576449912126, 0.8916194076874606\n"
     ]
    },
    {
     "name": "stderr",
     "output_type": "stream",
     "text": [
      "\u001b[32m[I 2023-05-15 03:05:48,254]\u001b[0m Trial 144 finished with value: 0.8421052631578948 and parameters: {'n_estimators': 192, 'criterion': 'entropy', 'max_depth': 25, 'min_samples_split': 2, 'min_samples_leaf': 5, 'max_features': 'sqrt', 'bootstrap': True}. Best is trial 113 with value: 0.880275624461671.\u001b[0m\n"
     ]
    },
    {
     "name": "stdout",
     "output_type": "stream",
     "text": [
      "0.8421052631578948, 0.888468809073724\n"
     ]
    },
    {
     "name": "stderr",
     "output_type": "stream",
     "text": [
      "\u001b[32m[I 2023-05-15 03:06:06,445]\u001b[0m Trial 145 finished with value: 0.8700959023539669 and parameters: {'n_estimators': 121, 'criterion': 'gini', 'max_depth': 41, 'min_samples_split': 4, 'min_samples_leaf': 1, 'max_features': 'sqrt', 'bootstrap': False}. Best is trial 113 with value: 0.880275624461671.\u001b[0m\n"
     ]
    },
    {
     "name": "stdout",
     "output_type": "stream",
     "text": [
      "0.8700959023539669, 0.906112161310649\n"
     ]
    },
    {
     "name": "stderr",
     "output_type": "stream",
     "text": [
      "\u001b[32m[I 2023-05-15 03:06:25,755]\u001b[0m Trial 146 finished with value: 0.8613518197573656 and parameters: {'n_estimators': 95, 'criterion': 'entropy', 'max_depth': 34, 'min_samples_split': 6, 'min_samples_leaf': 4, 'max_features': 'sqrt', 'bootstrap': False}. Best is trial 113 with value: 0.880275624461671.\u001b[0m\n"
     ]
    },
    {
     "name": "stdout",
     "output_type": "stream",
     "text": [
      "0.8613518197573656, 0.8991808443604284\n"
     ]
    },
    {
     "name": "stderr",
     "output_type": "stream",
     "text": [
      "\u001b[32m[I 2023-05-15 03:06:36,623]\u001b[0m Trial 147 finished with value: 0.8453427065026362 and parameters: {'n_estimators': 78, 'criterion': 'gini', 'max_depth': 28, 'min_samples_split': 5, 'min_samples_leaf': 7, 'max_features': 'sqrt', 'bootstrap': False}. Best is trial 113 with value: 0.880275624461671.\u001b[0m\n"
     ]
    },
    {
     "name": "stdout",
     "output_type": "stream",
     "text": [
      "0.8453427065026362, 0.8890989287964713\n"
     ]
    },
    {
     "name": "stderr",
     "output_type": "stream",
     "text": [
      "\u001b[32m[I 2023-05-15 03:07:04,964]\u001b[0m Trial 148 finished with value: 0.868217054263566 and parameters: {'n_estimators': 143, 'criterion': 'log_loss', 'max_depth': 21, 'min_samples_split': 3, 'min_samples_leaf': 2, 'max_features': 'sqrt', 'bootstrap': False}. Best is trial 113 with value: 0.880275624461671.\u001b[0m\n"
     ]
    },
    {
     "name": "stdout",
     "output_type": "stream",
     "text": [
      "0.868217054263566, 0.9035916824196597\n"
     ]
    },
    {
     "name": "stderr",
     "output_type": "stream",
     "text": [
      "\u001b[32m[I 2023-05-15 03:07:13,609]\u001b[0m Trial 149 finished with value: 0.7573529411764706 and parameters: {'n_estimators': 114, 'criterion': 'entropy', 'max_depth': 45, 'min_samples_split': 5, 'min_samples_leaf': 30, 'max_features': 'sqrt', 'bootstrap': True}. Best is trial 113 with value: 0.880275624461671.\u001b[0m\n"
     ]
    },
    {
     "name": "stdout",
     "output_type": "stream",
     "text": [
      "0.7573529411764706, 0.833648393194707\n"
     ]
    },
    {
     "name": "stderr",
     "output_type": "stream",
     "text": [
      "\u001b[32m[I 2023-05-15 03:07:30,778]\u001b[0m Trial 150 finished with value: 0.8259325044404973 and parameters: {'n_estimators': 133, 'criterion': 'gini', 'max_depth': 26, 'min_samples_split': 7, 'min_samples_leaf': 9, 'max_features': 'sqrt', 'bootstrap': False}. Best is trial 113 with value: 0.880275624461671.\u001b[0m\n"
     ]
    },
    {
     "name": "stdout",
     "output_type": "stream",
     "text": [
      "0.8259325044404973, 0.8764965343415249\n"
     ]
    },
    {
     "name": "stderr",
     "output_type": "stream",
     "text": [
      "\u001b[32m[I 2023-05-15 03:07:47,407]\u001b[0m Trial 151 finished with value: 0.8501314636283961 and parameters: {'n_estimators': 120, 'criterion': 'gini', 'max_depth': 43, 'min_samples_split': 3, 'min_samples_leaf': 6, 'max_features': 'sqrt', 'bootstrap': False}. Best is trial 113 with value: 0.880275624461671.\u001b[0m\n"
     ]
    },
    {
     "name": "stdout",
     "output_type": "stream",
     "text": [
      "0.8501314636283961, 0.8922495274102079\n"
     ]
    },
    {
     "name": "stderr",
     "output_type": "stream",
     "text": [
      "\u001b[32m[I 2023-05-15 03:08:02,541]\u001b[0m Trial 152 finished with value: 0.8663194444444445 and parameters: {'n_estimators': 105, 'criterion': 'gini', 'max_depth': 50, 'min_samples_split': 3, 'min_samples_leaf': 1, 'max_features': 'sqrt', 'bootstrap': False}. Best is trial 113 with value: 0.880275624461671.\u001b[0m\n"
     ]
    },
    {
     "name": "stdout",
     "output_type": "stream",
     "text": [
      "0.8663194444444445, 0.9029615626969124\n"
     ]
    },
    {
     "name": "stderr",
     "output_type": "stream",
     "text": [
      "\u001b[32m[I 2023-05-15 03:08:19,779]\u001b[0m Trial 153 finished with value: 0.868122270742358 and parameters: {'n_estimators': 116, 'criterion': 'gini', 'max_depth': 43, 'min_samples_split': 2, 'min_samples_leaf': 1, 'max_features': 'sqrt', 'bootstrap': False}. Best is trial 113 with value: 0.880275624461671.\u001b[0m\n"
     ]
    },
    {
     "name": "stdout",
     "output_type": "stream",
     "text": [
      "0.868122270742358, 0.9048519218651544\n"
     ]
    },
    {
     "name": "stderr",
     "output_type": "stream",
     "text": [
      "\u001b[32m[I 2023-05-15 03:08:28,971]\u001b[0m Trial 154 finished with value: 0.6616822429906541 and parameters: {'n_estimators': 104, 'criterion': 'gini', 'max_depth': 39, 'min_samples_split': 3, 'min_samples_leaf': 112, 'max_features': 'sqrt', 'bootstrap': False}. Best is trial 113 with value: 0.880275624461671.\u001b[0m\n"
     ]
    },
    {
     "name": "stdout",
     "output_type": "stream",
     "text": [
      "0.6616822429906541, 0.7718966603654694\n"
     ]
    },
    {
     "name": "stderr",
     "output_type": "stream",
     "text": [
      "\u001b[32m[I 2023-05-15 03:08:43,184]\u001b[0m Trial 155 finished with value: 0.756007393715342 and parameters: {'n_estimators': 127, 'criterion': 'gini', 'max_depth': 37, 'min_samples_split': 156, 'min_samples_leaf': 1, 'max_features': 'sqrt', 'bootstrap': False}. Best is trial 113 with value: 0.880275624461671.\u001b[0m\n"
     ]
    },
    {
     "name": "stdout",
     "output_type": "stream",
     "text": [
      "0.756007393715342, 0.833648393194707\n"
     ]
    },
    {
     "name": "stderr",
     "output_type": "stream",
     "text": [
      "\u001b[32m[I 2023-05-15 03:08:55,111]\u001b[0m Trial 156 finished with value: 0.7495395948434622 and parameters: {'n_estimators': 94, 'criterion': 'entropy', 'max_depth': 48, 'min_samples_split': 4, 'min_samples_leaf': 43, 'max_features': 'sqrt', 'bootstrap': False}. Best is trial 113 with value: 0.880275624461671.\u001b[0m\n"
     ]
    },
    {
     "name": "stdout",
     "output_type": "stream",
     "text": [
      "0.7495395948434622, 0.8286074354127284\n"
     ]
    },
    {
     "name": "stderr",
     "output_type": "stream",
     "text": [
      "\u001b[32m[I 2023-05-15 03:09:15,300]\u001b[0m Trial 157 finished with value: 0.8458844133099824 and parameters: {'n_estimators': 156, 'criterion': 'gini', 'max_depth': 30, 'min_samples_split': 20, 'min_samples_leaf': 3, 'max_features': 'sqrt', 'bootstrap': False}. Best is trial 113 with value: 0.880275624461671.\u001b[0m\n"
     ]
    },
    {
     "name": "stdout",
     "output_type": "stream",
     "text": [
      "0.8458844133099824, 0.8890989287964713\n"
     ]
    },
    {
     "name": "stderr",
     "output_type": "stream",
     "text": [
      "\u001b[32m[I 2023-05-15 03:09:29,759]\u001b[0m Trial 158 finished with value: 0.8716623600344531 and parameters: {'n_estimators': 84, 'criterion': 'entropy', 'max_depth': 27, 'min_samples_split': 13, 'min_samples_leaf': 1, 'max_features': 'sqrt', 'bootstrap': False}. Best is trial 113 with value: 0.880275624461671.\u001b[0m\n"
     ]
    },
    {
     "name": "stdout",
     "output_type": "stream",
     "text": [
      "0.8716623600344531, 0.906112161310649\n"
     ]
    },
    {
     "name": "stderr",
     "output_type": "stream",
     "text": [
      "\u001b[32m[I 2023-05-15 03:09:54,306]\u001b[0m Trial 159 finished with value: 0.8093525179856115 and parameters: {'n_estimators': 210, 'criterion': 'gini', 'max_depth': 24, 'min_samples_split': 2, 'min_samples_leaf': 16, 'max_features': 'sqrt', 'bootstrap': False}. Best is trial 113 with value: 0.880275624461671.\u001b[0m\n"
     ]
    },
    {
     "name": "stdout",
     "output_type": "stream",
     "text": [
      "0.8093525179856115, 0.8664146187775678\n"
     ]
    },
    {
     "name": "stderr",
     "output_type": "stream",
     "text": [
      "\u001b[32m[I 2023-05-15 03:10:03,521]\u001b[0m Trial 160 finished with value: 0.7981900452488688 and parameters: {'n_estimators': 114, 'criterion': 'entropy', 'max_depth': 22, 'min_samples_split': 3, 'min_samples_leaf': 15, 'max_features': 'sqrt', 'bootstrap': True}. Best is trial 113 with value: 0.880275624461671.\u001b[0m\n"
     ]
    },
    {
     "name": "stdout",
     "output_type": "stream",
     "text": [
      "0.7981900452488688, 0.8594833018273472\n"
     ]
    },
    {
     "name": "stderr",
     "output_type": "stream",
     "text": [
      "\u001b[32m[I 2023-05-15 03:10:20,982]\u001b[0m Trial 161 finished with value: 0.8687392055267702 and parameters: {'n_estimators': 99, 'criterion': 'entropy', 'max_depth': 29, 'min_samples_split': 10, 'min_samples_leaf': 1, 'max_features': 'sqrt', 'bootstrap': False}. Best is trial 113 with value: 0.880275624461671.\u001b[0m\n"
     ]
    },
    {
     "name": "stdout",
     "output_type": "stream",
     "text": [
      "0.8687392055267702, 0.9042218021424071\n"
     ]
    },
    {
     "name": "stderr",
     "output_type": "stream",
     "text": [
      "\u001b[32m[I 2023-05-15 03:10:36,558]\u001b[0m Trial 162 finished with value: 0.8743545611015491 and parameters: {'n_estimators': 89, 'criterion': 'entropy', 'max_depth': 31, 'min_samples_split': 9, 'min_samples_leaf': 1, 'max_features': 'sqrt', 'bootstrap': False}. Best is trial 113 with value: 0.880275624461671.\u001b[0m\n"
     ]
    },
    {
     "name": "stdout",
     "output_type": "stream",
     "text": [
      "0.8743545611015491, 0.908002520478891\n"
     ]
    },
    {
     "name": "stderr",
     "output_type": "stream",
     "text": [
      "\u001b[32m[I 2023-05-15 03:10:49,736]\u001b[0m Trial 163 finished with value: 0.8722849695916594 and parameters: {'n_estimators': 74, 'criterion': 'entropy', 'max_depth': 32, 'min_samples_split': 7, 'min_samples_leaf': 1, 'max_features': 'sqrt', 'bootstrap': False}. Best is trial 113 with value: 0.880275624461671.\u001b[0m\n"
     ]
    },
    {
     "name": "stdout",
     "output_type": "stream",
     "text": [
      "0.8722849695916594, 0.9073724007561437\n"
     ]
    },
    {
     "name": "stderr",
     "output_type": "stream",
     "text": [
      "\u001b[32m[I 2023-05-15 03:11:05,410]\u001b[0m Trial 164 finished with value: 0.8685813751087903 and parameters: {'n_estimators': 87, 'criterion': 'entropy', 'max_depth': 33, 'min_samples_split': 6, 'min_samples_leaf': 1, 'max_features': 'sqrt', 'bootstrap': False}. Best is trial 113 with value: 0.880275624461671.\u001b[0m\n"
     ]
    },
    {
     "name": "stdout",
     "output_type": "stream",
     "text": [
      "0.8685813751087903, 0.9048519218651544\n"
     ]
    },
    {
     "name": "stderr",
     "output_type": "stream",
     "text": [
      "\u001b[32m[I 2023-05-15 03:11:21,943]\u001b[0m Trial 165 finished with value: 0.8177777777777777 and parameters: {'n_estimators': 108, 'criterion': 'entropy', 'max_depth': 31, 'min_samples_split': 33, 'min_samples_leaf': 15, 'max_features': 'sqrt', 'bootstrap': False}. Best is trial 113 with value: 0.880275624461671.\u001b[0m\n"
     ]
    },
    {
     "name": "stdout",
     "output_type": "stream",
     "text": [
      "0.8177777777777777, 0.870825456836799\n"
     ]
    },
    {
     "name": "stderr",
     "output_type": "stream",
     "text": [
      "\u001b[32m[I 2023-05-15 03:14:48,663]\u001b[0m Trial 166 finished with value: 0.8191304347826087 and parameters: {'n_estimators': 50, 'criterion': 'gini', 'max_depth': 48, 'min_samples_split': 8, 'min_samples_leaf': 1, 'max_features': None, 'bootstrap': False}. Best is trial 113 with value: 0.880275624461671.\u001b[0m\n"
     ]
    },
    {
     "name": "stdout",
     "output_type": "stream",
     "text": [
      "0.8191304347826087, 0.868935097668557\n"
     ]
    },
    {
     "name": "stderr",
     "output_type": "stream",
     "text": [
      "\u001b[32m[I 2023-05-15 03:15:16,214]\u001b[0m Trial 167 finished with value: 0.8766177739430543 and parameters: {'n_estimators': 139, 'criterion': 'entropy', 'max_depth': 35, 'min_samples_split': 5, 'min_samples_leaf': 1, 'max_features': 'sqrt', 'bootstrap': False}. Best is trial 113 with value: 0.880275624461671.\u001b[0m\n"
     ]
    },
    {
     "name": "stdout",
     "output_type": "stream",
     "text": [
      "0.8766177739430543, 0.909892879647133\n"
     ]
    },
    {
     "name": "stderr",
     "output_type": "stream",
     "text": [
      "\u001b[32m[I 2023-05-15 03:15:40,006]\u001b[0m Trial 168 finished with value: 0.8343666961913198 and parameters: {'n_estimators': 136, 'criterion': 'entropy', 'max_depth': 34, 'min_samples_split': 5, 'min_samples_leaf': 11, 'max_features': 'sqrt', 'bootstrap': False}. Best is trial 113 with value: 0.880275624461671.\u001b[0m\n"
     ]
    },
    {
     "name": "stdout",
     "output_type": "stream",
     "text": [
      "0.8343666961913198, 0.8821676118462508\n"
     ]
    },
    {
     "name": "stderr",
     "output_type": "stream",
     "text": [
      "\u001b[32m[I 2023-05-15 03:15:46,725]\u001b[0m Trial 169 finished with value: 0.7435897435897436 and parameters: {'n_estimators': 170, 'criterion': 'entropy', 'max_depth': 30, 'min_samples_split': 6, 'min_samples_leaf': 51, 'max_features': 'log2', 'bootstrap': False}. Best is trial 113 with value: 0.880275624461671.\u001b[0m\n"
     ]
    },
    {
     "name": "stdout",
     "output_type": "stream",
     "text": [
      "0.7435897435897436, 0.8235664776307499\n"
     ]
    },
    {
     "name": "stderr",
     "output_type": "stream",
     "text": [
      "\u001b[32m[I 2023-05-15 03:16:32,376]\u001b[0m Trial 170 finished with value: 0.8635968722849695 and parameters: {'n_estimators': 242, 'criterion': 'entropy', 'max_depth': 35, 'min_samples_split': 5, 'min_samples_leaf': 4, 'max_features': 'sqrt', 'bootstrap': False}. Best is trial 113 with value: 0.880275624461671.\u001b[0m\n"
     ]
    },
    {
     "name": "stdout",
     "output_type": "stream",
     "text": [
      "0.8635968722849695, 0.9010712035286704\n"
     ]
    },
    {
     "name": "stderr",
     "output_type": "stream",
     "text": [
      "\u001b[32m[I 2023-05-15 03:16:56,743]\u001b[0m Trial 171 finished with value: 0.8765217391304349 and parameters: {'n_estimators': 125, 'criterion': 'entropy', 'max_depth': 45, 'min_samples_split': 4, 'min_samples_leaf': 1, 'max_features': 'sqrt', 'bootstrap': False}. Best is trial 113 with value: 0.880275624461671.\u001b[0m\n"
     ]
    },
    {
     "name": "stdout",
     "output_type": "stream",
     "text": [
      "0.8765217391304349, 0.9105229993698802\n"
     ]
    },
    {
     "name": "stderr",
     "output_type": "stream",
     "text": [
      "\u001b[32m[I 2023-05-15 03:17:20,127]\u001b[0m Trial 172 finished with value: 0.8725065047701647 and parameters: {'n_estimators': 124, 'criterion': 'entropy', 'max_depth': 46, 'min_samples_split': 4, 'min_samples_leaf': 1, 'max_features': 'sqrt', 'bootstrap': False}. Best is trial 113 with value: 0.880275624461671.\u001b[0m\n"
     ]
    },
    {
     "name": "stdout",
     "output_type": "stream",
     "text": [
      "0.8725065047701647, 0.9073724007561437\n"
     ]
    },
    {
     "name": "stderr",
     "output_type": "stream",
     "text": [
      "\u001b[32m[I 2023-05-15 03:17:43,935]\u001b[0m Trial 173 finished with value: 0.8546562228024368 and parameters: {'n_estimators': 144, 'criterion': 'entropy', 'max_depth': 28, 'min_samples_split': 4, 'min_samples_leaf': 6, 'max_features': 'sqrt', 'bootstrap': False}. Best is trial 113 with value: 0.880275624461671.\u001b[0m\n"
     ]
    },
    {
     "name": "stdout",
     "output_type": "stream",
     "text": [
      "0.8546562228024368, 0.8947700063011972\n"
     ]
    },
    {
     "name": "stderr",
     "output_type": "stream",
     "text": [
      "\u001b[32m[I 2023-05-15 03:17:53,880]\u001b[0m Trial 174 finished with value: 0.8651488616462346 and parameters: {'n_estimators': 59, 'criterion': 'entropy', 'max_depth': 40, 'min_samples_split': 5, 'min_samples_leaf': 5, 'max_features': 'sqrt', 'bootstrap': False}. Best is trial 113 with value: 0.880275624461671.\u001b[0m\n"
     ]
    },
    {
     "name": "stdout",
     "output_type": "stream",
     "text": [
      "0.8651488616462346, 0.9029615626969124\n"
     ]
    },
    {
     "name": "stderr",
     "output_type": "stream",
     "text": [
      "\u001b[32m[I 2023-05-15 03:18:11,869]\u001b[0m Trial 175 finished with value: 0.8760757314974182 and parameters: {'n_estimators': 101, 'criterion': 'entropy', 'max_depth': 32, 'min_samples_split': 6, 'min_samples_leaf': 1, 'max_features': 'sqrt', 'bootstrap': False}. Best is trial 113 with value: 0.880275624461671.\u001b[0m\n"
     ]
    },
    {
     "name": "stdout",
     "output_type": "stream",
     "text": [
      "0.8760757314974182, 0.9092627599243857\n"
     ]
    },
    {
     "name": "stderr",
     "output_type": "stream",
     "text": [
      "\u001b[32m[I 2023-05-15 03:18:26,461]\u001b[0m Trial 176 finished with value: 0.8050089445438283 and parameters: {'n_estimators': 102, 'criterion': 'entropy', 'max_depth': 31, 'min_samples_split': 8, 'min_samples_leaf': 20, 'max_features': 'sqrt', 'bootstrap': False}. Best is trial 113 with value: 0.880275624461671.\u001b[0m\n"
     ]
    },
    {
     "name": "stdout",
     "output_type": "stream",
     "text": [
      "0.8050089445438283, 0.8626339004410838\n"
     ]
    },
    {
     "name": "stderr",
     "output_type": "stream",
     "text": [
      "\u001b[32m[I 2023-05-15 03:18:43,085]\u001b[0m Trial 177 finished with value: 0.8358473824312335 and parameters: {'n_estimators': 109, 'criterion': 'entropy', 'max_depth': 36, 'min_samples_split': 6, 'min_samples_leaf': 12, 'max_features': 'sqrt', 'bootstrap': False}. Best is trial 113 with value: 0.880275624461671.\u001b[0m\n"
     ]
    },
    {
     "name": "stdout",
     "output_type": "stream",
     "text": [
      "0.8358473824312335, 0.8834278512917454\n"
     ]
    },
    {
     "name": "stderr",
     "output_type": "stream",
     "text": [
      "\u001b[32m[I 2023-05-15 03:18:58,373]\u001b[0m Trial 178 finished with value: 0.8700173310225303 and parameters: {'n_estimators': 95, 'criterion': 'entropy', 'max_depth': 38, 'min_samples_split': 6, 'min_samples_leaf': 1, 'max_features': 'sqrt', 'bootstrap': False}. Best is trial 113 with value: 0.880275624461671.\u001b[0m\n"
     ]
    },
    {
     "name": "stdout",
     "output_type": "stream",
     "text": [
      "0.8700173310225303, 0.9054820415879017\n"
     ]
    },
    {
     "name": "stderr",
     "output_type": "stream",
     "text": [
      "\u001b[32m[I 2023-05-15 03:19:17,708]\u001b[0m Trial 179 finished with value: 0.8506151142355008 and parameters: {'n_estimators': 131, 'criterion': 'entropy', 'max_depth': 33, 'min_samples_split': 7, 'min_samples_leaf': 9, 'max_features': 'sqrt', 'bootstrap': False}. Best is trial 113 with value: 0.880275624461671.\u001b[0m\n"
     ]
    },
    {
     "name": "stdout",
     "output_type": "stream",
     "text": [
      "0.8506151142355008, 0.8928796471329553\n"
     ]
    },
    {
     "name": "stderr",
     "output_type": "stream",
     "text": [
      "\u001b[32m[I 2023-05-15 03:19:30,950]\u001b[0m Trial 180 finished with value: 0.8121645796064401 and parameters: {'n_estimators': 90, 'criterion': 'entropy', 'max_depth': 31, 'min_samples_split': 63, 'min_samples_leaf': 3, 'max_features': 'sqrt', 'bootstrap': False}. Best is trial 113 with value: 0.880275624461671.\u001b[0m\n"
     ]
    },
    {
     "name": "stdout",
     "output_type": "stream",
     "text": [
      "0.8121645796064401, 0.8676748582230623\n"
     ]
    },
    {
     "name": "stderr",
     "output_type": "stream",
     "text": [
      "\u001b[32m[I 2023-05-15 03:19:41,502]\u001b[0m Trial 181 finished with value: 0.8588850174216027 and parameters: {'n_estimators': 119, 'criterion': 'entropy', 'max_depth': 45, 'min_samples_split': 4, 'min_samples_leaf': 1, 'max_features': 'sqrt', 'bootstrap': True}. Best is trial 113 with value: 0.880275624461671.\u001b[0m\n"
     ]
    },
    {
     "name": "stdout",
     "output_type": "stream",
     "text": [
      "0.8588850174216027, 0.8979206049149339\n"
     ]
    },
    {
     "name": "stderr",
     "output_type": "stream",
     "text": [
      "\u001b[32m[I 2023-05-15 03:19:54,899]\u001b[0m Trial 182 finished with value: 0.8093106535362579 and parameters: {'n_estimators': 100, 'criterion': 'entropy', 'max_depth': 29, 'min_samples_split': 5, 'min_samples_leaf': 17, 'max_features': 'sqrt', 'bootstrap': False}. Best is trial 113 with value: 0.880275624461671.\u001b[0m\n"
     ]
    },
    {
     "name": "stdout",
     "output_type": "stream",
     "text": [
      "0.8093106535362579, 0.8657844990548205\n"
     ]
    },
    {
     "name": "stderr",
     "output_type": "stream",
     "text": [
      "\u001b[32m[I 2023-05-15 03:20:10,438]\u001b[0m Trial 183 finished with value: 0.827708703374778 and parameters: {'n_estimators': 112, 'criterion': 'entropy', 'max_depth': 48, 'min_samples_split': 9, 'min_samples_leaf': 14, 'max_features': 'sqrt', 'bootstrap': False}. Best is trial 113 with value: 0.880275624461671.\u001b[0m\n"
     ]
    },
    {
     "name": "stdout",
     "output_type": "stream",
     "text": [
      "0.827708703374778, 0.8777567737870196\n"
     ]
    },
    {
     "name": "stderr",
     "output_type": "stream",
     "text": [
      "\u001b[32m[I 2023-05-15 03:20:20,716]\u001b[0m Trial 184 finished with value: 0.8706896551724138 and parameters: {'n_estimators': 64, 'criterion': 'entropy', 'max_depth': 50, 'min_samples_split': 5, 'min_samples_leaf': 1, 'max_features': 'sqrt', 'bootstrap': False}. Best is trial 113 with value: 0.880275624461671.\u001b[0m\n"
     ]
    },
    {
     "name": "stdout",
     "output_type": "stream",
     "text": [
      "0.8706896551724138, 0.9054820415879017\n"
     ]
    },
    {
     "name": "stderr",
     "output_type": "stream",
     "text": [
      "\u001b[32m[I 2023-05-15 03:20:29,329]\u001b[0m Trial 185 finished with value: 0.870771899392888 and parameters: {'n_estimators': 55, 'criterion': 'entropy', 'max_depth': 33, 'min_samples_split': 10, 'min_samples_leaf': 1, 'max_features': 'sqrt', 'bootstrap': False}. Best is trial 113 with value: 0.880275624461671.\u001b[0m\n"
     ]
    },
    {
     "name": "stdout",
     "output_type": "stream",
     "text": [
      "0.870771899392888, 0.906112161310649\n"
     ]
    },
    {
     "name": "stderr",
     "output_type": "stream",
     "text": [
      "\u001b[32m[I 2023-05-15 03:20:41,592]\u001b[0m Trial 186 finished with value: 0.8706896551724138 and parameters: {'n_estimators': 78, 'criterion': 'entropy', 'max_depth': 28, 'min_samples_split': 15, 'min_samples_leaf': 1, 'max_features': 'sqrt', 'bootstrap': False}. Best is trial 113 with value: 0.880275624461671.\u001b[0m\n"
     ]
    },
    {
     "name": "stdout",
     "output_type": "stream",
     "text": [
      "0.8706896551724138, 0.9054820415879017\n"
     ]
    },
    {
     "name": "stderr",
     "output_type": "stream",
     "text": [
      "\u001b[32m[I 2023-05-15 03:20:49,434]\u001b[0m Trial 187 finished with value: 0.8212039532794251 and parameters: {'n_estimators': 93, 'criterion': 'log_loss', 'max_depth': 36, 'min_samples_split': 23, 'min_samples_leaf': 4, 'max_features': 'sqrt', 'bootstrap': True}. Best is trial 113 with value: 0.880275624461671.\u001b[0m\n"
     ]
    },
    {
     "name": "stdout",
     "output_type": "stream",
     "text": [
      "0.8212039532794251, 0.8746061751732829\n"
     ]
    },
    {
     "name": "stderr",
     "output_type": "stream",
     "text": [
      "\u001b[32m[I 2023-05-15 03:21:11,283]\u001b[0m Trial 188 finished with value: 0.8492678725236864 and parameters: {'n_estimators': 148, 'criterion': 'entropy', 'max_depth': 19, 'min_samples_split': 6, 'min_samples_leaf': 7, 'max_features': 'sqrt', 'bootstrap': False}. Best is trial 113 with value: 0.880275624461671.\u001b[0m\n"
     ]
    },
    {
     "name": "stdout",
     "output_type": "stream",
     "text": [
      "0.8492678725236864, 0.8897290485192186\n"
     ]
    },
    {
     "name": "stderr",
     "output_type": "stream",
     "text": [
      "\u001b[32m[I 2023-05-15 03:21:33,077]\u001b[0m Trial 189 finished with value: 0.8701633705932932 and parameters: {'n_estimators': 134, 'criterion': 'entropy', 'max_depth': 42, 'min_samples_split': 17, 'min_samples_leaf': 1, 'max_features': 'sqrt', 'bootstrap': False}. Best is trial 113 with value: 0.880275624461671.\u001b[0m\n"
     ]
    },
    {
     "name": "stdout",
     "output_type": "stream",
     "text": [
      "0.8701633705932932, 0.9048519218651544\n"
     ]
    },
    {
     "name": "stderr",
     "output_type": "stream",
     "text": [
      "\u001b[32m[I 2023-05-15 03:21:44,099]\u001b[0m Trial 190 finished with value: 0.8723221936589546 and parameters: {'n_estimators': 69, 'criterion': 'entropy', 'max_depth': 27, 'min_samples_split': 7, 'min_samples_leaf': 2, 'max_features': 'sqrt', 'bootstrap': False}. Best is trial 113 with value: 0.880275624461671.\u001b[0m\n"
     ]
    },
    {
     "name": "stdout",
     "output_type": "stream",
     "text": [
      "0.8723221936589546, 0.906112161310649\n"
     ]
    },
    {
     "name": "stderr",
     "output_type": "stream",
     "text": [
      "\u001b[32m[I 2023-05-15 03:21:57,694]\u001b[0m Trial 191 finished with value: 0.8201438848920862 and parameters: {'n_estimators': 124, 'criterion': 'gini', 'max_depth': 44, 'min_samples_split': 2, 'min_samples_leaf': 13, 'max_features': 'sqrt', 'bootstrap': False}. Best is trial 113 with value: 0.880275624461671.\u001b[0m\n"
     ]
    },
    {
     "name": "stdout",
     "output_type": "stream",
     "text": [
      "0.8201438848920862, 0.8739760554505356\n"
     ]
    },
    {
     "name": "stderr",
     "output_type": "stream",
     "text": [
      "\u001b[32m[I 2023-05-15 03:22:09,406]\u001b[0m Trial 192 finished with value: 0.7895212285456188 and parameters: {'n_estimators': 116, 'criterion': 'gini', 'max_depth': 45, 'min_samples_split': 14, 'min_samples_leaf': 23, 'max_features': 'sqrt', 'bootstrap': False}. Best is trial 113 with value: 0.880275624461671.\u001b[0m\n"
     ]
    },
    {
     "name": "stdout",
     "output_type": "stream",
     "text": [
      "0.7895212285456188, 0.853182104599874\n"
     ]
    },
    {
     "name": "stderr",
     "output_type": "stream",
     "text": [
      "\u001b[32m[I 2023-05-15 03:22:22,935]\u001b[0m Trial 193 finished with value: 0.8710801393728222 and parameters: {'n_estimators': 107, 'criterion': 'gini', 'max_depth': 47, 'min_samples_split': 4, 'min_samples_leaf': 1, 'max_features': 'sqrt', 'bootstrap': False}. Best is trial 113 with value: 0.880275624461671.\u001b[0m\n"
     ]
    },
    {
     "name": "stdout",
     "output_type": "stream",
     "text": [
      "0.8710801393728222, 0.9067422810333964\n"
     ]
    },
    {
     "name": "stderr",
     "output_type": "stream",
     "text": [
      "\u001b[32m[I 2023-05-15 03:22:34,170]\u001b[0m Trial 194 finished with value: 0.8351063829787234 and parameters: {'n_estimators': 99, 'criterion': 'gini', 'max_depth': 32, 'min_samples_split': 3, 'min_samples_leaf': 8, 'max_features': 'sqrt', 'bootstrap': False}. Best is trial 113 with value: 0.880275624461671.\u001b[0m\n"
     ]
    },
    {
     "name": "stdout",
     "output_type": "stream",
     "text": [
      "0.8351063829787234, 0.8827977315689981\n"
     ]
    },
    {
     "name": "stderr",
     "output_type": "stream",
     "text": [
      "\u001b[32m[I 2023-05-15 03:22:49,049]\u001b[0m Trial 195 finished with value: 0.8694900605012965 and parameters: {'n_estimators': 121, 'criterion': 'gini', 'max_depth': 23, 'min_samples_split': 9, 'min_samples_leaf': 1, 'max_features': 'sqrt', 'bootstrap': False}. Best is trial 113 with value: 0.880275624461671.\u001b[0m\n"
     ]
    },
    {
     "name": "stdout",
     "output_type": "stream",
     "text": [
      "0.8694900605012965, 0.9048519218651544\n"
     ]
    },
    {
     "name": "stderr",
     "output_type": "stream",
     "text": [
      "\u001b[32m[I 2023-05-15 03:22:58,565]\u001b[0m Trial 196 finished with value: 0.8189964157706093 and parameters: {'n_estimators': 86, 'criterion': 'gini', 'max_depth': 42, 'min_samples_split': 2, 'min_samples_leaf': 12, 'max_features': 'sqrt', 'bootstrap': False}. Best is trial 113 with value: 0.880275624461671.\u001b[0m\n"
     ]
    },
    {
     "name": "stdout",
     "output_type": "stream",
     "text": [
      "0.8189964157706093, 0.872715816005041\n"
     ]
    },
    {
     "name": "stderr",
     "output_type": "stream",
     "text": [
      "\u001b[32m[I 2023-05-15 03:32:21,280]\u001b[0m Trial 197 finished with value: 0.829024186822352 and parameters: {'n_estimators': 110, 'criterion': 'entropy', 'max_depth': 30, 'min_samples_split': 4, 'min_samples_leaf': 1, 'max_features': None, 'bootstrap': False}. Best is trial 113 with value: 0.880275624461671.\u001b[0m\n"
     ]
    },
    {
     "name": "stdout",
     "output_type": "stream",
     "text": [
      "0.829024186822352, 0.870825456836799\n"
     ]
    },
    {
     "name": "stderr",
     "output_type": "stream",
     "text": [
      "\u001b[32m[I 2023-05-15 03:32:28,616]\u001b[0m Trial 198 finished with value: 0.7679558011049724 and parameters: {'n_estimators': 140, 'criterion': 'gini', 'max_depth': 26, 'min_samples_split': 8, 'min_samples_leaf': 25, 'max_features': 'sqrt', 'bootstrap': True}. Best is trial 113 with value: 0.880275624461671.\u001b[0m\n"
     ]
    },
    {
     "name": "stdout",
     "output_type": "stream",
     "text": [
      "0.7679558011049724, 0.8412098298676749\n"
     ]
    },
    {
     "name": "stderr",
     "output_type": "stream",
     "text": [
      "\u001b[32m[I 2023-05-15 03:32:48,435]\u001b[0m Trial 199 finished with value: 0.8643478260869566 and parameters: {'n_estimators': 127, 'criterion': 'entropy', 'max_depth': 50, 'min_samples_split': 18, 'min_samples_leaf': 1, 'max_features': 'sqrt', 'bootstrap': False}. Best is trial 113 with value: 0.880275624461671.\u001b[0m\n"
     ]
    },
    {
     "name": "stdout",
     "output_type": "stream",
     "text": [
      "0.8643478260869566, 0.9017013232514177\n"
     ]
    },
    {
     "name": "stderr",
     "output_type": "stream",
     "text": [
      "\u001b[32m[I 2023-05-15 03:32:51,469]\u001b[0m Trial 200 finished with value: 0.7724388032638259 and parameters: {'n_estimators': 103, 'criterion': 'gini', 'max_depth': 34, 'min_samples_split': 22, 'min_samples_leaf': 28, 'max_features': 'log2', 'bootstrap': False}. Best is trial 113 with value: 0.880275624461671.\u001b[0m\n"
     ]
    },
    {
     "name": "stdout",
     "output_type": "stream",
     "text": [
      "0.7724388032638259, 0.8418399495904222\n"
     ]
    },
    {
     "name": "stderr",
     "output_type": "stream",
     "text": [
      "\u001b[32m[I 2023-05-15 03:33:06,532]\u001b[0m Trial 201 finished with value: 0.868217054263566 and parameters: {'n_estimators': 93, 'criterion': 'entropy', 'max_depth': 29, 'min_samples_split': 11, 'min_samples_leaf': 1, 'max_features': 'sqrt', 'bootstrap': False}. Best is trial 113 with value: 0.880275624461671.\u001b[0m\n"
     ]
    },
    {
     "name": "stdout",
     "output_type": "stream",
     "text": [
      "0.868217054263566, 0.9035916824196597\n"
     ]
    },
    {
     "name": "stderr",
     "output_type": "stream",
     "text": [
      "\u001b[32m[I 2023-05-15 03:33:18,782]\u001b[0m Trial 202 finished with value: 0.8482758620689654 and parameters: {'n_estimators': 87, 'criterion': 'entropy', 'max_depth': 14, 'min_samples_split': 13, 'min_samples_leaf': 1, 'max_features': 'sqrt', 'bootstrap': False}. Best is trial 113 with value: 0.880275624461671.\u001b[0m\n"
     ]
    },
    {
     "name": "stdout",
     "output_type": "stream",
     "text": [
      "0.8482758620689654, 0.8890989287964713\n"
     ]
    },
    {
     "name": "stderr",
     "output_type": "stream",
     "text": [
      "\u001b[32m[I 2023-05-15 03:33:36,493]\u001b[0m Trial 203 finished with value: 0.7178571428571429 and parameters: {'n_estimators': 190, 'criterion': 'entropy', 'max_depth': 32, 'min_samples_split': 12, 'min_samples_leaf': 89, 'max_features': 'sqrt', 'bootstrap': False}. Best is trial 113 with value: 0.880275624461671.\u001b[0m\n"
     ]
    },
    {
     "name": "stdout",
     "output_type": "stream",
     "text": [
      "0.7178571428571429, 0.8008821676118463\n"
     ]
    },
    {
     "name": "stderr",
     "output_type": "stream",
     "text": [
      "\u001b[32m[I 2023-05-15 03:33:44,483]\u001b[0m Trial 204 finished with value: 0.7209515096065874 and parameters: {'n_estimators': 80, 'criterion': 'entropy', 'max_depth': 30, 'min_samples_split': 12, 'min_samples_leaf': 62, 'max_features': 'sqrt', 'bootstrap': False}. Best is trial 113 with value: 0.880275624461671.\u001b[0m\n"
     ]
    },
    {
     "name": "stdout",
     "output_type": "stream",
     "text": [
      "0.7209515096065874, 0.8078134845620668\n"
     ]
    },
    {
     "name": "stderr",
     "output_type": "stream",
     "text": [
      "\u001b[32m[I 2023-05-15 03:34:03,076]\u001b[0m Trial 205 finished with value: 0.8660328435609336 and parameters: {'n_estimators': 116, 'criterion': 'entropy', 'max_depth': 28, 'min_samples_split': 7, 'min_samples_leaf': 1, 'max_features': 'sqrt', 'bootstrap': False}. Best is trial 113 with value: 0.880275624461671.\u001b[0m\n"
     ]
    },
    {
     "name": "stdout",
     "output_type": "stream",
     "text": [
      "0.8660328435609336, 0.9023314429741651\n"
     ]
    },
    {
     "name": "stderr",
     "output_type": "stream",
     "text": [
      "\u001b[32m[I 2023-05-15 03:34:17,328]\u001b[0m Trial 206 finished with value: 0.8526315789473684 and parameters: {'n_estimators': 92, 'criterion': 'entropy', 'max_depth': 47, 'min_samples_split': 16, 'min_samples_leaf': 5, 'max_features': 'sqrt', 'bootstrap': False}. Best is trial 113 with value: 0.880275624461671.\u001b[0m\n"
     ]
    },
    {
     "name": "stdout",
     "output_type": "stream",
     "text": [
      "0.8526315789473684, 0.8941398865784499\n"
     ]
    },
    {
     "name": "stderr",
     "output_type": "stream",
     "text": [
      "\u001b[32m[I 2023-05-15 03:34:28,081]\u001b[0m Trial 207 finished with value: 0.786618444846293 and parameters: {'n_estimators': 103, 'criterion': 'gini', 'max_depth': 31, 'min_samples_split': 9, 'min_samples_leaf': 21, 'max_features': 'sqrt', 'bootstrap': False}. Best is trial 113 with value: 0.880275624461671.\u001b[0m\n"
     ]
    },
    {
     "name": "stdout",
     "output_type": "stream",
     "text": [
      "0.786618444846293, 0.851291745431632\n"
     ]
    },
    {
     "name": "stderr",
     "output_type": "stream",
     "text": [
      "\u001b[32m[I 2023-05-15 03:34:49,346]\u001b[0m Trial 208 finished with value: 0.806131650135257 and parameters: {'n_estimators': 155, 'criterion': 'entropy', 'max_depth': 29, 'min_samples_split': 10, 'min_samples_leaf': 17, 'max_features': 'sqrt', 'bootstrap': False}. Best is trial 113 with value: 0.880275624461671.\u001b[0m\n"
     ]
    },
    {
     "name": "stdout",
     "output_type": "stream",
     "text": [
      "0.806131650135257, 0.8645242596093258\n"
     ]
    },
    {
     "name": "stderr",
     "output_type": "stream",
     "text": [
      "\u001b[32m[I 2023-05-15 03:34:58,918]\u001b[0m Trial 209 finished with value: 0.8307967770814683 and parameters: {'n_estimators': 109, 'criterion': 'entropy', 'max_depth': 25, 'min_samples_split': 16, 'min_samples_leaf': 6, 'max_features': 'sqrt', 'bootstrap': True}. Best is trial 113 with value: 0.880275624461671.\u001b[0m\n"
     ]
    },
    {
     "name": "stdout",
     "output_type": "stream",
     "text": [
      "0.8307967770814683, 0.8809073724007561\n"
     ]
    },
    {
     "name": "stderr",
     "output_type": "stream",
     "text": [
      "\u001b[32m[I 2023-05-15 03:35:36,610]\u001b[0m Trial 210 finished with value: 0.8678260869565219 and parameters: {'n_estimators': 312, 'criterion': 'gini', 'max_depth': 44, 'min_samples_split': 2, 'min_samples_leaf': 3, 'max_features': 'sqrt', 'bootstrap': False}. Best is trial 113 with value: 0.880275624461671.\u001b[0m\n"
     ]
    },
    {
     "name": "stdout",
     "output_type": "stream",
     "text": [
      "0.8678260869565219, 0.9042218021424071\n"
     ]
    },
    {
     "name": "stderr",
     "output_type": "stream",
     "text": [
      "\u001b[32m[I 2023-05-15 03:35:57,750]\u001b[0m Trial 211 finished with value: 0.872822299651568 and parameters: {'n_estimators': 133, 'criterion': 'entropy', 'max_depth': 31, 'min_samples_split': 2, 'min_samples_leaf': 1, 'max_features': 'sqrt', 'bootstrap': False}. Best is trial 113 with value: 0.880275624461671.\u001b[0m\n"
     ]
    },
    {
     "name": "stdout",
     "output_type": "stream",
     "text": [
      "0.872822299651568, 0.908002520478891\n"
     ]
    },
    {
     "name": "stderr",
     "output_type": "stream",
     "text": [
      "\u001b[32m[I 2023-05-15 03:36:33,014]\u001b[0m Trial 212 finished with value: 0.8529155787641428 and parameters: {'n_estimators': 224, 'criterion': 'entropy', 'max_depth': 33, 'min_samples_split': 21, 'min_samples_leaf': 1, 'max_features': 'sqrt', 'bootstrap': False}. Best is trial 113 with value: 0.880275624461671.\u001b[0m\n"
     ]
    },
    {
     "name": "stdout",
     "output_type": "stream",
     "text": [
      "0.8529155787641428, 0.8935097668557026\n"
     ]
    },
    {
     "name": "stderr",
     "output_type": "stream",
     "text": [
      "\u001b[32m[I 2023-05-15 03:36:46,518]\u001b[0m Trial 213 finished with value: 0.7490842490842491 and parameters: {'n_estimators': 121, 'criterion': 'entropy', 'max_depth': 35, 'min_samples_split': 6, 'min_samples_leaf': 40, 'max_features': 'sqrt', 'bootstrap': False}. Best is trial 113 with value: 0.880275624461671.\u001b[0m\n"
     ]
    },
    {
     "name": "stdout",
     "output_type": "stream",
     "text": [
      "0.7490842490842491, 0.8273471959672338\n"
     ]
    },
    {
     "name": "stderr",
     "output_type": "stream",
     "text": [
      "\u001b[32m[I 2023-05-15 03:37:07,636]\u001b[0m Trial 214 finished with value: 0.8704663212435234 and parameters: {'n_estimators': 136, 'criterion': 'entropy', 'max_depth': 27, 'min_samples_split': 5, 'min_samples_leaf': 1, 'max_features': 'sqrt', 'bootstrap': False}. Best is trial 113 with value: 0.880275624461671.\u001b[0m\n"
     ]
    },
    {
     "name": "stdout",
     "output_type": "stream",
     "text": [
      "0.8704663212435234, 0.9054820415879017\n"
     ]
    },
    {
     "name": "stderr",
     "output_type": "stream",
     "text": [
      "\u001b[32m[I 2023-05-15 03:37:17,270]\u001b[0m Trial 215 finished with value: 0.7123034227567067 and parameters: {'n_estimators': 100, 'criterion': 'entropy', 'max_depth': 30, 'min_samples_split': 2, 'min_samples_leaf': 71, 'max_features': 'sqrt', 'bootstrap': False}. Best is trial 113 with value: 0.880275624461671.\u001b[0m\n"
     ]
    },
    {
     "name": "stdout",
     "output_type": "stream",
     "text": [
      "0.7123034227567067, 0.8040327662255828\n"
     ]
    },
    {
     "name": "stderr",
     "output_type": "stream",
     "text": [
      "\u001b[32m[I 2023-05-15 03:37:37,428]\u001b[0m Trial 216 finished with value: 0.8676975945017182 and parameters: {'n_estimators': 127, 'criterion': 'log_loss', 'max_depth': 32, 'min_samples_split': 11, 'min_samples_leaf': 1, 'max_features': 'sqrt', 'bootstrap': False}. Best is trial 113 with value: 0.880275624461671.\u001b[0m\n"
     ]
    },
    {
     "name": "stdout",
     "output_type": "stream",
     "text": [
      "0.8676975945017182, 0.9029615626969124\n"
     ]
    },
    {
     "name": "stderr",
     "output_type": "stream",
     "text": [
      "\u001b[32m[I 2023-05-15 03:38:01,648]\u001b[0m Trial 217 finished with value: 0.8498683055311675 and parameters: {'n_estimators': 169, 'criterion': 'entropy', 'max_depth': 47, 'min_samples_split': 13, 'min_samples_leaf': 9, 'max_features': 'sqrt', 'bootstrap': False}. Best is trial 113 with value: 0.880275624461671.\u001b[0m\n"
     ]
    },
    {
     "name": "stdout",
     "output_type": "stream",
     "text": [
      "0.8498683055311675, 0.8922495274102079\n"
     ]
    },
    {
     "name": "stderr",
     "output_type": "stream",
     "text": [
      "\u001b[32m[I 2023-05-15 03:38:10,649]\u001b[0m Trial 218 finished with value: 0.7262969588550983 and parameters: {'n_estimators': 111, 'criterion': 'entropy', 'max_depth': 6, 'min_samples_split': 3, 'min_samples_leaf': 1, 'max_features': 'sqrt', 'bootstrap': False}. Best is trial 113 with value: 0.880275624461671.\u001b[0m\n"
     ]
    },
    {
     "name": "stdout",
     "output_type": "stream",
     "text": [
      "0.7262969588550983, 0.8071833648393195\n"
     ]
    },
    {
     "name": "stderr",
     "output_type": "stream",
     "text": [
      "\u001b[32m[I 2023-05-15 03:38:19,747]\u001b[0m Trial 219 finished with value: 0.8568950563746747 and parameters: {'n_estimators': 82, 'criterion': 'gini', 'max_depth': 18, 'min_samples_split': 2, 'min_samples_leaf': 4, 'max_features': 'sqrt', 'bootstrap': False}. Best is trial 113 with value: 0.880275624461671.\u001b[0m\n"
     ]
    },
    {
     "name": "stdout",
     "output_type": "stream",
     "text": [
      "0.8568950563746747, 0.8960302457466919\n"
     ]
    },
    {
     "name": "stderr",
     "output_type": "stream",
     "text": [
      "\u001b[32m[I 2023-05-15 03:38:30,144]\u001b[0m Trial 220 finished with value: 0.8468309859154929 and parameters: {'n_estimators': 74, 'criterion': 'entropy', 'max_depth': 38, 'min_samples_split': 4, 'min_samples_leaf': 8, 'max_features': 'sqrt', 'bootstrap': False}. Best is trial 113 with value: 0.880275624461671.\u001b[0m\n"
     ]
    },
    {
     "name": "stdout",
     "output_type": "stream",
     "text": [
      "0.8468309859154929, 0.8903591682419659\n"
     ]
    },
    {
     "name": "stderr",
     "output_type": "stream",
     "text": [
      "\u001b[32m[I 2023-05-15 03:38:51,491]\u001b[0m Trial 221 finished with value: 0.8715277777777778 and parameters: {'n_estimators': 131, 'criterion': 'entropy', 'max_depth': 31, 'min_samples_split': 2, 'min_samples_leaf': 1, 'max_features': 'sqrt', 'bootstrap': False}. Best is trial 113 with value: 0.880275624461671.\u001b[0m\n"
     ]
    },
    {
     "name": "stdout",
     "output_type": "stream",
     "text": [
      "0.8715277777777778, 0.9067422810333964\n"
     ]
    },
    {
     "name": "stderr",
     "output_type": "stream",
     "text": [
      "\u001b[32m[I 2023-05-15 03:39:04,060]\u001b[0m Trial 222 finished with value: 0.6716279069767441 and parameters: {'n_estimators': 143, 'criterion': 'entropy', 'max_depth': 28, 'min_samples_split': 2, 'min_samples_leaf': 117, 'max_features': 'sqrt', 'bootstrap': False}. Best is trial 113 with value: 0.880275624461671.\u001b[0m\n"
     ]
    },
    {
     "name": "stdout",
     "output_type": "stream",
     "text": [
      "0.6716279069767441, 0.7775677378701953\n"
     ]
    },
    {
     "name": "stderr",
     "output_type": "stream",
     "text": [
      "\u001b[32m[I 2023-05-15 03:39:23,386]\u001b[0m Trial 223 finished with value: 0.8806228373702423 and parameters: {'n_estimators': 119, 'criterion': 'entropy', 'max_depth': 34, 'min_samples_split': 2, 'min_samples_leaf': 1, 'max_features': 'sqrt', 'bootstrap': False}. Best is trial 223 with value: 0.8806228373702423.\u001b[0m\n"
     ]
    },
    {
     "name": "stdout",
     "output_type": "stream",
     "text": [
      "0.8806228373702423, 0.9130434782608695\n"
     ]
    },
    {
     "name": "stderr",
     "output_type": "stream",
     "text": [
      "\u001b[32m[I 2023-05-15 03:39:39,785]\u001b[0m Trial 224 finished with value: 0.8414526129317981 and parameters: {'n_estimators': 115, 'criterion': 'entropy', 'max_depth': 35, 'min_samples_split': 6, 'min_samples_leaf': 10, 'max_features': 'sqrt', 'bootstrap': False}. Best is trial 223 with value: 0.8806228373702423.\u001b[0m\n"
     ]
    },
    {
     "name": "stdout",
     "output_type": "stream",
     "text": [
      "0.8414526129317981, 0.8872085696282294\n"
     ]
    },
    {
     "name": "stderr",
     "output_type": "stream",
     "text": [
      "\u001b[32m[I 2023-05-15 03:40:06,803]\u001b[0m Trial 225 finished with value: 0.8064516129032259 and parameters: {'n_estimators': 207, 'criterion': 'entropy', 'max_depth': 33, 'min_samples_split': 3, 'min_samples_leaf': 18, 'max_features': 'sqrt', 'bootstrap': False}. Best is trial 223 with value: 0.8806228373702423.\u001b[0m\n"
     ]
    },
    {
     "name": "stdout",
     "output_type": "stream",
     "text": [
      "0.8064516129032259, 0.8638941398865785\n"
     ]
    },
    {
     "name": "stderr",
     "output_type": "stream",
     "text": [
      "\u001b[32m[I 2023-05-15 03:40:18,382]\u001b[0m Trial 226 finished with value: 0.8650519031141868 and parameters: {'n_estimators': 96, 'criterion': 'gini', 'max_depth': 50, 'min_samples_split': 14, 'min_samples_leaf': 1, 'max_features': 'sqrt', 'bootstrap': False}. Best is trial 223 with value: 0.8806228373702423.\u001b[0m\n"
     ]
    },
    {
     "name": "stdout",
     "output_type": "stream",
     "text": [
      "0.8650519031141868, 0.9017013232514177\n"
     ]
    },
    {
     "name": "stderr",
     "output_type": "stream",
     "text": [
      "\u001b[32m[I 2023-05-15 03:40:23,931]\u001b[0m Trial 227 finished with value: 0.8695652173913042 and parameters: {'n_estimators': 60, 'criterion': 'entropy', 'max_depth': 29, 'min_samples_split': 5, 'min_samples_leaf': 1, 'max_features': 'sqrt', 'bootstrap': True}. Best is trial 223 with value: 0.8806228373702423.\u001b[0m\n"
     ]
    },
    {
     "name": "stdout",
     "output_type": "stream",
     "text": [
      "0.8695652173913042, 0.9054820415879017\n"
     ]
    },
    {
     "name": "stderr",
     "output_type": "stream",
     "text": [
      "\u001b[32m[I 2023-05-15 03:40:42,301]\u001b[0m Trial 228 finished with value: 0.860344827586207 and parameters: {'n_estimators': 121, 'criterion': 'entropy', 'max_depth': 35, 'min_samples_split': 19, 'min_samples_leaf': 2, 'max_features': 'sqrt', 'bootstrap': False}. Best is trial 223 with value: 0.8806228373702423.\u001b[0m\n"
     ]
    },
    {
     "name": "stdout",
     "output_type": "stream",
     "text": [
      "0.860344827586207, 0.8979206049149339\n"
     ]
    },
    {
     "name": "stderr",
     "output_type": "stream",
     "text": [
      "\u001b[32m[I 2023-05-15 03:40:51,733]\u001b[0m Trial 229 finished with value: 0.7566089334548769 and parameters: {'n_estimators': 106, 'criterion': 'gini', 'max_depth': 37, 'min_samples_split': 2, 'min_samples_leaf': 38, 'max_features': 'sqrt', 'bootstrap': False}. Best is trial 223 with value: 0.8806228373702423.\u001b[0m\n"
     ]
    },
    {
     "name": "stdout",
     "output_type": "stream",
     "text": [
      "0.7566089334548769, 0.831758034026465\n"
     ]
    },
    {
     "name": "stderr",
     "output_type": "stream",
     "text": [
      "\u001b[32m[I 2023-05-15 03:41:04,278]\u001b[0m Trial 230 finished with value: 0.824669603524229 and parameters: {'n_estimators': 90, 'criterion': 'entropy', 'max_depth': 26, 'min_samples_split': 34, 'min_samples_leaf': 11, 'max_features': 'sqrt', 'bootstrap': False}. Best is trial 223 with value: 0.8806228373702423.\u001b[0m\n"
     ]
    },
    {
     "name": "stdout",
     "output_type": "stream",
     "text": [
      "0.824669603524229, 0.8746061751732829\n"
     ]
    },
    {
     "name": "stderr",
     "output_type": "stream",
     "text": [
      "\u001b[32m[I 2023-05-15 03:41:23,833]\u001b[0m Trial 231 finished with value: 0.8692640692640692 and parameters: {'n_estimators': 126, 'criterion': 'entropy', 'max_depth': 31, 'min_samples_split': 2, 'min_samples_leaf': 1, 'max_features': 'sqrt', 'bootstrap': False}. Best is trial 223 with value: 0.8806228373702423.\u001b[0m\n"
     ]
    },
    {
     "name": "stdout",
     "output_type": "stream",
     "text": [
      "0.8692640692640692, 0.9048519218651544\n"
     ]
    },
    {
     "name": "stderr",
     "output_type": "stream",
     "text": [
      "\u001b[32m[I 2023-05-15 03:41:39,955]\u001b[0m Trial 232 finished with value: 0.7342465753424657 and parameters: {'n_estimators': 138, 'criterion': 'entropy', 'max_depth': 32, 'min_samples_split': 123, 'min_samples_leaf': 34, 'max_features': 'sqrt', 'bootstrap': False}. Best is trial 223 with value: 0.8806228373702423.\u001b[0m\n"
     ]
    },
    {
     "name": "stdout",
     "output_type": "stream",
     "text": [
      "0.7342465753424657, 0.8166351606805293\n"
     ]
    },
    {
     "name": "stderr",
     "output_type": "stream",
     "text": [
      "\u001b[32m[I 2023-05-15 03:41:48,358]\u001b[0m Trial 233 finished with value: 0.8719723183391004 and parameters: {'n_estimators': 52, 'criterion': 'entropy', 'max_depth': 30, 'min_samples_split': 2, 'min_samples_leaf': 1, 'max_features': 'sqrt', 'bootstrap': False}. Best is trial 223 with value: 0.8806228373702423.\u001b[0m\n"
     ]
    },
    {
     "name": "stdout",
     "output_type": "stream",
     "text": [
      "0.8719723183391004, 0.9067422810333964\n"
     ]
    },
    {
     "name": "stderr",
     "output_type": "stream",
     "text": [
      "\u001b[32m[I 2023-05-15 03:42:13,818]\u001b[0m Trial 234 finished with value: 0.8702422145328719 and parameters: {'n_estimators': 158, 'criterion': 'entropy', 'max_depth': 23, 'min_samples_split': 2, 'min_samples_leaf': 1, 'max_features': 'sqrt', 'bootstrap': False}. Best is trial 223 with value: 0.8806228373702423.\u001b[0m\n"
     ]
    },
    {
     "name": "stdout",
     "output_type": "stream",
     "text": [
      "0.8702422145328719, 0.9054820415879017\n"
     ]
    },
    {
     "name": "stderr",
     "output_type": "stream",
     "text": [
      "\u001b[32m[I 2023-05-15 03:42:32,432]\u001b[0m Trial 235 finished with value: 0.8773747841105355 and parameters: {'n_estimators': 117, 'criterion': 'entropy', 'max_depth': 31, 'min_samples_split': 8, 'min_samples_leaf': 3, 'max_features': 'sqrt', 'bootstrap': False}. Best is trial 223 with value: 0.8806228373702423.\u001b[0m\n"
     ]
    },
    {
     "name": "stdout",
     "output_type": "stream",
     "text": [
      "0.8773747841105355, 0.9105229993698802\n"
     ]
    },
    {
     "name": "stderr",
     "output_type": "stream",
     "text": [
      "\u001b[32m[I 2023-05-15 03:53:04,822]\u001b[0m Trial 236 finished with value: 0.8268434134217066 and parameters: {'n_estimators': 114, 'criterion': 'entropy', 'max_depth': 24, 'min_samples_split': 7, 'min_samples_leaf': 4, 'max_features': None, 'bootstrap': False}. Best is trial 223 with value: 0.8806228373702423.\u001b[0m\n"
     ]
    },
    {
     "name": "stdout",
     "output_type": "stream",
     "text": [
      "0.8268434134217066, 0.8683049779458097\n"
     ]
    },
    {
     "name": "stderr",
     "output_type": "stream",
     "text": [
      "\u001b[32m[I 2023-05-15 03:53:38,306]\u001b[0m Trial 237 finished with value: 0.8616187989556137 and parameters: {'n_estimators': 255, 'criterion': 'gini', 'max_depth': 34, 'min_samples_split': 11, 'min_samples_leaf': 3, 'max_features': 'sqrt', 'bootstrap': False}. Best is trial 223 with value: 0.8806228373702423.\u001b[0m\n"
     ]
    },
    {
     "name": "stdout",
     "output_type": "stream",
     "text": [
      "0.8616187989556137, 0.8998109640831758\n"
     ]
    },
    {
     "name": "stderr",
     "output_type": "stream",
     "text": [
      "\u001b[32m[I 2023-05-15 03:53:46,598]\u001b[0m Trial 238 finished with value: 0.6402266288951841 and parameters: {'n_estimators': 102, 'criterion': 'entropy', 'max_depth': 48, 'min_samples_split': 6, 'min_samples_leaf': 178, 'max_features': 'sqrt', 'bootstrap': False}. Best is trial 223 with value: 0.8806228373702423.\u001b[0m\n"
     ]
    },
    {
     "name": "stdout",
     "output_type": "stream",
     "text": [
      "0.6402266288951841, 0.7599243856332704\n"
     ]
    },
    {
     "name": "stderr",
     "output_type": "stream",
     "text": [
      "\u001b[32m[I 2023-05-15 03:53:54,256]\u001b[0m Trial 239 finished with value: 0.8367528991971454 and parameters: {'n_estimators': 115, 'criterion': 'gini', 'max_depth': 40, 'min_samples_split': 8, 'min_samples_leaf': 5, 'max_features': 'sqrt', 'bootstrap': True}. Best is trial 223 with value: 0.8806228373702423.\u001b[0m\n"
     ]
    },
    {
     "name": "stdout",
     "output_type": "stream",
     "text": [
      "0.8367528991971454, 0.8846880907372401\n"
     ]
    },
    {
     "name": "stderr",
     "output_type": "stream",
     "text": [
      "\u001b[32m[I 2023-05-15 03:54:10,218]\u001b[0m Trial 240 finished with value: 0.8703220191470844 and parameters: {'n_estimators': 96, 'criterion': 'entropy', 'max_depth': 33, 'min_samples_split': 8, 'min_samples_leaf': 1, 'max_features': 'sqrt', 'bootstrap': False}. Best is trial 223 with value: 0.8806228373702423.\u001b[0m\n"
     ]
    },
    {
     "name": "stdout",
     "output_type": "stream",
     "text": [
      "0.8703220191470844, 0.906112161310649\n"
     ]
    },
    {
     "name": "stderr",
     "output_type": "stream",
     "text": [
      "\u001b[32m[I 2023-05-15 03:54:32,112]\u001b[0m Trial 241 finished with value: 0.8742411101474414 and parameters: {'n_estimators': 133, 'criterion': 'entropy', 'max_depth': 31, 'min_samples_split': 7, 'min_samples_leaf': 1, 'max_features': 'sqrt', 'bootstrap': False}. Best is trial 223 with value: 0.8806228373702423.\u001b[0m\n"
     ]
    },
    {
     "name": "stdout",
     "output_type": "stream",
     "text": [
      "0.8742411101474414, 0.9086326402016384\n"
     ]
    },
    {
     "name": "stderr",
     "output_type": "stream",
     "text": [
      "\u001b[32m[I 2023-05-15 03:54:51,372]\u001b[0m Trial 242 finished with value: 0.8546409807355517 and parameters: {'n_estimators': 122, 'criterion': 'entropy', 'max_depth': 29, 'min_samples_split': 7, 'min_samples_leaf': 6, 'max_features': 'sqrt', 'bootstrap': False}. Best is trial 223 with value: 0.8806228373702423.\u001b[0m\n"
     ]
    },
    {
     "name": "stdout",
     "output_type": "stream",
     "text": [
      "0.8546409807355517, 0.8954001260239446\n"
     ]
    },
    {
     "name": "stderr",
     "output_type": "stream",
     "text": [
      "\u001b[32m[I 2023-05-15 03:55:02,526]\u001b[0m Trial 243 finished with value: 0.868217054263566 and parameters: {'n_estimators': 66, 'criterion': 'entropy', 'max_depth': 32, 'min_samples_split': 9, 'min_samples_leaf': 1, 'max_features': 'sqrt', 'bootstrap': False}. Best is trial 223 with value: 0.8806228373702423.\u001b[0m\n"
     ]
    },
    {
     "name": "stdout",
     "output_type": "stream",
     "text": [
      "0.868217054263566, 0.9035916824196597\n"
     ]
    },
    {
     "name": "stderr",
     "output_type": "stream",
     "text": [
      "\u001b[32m[I 2023-05-15 03:55:09,242]\u001b[0m Trial 244 finished with value: 0.8690372940156115 and parameters: {'n_estimators': 132, 'criterion': 'entropy', 'max_depth': 30, 'min_samples_split': 6, 'min_samples_leaf': 2, 'max_features': 'log2', 'bootstrap': False}. Best is trial 223 with value: 0.8806228373702423.\u001b[0m\n"
     ]
    },
    {
     "name": "stdout",
     "output_type": "stream",
     "text": [
      "0.8690372940156115, 0.9048519218651544\n"
     ]
    },
    {
     "name": "stderr",
     "output_type": "stream",
     "text": [
      "\u001b[32m[I 2023-05-15 03:55:33,158]\u001b[0m Trial 245 finished with value: 0.8630490956072351 and parameters: {'n_estimators': 149, 'criterion': 'entropy', 'max_depth': 27, 'min_samples_split': 8, 'min_samples_leaf': 3, 'max_features': 'sqrt', 'bootstrap': False}. Best is trial 223 with value: 0.8806228373702423.\u001b[0m\n"
     ]
    },
    {
     "name": "stdout",
     "output_type": "stream",
     "text": [
      "0.8630490956072351, 0.8998109640831758\n"
     ]
    },
    {
     "name": "stderr",
     "output_type": "stream",
     "text": [
      "\u001b[32m[I 2023-05-15 03:55:50,432]\u001b[0m Trial 246 finished with value: 0.8700173310225303 and parameters: {'n_estimators': 107, 'criterion': 'entropy', 'max_depth': 45, 'min_samples_split': 5, 'min_samples_leaf': 3, 'max_features': 'sqrt', 'bootstrap': False}. Best is trial 223 with value: 0.8806228373702423.\u001b[0m\n"
     ]
    },
    {
     "name": "stdout",
     "output_type": "stream",
     "text": [
      "0.8700173310225303, 0.9054820415879017\n"
     ]
    },
    {
     "name": "stderr",
     "output_type": "stream",
     "text": [
      "\u001b[32m[I 2023-05-15 03:56:05,840]\u001b[0m Trial 247 finished with value: 0.8720626631853786 and parameters: {'n_estimators': 121, 'criterion': 'gini', 'max_depth': 34, 'min_samples_split': 7, 'min_samples_leaf': 1, 'max_features': 'sqrt', 'bootstrap': False}. Best is trial 223 with value: 0.8806228373702423.\u001b[0m\n"
     ]
    },
    {
     "name": "stdout",
     "output_type": "stream",
     "text": [
      "0.8720626631853786, 0.9073724007561437\n"
     ]
    },
    {
     "name": "stderr",
     "output_type": "stream",
     "text": [
      "\u001b[32m[I 2023-05-15 03:56:50,241]\u001b[0m Trial 248 finished with value: 0.8688097306689834 and parameters: {'n_estimators': 271, 'criterion': 'entropy', 'max_depth': 31, 'min_samples_split': 3, 'min_samples_leaf': 1, 'max_features': 'sqrt', 'bootstrap': False}. Best is trial 223 with value: 0.8806228373702423.\u001b[0m\n"
     ]
    },
    {
     "name": "stdout",
     "output_type": "stream",
     "text": [
      "0.8688097306689834, 0.9048519218651544\n"
     ]
    },
    {
     "name": "stderr",
     "output_type": "stream",
     "text": [
      "\u001b[32m[I 2023-05-15 03:57:08,296]\u001b[0m Trial 249 finished with value: 0.8690372940156115 and parameters: {'n_estimators': 110, 'criterion': 'entropy', 'max_depth': 28, 'min_samples_split': 9, 'min_samples_leaf': 1, 'max_features': 'sqrt', 'bootstrap': False}. Best is trial 223 with value: 0.8806228373702423.\u001b[0m\n"
     ]
    },
    {
     "name": "stdout",
     "output_type": "stream",
     "text": [
      "0.8690372940156115, 0.9048519218651544\n"
     ]
    },
    {
     "name": "stderr",
     "output_type": "stream",
     "text": [
      "\u001b[32m[I 2023-05-15 03:57:13,651]\u001b[0m Trial 250 finished with value: 0.6409048067860509 and parameters: {'n_estimators': 88, 'criterion': 'gini', 'max_depth': 22, 'min_samples_split': 4, 'min_samples_leaf': 190, 'max_features': 'sqrt', 'bootstrap': False}. Best is trial 223 with value: 0.8806228373702423.\u001b[0m\n"
     ]
    },
    {
     "name": "stdout",
     "output_type": "stream",
     "text": [
      "0.6409048067860509, 0.7599243856332704\n"
     ]
    },
    {
     "name": "stderr",
     "output_type": "stream",
     "text": [
      "\u001b[32m[I 2023-05-15 03:57:32,551]\u001b[0m Trial 251 finished with value: 0.8425681618293757 and parameters: {'n_estimators': 131, 'criterion': 'entropy', 'max_depth': 48, 'min_samples_split': 10, 'min_samples_leaf': 10, 'max_features': 'sqrt', 'bootstrap': False}. Best is trial 223 with value: 0.8806228373702423.\u001b[0m\n"
     ]
    },
    {
     "name": "stdout",
     "output_type": "stream",
     "text": [
      "0.8425681618293757, 0.8872085696282294\n"
     ]
    },
    {
     "name": "stderr",
     "output_type": "stream",
     "text": [
      "\u001b[32m[I 2023-05-15 03:58:21,041]\u001b[0m Trial 252 finished with value: 0.7761467889908257 and parameters: {'n_estimators': 624, 'criterion': 'entropy', 'max_depth': 43, 'min_samples_split': 78, 'min_samples_leaf': 1, 'max_features': 'sqrt', 'bootstrap': True}. Best is trial 223 with value: 0.8806228373702423.\u001b[0m\n"
     ]
    },
    {
     "name": "stdout",
     "output_type": "stream",
     "text": [
      "0.7761467889908257, 0.8462507876496534\n"
     ]
    },
    {
     "name": "stderr",
     "output_type": "stream",
     "text": [
      "\u001b[32m[I 2023-05-15 03:58:29,608]\u001b[0m Trial 253 finished with value: 0.8489082969432316 and parameters: {'n_estimators': 58, 'criterion': 'log_loss', 'max_depth': 29, 'min_samples_split': 6, 'min_samples_leaf': 5, 'max_features': 'sqrt', 'bootstrap': False}. Best is trial 223 with value: 0.8806228373702423.\u001b[0m\n"
     ]
    },
    {
     "name": "stdout",
     "output_type": "stream",
     "text": [
      "0.8489082969432316, 0.8909892879647133\n"
     ]
    },
    {
     "name": "stderr",
     "output_type": "stream",
     "text": [
      "\u001b[32m[I 2023-05-15 03:58:40,930]\u001b[0m Trial 254 finished with value: 0.855379188712522 and parameters: {'n_estimators': 100, 'criterion': 'gini', 'max_depth': 36, 'min_samples_split': 7, 'min_samples_leaf': 4, 'max_features': 'sqrt', 'bootstrap': False}. Best is trial 223 with value: 0.8806228373702423.\u001b[0m\n"
     ]
    },
    {
     "name": "stdout",
     "output_type": "stream",
     "text": [
      "0.855379188712522, 0.8966603654694392\n"
     ]
    },
    {
     "name": "stderr",
     "output_type": "stream",
     "text": [
      "\u001b[32m[I 2023-05-15 03:59:00,093]\u001b[0m Trial 255 finished with value: 0.7346189164370982 and parameters: {'n_estimators': 181, 'criterion': 'entropy', 'max_depth': 32, 'min_samples_split': 5, 'min_samples_leaf': 54, 'max_features': 'sqrt', 'bootstrap': False}. Best is trial 223 with value: 0.8806228373702423.\u001b[0m\n"
     ]
    },
    {
     "name": "stdout",
     "output_type": "stream",
     "text": [
      "0.7346189164370982, 0.8178954001260239\n"
     ]
    },
    {
     "name": "stderr",
     "output_type": "stream",
     "text": [
      "\u001b[32m[I 2023-05-15 03:59:22,670]\u001b[0m Trial 256 finished with value: 0.8603256212510711 and parameters: {'n_estimators': 145, 'criterion': 'entropy', 'max_depth': 25, 'min_samples_split': 18, 'min_samples_leaf': 1, 'max_features': 'sqrt', 'bootstrap': False}. Best is trial 223 with value: 0.8806228373702423.\u001b[0m\n"
     ]
    },
    {
     "name": "stdout",
     "output_type": "stream",
     "text": [
      "0.8603256212510711, 0.8972904851921865\n"
     ]
    },
    {
     "name": "stderr",
     "output_type": "stream",
     "text": [
      "\u001b[32m[I 2023-05-15 03:59:35,171]\u001b[0m Trial 257 finished with value: 0.8007181328545782 and parameters: {'n_estimators': 118, 'criterion': 'gini', 'max_depth': 46, 'min_samples_split': 3, 'min_samples_leaf': 19, 'max_features': 'sqrt', 'bootstrap': False}. Best is trial 223 with value: 0.8806228373702423.\u001b[0m\n"
     ]
    },
    {
     "name": "stdout",
     "output_type": "stream",
     "text": [
      "0.8007181328545782, 0.8601134215500945\n"
     ]
    },
    {
     "name": "stderr",
     "output_type": "stream",
     "text": [
      "\u001b[32m[I 2023-05-15 03:59:51,497]\u001b[0m Trial 258 finished with value: 0.8662092624356775 and parameters: {'n_estimators': 105, 'criterion': 'entropy', 'max_depth': 20, 'min_samples_split': 4, 'min_samples_leaf': 1, 'max_features': 'sqrt', 'bootstrap': False}. Best is trial 223 with value: 0.8806228373702423.\u001b[0m\n"
     ]
    },
    {
     "name": "stdout",
     "output_type": "stream",
     "text": [
      "0.8662092624356775, 0.9017013232514177\n"
     ]
    },
    {
     "name": "stderr",
     "output_type": "stream",
     "text": [
      "\u001b[32m[I 2023-05-15 04:00:02,362]\u001b[0m Trial 259 finished with value: 0.8438596491228069 and parameters: {'n_estimators': 92, 'criterion': 'gini', 'max_depth': 33, 'min_samples_split': 3, 'min_samples_leaf': 7, 'max_features': 'sqrt', 'bootstrap': False}. Best is trial 223 with value: 0.8806228373702423.\u001b[0m\n"
     ]
    },
    {
     "name": "stdout",
     "output_type": "stream",
     "text": [
      "0.8438596491228069, 0.8878386893509767\n"
     ]
    },
    {
     "name": "stderr",
     "output_type": "stream",
     "text": [
      "\u001b[32m[I 2023-05-15 04:00:07,157]\u001b[0m Trial 260 finished with value: 0.8468309859154929 and parameters: {'n_estimators': 54, 'criterion': 'entropy', 'max_depth': 30, 'min_samples_split': 2, 'min_samples_leaf': 3, 'max_features': 'sqrt', 'bootstrap': True}. Best is trial 223 with value: 0.8806228373702423.\u001b[0m\n"
     ]
    },
    {
     "name": "stdout",
     "output_type": "stream",
     "text": [
      "0.8468309859154929, 0.8903591682419659\n"
     ]
    },
    {
     "name": "stderr",
     "output_type": "stream",
     "text": [
      "\u001b[32m[I 2023-05-15 04:00:25,120]\u001b[0m Trial 261 finished with value: 0.8340727595385982 and parameters: {'n_estimators': 124, 'criterion': 'entropy', 'max_depth': 28, 'min_samples_split': 12, 'min_samples_leaf': 12, 'max_features': 'sqrt', 'bootstrap': False}. Best is trial 223 with value: 0.8806228373702423.\u001b[0m\n"
     ]
    },
    {
     "name": "stdout",
     "output_type": "stream",
     "text": [
      "0.8340727595385982, 0.8821676118462508\n"
     ]
    },
    {
     "name": "stderr",
     "output_type": "stream",
     "text": [
      "\u001b[32m[I 2023-05-15 04:00:32,796]\u001b[0m Trial 262 finished with value: 0.7529626253418413 and parameters: {'n_estimators': 82, 'criterion': 'gini', 'max_depth': 42, 'min_samples_split': 43, 'min_samples_leaf': 45, 'max_features': 'sqrt', 'bootstrap': False}. Best is trial 223 with value: 0.8806228373702423.\u001b[0m\n"
     ]
    },
    {
     "name": "stdout",
     "output_type": "stream",
     "text": [
      "0.7529626253418413, 0.8292375551354757\n"
     ]
    },
    {
     "name": "stderr",
     "output_type": "stream",
     "text": [
      "\u001b[32m[I 2023-05-15 04:22:45,961]\u001b[0m Trial 263 finished with value: 0.806808510638298 and parameters: {'n_estimators': 238, 'criterion': 'entropy', 'max_depth': 50, 'min_samples_split': 5, 'min_samples_leaf': 8, 'max_features': None, 'bootstrap': False}. Best is trial 223 with value: 0.8806228373702423.\u001b[0m\n"
     ]
    },
    {
     "name": "stdout",
     "output_type": "stream",
     "text": [
      "0.806808510638298, 0.856962822936358\n"
     ]
    },
    {
     "name": "stderr",
     "output_type": "stream",
     "text": [
      "\u001b[32m[I 2023-05-15 04:23:01,180]\u001b[0m Trial 264 finished with value: 0.8057040998217468 and parameters: {'n_estimators': 113, 'criterion': 'entropy', 'max_depth': 21, 'min_samples_split': 8, 'min_samples_leaf': 20, 'max_features': 'sqrt', 'bootstrap': False}. Best is trial 223 with value: 0.8806228373702423.\u001b[0m\n"
     ]
    },
    {
     "name": "stdout",
     "output_type": "stream",
     "text": [
      "0.8057040998217468, 0.8626339004410838\n"
     ]
    },
    {
     "name": "stderr",
     "output_type": "stream",
     "text": [
      "\u001b[32m[I 2023-05-15 04:23:12,814]\u001b[0m Trial 265 finished with value: 0.7134935304990758 and parameters: {'n_estimators': 138, 'criterion': 'gini', 'max_depth': 31, 'min_samples_split': 4, 'min_samples_leaf': 71, 'max_features': 'sqrt', 'bootstrap': False}. Best is trial 223 with value: 0.8806228373702423.\u001b[0m\n"
     ]
    },
    {
     "name": "stdout",
     "output_type": "stream",
     "text": [
      "0.7134935304990758, 0.8046628859483301\n"
     ]
    },
    {
     "name": "stderr",
     "output_type": "stream",
     "text": [
      "\u001b[32m[I 2023-05-15 04:23:15,264]\u001b[0m Trial 266 finished with value: 0.8616187989556137 and parameters: {'n_estimators': 50, 'criterion': 'entropy', 'max_depth': 26, 'min_samples_split': 15, 'min_samples_leaf': 1, 'max_features': 'log2', 'bootstrap': False}. Best is trial 223 with value: 0.8806228373702423.\u001b[0m\n"
     ]
    },
    {
     "name": "stdout",
     "output_type": "stream",
     "text": [
      "0.8616187989556137, 0.8998109640831758\n"
     ]
    },
    {
     "name": "stderr",
     "output_type": "stream",
     "text": [
      "\u001b[32m[I 2023-05-15 04:23:26,997]\u001b[0m Trial 267 finished with value: 0.8759757155247181 and parameters: {'n_estimators': 69, 'criterion': 'entropy', 'max_depth': 37, 'min_samples_split': 7, 'min_samples_leaf': 1, 'max_features': 'sqrt', 'bootstrap': False}. Best is trial 223 with value: 0.8806228373702423.\u001b[0m\n"
     ]
    },
    {
     "name": "stdout",
     "output_type": "stream",
     "text": [
      "0.8759757155247181, 0.909892879647133\n"
     ]
    },
    {
     "name": "stderr",
     "output_type": "stream",
     "text": [
      "\u001b[32m[I 2023-05-15 04:23:33,210]\u001b[0m Trial 268 finished with value: 0.8653846153846153 and parameters: {'n_estimators': 68, 'criterion': 'entropy', 'max_depth': 37, 'min_samples_split': 7, 'min_samples_leaf': 2, 'max_features': 'sqrt', 'bootstrap': True}. Best is trial 223 with value: 0.8806228373702423.\u001b[0m\n"
     ]
    },
    {
     "name": "stdout",
     "output_type": "stream",
     "text": [
      "0.8653846153846153, 0.9029615626969124\n"
     ]
    },
    {
     "name": "stderr",
     "output_type": "stream",
     "text": [
      "\u001b[32m[I 2023-05-15 04:23:40,689]\u001b[0m Trial 269 finished with value: 0.7887579329102448 and parameters: {'n_estimators': 73, 'criterion': 'gini', 'max_depth': 40, 'min_samples_split': 6, 'min_samples_leaf': 24, 'max_features': 'sqrt', 'bootstrap': False}. Best is trial 223 with value: 0.8806228373702423.\u001b[0m\n"
     ]
    },
    {
     "name": "stdout",
     "output_type": "stream",
     "text": [
      "0.7887579329102448, 0.853182104599874\n"
     ]
    },
    {
     "name": "stderr",
     "output_type": "stream",
     "text": [
      "\u001b[32m[I 2023-05-15 04:23:48,489]\u001b[0m Trial 270 finished with value: 0.8190476190476191 and parameters: {'n_estimators': 63, 'criterion': 'entropy', 'max_depth': 11, 'min_samples_split': 7, 'min_samples_leaf': 1, 'max_features': 'sqrt', 'bootstrap': False}. Best is trial 223 with value: 0.8806228373702423.\u001b[0m\n"
     ]
    },
    {
     "name": "stdout",
     "output_type": "stream",
     "text": [
      "0.8190476190476191, 0.8683049779458097\n"
     ]
    },
    {
     "name": "stderr",
     "output_type": "stream",
     "text": [
      "\u001b[32m[I 2023-05-15 04:24:36,654]\u001b[0m Trial 271 finished with value: 0.870771899392888 and parameters: {'n_estimators': 288, 'criterion': 'entropy', 'max_depth': 35, 'min_samples_split': 10, 'min_samples_leaf': 1, 'max_features': 'sqrt', 'bootstrap': False}. Best is trial 223 with value: 0.8806228373702423.\u001b[0m\n"
     ]
    },
    {
     "name": "stdout",
     "output_type": "stream",
     "text": [
      "0.870771899392888, 0.906112161310649\n"
     ]
    },
    {
     "name": "stderr",
     "output_type": "stream",
     "text": [
      "\u001b[32m[I 2023-05-15 04:27:59,998]\u001b[0m Trial 272 finished with value: 0.8546409807355517 and parameters: {'n_estimators': 1740, 'criterion': 'gini', 'max_depth': 44, 'min_samples_split': 8, 'min_samples_leaf': 6, 'max_features': 'sqrt', 'bootstrap': False}. Best is trial 223 with value: 0.8806228373702423.\u001b[0m\n"
     ]
    },
    {
     "name": "stdout",
     "output_type": "stream",
     "text": [
      "0.8546409807355517, 0.8954001260239446\n"
     ]
    },
    {
     "name": "stderr",
     "output_type": "stream",
     "text": [
      "\u001b[32m[I 2023-05-15 04:28:15,757]\u001b[0m Trial 273 finished with value: 0.8663194444444445 and parameters: {'n_estimators': 95, 'criterion': 'entropy', 'max_depth': 46, 'min_samples_split': 9, 'min_samples_leaf': 1, 'max_features': 'sqrt', 'bootstrap': False}. Best is trial 223 with value: 0.8806228373702423.\u001b[0m\n"
     ]
    },
    {
     "name": "stdout",
     "output_type": "stream",
     "text": [
      "0.8663194444444445, 0.9029615626969124\n"
     ]
    },
    {
     "name": "stderr",
     "output_type": "stream",
     "text": [
      "\u001b[32m[I 2023-05-15 04:32:06,741]\u001b[0m Trial 274 finished with value: 0.8700173310225303 and parameters: {'n_estimators': 1439, 'criterion': 'entropy', 'max_depth': 34, 'min_samples_split': 6, 'min_samples_leaf': 3, 'max_features': 'sqrt', 'bootstrap': False}. Best is trial 223 with value: 0.8806228373702423.\u001b[0m\n"
     ]
    },
    {
     "name": "stdout",
     "output_type": "stream",
     "text": [
      "0.8700173310225303, 0.9054820415879017\n"
     ]
    },
    {
     "name": "stderr",
     "output_type": "stream",
     "text": [
      "\u001b[32m[I 2023-05-15 04:33:00,855]\u001b[0m Trial 275 finished with value: 0.8643478260869566 and parameters: {'n_estimators': 345, 'criterion': 'log_loss', 'max_depth': 48, 'min_samples_split': 6, 'min_samples_leaf': 4, 'max_features': 'sqrt', 'bootstrap': False}. Best is trial 223 with value: 0.8806228373702423.\u001b[0m\n"
     ]
    },
    {
     "name": "stdout",
     "output_type": "stream",
     "text": [
      "0.8643478260869566, 0.9017013232514177\n"
     ]
    },
    {
     "name": "stderr",
     "output_type": "stream",
     "text": [
      "\u001b[32m[I 2023-05-15 04:33:05,386]\u001b[0m Trial 276 finished with value: 0.8039747064137308 and parameters: {'n_estimators': 77, 'criterion': 'gini', 'max_depth': 16, 'min_samples_split': 8, 'min_samples_leaf': 11, 'max_features': 'sqrt', 'bootstrap': True}. Best is trial 223 with value: 0.8806228373702423.\u001b[0m\n"
     ]
    },
    {
     "name": "stdout",
     "output_type": "stream",
     "text": [
      "0.8039747064137308, 0.8632640201638311\n"
     ]
    },
    {
     "name": "stderr",
     "output_type": "stream",
     "text": [
      "\u001b[32m[I 2023-05-15 04:33:22,506]\u001b[0m Trial 277 finished with value: 0.8691099476439791 and parameters: {'n_estimators': 104, 'criterion': 'entropy', 'max_depth': 38, 'min_samples_split': 7, 'min_samples_leaf': 1, 'max_features': 'sqrt', 'bootstrap': False}. Best is trial 223 with value: 0.8806228373702423.\u001b[0m\n"
     ]
    },
    {
     "name": "stdout",
     "output_type": "stream",
     "text": [
      "0.8691099476439791, 0.9054820415879017\n"
     ]
    },
    {
     "name": "stderr",
     "output_type": "stream",
     "text": [
      "\u001b[32m[I 2023-05-15 04:33:40,205]\u001b[0m Trial 278 finished with value: 0.8701633705932932 and parameters: {'n_estimators': 112, 'criterion': 'entropy', 'max_depth': 27, 'min_samples_split': 4, 'min_samples_leaf': 2, 'max_features': 'sqrt', 'bootstrap': False}. Best is trial 223 with value: 0.8806228373702423.\u001b[0m\n"
     ]
    },
    {
     "name": "stdout",
     "output_type": "stream",
     "text": [
      "0.8701633705932932, 0.9048519218651544\n"
     ]
    },
    {
     "name": "stderr",
     "output_type": "stream",
     "text": [
      "\u001b[32m[I 2023-05-15 04:33:46,076]\u001b[0m Trial 279 finished with value: 0.6400759734093067 and parameters: {'n_estimators': 85, 'criterion': 'gini', 'max_depth': 32, 'min_samples_split': 23, 'min_samples_leaf': 149, 'max_features': 'sqrt', 'bootstrap': False}. Best is trial 223 with value: 0.8806228373702423.\u001b[0m\n"
     ]
    },
    {
     "name": "stdout",
     "output_type": "stream",
     "text": [
      "0.6400759734093067, 0.7611846250787649\n"
     ]
    },
    {
     "name": "stderr",
     "output_type": "stream",
     "text": [
      "\u001b[32m[I 2023-05-15 04:34:17,439]\u001b[0m Trial 280 finished with value: 0.8754325259515572 and parameters: {'n_estimators': 196, 'criterion': 'entropy', 'max_depth': 36, 'min_samples_split': 14, 'min_samples_leaf': 1, 'max_features': 'sqrt', 'bootstrap': False}. Best is trial 223 with value: 0.8806228373702423.\u001b[0m\n"
     ]
    },
    {
     "name": "stdout",
     "output_type": "stream",
     "text": [
      "0.8754325259515572, 0.9092627599243857\n"
     ]
    },
    {
     "name": "stderr",
     "output_type": "stream",
     "text": [
      "\u001b[32m[I 2023-05-15 04:34:36,201]\u001b[0m Trial 281 finished with value: 0.6426540284360189 and parameters: {'n_estimators': 231, 'criterion': 'entropy', 'max_depth': 37, 'min_samples_split': 5, 'min_samples_leaf': 142, 'max_features': 'sqrt', 'bootstrap': False}. Best is trial 223 with value: 0.8806228373702423.\u001b[0m\n"
     ]
    },
    {
     "name": "stdout",
     "output_type": "stream",
     "text": [
      "0.6426540284360189, 0.7624448645242596\n"
     ]
    },
    {
     "name": "stderr",
     "output_type": "stream",
     "text": [
      "\u001b[32m[I 2023-05-15 04:34:55,640]\u001b[0m Trial 282 finished with value: 0.8483786152497809 and parameters: {'n_estimators': 159, 'criterion': 'gini', 'max_depth': 39, 'min_samples_split': 25, 'min_samples_leaf': 1, 'max_features': 'sqrt', 'bootstrap': False}. Best is trial 223 with value: 0.8806228373702423.\u001b[0m\n"
     ]
    },
    {
     "name": "stdout",
     "output_type": "stream",
     "text": [
      "0.8483786152497809, 0.8909892879647133\n"
     ]
    },
    {
     "name": "stderr",
     "output_type": "stream",
     "text": [
      "\u001b[32m[I 2023-05-15 04:35:29,146]\u001b[0m Trial 283 finished with value: 0.8516242317822651 and parameters: {'n_estimators': 217, 'criterion': 'entropy', 'max_depth': 36, 'min_samples_split': 17, 'min_samples_leaf': 4, 'max_features': 'sqrt', 'bootstrap': False}. Best is trial 223 with value: 0.8806228373702423.\u001b[0m\n"
     ]
    },
    {
     "name": "stdout",
     "output_type": "stream",
     "text": [
      "0.8516242317822651, 0.8935097668557026\n"
     ]
    },
    {
     "name": "stderr",
     "output_type": "stream",
     "text": [
      "\u001b[32m[I 2023-05-15 04:35:44,989]\u001b[0m Trial 284 finished with value: 0.7927927927927928 and parameters: {'n_estimators': 127, 'criterion': 'entropy', 'max_depth': 41, 'min_samples_split': 11, 'min_samples_leaf': 26, 'max_features': 'sqrt', 'bootstrap': False}. Best is trial 223 with value: 0.8806228373702423.\u001b[0m\n"
     ]
    },
    {
     "name": "stdout",
     "output_type": "stream",
     "text": [
      "0.7927927927927928, 0.855072463768116\n"
     ]
    },
    {
     "name": "stderr",
     "output_type": "stream",
     "text": [
      "\u001b[32m[I 2023-05-15 04:35:57,809]\u001b[0m Trial 285 finished with value: 0.8233183856502241 and parameters: {'n_estimators': 192, 'criterion': 'gini', 'max_depth': 35, 'min_samples_split': 21, 'min_samples_leaf': 3, 'max_features': 'sqrt', 'bootstrap': True}. Best is trial 223 with value: 0.8806228373702423.\u001b[0m\n"
     ]
    },
    {
     "name": "stdout",
     "output_type": "stream",
     "text": [
      "0.8233183856502241, 0.8758664146187776\n"
     ]
    },
    {
     "name": "stderr",
     "output_type": "stream",
     "text": [
      "\u001b[32m[I 2023-05-15 04:36:13,422]\u001b[0m Trial 286 finished with value: 0.7066189624329159 and parameters: {'n_estimators': 170, 'criterion': 'entropy', 'max_depth': 33, 'min_samples_split': 3, 'min_samples_leaf': 101, 'max_features': 'sqrt', 'bootstrap': False}. Best is trial 223 with value: 0.8806228373702423.\u001b[0m\n"
     ]
    },
    {
     "name": "stdout",
     "output_type": "stream",
     "text": [
      "0.7066189624329159, 0.7933207309388783\n"
     ]
    },
    {
     "name": "stderr",
     "output_type": "stream",
     "text": [
      "\u001b[32m[I 2023-05-15 04:48:46,382]\u001b[0m Trial 287 finished with value: 0.8088360237892949 and parameters: {'n_estimators': 145, 'criterion': 'entropy', 'max_depth': 46, 'min_samples_split': 3, 'min_samples_leaf': 7, 'max_features': None, 'bootstrap': False}. Best is trial 223 with value: 0.8806228373702423.\u001b[0m\n"
     ]
    },
    {
     "name": "stdout",
     "output_type": "stream",
     "text": [
      "0.8088360237892949, 0.8582230623818525\n"
     ]
    },
    {
     "name": "stderr",
     "output_type": "stream",
     "text": [
      "\u001b[32m[I 2023-05-15 04:49:09,428]\u001b[0m Trial 288 finished with value: 0.8029064486830154 and parameters: {'n_estimators': 193, 'criterion': 'gini', 'max_depth': 34, 'min_samples_split': 54, 'min_samples_leaf': 1, 'max_features': 'sqrt', 'bootstrap': False}. Best is trial 223 with value: 0.8806228373702423.\u001b[0m\n"
     ]
    },
    {
     "name": "stdout",
     "output_type": "stream",
     "text": [
      "0.8029064486830154, 0.8632640201638311\n"
     ]
    },
    {
     "name": "stderr",
     "output_type": "stream",
     "text": [
      "\u001b[32m[I 2023-05-15 04:49:25,222]\u001b[0m Trial 289 finished with value: 0.7864164432529044 and parameters: {'n_estimators': 118, 'criterion': 'entropy', 'max_depth': 24, 'min_samples_split': 111, 'min_samples_leaf': 5, 'max_features': 'sqrt', 'bootstrap': False}. Best is trial 223 with value: 0.8806228373702423.\u001b[0m\n"
     ]
    },
    {
     "name": "stdout",
     "output_type": "stream",
     "text": [
      "0.7864164432529044, 0.84940138626339\n"
     ]
    },
    {
     "name": "stderr",
     "output_type": "stream",
     "text": [
      "\u001b[32m[I 2023-05-15 04:49:49,525]\u001b[0m Trial 290 finished with value: 0.8428446005267779 and parameters: {'n_estimators': 153, 'criterion': 'entropy', 'max_depth': 43, 'min_samples_split': 30, 'min_samples_leaf': 1, 'max_features': 'sqrt', 'bootstrap': False}. Best is trial 223 with value: 0.8806228373702423.\u001b[0m\n"
     ]
    },
    {
     "name": "stdout",
     "output_type": "stream",
     "text": [
      "0.8428446005267779, 0.8872085696282294\n"
     ]
    },
    {
     "name": "stderr",
     "output_type": "stream",
     "text": [
      "\u001b[32m[I 2023-05-15 04:49:57,108]\u001b[0m Trial 291 finished with value: 0.8336314847942755 and parameters: {'n_estimators': 215, 'criterion': 'gini', 'max_depth': 49, 'min_samples_split': 27, 'min_samples_leaf': 1, 'max_features': 'log2', 'bootstrap': False}. Best is trial 223 with value: 0.8806228373702423.\u001b[0m\n"
     ]
    },
    {
     "name": "stdout",
     "output_type": "stream",
     "text": [
      "0.8336314847942755, 0.8827977315689981\n"
     ]
    },
    {
     "name": "stderr",
     "output_type": "stream",
     "text": [
      "\u001b[32m[I 2023-05-15 04:50:19,300]\u001b[0m Trial 292 finished with value: 0.788858939802336 and parameters: {'n_estimators': 178, 'criterion': 'entropy', 'max_depth': 50, 'min_samples_split': 7, 'min_samples_leaf': 26, 'max_features': 'sqrt', 'bootstrap': False}. Best is trial 223 with value: 0.8806228373702423.\u001b[0m\n"
     ]
    },
    {
     "name": "stdout",
     "output_type": "stream",
     "text": [
      "0.788858939802336, 0.8519218651543793\n"
     ]
    },
    {
     "name": "stderr",
     "output_type": "stream",
     "text": [
      "\u001b[32m[I 2023-05-15 04:50:48,933]\u001b[0m Trial 293 finished with value: 0.8058076225045372 and parameters: {'n_estimators': 393, 'criterion': 'entropy', 'max_depth': 36, 'min_samples_split': 5, 'min_samples_leaf': 13, 'max_features': 'sqrt', 'bootstrap': True}. Best is trial 223 with value: 0.8806228373702423.\u001b[0m\n"
     ]
    },
    {
     "name": "stdout",
     "output_type": "stream",
     "text": [
      "0.8058076225045372, 0.8651543793320731\n"
     ]
    },
    {
     "name": "stderr",
     "output_type": "stream",
     "text": [
      "\u001b[32m[I 2023-05-15 04:50:58,594]\u001b[0m Trial 294 finished with value: 0.7541284403669726 and parameters: {'n_estimators': 99, 'criterion': 'gini', 'max_depth': 39, 'min_samples_split': 159, 'min_samples_leaf': 9, 'max_features': 'sqrt', 'bootstrap': False}. Best is trial 223 with value: 0.8806228373702423.\u001b[0m\n"
     ]
    },
    {
     "name": "stdout",
     "output_type": "stream",
     "text": [
      "0.7541284403669726, 0.8311279143037177\n"
     ]
    },
    {
     "name": "stderr",
     "output_type": "stream",
     "text": [
      "\u001b[32m[I 2023-05-15 04:51:17,893]\u001b[0m Trial 295 finished with value: 0.8630490956072351 and parameters: {'n_estimators': 129, 'criterion': 'entropy', 'max_depth': 22, 'min_samples_split': 9, 'min_samples_leaf': 2, 'max_features': 'sqrt', 'bootstrap': False}. Best is trial 223 with value: 0.8806228373702423.\u001b[0m\n"
     ]
    },
    {
     "name": "stdout",
     "output_type": "stream",
     "text": [
      "0.8630490956072351, 0.8998109640831758\n"
     ]
    },
    {
     "name": "stderr",
     "output_type": "stream",
     "text": [
      "\u001b[32m[I 2023-05-15 04:51:25,887]\u001b[0m Trial 296 finished with value: 0.8230088495575221 and parameters: {'n_estimators': 57, 'criterion': 'entropy', 'max_depth': 30, 'min_samples_split': 2, 'min_samples_leaf': 15, 'max_features': 'sqrt', 'bootstrap': False}. Best is trial 223 with value: 0.8806228373702423.\u001b[0m\n"
     ]
    },
    {
     "name": "stdout",
     "output_type": "stream",
     "text": [
      "0.8230088495575221, 0.8739760554505356\n"
     ]
    },
    {
     "name": "stderr",
     "output_type": "stream",
     "text": [
      "\u001b[32m[I 2023-05-15 04:51:42,220]\u001b[0m Trial 297 finished with value: 0.8464223385689353 and parameters: {'n_estimators': 110, 'criterion': 'log_loss', 'max_depth': 33, 'min_samples_split': 16, 'min_samples_leaf': 8, 'max_features': 'sqrt', 'bootstrap': False}. Best is trial 223 with value: 0.8806228373702423.\u001b[0m\n"
     ]
    },
    {
     "name": "stdout",
     "output_type": "stream",
     "text": [
      "0.8464223385689353, 0.8890989287964713\n"
     ]
    },
    {
     "name": "stderr",
     "output_type": "stream",
     "text": [
      "\u001b[32m[I 2023-05-15 04:52:12,524]\u001b[0m Trial 298 finished with value: 0.8673026886383347 and parameters: {'n_estimators': 242, 'criterion': 'gini', 'max_depth': 45, 'min_samples_split': 12, 'min_samples_leaf': 1, 'max_features': 'sqrt', 'bootstrap': False}. Best is trial 223 with value: 0.8806228373702423.\u001b[0m\n"
     ]
    },
    {
     "name": "stdout",
     "output_type": "stream",
     "text": [
      "0.8673026886383347, 0.9035916824196597\n"
     ]
    },
    {
     "name": "stderr",
     "output_type": "stream",
     "text": [
      "\u001b[32m[I 2023-05-15 04:52:41,821]\u001b[0m Trial 299 finished with value: 0.827708703374778 and parameters: {'n_estimators': 203, 'criterion': 'entropy', 'max_depth': 31, 'min_samples_split': 21, 'min_samples_leaf': 13, 'max_features': 'sqrt', 'bootstrap': False}. Best is trial 223 with value: 0.8806228373702423.\u001b[0m\n"
     ]
    },
    {
     "name": "stdout",
     "output_type": "stream",
     "text": [
      "0.827708703374778, 0.8777567737870196\n"
     ]
    },
    {
     "name": "stderr",
     "output_type": "stream",
     "text": [
      "\u001b[32m[I 2023-05-15 04:53:03,519]\u001b[0m Trial 300 finished with value: 0.8655680832610582 and parameters: {'n_estimators': 139, 'criterion': 'entropy', 'max_depth': 34, 'min_samples_split': 6, 'min_samples_leaf': 5, 'max_features': 'sqrt', 'bootstrap': False}. Best is trial 223 with value: 0.8806228373702423.\u001b[0m\n"
     ]
    },
    {
     "name": "stdout",
     "output_type": "stream",
     "text": [
      "0.8655680832610582, 0.9023314429741651\n"
     ]
    },
    {
     "name": "stderr",
     "output_type": "stream",
     "text": [
      "\u001b[32m[I 2023-05-15 04:53:11,217]\u001b[0m Trial 301 finished with value: 0.8288770053475937 and parameters: {'n_estimators': 117, 'criterion': 'gini', 'max_depth': 18, 'min_samples_split': 14, 'min_samples_leaf': 6, 'max_features': 'sqrt', 'bootstrap': True}. Best is trial 223 with value: 0.8806228373702423.\u001b[0m\n"
     ]
    },
    {
     "name": "stdout",
     "output_type": "stream",
     "text": [
      "0.8288770053475937, 0.8790170132325141\n"
     ]
    },
    {
     "name": "stderr",
     "output_type": "stream",
     "text": [
      "\u001b[32m[I 2023-05-15 04:53:59,789]\u001b[0m Trial 302 finished with value: 0.8635578583765113 and parameters: {'n_estimators': 299, 'criterion': 'entropy', 'max_depth': 41, 'min_samples_split': 19, 'min_samples_leaf': 1, 'max_features': 'sqrt', 'bootstrap': False}. Best is trial 223 with value: 0.8806228373702423.\u001b[0m\n"
     ]
    },
    {
     "name": "stdout",
     "output_type": "stream",
     "text": [
      "0.8635578583765113, 0.9004410838059231\n"
     ]
    },
    {
     "name": "stderr",
     "output_type": "stream",
     "text": [
      "\u001b[32m[I 2023-05-15 04:54:24,392]\u001b[0m Trial 303 finished with value: 0.8506944444444445 and parameters: {'n_estimators': 166, 'criterion': 'entropy', 'max_depth': 23, 'min_samples_split': 4, 'min_samples_leaf': 7, 'max_features': 'sqrt', 'bootstrap': False}. Best is trial 223 with value: 0.8806228373702423.\u001b[0m\n"
     ]
    },
    {
     "name": "stdout",
     "output_type": "stream",
     "text": [
      "0.8506944444444445, 0.8916194076874606\n"
     ]
    },
    {
     "name": "stderr",
     "output_type": "stream",
     "text": [
      "\u001b[32m[I 2023-05-15 04:55:03,980]\u001b[0m Trial 304 finished with value: 0.8154815481548155 and parameters: {'n_estimators': 326, 'criterion': 'gini', 'max_depth': 26, 'min_samples_split': 45, 'min_samples_leaf': 1, 'max_features': 'sqrt', 'bootstrap': False}. Best is trial 223 with value: 0.8806228373702423.\u001b[0m\n"
     ]
    },
    {
     "name": "stdout",
     "output_type": "stream",
     "text": [
      "0.8154815481548155, 0.870825456836799\n"
     ]
    },
    {
     "name": "stderr",
     "output_type": "stream",
     "text": [
      "\u001b[32m[I 2023-05-15 04:55:19,797]\u001b[0m Trial 305 finished with value: 0.8670721112076456 and parameters: {'n_estimators': 101, 'criterion': 'entropy', 'max_depth': 48, 'min_samples_split': 3, 'min_samples_leaf': 4, 'max_features': 'sqrt', 'bootstrap': False}. Best is trial 223 with value: 0.8806228373702423.\u001b[0m\n"
     ]
    },
    {
     "name": "stdout",
     "output_type": "stream",
     "text": [
      "0.8670721112076456, 0.9035916824196597\n"
     ]
    },
    {
     "name": "stderr",
     "output_type": "stream",
     "text": [
      "\u001b[32m[I 2023-05-15 04:55:40,161]\u001b[0m Trial 306 finished with value: 0.8754325259515572 and parameters: {'n_estimators': 125, 'criterion': 'entropy', 'max_depth': 32, 'min_samples_split': 8, 'min_samples_leaf': 3, 'max_features': 'sqrt', 'bootstrap': False}. Best is trial 223 with value: 0.8806228373702423.\u001b[0m\n"
     ]
    },
    {
     "name": "stdout",
     "output_type": "stream",
     "text": [
      "0.8754325259515572, 0.9092627599243857\n"
     ]
    },
    {
     "name": "stderr",
     "output_type": "stream",
     "text": [
      "\u001b[32m[I 2023-05-15 04:55:54,658]\u001b[0m Trial 307 finished with value: 0.7513711151736746 and parameters: {'n_estimators': 126, 'criterion': 'entropy', 'max_depth': 29, 'min_samples_split': 8, 'min_samples_leaf': 38, 'max_features': 'sqrt', 'bootstrap': False}. Best is trial 223 with value: 0.8806228373702423.\u001b[0m\n"
     ]
    },
    {
     "name": "stdout",
     "output_type": "stream",
     "text": [
      "0.7513711151736746, 0.8286074354127284\n"
     ]
    },
    {
     "name": "stderr",
     "output_type": "stream",
     "text": [
      "\u001b[32m[I 2023-05-15 04:56:05,795]\u001b[0m Trial 308 finished with value: 0.8748921484037964 and parameters: {'n_estimators': 68, 'criterion': 'entropy', 'max_depth': 32, 'min_samples_split': 10, 'min_samples_leaf': 3, 'max_features': 'sqrt', 'bootstrap': False}. Best is trial 223 with value: 0.8806228373702423.\u001b[0m\n"
     ]
    },
    {
     "name": "stdout",
     "output_type": "stream",
     "text": [
      "0.8748921484037964, 0.9086326402016384\n"
     ]
    },
    {
     "name": "stderr",
     "output_type": "stream",
     "text": [
      "\u001b[32m[I 2023-05-15 04:56:15,766]\u001b[0m Trial 309 finished with value: 0.8645833333333333 and parameters: {'n_estimators': 63, 'criterion': 'entropy', 'max_depth': 32, 'min_samples_split': 10, 'min_samples_leaf': 2, 'max_features': 'sqrt', 'bootstrap': False}. Best is trial 223 with value: 0.8806228373702423.\u001b[0m\n"
     ]
    },
    {
     "name": "stdout",
     "output_type": "stream",
     "text": [
      "0.8645833333333333, 0.9017013232514177\n"
     ]
    },
    {
     "name": "stderr",
     "output_type": "stream",
     "text": [
      "\u001b[32m[I 2023-05-15 05:02:15,727]\u001b[0m Trial 310 finished with value: 0.8127090301003345 and parameters: {'n_estimators': 70, 'criterion': 'entropy', 'max_depth': 31, 'min_samples_split': 9, 'min_samples_leaf': 3, 'max_features': None, 'bootstrap': False}. Best is trial 223 with value: 0.8806228373702423.\u001b[0m\n"
     ]
    },
    {
     "name": "stdout",
     "output_type": "stream",
     "text": [
      "0.8127090301003345, 0.8588531821045998\n"
     ]
    },
    {
     "name": "stderr",
     "output_type": "stream",
     "text": [
      "\u001b[32m[I 2023-05-15 05:02:22,362]\u001b[0m Trial 311 finished with value: 0.708108108108108 and parameters: {'n_estimators': 74, 'criterion': 'entropy', 'max_depth': 33, 'min_samples_split': 8, 'min_samples_leaf': 103, 'max_features': 'sqrt', 'bootstrap': False}. Best is trial 223 with value: 0.8806228373702423.\u001b[0m\n"
     ]
    },
    {
     "name": "stdout",
     "output_type": "stream",
     "text": [
      "0.708108108108108, 0.7958412098298677\n"
     ]
    },
    {
     "name": "stderr",
     "output_type": "stream",
     "text": [
      "\u001b[32m[I 2023-05-15 05:02:39,302]\u001b[0m Trial 312 finished with value: 0.870771899392888 and parameters: {'n_estimators': 107, 'criterion': 'entropy', 'max_depth': 35, 'min_samples_split': 9, 'min_samples_leaf': 3, 'max_features': 'sqrt', 'bootstrap': False}. Best is trial 223 with value: 0.8806228373702423.\u001b[0m\n"
     ]
    },
    {
     "name": "stdout",
     "output_type": "stream",
     "text": [
      "0.870771899392888, 0.906112161310649\n"
     ]
    },
    {
     "name": "stderr",
     "output_type": "stream",
     "text": [
      "\u001b[32m[I 2023-05-15 05:02:51,784]\u001b[0m Trial 313 finished with value: 0.8663194444444445 and parameters: {'n_estimators': 80, 'criterion': 'entropy', 'max_depth': 37, 'min_samples_split': 8, 'min_samples_leaf': 3, 'max_features': 'sqrt', 'bootstrap': False}. Best is trial 223 with value: 0.8806228373702423.\u001b[0m\n"
     ]
    },
    {
     "name": "stdout",
     "output_type": "stream",
     "text": [
      "0.8663194444444445, 0.9029615626969124\n"
     ]
    },
    {
     "name": "stderr",
     "output_type": "stream",
     "text": [
      "\u001b[32m[I 2023-05-15 05:03:06,077]\u001b[0m Trial 314 finished with value: 0.8673026886383347 and parameters: {'n_estimators': 90, 'criterion': 'entropy', 'max_depth': 30, 'min_samples_split': 7, 'min_samples_leaf': 3, 'max_features': 'sqrt', 'bootstrap': False}. Best is trial 223 with value: 0.8806228373702423.\u001b[0m\n"
     ]
    },
    {
     "name": "stdout",
     "output_type": "stream",
     "text": [
      "0.8673026886383347, 0.9035916824196597\n"
     ]
    },
    {
     "name": "stderr",
     "output_type": "stream",
     "text": [
      "\u001b[32m[I 2023-05-15 05:03:11,806]\u001b[0m Trial 315 finished with value: 0.7820512820512819 and parameters: {'n_estimators': 139, 'criterion': 'entropy', 'max_depth': 32, 'min_samples_split': 77, 'min_samples_leaf': 14, 'max_features': 'log2', 'bootstrap': False}. Best is trial 223 with value: 0.8806228373702423.\u001b[0m\n"
     ]
    },
    {
     "name": "stdout",
     "output_type": "stream",
     "text": [
      "0.7820512820512819, 0.8500315059861374\n"
     ]
    },
    {
     "name": "stderr",
     "output_type": "stream",
     "text": [
      "\u001b[32m[I 2023-05-15 05:03:23,739]\u001b[0m Trial 316 finished with value: 0.7190008920606602 and parameters: {'n_estimators': 121, 'criterion': 'entropy', 'max_depth': 28, 'min_samples_split': 2, 'min_samples_leaf': 84, 'max_features': 'sqrt', 'bootstrap': False}. Best is trial 223 with value: 0.8806228373702423.\u001b[0m\n"
     ]
    },
    {
     "name": "stdout",
     "output_type": "stream",
     "text": [
      "0.7190008920606602, 0.8015122873345936\n"
     ]
    },
    {
     "name": "stderr",
     "output_type": "stream",
     "text": [
      "\u001b[32m[I 2023-05-15 05:03:42,642]\u001b[0m Trial 317 finished with value: 0.8188277087033747 and parameters: {'n_estimators': 134, 'criterion': 'entropy', 'max_depth': 34, 'min_samples_split': 10, 'min_samples_leaf': 15, 'max_features': 'sqrt', 'bootstrap': False}. Best is trial 223 with value: 0.8806228373702423.\u001b[0m\n"
     ]
    },
    {
     "name": "stdout",
     "output_type": "stream",
     "text": [
      "0.8188277087033747, 0.8714555765595463\n"
     ]
    },
    {
     "name": "stderr",
     "output_type": "stream",
     "text": [
      "\u001b[32m[I 2023-05-15 05:03:57,624]\u001b[0m Trial 318 finished with value: 0.7617328519855596 and parameters: {'n_estimators': 114, 'criterion': 'entropy', 'max_depth': 30, 'min_samples_split': 187, 'min_samples_leaf': 4, 'max_features': 'sqrt', 'bootstrap': False}. Best is trial 223 with value: 0.8806228373702423.\u001b[0m\n"
     ]
    },
    {
     "name": "stdout",
     "output_type": "stream",
     "text": [
      "0.7617328519855596, 0.833648393194707\n"
     ]
    },
    {
     "name": "stderr",
     "output_type": "stream",
     "text": [
      "\u001b[32m[I 2023-05-15 05:04:27,551]\u001b[0m Trial 319 finished with value: 0.7334558823529412 and parameters: {'n_estimators': 275, 'criterion': 'entropy', 'max_depth': 36, 'min_samples_split': 7, 'min_samples_leaf': 57, 'max_features': 'sqrt', 'bootstrap': False}. Best is trial 223 with value: 0.8806228373702423.\u001b[0m\n"
     ]
    },
    {
     "name": "stdout",
     "output_type": "stream",
     "text": [
      "0.7334558823529412, 0.8172652804032766\n"
     ]
    },
    {
     "name": "stderr",
     "output_type": "stream",
     "text": [
      "\u001b[32m[I 2023-05-15 05:04:42,676]\u001b[0m Trial 320 finished with value: 0.8677614520311149 and parameters: {'n_estimators': 97, 'criterion': 'entropy', 'max_depth': 32, 'min_samples_split': 14, 'min_samples_leaf': 3, 'max_features': 'sqrt', 'bootstrap': False}. Best is trial 223 with value: 0.8806228373702423.\u001b[0m\n"
     ]
    },
    {
     "name": "stdout",
     "output_type": "stream",
     "text": [
      "0.8677614520311149, 0.9035916824196597\n"
     ]
    },
    {
     "name": "stderr",
     "output_type": "stream",
     "text": [
      "\u001b[32m[I 2023-05-15 05:04:57,204]\u001b[0m Trial 321 finished with value: 0.7107142857142856 and parameters: {'n_estimators': 152, 'criterion': 'entropy', 'max_depth': 34, 'min_samples_split': 8, 'min_samples_leaf': 97, 'max_features': 'sqrt', 'bootstrap': False}. Best is trial 223 with value: 0.8806228373702423.\u001b[0m\n"
     ]
    },
    {
     "name": "stdout",
     "output_type": "stream",
     "text": [
      "0.7107142857142856, 0.7958412098298677\n"
     ]
    },
    {
     "name": "stderr",
     "output_type": "stream",
     "text": [
      "\u001b[32m[I 2023-05-15 05:05:38,006]\u001b[0m Trial 322 finished with value: 0.8650519031141868 and parameters: {'n_estimators': 268, 'criterion': 'log_loss', 'max_depth': 29, 'min_samples_split': 11, 'min_samples_leaf': 5, 'max_features': 'sqrt', 'bootstrap': False}. Best is trial 223 with value: 0.8806228373702423.\u001b[0m\n"
     ]
    },
    {
     "name": "stdout",
     "output_type": "stream",
     "text": [
      "0.8650519031141868, 0.9017013232514177\n"
     ]
    },
    {
     "name": "stderr",
     "output_type": "stream",
     "text": [
      "\u001b[32m[I 2023-05-15 05:05:51,876]\u001b[0m Trial 323 finished with value: 0.804289544235925 and parameters: {'n_estimators': 105, 'criterion': 'entropy', 'max_depth': 31, 'min_samples_split': 10, 'min_samples_leaf': 18, 'max_features': 'sqrt', 'bootstrap': False}. Best is trial 223 with value: 0.8806228373702423.\u001b[0m\n"
     ]
    },
    {
     "name": "stdout",
     "output_type": "stream",
     "text": [
      "0.804289544235925, 0.8620037807183365\n"
     ]
    },
    {
     "name": "stderr",
     "output_type": "stream",
     "text": [
      "\u001b[32m[I 2023-05-15 05:05:57,571]\u001b[0m Trial 324 finished with value: 0.6571969696969697 and parameters: {'n_estimators': 65, 'criterion': 'entropy', 'max_depth': 38, 'min_samples_split': 9, 'min_samples_leaf': 120, 'max_features': 'sqrt', 'bootstrap': False}. Best is trial 223 with value: 0.8806228373702423.\u001b[0m\n"
     ]
    },
    {
     "name": "stdout",
     "output_type": "stream",
     "text": [
      "0.6571969696969697, 0.7718966603654694\n"
     ]
    },
    {
     "name": "stderr",
     "output_type": "stream",
     "text": [
      "\u001b[32m[I 2023-05-15 05:06:17,814]\u001b[0m Trial 325 finished with value: 0.8658008658008658 and parameters: {'n_estimators': 126, 'criterion': 'entropy', 'max_depth': 50, 'min_samples_split': 2, 'min_samples_leaf': 4, 'max_features': 'sqrt', 'bootstrap': False}. Best is trial 223 with value: 0.8806228373702423.\u001b[0m\n"
     ]
    },
    {
     "name": "stdout",
     "output_type": "stream",
     "text": [
      "0.8658008658008658, 0.9023314429741651\n"
     ]
    },
    {
     "name": "stderr",
     "output_type": "stream",
     "text": [
      "\u001b[32m[I 2023-05-15 05:06:30,565]\u001b[0m Trial 326 finished with value: 0.8463564530289729 and parameters: {'n_estimators': 86, 'criterion': 'entropy', 'max_depth': 27, 'min_samples_split': 13, 'min_samples_leaf': 9, 'max_features': 'sqrt', 'bootstrap': False}. Best is trial 223 with value: 0.8806228373702423.\u001b[0m\n"
     ]
    },
    {
     "name": "stdout",
     "output_type": "stream",
     "text": [
      "0.8463564530289729, 0.8897290485192186\n"
     ]
    },
    {
     "name": "stderr",
     "output_type": "stream",
     "text": [
      "\u001b[32m[I 2023-05-15 05:06:40,121]\u001b[0m Trial 327 finished with value: 0.7780821917808218 and parameters: {'n_estimators': 95, 'criterion': 'gini', 'max_depth': 33, 'min_samples_split': 86, 'min_samples_leaf': 16, 'max_features': 'sqrt', 'bootstrap': False}. Best is trial 223 with value: 0.8806228373702423.\u001b[0m\n"
     ]
    },
    {
     "name": "stdout",
     "output_type": "stream",
     "text": [
      "0.7780821917808218, 0.8468809073724007\n"
     ]
    },
    {
     "name": "stderr",
     "output_type": "stream",
     "text": [
      "\u001b[32m[I 2023-05-15 05:06:52,185]\u001b[0m Trial 328 finished with value: 0.7368421052631579 and parameters: {'n_estimators': 111, 'criterion': 'entropy', 'max_depth': 36, 'min_samples_split': 7, 'min_samples_leaf': 48, 'max_features': 'sqrt', 'bootstrap': False}. Best is trial 223 with value: 0.8806228373702423.\u001b[0m\n"
     ]
    },
    {
     "name": "stdout",
     "output_type": "stream",
     "text": [
      "0.7368421052631579, 0.8204158790170132\n"
     ]
    },
    {
     "name": "stderr",
     "output_type": "stream",
     "text": [
      "\u001b[32m[I 2023-05-15 05:07:04,231]\u001b[0m Trial 329 finished with value: 0.7048138056312443 and parameters: {'n_estimators': 163, 'criterion': 'entropy', 'max_depth': 5, 'min_samples_split': 6, 'min_samples_leaf': 1, 'max_features': 'sqrt', 'bootstrap': False}. Best is trial 223 with value: 0.8806228373702423.\u001b[0m\n"
     ]
    },
    {
     "name": "stdout",
     "output_type": "stream",
     "text": [
      "0.7048138056312443, 0.7952110901071203\n"
     ]
    },
    {
     "name": "stderr",
     "output_type": "stream",
     "text": [
      "\u001b[32m[I 2023-05-15 05:07:32,877]\u001b[0m Trial 330 finished with value: 0.7565610859728508 and parameters: {'n_estimators': 249, 'criterion': 'entropy', 'max_depth': 14, 'min_samples_split': 2, 'min_samples_leaf': 37, 'max_features': 'sqrt', 'bootstrap': False}. Best is trial 223 with value: 0.8806228373702423.\u001b[0m\n"
     ]
    },
    {
     "name": "stdout",
     "output_type": "stream",
     "text": [
      "0.7565610859728508, 0.8304977945809704\n"
     ]
    },
    {
     "name": "stderr",
     "output_type": "stream",
     "text": [
      "\u001b[32m[I 2023-05-15 05:07:41,102]\u001b[0m Trial 331 finished with value: 0.8692640692640692 and parameters: {'n_estimators': 68, 'criterion': 'gini', 'max_depth': 29, 'min_samples_split': 8, 'min_samples_leaf': 2, 'max_features': 'sqrt', 'bootstrap': False}. Best is trial 223 with value: 0.8806228373702423.\u001b[0m\n"
     ]
    },
    {
     "name": "stdout",
     "output_type": "stream",
     "text": [
      "0.8692640692640692, 0.9048519218651544\n"
     ]
    },
    {
     "name": "stderr",
     "output_type": "stream",
     "text": [
      "\u001b[32m[I 2023-05-15 05:18:18,259]\u001b[0m Trial 332 finished with value: 0.7886108714408974 and parameters: {'n_estimators': 121, 'criterion': 'entropy', 'max_depth': 46, 'min_samples_split': 12, 'min_samples_leaf': 11, 'max_features': None, 'bootstrap': False}. Best is trial 223 with value: 0.8806228373702423.\u001b[0m\n"
     ]
    },
    {
     "name": "stdout",
     "output_type": "stream",
     "text": [
      "0.7886108714408974, 0.8456206679269062\n"
     ]
    },
    {
     "name": "stderr",
     "output_type": "stream",
     "text": [
      "\u001b[32m[I 2023-05-15 05:18:41,830]\u001b[0m Trial 333 finished with value: 0.8467532467532468 and parameters: {'n_estimators': 131, 'criterion': 'entropy', 'max_depth': 17, 'min_samples_split': 17, 'min_samples_leaf': 3, 'max_features': 'sqrt', 'bootstrap': False}. Best is trial 223 with value: 0.8806228373702423.\u001b[0m\n"
     ]
    },
    {
     "name": "stdout",
     "output_type": "stream",
     "text": [
      "0.8467532467532468, 0.888468809073724\n"
     ]
    },
    {
     "name": "stderr",
     "output_type": "stream",
     "text": [
      "\u001b[32m[I 2023-05-15 05:18:59,758]\u001b[0m Trial 334 finished with value: 0.8046594982078852 and parameters: {'n_estimators': 149, 'criterion': 'gini', 'max_depth': 32, 'min_samples_split': 40, 'min_samples_leaf': 10, 'max_features': 'sqrt', 'bootstrap': False}. Best is trial 223 with value: 0.8806228373702423.\u001b[0m\n"
     ]
    },
    {
     "name": "stdout",
     "output_type": "stream",
     "text": [
      "0.8046594982078852, 0.8626339004410838\n"
     ]
    },
    {
     "name": "stderr",
     "output_type": "stream",
     "text": [
      "\u001b[32m[I 2023-05-15 05:19:36,605]\u001b[0m Trial 335 finished with value: 0.8626086956521739 and parameters: {'n_estimators': 221, 'criterion': 'entropy', 'max_depth': 28, 'min_samples_split': 2, 'min_samples_leaf': 6, 'max_features': 'sqrt', 'bootstrap': False}. Best is trial 223 with value: 0.8806228373702423.\u001b[0m\n"
     ]
    },
    {
     "name": "stdout",
     "output_type": "stream",
     "text": [
      "0.8626086956521739, 0.9004410838059231\n"
     ]
    },
    {
     "name": "stderr",
     "output_type": "stream",
     "text": [
      "\u001b[32m[I 2023-05-15 05:19:40,266]\u001b[0m Trial 336 finished with value: 0.7804428044280443 and parameters: {'n_estimators': 77, 'criterion': 'entropy', 'max_depth': 25, 'min_samples_split': 102, 'min_samples_leaf': 1, 'max_features': 'log2', 'bootstrap': False}. Best is trial 223 with value: 0.8806228373702423.\u001b[0m\n"
     ]
    },
    {
     "name": "stdout",
     "output_type": "stream",
     "text": [
      "0.7804428044280443, 0.8500315059861374\n"
     ]
    },
    {
     "name": "stderr",
     "output_type": "stream",
     "text": [
      "\u001b[32m[I 2023-05-15 05:19:58,302]\u001b[0m Trial 337 finished with value: 0.8013876843018214 and parameters: {'n_estimators': 174, 'criterion': 'gini', 'max_depth': 9, 'min_samples_split': 10, 'min_samples_leaf': 3, 'max_features': 'sqrt', 'bootstrap': False}. Best is trial 223 with value: 0.8806228373702423.\u001b[0m\n"
     ]
    },
    {
     "name": "stdout",
     "output_type": "stream",
     "text": [
      "0.8013876843018214, 0.8557025834908633\n"
     ]
    },
    {
     "name": "stderr",
     "output_type": "stream",
     "text": [
      "\u001b[32m[I 2023-05-15 05:20:15,672]\u001b[0m Trial 338 finished with value: 0.8154121863799283 and parameters: {'n_estimators': 104, 'criterion': 'entropy', 'max_depth': 35, 'min_samples_split': 60, 'min_samples_leaf': 4, 'max_features': 'sqrt', 'bootstrap': False}. Best is trial 223 with value: 0.8806228373702423.\u001b[0m\n"
     ]
    },
    {
     "name": "stdout",
     "output_type": "stream",
     "text": [
      "0.8154121863799283, 0.8701953371140516\n"
     ]
    },
    {
     "name": "stderr",
     "output_type": "stream",
     "text": [
      "\u001b[32m[I 2023-05-15 05:20:30,999]\u001b[0m Trial 339 finished with value: 0.7706093189964157 and parameters: {'n_estimators': 112, 'criterion': 'entropy', 'max_depth': 30, 'min_samples_split': 4, 'min_samples_leaf': 32, 'max_features': 'sqrt', 'bootstrap': False}. Best is trial 223 with value: 0.8806228373702423.\u001b[0m\n"
     ]
    },
    {
     "name": "stdout",
     "output_type": "stream",
     "text": [
      "0.7706093189964157, 0.8386893509766856\n"
     ]
    },
    {
     "name": "stderr",
     "output_type": "stream",
     "text": [
      "\u001b[32m[I 2023-05-15 05:20:41,395]\u001b[0m Trial 340 finished with value: 0.825 and parameters: {'n_estimators': 90, 'criterion': 'gini', 'max_depth': 39, 'min_samples_split': 7, 'min_samples_leaf': 12, 'max_features': 'sqrt', 'bootstrap': False}. Best is trial 223 with value: 0.8806228373702423.\u001b[0m\n"
     ]
    },
    {
     "name": "stdout",
     "output_type": "stream",
     "text": [
      "0.825, 0.8764965343415249\n"
     ]
    },
    {
     "name": "stderr",
     "output_type": "stream",
     "text": [
      "\u001b[32m[I 2023-05-15 05:21:05,047]\u001b[0m Trial 341 finished with value: 0.8625756266205704 and parameters: {'n_estimators': 143, 'criterion': 'entropy', 'max_depth': 47, 'min_samples_split': 6, 'min_samples_leaf': 1, 'max_features': 'sqrt', 'bootstrap': False}. Best is trial 223 with value: 0.8806228373702423.\u001b[0m\n"
     ]
    },
    {
     "name": "stdout",
     "output_type": "stream",
     "text": [
      "0.8625756266205704, 0.8998109640831758\n"
     ]
    },
    {
     "name": "stderr",
     "output_type": "stream",
     "text": [
      "\u001b[32m[I 2023-05-15 05:21:17,545]\u001b[0m Trial 342 finished with value: 0.7631103074141048 and parameters: {'n_estimators': 99, 'criterion': 'entropy', 'max_depth': 43, 'min_samples_split': 9, 'min_samples_leaf': 33, 'max_features': 'sqrt', 'bootstrap': False}. Best is trial 223 with value: 0.8806228373702423.\u001b[0m\n"
     ]
    },
    {
     "name": "stdout",
     "output_type": "stream",
     "text": [
      "0.7631103074141048, 0.8349086326402017\n"
     ]
    },
    {
     "name": "stderr",
     "output_type": "stream",
     "text": [
      "\u001b[32m[I 2023-05-15 05:21:27,002]\u001b[0m Trial 343 finished with value: 0.7384898710865562 and parameters: {'n_estimators': 83, 'criterion': 'log_loss', 'max_depth': 33, 'min_samples_split': 15, 'min_samples_leaf': 50, 'max_features': 'sqrt', 'bootstrap': False}. Best is trial 223 with value: 0.8806228373702423.\u001b[0m\n"
     ]
    },
    {
     "name": "stdout",
     "output_type": "stream",
     "text": [
      "0.7384898710865562, 0.8210459987397606\n"
     ]
    },
    {
     "name": "stderr",
     "output_type": "stream",
     "text": [
      "\u001b[32m[I 2023-05-15 05:21:38,902]\u001b[0m Trial 344 finished with value: 0.7766816143497758 and parameters: {'n_estimators': 119, 'criterion': 'gini', 'max_depth': 13, 'min_samples_split': 3, 'min_samples_leaf': 29, 'max_features': 'sqrt', 'bootstrap': False}. Best is trial 223 with value: 0.8806228373702423.\u001b[0m\n"
     ]
    },
    {
     "name": "stdout",
     "output_type": "stream",
     "text": [
      "0.7766816143497758, 0.8431001890359168\n"
     ]
    },
    {
     "name": "stderr",
     "output_type": "stream",
     "text": [
      "\u001b[32m[I 2023-05-15 05:21:56,836]\u001b[0m Trial 345 finished with value: 0.7867383512544803 and parameters: {'n_estimators': 134, 'criterion': 'entropy', 'max_depth': 50, 'min_samples_split': 2, 'min_samples_leaf': 27, 'max_features': 'sqrt', 'bootstrap': False}. Best is trial 223 with value: 0.8806228373702423.\u001b[0m\n"
     ]
    },
    {
     "name": "stdout",
     "output_type": "stream",
     "text": [
      "0.7867383512544803, 0.8500315059861374\n"
     ]
    },
    {
     "name": "stderr",
     "output_type": "stream",
     "text": [
      "\u001b[32m[I 2023-05-15 05:22:09,760]\u001b[0m Trial 346 finished with value: 0.7386888273314866 and parameters: {'n_estimators': 107, 'criterion': 'entropy', 'max_depth': 31, 'min_samples_split': 23, 'min_samples_leaf': 47, 'max_features': 'sqrt', 'bootstrap': False}. Best is trial 223 with value: 0.8806228373702423.\u001b[0m\n"
     ]
    },
    {
     "name": "stdout",
     "output_type": "stream",
     "text": [
      "0.7386888273314866, 0.8216761184625079\n"
     ]
    },
    {
     "name": "stderr",
     "output_type": "stream",
     "text": [
      "\u001b[32m[I 2023-05-15 05:22:16,086]\u001b[0m Trial 347 finished with value: 0.7142857142857142 and parameters: {'n_estimators': 71, 'criterion': 'entropy', 'max_depth': 6, 'min_samples_split': 8, 'min_samples_leaf': 20, 'max_features': 'sqrt', 'bootstrap': False}. Best is trial 223 with value: 0.8806228373702423.\u001b[0m\n"
     ]
    },
    {
     "name": "stdout",
     "output_type": "stream",
     "text": [
      "0.7142857142857142, 0.798361688720857\n"
     ]
    },
    {
     "name": "stderr",
     "output_type": "stream",
     "text": [
      "\u001b[32m[I 2023-05-15 05:22:31,836]\u001b[0m Trial 348 finished with value: 0.8366812227074235 and parameters: {'n_estimators': 124, 'criterion': 'gini', 'max_depth': 20, 'min_samples_split': 28, 'min_samples_leaf': 1, 'max_features': 'sqrt', 'bootstrap': False}. Best is trial 223 with value: 0.8806228373702423.\u001b[0m\n"
     ]
    },
    {
     "name": "stdout",
     "output_type": "stream",
     "text": [
      "0.8366812227074235, 0.8821676118462508\n"
     ]
    },
    {
     "name": "stderr",
     "output_type": "stream",
     "text": [
      "\u001b[32m[I 2023-05-15 05:22:53,380]\u001b[0m Trial 349 finished with value: 0.7550274223034734 and parameters: {'n_estimators': 180, 'criterion': 'entropy', 'max_depth': 41, 'min_samples_split': 11, 'min_samples_leaf': 36, 'max_features': 'sqrt', 'bootstrap': False}. Best is trial 223 with value: 0.8806228373702423.\u001b[0m\n"
     ]
    },
    {
     "name": "stdout",
     "output_type": "stream",
     "text": [
      "0.7550274223034734, 0.8311279143037177\n"
     ]
    },
    {
     "name": "stderr",
     "output_type": "stream",
     "text": [
      "\u001b[32m[I 2023-05-15 05:23:03,362]\u001b[0m Trial 350 finished with value: 0.8683522231909329 and parameters: {'n_estimators': 60, 'criterion': 'entropy', 'max_depth': 34, 'min_samples_split': 5, 'min_samples_leaf': 1, 'max_features': 'sqrt', 'bootstrap': False}. Best is trial 223 with value: 0.8806228373702423.\u001b[0m\n"
     ]
    },
    {
     "name": "stdout",
     "output_type": "stream",
     "text": [
      "0.8683522231909329, 0.9048519218651544\n"
     ]
    },
    {
     "name": "stderr",
     "output_type": "stream",
     "text": [
      "\u001b[32m[I 2023-05-15 05:23:28,114]\u001b[0m Trial 351 finished with value: 0.8672413793103448 and parameters: {'n_estimators': 206, 'criterion': 'gini', 'max_depth': 19, 'min_samples_split': 4, 'min_samples_leaf': 1, 'max_features': 'sqrt', 'bootstrap': False}. Best is trial 223 with value: 0.8806228373702423.\u001b[0m\n"
     ]
    },
    {
     "name": "stdout",
     "output_type": "stream",
     "text": [
      "0.8672413793103448, 0.9029615626969124\n"
     ]
    },
    {
     "name": "stderr",
     "output_type": "stream",
     "text": [
      "\u001b[32m[I 2023-05-15 05:23:42,275]\u001b[0m Trial 352 finished with value: 0.8463519313304723 and parameters: {'n_estimators': 96, 'criterion': 'entropy', 'max_depth': 16, 'min_samples_split': 19, 'min_samples_leaf': 2, 'max_features': 'sqrt', 'bootstrap': False}. Best is trial 223 with value: 0.8806228373702423.\u001b[0m\n"
     ]
    },
    {
     "name": "stdout",
     "output_type": "stream",
     "text": [
      "0.8463519313304723, 0.8872085696282294\n"
     ]
    },
    {
     "name": "stderr",
     "output_type": "stream",
     "text": [
      "\u001b[32m[I 2023-05-15 05:24:00,209]\u001b[0m Trial 353 finished with value: 0.8229074889867841 and parameters: {'n_estimators': 115, 'criterion': 'entropy', 'max_depth': 28, 'min_samples_split': 46, 'min_samples_leaf': 1, 'max_features': 'sqrt', 'bootstrap': False}. Best is trial 223 with value: 0.8806228373702423.\u001b[0m\n"
     ]
    },
    {
     "name": "stdout",
     "output_type": "stream",
     "text": [
      "0.8229074889867841, 0.8733459357277883\n"
     ]
    },
    {
     "name": "stderr",
     "output_type": "stream",
     "text": [
      "\u001b[32m[I 2023-05-15 05:31:15,532]\u001b[0m Trial 354 finished with value: 0.7228464419475656 and parameters: {'n_estimators': 139, 'criterion': 'gini', 'max_depth': 32, 'min_samples_split': 200, 'min_samples_leaf': 8, 'max_features': None, 'bootstrap': False}. Best is trial 223 with value: 0.8806228373702423.\u001b[0m\n"
     ]
    },
    {
     "name": "stdout",
     "output_type": "stream",
     "text": [
      "0.7228464419475656, 0.8134845620667926\n"
     ]
    },
    {
     "name": "stderr",
     "output_type": "stream",
     "text": [
      "\u001b[32m[I 2023-05-15 05:31:31,937]\u001b[0m Trial 355 finished with value: 0.8633975481611208 and parameters: {'n_estimators': 104, 'criterion': 'entropy', 'max_depth': 37, 'min_samples_split': 9, 'min_samples_leaf': 5, 'max_features': 'sqrt', 'bootstrap': False}. Best is trial 223 with value: 0.8806228373702423.\u001b[0m\n"
     ]
    },
    {
     "name": "stdout",
     "output_type": "stream",
     "text": [
      "0.8633975481611208, 0.9017013232514177\n"
     ]
    },
    {
     "name": "stderr",
     "output_type": "stream",
     "text": [
      "\u001b[32m[I 2023-05-15 05:32:09,263]\u001b[0m Trial 356 finished with value: 0.7856502242152466 and parameters: {'n_estimators': 291, 'criterion': 'entropy', 'max_depth': 48, 'min_samples_split': 2, 'min_samples_leaf': 28, 'max_features': 'sqrt', 'bootstrap': False}. Best is trial 223 with value: 0.8806228373702423.\u001b[0m\n"
     ]
    },
    {
     "name": "stdout",
     "output_type": "stream",
     "text": [
      "0.7856502242152466, 0.84940138626339\n"
     ]
    },
    {
     "name": "stderr",
     "output_type": "stream",
     "text": [
      "\u001b[32m[I 2023-05-15 05:32:28,770]\u001b[0m Trial 357 finished with value: 0.6462395543175486 and parameters: {'n_estimators': 255, 'criterion': 'entropy', 'max_depth': 44, 'min_samples_split': 25, 'min_samples_leaf': 193, 'max_features': 'sqrt', 'bootstrap': False}. Best is trial 223 with value: 0.8806228373702423.\u001b[0m\n"
     ]
    },
    {
     "name": "stdout",
     "output_type": "stream",
     "text": [
      "0.6462395543175486, 0.7599243856332704\n"
     ]
    },
    {
     "name": "stderr",
     "output_type": "stream",
     "text": [
      "\u001b[32m[I 2023-05-15 05:32:34,431]\u001b[0m Trial 358 finished with value: 0.7630375114364135 and parameters: {'n_estimators': 191, 'criterion': 'gini', 'max_depth': 30, 'min_samples_split': 14, 'min_samples_leaf': 31, 'max_features': 'log2', 'bootstrap': False}. Best is trial 223 with value: 0.8806228373702423.\u001b[0m\n"
     ]
    },
    {
     "name": "stdout",
     "output_type": "stream",
     "text": [
      "0.7630375114364135, 0.8367989918084436\n"
     ]
    },
    {
     "name": "stderr",
     "output_type": "stream",
     "text": [
      "\u001b[32m[I 2023-05-15 05:32:57,656]\u001b[0m Trial 359 finished with value: 0.8516579406631763 and parameters: {'n_estimators': 157, 'criterion': 'entropy', 'max_depth': 27, 'min_samples_split': 7, 'min_samples_leaf': 7, 'max_features': 'sqrt', 'bootstrap': False}. Best is trial 223 with value: 0.8806228373702423.\u001b[0m\n"
     ]
    },
    {
     "name": "stdout",
     "output_type": "stream",
     "text": [
      "0.8516579406631763, 0.8928796471329553\n"
     ]
    },
    {
     "name": "stderr",
     "output_type": "stream",
     "text": [
      "\u001b[32m[I 2023-05-15 05:33:17,048]\u001b[0m Trial 360 finished with value: 0.8715277777777778 and parameters: {'n_estimators': 127, 'criterion': 'entropy', 'max_depth': 35, 'min_samples_split': 6, 'min_samples_leaf': 3, 'max_features': 'sqrt', 'bootstrap': False}. Best is trial 223 with value: 0.8806228373702423.\u001b[0m\n"
     ]
    },
    {
     "name": "stdout",
     "output_type": "stream",
     "text": [
      "0.8715277777777778, 0.9067422810333964\n"
     ]
    },
    {
     "name": "stderr",
     "output_type": "stream",
     "text": [
      "\u001b[32m[I 2023-05-15 05:33:41,629]\u001b[0m Trial 361 finished with value: 0.6527909176915798 and parameters: {'n_estimators': 355, 'criterion': 'gini', 'max_depth': 31, 'min_samples_split': 3, 'min_samples_leaf': 120, 'max_features': 'sqrt', 'bootstrap': False}. Best is trial 223 with value: 0.8806228373702423.\u001b[0m\n"
     ]
    },
    {
     "name": "stdout",
     "output_type": "stream",
     "text": [
      "0.6527909176915798, 0.7687460617517329\n"
     ]
    },
    {
     "name": "stderr",
     "output_type": "stream",
     "text": [
      "\u001b[32m[I 2023-05-15 05:33:53,459]\u001b[0m Trial 362 finished with value: 0.8209219858156028 and parameters: {'n_estimators': 87, 'criterion': 'entropy', 'max_depth': 46, 'min_samples_split': 4, 'min_samples_leaf': 15, 'max_features': 'sqrt', 'bootstrap': False}. Best is trial 223 with value: 0.8806228373702423.\u001b[0m\n"
     ]
    },
    {
     "name": "stdout",
     "output_type": "stream",
     "text": [
      "0.8209219858156028, 0.872715816005041\n"
     ]
    },
    {
     "name": "stderr",
     "output_type": "stream",
     "text": [
      "\u001b[32m[I 2023-05-15 05:34:05,717]\u001b[0m Trial 363 finished with value: 0.7199265381083564 and parameters: {'n_estimators': 113, 'criterion': 'entropy', 'max_depth': 29, 'min_samples_split': 12, 'min_samples_leaf': 65, 'max_features': 'sqrt', 'bootstrap': False}. Best is trial 223 with value: 0.8806228373702423.\u001b[0m\n"
     ]
    },
    {
     "name": "stdout",
     "output_type": "stream",
     "text": [
      "0.7199265381083564, 0.8078134845620668\n"
     ]
    },
    {
     "name": "stderr",
     "output_type": "stream",
     "text": [
      "\u001b[32m[I 2023-05-15 05:34:14,634]\u001b[0m Trial 364 finished with value: 0.8348134991119006 and parameters: {'n_estimators': 79, 'criterion': 'gini', 'max_depth': 33, 'min_samples_split': 2, 'min_samples_leaf': 8, 'max_features': 'sqrt', 'bootstrap': False}. Best is trial 223 with value: 0.8806228373702423.\u001b[0m\n"
     ]
    },
    {
     "name": "stdout",
     "output_type": "stream",
     "text": [
      "0.8348134991119006, 0.8827977315689981\n"
     ]
    },
    {
     "name": "stderr",
     "output_type": "stream",
     "text": [
      "\u001b[32m[I 2023-05-15 05:34:27,678]\u001b[0m Trial 365 finished with value: 0.7686768676867688 and parameters: {'n_estimators': 99, 'criterion': 'entropy', 'max_depth': 38, 'min_samples_split': 141, 'min_samples_leaf': 6, 'max_features': 'sqrt', 'bootstrap': False}. Best is trial 223 with value: 0.8806228373702423.\u001b[0m\n"
     ]
    },
    {
     "name": "stdout",
     "output_type": "stream",
     "text": [
      "0.7686768676867688, 0.8380592312539382\n"
     ]
    },
    {
     "name": "stderr",
     "output_type": "stream",
     "text": [
      "\u001b[32m[I 2023-05-15 05:34:44,965]\u001b[0m Trial 366 finished with value: 0.8556611927398444 and parameters: {'n_estimators': 119, 'criterion': 'log_loss', 'max_depth': 15, 'min_samples_split': 5, 'min_samples_leaf': 1, 'max_features': 'sqrt', 'bootstrap': False}. Best is trial 223 with value: 0.8806228373702423.\u001b[0m\n"
     ]
    },
    {
     "name": "stdout",
     "output_type": "stream",
     "text": [
      "0.8556611927398444, 0.8947700063011972\n"
     ]
    },
    {
     "name": "stderr",
     "output_type": "stream",
     "text": [
      "\u001b[32m[I 2023-05-15 05:35:32,391]\u001b[0m Trial 367 finished with value: 0.8645833333333333 and parameters: {'n_estimators': 505, 'criterion': 'entropy', 'max_depth': 35, 'min_samples_split': 8, 'min_samples_leaf': 1, 'max_features': 'sqrt', 'bootstrap': True}. Best is trial 223 with value: 0.8806228373702423.\u001b[0m\n"
     ]
    },
    {
     "name": "stdout",
     "output_type": "stream",
     "text": [
      "0.8645833333333333, 0.9017013232514177\n"
     ]
    },
    {
     "name": "stderr",
     "output_type": "stream",
     "text": [
      "\u001b[32m[I 2023-05-15 05:36:35,408]\u001b[0m Trial 368 finished with value: 0.8662640207075065 and parameters: {'n_estimators': 382, 'criterion': 'entropy', 'max_depth': 26, 'min_samples_split': 10, 'min_samples_leaf': 2, 'max_features': 'sqrt', 'bootstrap': False}. Best is trial 223 with value: 0.8806228373702423.\u001b[0m\n"
     ]
    },
    {
     "name": "stdout",
     "output_type": "stream",
     "text": [
      "0.8662640207075065, 0.9023314429741651\n"
     ]
    },
    {
     "name": "stderr",
     "output_type": "stream",
     "text": [
      "\u001b[32m[I 2023-05-15 05:37:19,854]\u001b[0m Trial 369 finished with value: 0.8719723183391004 and parameters: {'n_estimators': 330, 'criterion': 'gini', 'max_depth': 30, 'min_samples_split': 2, 'min_samples_leaf': 1, 'max_features': 'sqrt', 'bootstrap': False}. Best is trial 223 with value: 0.8806228373702423.\u001b[0m\n"
     ]
    },
    {
     "name": "stdout",
     "output_type": "stream",
     "text": [
      "0.8719723183391004, 0.9067422810333964\n"
     ]
    },
    {
     "name": "stderr",
     "output_type": "stream",
     "text": [
      "\u001b[32m[I 2023-05-15 05:37:42,272]\u001b[0m Trial 370 finished with value: 0.8737024221453288 and parameters: {'n_estimators': 132, 'criterion': 'entropy', 'max_depth': 28, 'min_samples_split': 7, 'min_samples_leaf': 1, 'max_features': 'sqrt', 'bootstrap': False}. Best is trial 223 with value: 0.8806228373702423.\u001b[0m\n"
     ]
    },
    {
     "name": "stdout",
     "output_type": "stream",
     "text": [
      "0.8737024221453288, 0.908002520478891\n"
     ]
    },
    {
     "name": "stderr",
     "output_type": "stream",
     "text": [
      "\u001b[32m[I 2023-05-15 05:37:57,266]\u001b[0m Trial 371 finished with value: 0.8605851979345954 and parameters: {'n_estimators': 93, 'criterion': 'entropy', 'max_depth': 21, 'min_samples_split': 11, 'min_samples_leaf': 4, 'max_features': 'sqrt', 'bootstrap': False}. Best is trial 223 with value: 0.8806228373702423.\u001b[0m\n"
     ]
    },
    {
     "name": "stdout",
     "output_type": "stream",
     "text": [
      "0.8605851979345954, 0.8979206049149339\n"
     ]
    },
    {
     "name": "stderr",
     "output_type": "stream",
     "text": [
      "\u001b[32m[I 2023-05-15 05:38:14,383]\u001b[0m Trial 372 finished with value: 0.8025247971145176 and parameters: {'n_estimators': 147, 'criterion': 'gini', 'max_depth': 24, 'min_samples_split': 51, 'min_samples_leaf': 3, 'max_features': 'sqrt', 'bootstrap': False}. Best is trial 223 with value: 0.8806228373702423.\u001b[0m\n"
     ]
    },
    {
     "name": "stdout",
     "output_type": "stream",
     "text": [
      "0.8025247971145176, 0.8620037807183365\n"
     ]
    },
    {
     "name": "stderr",
     "output_type": "stream",
     "text": [
      "\u001b[32m[I 2023-05-15 05:38:23,936]\u001b[0m Trial 373 finished with value: 0.8135593220338982 and parameters: {'n_estimators': 74, 'criterion': 'entropy', 'max_depth': 48, 'min_samples_split': 3, 'min_samples_leaf': 18, 'max_features': 'sqrt', 'bootstrap': False}. Best is trial 223 with value: 0.8806228373702423.\u001b[0m\n"
     ]
    },
    {
     "name": "stdout",
     "output_type": "stream",
     "text": [
      "0.8135593220338982, 0.8683049779458097\n"
     ]
    },
    {
     "name": "stderr",
     "output_type": "stream",
     "text": [
      "\u001b[32m[I 2023-05-15 05:38:33,963]\u001b[0m Trial 374 finished with value: 0.8731665228645384 and parameters: {'n_estimators': 66, 'criterion': 'entropy', 'max_depth': 32, 'min_samples_split': 9, 'min_samples_leaf': 1, 'max_features': 'sqrt', 'bootstrap': False}. Best is trial 223 with value: 0.8806228373702423.\u001b[0m\n"
     ]
    },
    {
     "name": "stdout",
     "output_type": "stream",
     "text": [
      "0.8731665228645384, 0.9073724007561437\n"
     ]
    },
    {
     "name": "stderr",
     "output_type": "stream",
     "text": [
      "\u001b[32m[I 2023-05-15 05:38:46,786]\u001b[0m Trial 375 finished with value: 0.8581436077057794 and parameters: {'n_estimators': 108, 'criterion': 'gini', 'max_depth': 42, 'min_samples_split': 6, 'min_samples_leaf': 4, 'max_features': 'sqrt', 'bootstrap': False}. Best is trial 223 with value: 0.8806228373702423.\u001b[0m\n"
     ]
    },
    {
     "name": "stdout",
     "output_type": "stream",
     "text": [
      "0.8581436077057794, 0.8979206049149339\n"
     ]
    },
    {
     "name": "stderr",
     "output_type": "stream",
     "text": [
      "\u001b[32m[I 2023-05-15 05:39:05,270]\u001b[0m Trial 376 finished with value: 0.8620689655172414 and parameters: {'n_estimators': 121, 'criterion': 'entropy', 'max_depth': 31, 'min_samples_split': 18, 'min_samples_leaf': 2, 'max_features': 'sqrt', 'bootstrap': False}. Best is trial 223 with value: 0.8806228373702423.\u001b[0m\n"
     ]
    },
    {
     "name": "stdout",
     "output_type": "stream",
     "text": [
      "0.8620689655172414, 0.8991808443604284\n"
     ]
    },
    {
     "name": "stderr",
     "output_type": "stream",
     "text": [
      "\u001b[32m[I 2023-05-15 05:53:28,070]\u001b[0m Trial 377 finished with value: 0.8281642917015924 and parameters: {'n_estimators': 165, 'criterion': 'entropy', 'max_depth': 45, 'min_samples_split': 4, 'min_samples_leaf': 1, 'max_features': None, 'bootstrap': False}. Best is trial 223 with value: 0.8806228373702423.\u001b[0m\n"
     ]
    },
    {
     "name": "stdout",
     "output_type": "stream",
     "text": [
      "0.8281642917015924, 0.870825456836799\n"
     ]
    },
    {
     "name": "stderr",
     "output_type": "stream",
     "text": [
      "\u001b[32m[I 2023-05-15 05:53:30,858]\u001b[0m Trial 378 finished with value: 0.6363636363636365 and parameters: {'n_estimators': 84, 'criterion': 'gini', 'max_depth': 40, 'min_samples_split': 5, 'min_samples_leaf': 154, 'max_features': 'sqrt', 'bootstrap': True}. Best is trial 223 with value: 0.8806228373702423.\u001b[0m\n"
     ]
    },
    {
     "name": "stdout",
     "output_type": "stream",
     "text": [
      "0.6363636363636365, 0.7630749842470069\n"
     ]
    },
    {
     "name": "stderr",
     "output_type": "stream",
     "text": [
      "\u001b[32m[I 2023-05-15 05:54:01,320]\u001b[0m Trial 379 finished with value: 0.8506151142355008 and parameters: {'n_estimators': 201, 'criterion': 'entropy', 'max_depth': 33, 'min_samples_split': 16, 'min_samples_leaf': 5, 'max_features': 'sqrt', 'bootstrap': False}. Best is trial 223 with value: 0.8806228373702423.\u001b[0m\n"
     ]
    },
    {
     "name": "stdout",
     "output_type": "stream",
     "text": [
      "0.8506151142355008, 0.8928796471329553\n"
     ]
    },
    {
     "name": "stderr",
     "output_type": "stream",
     "text": [
      "\u001b[32m[I 2023-05-15 05:54:06,062]\u001b[0m Trial 380 finished with value: 0.8284444444444444 and parameters: {'n_estimators': 104, 'criterion': 'entropy', 'max_depth': 29, 'min_samples_split': 36, 'min_samples_leaf': 3, 'max_features': 'log2', 'bootstrap': False}. Best is trial 223 with value: 0.8806228373702423.\u001b[0m\n"
     ]
    },
    {
     "name": "stdout",
     "output_type": "stream",
     "text": [
      "0.8284444444444444, 0.8783868935097668\n"
     ]
    },
    {
     "name": "stderr",
     "output_type": "stream",
     "text": [
      "\u001b[32m[I 2023-05-15 05:54:15,555]\u001b[0m Trial 381 finished with value: 0.8666666666666668 and parameters: {'n_estimators': 61, 'criterion': 'entropy', 'max_depth': 50, 'min_samples_split': 8, 'min_samples_leaf': 1, 'max_features': 'sqrt', 'bootstrap': False}. Best is trial 223 with value: 0.8806228373702423.\u001b[0m\n"
     ]
    },
    {
     "name": "stdout",
     "output_type": "stream",
     "text": [
      "0.8666666666666668, 0.9042218021424071\n"
     ]
    },
    {
     "name": "stderr",
     "output_type": "stream",
     "text": [
      "\u001b[32m[I 2023-05-15 05:54:45,364]\u001b[0m Trial 382 finished with value: 0.8038360941586749 and parameters: {'n_estimators': 307, 'criterion': 'gini', 'max_depth': 11, 'min_samples_split': 7, 'min_samples_leaf': 12, 'max_features': 'sqrt', 'bootstrap': False}. Best is trial 223 with value: 0.8806228373702423.\u001b[0m\n"
     ]
    },
    {
     "name": "stdout",
     "output_type": "stream",
     "text": [
      "0.8038360941586749, 0.8582230623818525\n"
     ]
    },
    {
     "name": "stderr",
     "output_type": "stream",
     "text": [
      "\u001b[32m[I 2023-05-15 05:55:07,600]\u001b[0m Trial 383 finished with value: 0.7235996326905416 and parameters: {'n_estimators': 221, 'criterion': 'entropy', 'max_depth': 25, 'min_samples_split': 20, 'min_samples_leaf': 67, 'max_features': 'sqrt', 'bootstrap': False}. Best is trial 223 with value: 0.8806228373702423.\u001b[0m\n"
     ]
    },
    {
     "name": "stdout",
     "output_type": "stream",
     "text": [
      "0.7235996326905416, 0.8103339634530561\n"
     ]
    },
    {
     "name": "stderr",
     "output_type": "stream",
     "text": [
      "\u001b[32m[I 2023-05-15 05:55:27,656]\u001b[0m Trial 384 finished with value: 0.8471001757469244 and parameters: {'n_estimators': 132, 'criterion': 'entropy', 'max_depth': 34, 'min_samples_split': 30, 'min_samples_leaf': 1, 'max_features': 'sqrt', 'bootstrap': False}. Best is trial 223 with value: 0.8806228373702423.\u001b[0m\n"
     ]
    },
    {
     "name": "stdout",
     "output_type": "stream",
     "text": [
      "0.8471001757469244, 0.8903591682419659\n"
     ]
    },
    {
     "name": "stderr",
     "output_type": "stream",
     "text": [
      "\u001b[32m[I 2023-05-15 05:55:36,682]\u001b[0m Trial 385 finished with value: 0.765409383624655 and parameters: {'n_estimators': 90, 'criterion': 'gini', 'max_depth': 36, 'min_samples_split': 116, 'min_samples_leaf': 9, 'max_features': 'sqrt', 'bootstrap': False}. Best is trial 223 with value: 0.8806228373702423.\u001b[0m\n"
     ]
    },
    {
     "name": "stdout",
     "output_type": "stream",
     "text": [
      "0.765409383624655, 0.8393194706994329\n"
     ]
    },
    {
     "name": "stderr",
     "output_type": "stream",
     "text": [
      "\u001b[32m[I 2023-05-15 05:55:50,609]\u001b[0m Trial 386 finished with value: 0.7935368043087971 and parameters: {'n_estimators': 112, 'criterion': 'entropy', 'max_depth': 38, 'min_samples_split': 3, 'min_samples_leaf': 24, 'max_features': 'sqrt', 'bootstrap': False}. Best is trial 223 with value: 0.8806228373702423.\u001b[0m\n"
     ]
    },
    {
     "name": "stdout",
     "output_type": "stream",
     "text": [
      "0.7935368043087971, 0.855072463768116\n"
     ]
    },
    {
     "name": "stderr",
     "output_type": "stream",
     "text": [
      "\u001b[32m[I 2023-05-15 05:56:04,991]\u001b[0m Trial 387 finished with value: 0.8601216333622937 and parameters: {'n_estimators': 98, 'criterion': 'entropy', 'max_depth': 44, 'min_samples_split': 6, 'min_samples_leaf': 6, 'max_features': 'sqrt', 'bootstrap': False}. Best is trial 223 with value: 0.8806228373702423.\u001b[0m\n"
     ]
    },
    {
     "name": "stdout",
     "output_type": "stream",
     "text": [
      "0.8601216333622937, 0.8985507246376812\n"
     ]
    },
    {
     "name": "stderr",
     "output_type": "stream",
     "text": [
      "\u001b[32m[I 2023-05-15 05:56:26,333]\u001b[0m Trial 388 finished with value: 0.8519163763066202 and parameters: {'n_estimators': 146, 'criterion': 'log_loss', 'max_depth': 27, 'min_samples_split': 2, 'min_samples_leaf': 7, 'max_features': 'sqrt', 'bootstrap': False}. Best is trial 223 with value: 0.8806228373702423.\u001b[0m\n"
     ]
    },
    {
     "name": "stdout",
     "output_type": "stream",
     "text": [
      "0.8519163763066202, 0.8928796471329553\n"
     ]
    },
    {
     "name": "stderr",
     "output_type": "stream",
     "text": [
      "\u001b[32m[I 2023-05-15 05:56:34,938]\u001b[0m Trial 389 finished with value: 0.8618881118881119 and parameters: {'n_estimators': 125, 'criterion': 'gini', 'max_depth': 31, 'min_samples_split': 9, 'min_samples_leaf': 1, 'max_features': 'sqrt', 'bootstrap': True}. Best is trial 223 with value: 0.8806228373702423.\u001b[0m\n"
     ]
    },
    {
     "name": "stdout",
     "output_type": "stream",
     "text": [
      "0.8618881118881119, 0.9004410838059231\n"
     ]
    },
    {
     "name": "stderr",
     "output_type": "stream",
     "text": [
      "\u001b[32m[I 2023-05-15 05:56:58,845]\u001b[0m Trial 390 finished with value: 0.8089686098654708 and parameters: {'n_estimators': 180, 'criterion': 'entropy', 'max_depth': 48, 'min_samples_split': 3, 'min_samples_leaf': 20, 'max_features': 'sqrt', 'bootstrap': False}. Best is trial 223 with value: 0.8806228373702423.\u001b[0m\n"
     ]
    },
    {
     "name": "stdout",
     "output_type": "stream",
     "text": [
      "0.8089686098654708, 0.8657844990548205\n"
     ]
    },
    {
     "name": "stderr",
     "output_type": "stream",
     "text": [
      "\u001b[32m[I 2023-05-15 05:57:11,336]\u001b[0m Trial 391 finished with value: 0.7252747252747254 and parameters: {'n_estimators': 118, 'criterion': 'entropy', 'max_depth': 32, 'min_samples_split': 4, 'min_samples_leaf': 60, 'max_features': 'sqrt', 'bootstrap': False}. Best is trial 223 with value: 0.8806228373702423.\u001b[0m\n"
     ]
    },
    {
     "name": "stdout",
     "output_type": "stream",
     "text": [
      "0.7252747252747254, 0.8109640831758034\n"
     ]
    },
    {
     "name": "stderr",
     "output_type": "stream",
     "text": [
      "\u001b[32m[I 2023-05-15 05:57:29,137]\u001b[0m Trial 392 finished with value: 0.7949640287769785 and parameters: {'n_estimators': 138, 'criterion': 'entropy', 'max_depth': 30, 'min_samples_split': 25, 'min_samples_leaf': 23, 'max_features': 'sqrt', 'bootstrap': False}. Best is trial 223 with value: 0.8806228373702423.\u001b[0m\n"
     ]
    },
    {
     "name": "stdout",
     "output_type": "stream",
     "text": [
      "0.7949640287769785, 0.8563327032136105\n"
     ]
    },
    {
     "name": "stderr",
     "output_type": "stream",
     "text": [
      "\u001b[32m[I 2023-05-15 05:57:42,338]\u001b[0m Trial 393 finished with value: 0.8658536585365854 and parameters: {'n_estimators': 107, 'criterion': 'gini', 'max_depth': 35, 'min_samples_split': 5, 'min_samples_leaf': 3, 'max_features': 'sqrt', 'bootstrap': False}. Best is trial 223 with value: 0.8806228373702423.\u001b[0m\n"
     ]
    },
    {
     "name": "stdout",
     "output_type": "stream",
     "text": [
      "0.8658536585365854, 0.9029615626969124\n"
     ]
    },
    {
     "name": "stderr",
     "output_type": "stream",
     "text": [
      "\u001b[32m[I 2023-05-15 05:57:53,033]\u001b[0m Trial 394 finished with value: 0.8104222821203954 and parameters: {'n_estimators': 68, 'criterion': 'entropy', 'max_depth': 33, 'min_samples_split': 54, 'min_samples_leaf': 1, 'max_features': 'sqrt', 'bootstrap': False}. Best is trial 223 with value: 0.8806228373702423.\u001b[0m\n"
     ]
    },
    {
     "name": "stdout",
     "output_type": "stream",
     "text": [
      "0.8104222821203954, 0.867044738500315\n"
     ]
    },
    {
     "name": "stderr",
     "output_type": "stream",
     "text": [
      "\u001b[32m[I 2023-05-15 05:57:57,515]\u001b[0m Trial 395 finished with value: 0.6390197926484449 and parameters: {'n_estimators': 56, 'criterion': 'entropy', 'max_depth': 28, 'min_samples_split': 38, 'min_samples_leaf': 171, 'max_features': 'sqrt', 'bootstrap': False}. Best is trial 223 with value: 0.8806228373702423.\u001b[0m\n"
     ]
    },
    {
     "name": "stdout",
     "output_type": "stream",
     "text": [
      "0.6390197926484449, 0.7586641461877757\n"
     ]
    },
    {
     "name": "stderr",
     "output_type": "stream",
     "text": [
      "\u001b[32m[I 2023-05-15 05:58:28,221]\u001b[0m Trial 396 finished with value: 0.8303571428571429 and parameters: {'n_estimators': 266, 'criterion': 'gini', 'max_depth': 26, 'min_samples_split': 14, 'min_samples_leaf': 10, 'max_features': 'sqrt', 'bootstrap': False}. Best is trial 223 with value: 0.8806228373702423.\u001b[0m\n"
     ]
    },
    {
     "name": "stdout",
     "output_type": "stream",
     "text": [
      "0.8303571428571429, 0.8802772526780088\n"
     ]
    },
    {
     "name": "stderr",
     "output_type": "stream",
     "text": [
      "\u001b[32m[I 2023-05-15 05:58:40,066]\u001b[0m Trial 397 finished with value: 0.8669527896995709 and parameters: {'n_estimators': 79, 'criterion': 'entropy', 'max_depth': 18, 'min_samples_split': 2, 'min_samples_leaf': 1, 'max_features': 'sqrt', 'bootstrap': False}. Best is trial 223 with value: 0.8806228373702423.\u001b[0m\n"
     ]
    },
    {
     "name": "stdout",
     "output_type": "stream",
     "text": [
      "0.8669527896995709, 0.9023314429741651\n"
     ]
    },
    {
     "name": "stderr",
     "output_type": "stream",
     "text": [
      "\u001b[32m[I 2023-05-15 06:07:07,586]\u001b[0m Trial 398 finished with value: 0.7891986062717771 and parameters: {'n_estimators': 92, 'criterion': 'entropy', 'max_depth': 46, 'min_samples_split': 7, 'min_samples_leaf': 11, 'max_features': None, 'bootstrap': False}. Best is trial 223 with value: 0.8806228373702423.\u001b[0m\n"
     ]
    },
    {
     "name": "stdout",
     "output_type": "stream",
     "text": [
      "0.7891986062717771, 0.847511027095148\n"
     ]
    },
    {
     "name": "stderr",
     "output_type": "stream",
     "text": [
      "\u001b[32m[I 2023-05-15 06:09:01,568]\u001b[0m Trial 399 finished with value: 0.6477272727272727 and parameters: {'n_estimators': 1541, 'criterion': 'gini', 'max_depth': 36, 'min_samples_split': 10, 'min_samples_leaf': 129, 'max_features': 'sqrt', 'bootstrap': False}. Best is trial 223 with value: 0.8806228373702423.\u001b[0m\n"
     ]
    },
    {
     "name": "stdout",
     "output_type": "stream",
     "text": [
      "0.6477272727272727, 0.7655954631379962\n"
     ]
    },
    {
     "name": "stderr",
     "output_type": "stream",
     "text": [
      "\u001b[32m[I 2023-05-15 06:09:06,447]\u001b[0m Trial 400 finished with value: 0.6514719848053182 and parameters: {'n_estimators': 113, 'criterion': 'entropy', 'max_depth': 40, 'min_samples_split': 32, 'min_samples_leaf': 133, 'max_features': 'sqrt', 'bootstrap': True}. Best is trial 223 with value: 0.8806228373702423.\u001b[0m\n"
     ]
    },
    {
     "name": "stdout",
     "output_type": "stream",
     "text": [
      "0.6514719848053182, 0.7687460617517329\n"
     ]
    },
    {
     "name": "stderr",
     "output_type": "stream",
     "text": [
      "\u001b[32m[I 2023-05-15 06:09:21,393]\u001b[0m Trial 401 finished with value: 0.8481123792800702 and parameters: {'n_estimators': 101, 'criterion': 'entropy', 'max_depth': 50, 'min_samples_split': 8, 'min_samples_leaf': 9, 'max_features': 'sqrt', 'bootstrap': False}. Best is trial 223 with value: 0.8806228373702423.\u001b[0m\n"
     ]
    },
    {
     "name": "stdout",
     "output_type": "stream",
     "text": [
      "0.8481123792800702, 0.8909892879647133\n"
     ]
    },
    {
     "name": "stderr",
     "output_type": "stream",
     "text": [
      "\u001b[32m[I 2023-05-15 06:09:52,665]\u001b[0m Trial 402 finished with value: 0.8043087971274686 and parameters: {'n_estimators': 245, 'criterion': 'entropy', 'max_depth': 34, 'min_samples_split': 13, 'min_samples_leaf': 21, 'max_features': 'sqrt', 'bootstrap': False}. Best is trial 223 with value: 0.8806228373702423.\u001b[0m\n"
     ]
    },
    {
     "name": "stdout",
     "output_type": "stream",
     "text": [
      "0.8043087971274686, 0.8626339004410838\n"
     ]
    },
    {
     "name": "stderr",
     "output_type": "stream",
     "text": [
      "\u001b[32m[I 2023-05-15 06:10:29,904]\u001b[0m Trial 403 finished with value: 0.8340649692712906 and parameters: {'n_estimators': 1053, 'criterion': 'gini', 'max_depth': 17, 'min_samples_split': 21, 'min_samples_leaf': 2, 'max_features': 'log2', 'bootstrap': False}. Best is trial 223 with value: 0.8806228373702423.\u001b[0m\n"
     ]
    },
    {
     "name": "stdout",
     "output_type": "stream",
     "text": [
      "0.8340649692712906, 0.8809073724007561\n"
     ]
    },
    {
     "name": "stderr",
     "output_type": "stream",
     "text": [
      "\u001b[32m[I 2023-05-15 06:10:53,858]\u001b[0m Trial 404 finished with value: 0.864027538726334 and parameters: {'n_estimators': 155, 'criterion': 'entropy', 'max_depth': 23, 'min_samples_split': 2, 'min_samples_leaf': 4, 'max_features': 'sqrt', 'bootstrap': False}. Best is trial 223 with value: 0.8806228373702423.\u001b[0m\n"
     ]
    },
    {
     "name": "stdout",
     "output_type": "stream",
     "text": [
      "0.864027538726334, 0.9004410838059231\n"
     ]
    },
    {
     "name": "stderr",
     "output_type": "stream",
     "text": [
      "\u001b[32m[I 2023-05-15 06:11:13,484]\u001b[0m Trial 405 finished with value: 0.8551483420593368 and parameters: {'n_estimators': 126, 'criterion': 'entropy', 'max_depth': 29, 'min_samples_split': 6, 'min_samples_leaf': 5, 'max_features': 'sqrt', 'bootstrap': False}. Best is trial 223 with value: 0.8806228373702423.\u001b[0m\n"
     ]
    },
    {
     "name": "stdout",
     "output_type": "stream",
     "text": [
      "0.8551483420593368, 0.8954001260239446\n"
     ]
    },
    {
     "name": "stderr",
     "output_type": "stream",
     "text": [
      "\u001b[32m[I 2023-05-15 06:11:20,841]\u001b[0m Trial 406 finished with value: 0.7314390467461044 and parameters: {'n_estimators': 85, 'criterion': 'gini', 'max_depth': 42, 'min_samples_split': 4, 'min_samples_leaf': 57, 'max_features': 'sqrt', 'bootstrap': False}. Best is trial 223 with value: 0.8806228373702423.\u001b[0m\n"
     ]
    },
    {
     "name": "stdout",
     "output_type": "stream",
     "text": [
      "0.7314390467461044, 0.8153749212350346\n"
     ]
    },
    {
     "name": "stderr",
     "output_type": "stream",
     "text": [
      "\u001b[32m[I 2023-05-15 06:11:27,267]\u001b[0m Trial 407 finished with value: 0.7079964061096137 and parameters: {'n_estimators': 71, 'criterion': 'entropy', 'max_depth': 31, 'min_samples_split': 12, 'min_samples_leaf': 102, 'max_features': 'sqrt', 'bootstrap': False}. Best is trial 223 with value: 0.8806228373702423.\u001b[0m\n"
     ]
    },
    {
     "name": "stdout",
     "output_type": "stream",
     "text": [
      "0.7079964061096137, 0.7952110901071203\n"
     ]
    },
    {
     "name": "stderr",
     "output_type": "stream",
     "text": [
      "\u001b[32m[I 2023-05-15 06:12:04,040]\u001b[0m Trial 408 finished with value: 0.8715277777777778 and parameters: {'n_estimators': 230, 'criterion': 'entropy', 'max_depth': 37, 'min_samples_split': 9, 'min_samples_leaf': 3, 'max_features': 'sqrt', 'bootstrap': False}. Best is trial 223 with value: 0.8806228373702423.\u001b[0m\n"
     ]
    },
    {
     "name": "stdout",
     "output_type": "stream",
     "text": [
      "0.8715277777777778, 0.9067422810333964\n"
     ]
    },
    {
     "name": "stderr",
     "output_type": "stream",
     "text": [
      "\u001b[32m[I 2023-05-15 06:12:22,133]\u001b[0m Trial 409 finished with value: 0.7974683544303797 and parameters: {'n_estimators': 133, 'criterion': 'log_loss', 'max_depth': 30, 'min_samples_split': 63, 'min_samples_leaf': 14, 'max_features': 'sqrt', 'bootstrap': False}. Best is trial 223 with value: 0.8806228373702423.\u001b[0m\n"
     ]
    },
    {
     "name": "stdout",
     "output_type": "stream",
     "text": [
      "0.7974683544303797, 0.8588531821045998\n"
     ]
    },
    {
     "name": "stderr",
     "output_type": "stream",
     "text": [
      "\u001b[32m[I 2023-05-15 06:12:36,603]\u001b[0m Trial 410 finished with value: 0.8712186689714779 and parameters: {'n_estimators': 118, 'criterion': 'gini', 'max_depth': 33, 'min_samples_split': 5, 'min_samples_leaf': 1, 'max_features': 'sqrt', 'bootstrap': False}. Best is trial 223 with value: 0.8806228373702423.\u001b[0m\n"
     ]
    },
    {
     "name": "stdout",
     "output_type": "stream",
     "text": [
      "0.8712186689714779, 0.906112161310649\n"
     ]
    },
    {
     "name": "stderr",
     "output_type": "stream",
     "text": [
      "\u001b[32m[I 2023-05-15 06:12:51,768]\u001b[0m Trial 411 finished with value: 0.8418277680140598 and parameters: {'n_estimators': 106, 'criterion': 'entropy', 'max_depth': 47, 'min_samples_split': 17, 'min_samples_leaf': 9, 'max_features': 'sqrt', 'bootstrap': False}. Best is trial 223 with value: 0.8806228373702423.\u001b[0m\n"
     ]
    },
    {
     "name": "stdout",
     "output_type": "stream",
     "text": [
      "0.8418277680140598, 0.8865784499054821\n"
     ]
    },
    {
     "name": "stderr",
     "output_type": "stream",
     "text": [
      "\u001b[32m[I 2023-05-15 06:13:04,041]\u001b[0m Trial 412 finished with value: 0.7534626038781163 and parameters: {'n_estimators': 190, 'criterion': 'entropy', 'max_depth': 44, 'min_samples_split': 3, 'min_samples_leaf': 33, 'max_features': 'sqrt', 'bootstrap': True}. Best is trial 223 with value: 0.8806228373702423.\u001b[0m\n"
     ]
    },
    {
     "name": "stdout",
     "output_type": "stream",
     "text": [
      "0.7534626038781163, 0.831758034026465\n"
     ]
    },
    {
     "name": "stderr",
     "output_type": "stream",
     "text": [
      "\u001b[32m[I 2023-05-15 06:13:19,234]\u001b[0m Trial 413 finished with value: 0.8715277777777778 and parameters: {'n_estimators': 94, 'criterion': 'entropy', 'max_depth': 32, 'min_samples_split': 7, 'min_samples_leaf': 1, 'max_features': 'sqrt', 'bootstrap': False}. Best is trial 223 with value: 0.8806228373702423.\u001b[0m\n"
     ]
    },
    {
     "name": "stdout",
     "output_type": "stream",
     "text": [
      "0.8715277777777778, 0.9067422810333964\n"
     ]
    },
    {
     "name": "stderr",
     "output_type": "stream",
     "text": [
      "\u001b[32m[I 2023-05-15 06:13:34,581]\u001b[0m Trial 414 finished with value: 0.8086253369272237 and parameters: {'n_estimators': 146, 'criterion': 'gini', 'max_depth': 24, 'min_samples_split': 8, 'min_samples_leaf': 16, 'max_features': 'sqrt', 'bootstrap': False}. Best is trial 223 with value: 0.8806228373702423.\u001b[0m\n"
     ]
    },
    {
     "name": "stdout",
     "output_type": "stream",
     "text": [
      "0.8086253369272237, 0.8657844990548205\n"
     ]
    },
    {
     "name": "stderr",
     "output_type": "stream",
     "text": [
      "\u001b[32m[I 2023-05-15 06:14:31,569]\u001b[0m Trial 415 finished with value: 0.8125000000000001 and parameters: {'n_estimators': 425, 'criterion': 'entropy', 'max_depth': 28, 'min_samples_split': 11, 'min_samples_leaf': 17, 'max_features': 'sqrt', 'bootstrap': False}. Best is trial 223 with value: 0.8806228373702423.\u001b[0m\n"
     ]
    },
    {
     "name": "stdout",
     "output_type": "stream",
     "text": [
      "0.8125000000000001, 0.8676748582230623\n"
     ]
    },
    {
     "name": "stderr",
     "output_type": "stream",
     "text": [
      "\u001b[32m[I 2023-05-15 06:16:09,966]\u001b[0m Trial 416 finished with value: 0.8698689956331879 and parameters: {'n_estimators': 610, 'criterion': 'entropy', 'max_depth': 39, 'min_samples_split': 2, 'min_samples_leaf': 1, 'max_features': 'sqrt', 'bootstrap': False}. Best is trial 223 with value: 0.8806228373702423.\u001b[0m\n"
     ]
    },
    {
     "name": "stdout",
     "output_type": "stream",
     "text": [
      "0.8698689956331879, 0.906112161310649\n"
     ]
    },
    {
     "name": "stderr",
     "output_type": "stream",
     "text": [
      "\u001b[32m[I 2023-05-15 06:16:21,576]\u001b[0m Trial 417 finished with value: 0.8613518197573656 and parameters: {'n_estimators': 100, 'criterion': 'gini', 'max_depth': 25, 'min_samples_split': 6, 'min_samples_leaf': 4, 'max_features': 'sqrt', 'bootstrap': False}. Best is trial 223 with value: 0.8806228373702423.\u001b[0m\n"
     ]
    },
    {
     "name": "stdout",
     "output_type": "stream",
     "text": [
      "0.8613518197573656, 0.8991808443604284\n"
     ]
    },
    {
     "name": "stderr",
     "output_type": "stream",
     "text": [
      "\u001b[32m[I 2023-05-15 06:16:40,008]\u001b[0m Trial 418 finished with value: 0.8744588744588746 and parameters: {'n_estimators': 113, 'criterion': 'entropy', 'max_depth': 34, 'min_samples_split': 7, 'min_samples_leaf': 2, 'max_features': 'sqrt', 'bootstrap': False}. Best is trial 223 with value: 0.8806228373702423.\u001b[0m\n"
     ]
    },
    {
     "name": "stdout",
     "output_type": "stream",
     "text": [
      "0.8744588744588746, 0.9086326402016384\n"
     ]
    },
    {
     "name": "stderr",
     "output_type": "stream",
     "text": [
      "\u001b[32m[I 2023-05-15 06:17:00,126]\u001b[0m Trial 419 finished with value: 0.8706896551724138 and parameters: {'n_estimators': 123, 'criterion': 'entropy', 'max_depth': 35, 'min_samples_split': 7, 'min_samples_leaf': 2, 'max_features': 'sqrt', 'bootstrap': False}. Best is trial 223 with value: 0.8806228373702423.\u001b[0m\n"
     ]
    },
    {
     "name": "stdout",
     "output_type": "stream",
     "text": [
      "0.8706896551724138, 0.9054820415879017\n"
     ]
    },
    {
     "name": "stderr",
     "output_type": "stream",
     "text": [
      "\u001b[32m[I 2023-05-15 06:17:11,399]\u001b[0m Trial 420 finished with value: 0.7164444444444444 and parameters: {'n_estimators': 113, 'criterion': 'entropy', 'max_depth': 34, 'min_samples_split': 8, 'min_samples_leaf': 85, 'max_features': 'sqrt', 'bootstrap': False}. Best is trial 223 with value: 0.8806228373702423.\u001b[0m\n"
     ]
    },
    {
     "name": "stdout",
     "output_type": "stream",
     "text": [
      "0.7164444444444444, 0.7989918084436043\n"
     ]
    },
    {
     "name": "stderr",
     "output_type": "stream",
     "text": [
      "\u001b[32m[I 2023-05-15 06:17:24,070]\u001b[0m Trial 421 finished with value: 0.6436567164179104 and parameters: {'n_estimators': 165, 'criterion': 'entropy', 'max_depth': 31, 'min_samples_split': 7, 'min_samples_leaf': 184, 'max_features': 'sqrt', 'bootstrap': False}. Best is trial 223 with value: 0.8806228373702423.\u001b[0m\n"
     ]
    },
    {
     "name": "stdout",
     "output_type": "stream",
     "text": [
      "0.6436567164179104, 0.759294265910523\n"
     ]
    },
    {
     "name": "stderr",
     "output_type": "stream",
     "text": [
      "\u001b[32m[I 2023-05-15 06:17:45,892]\u001b[0m Trial 422 finished with value: 0.8396143733567046 and parameters: {'n_estimators': 137, 'criterion': 'entropy', 'max_depth': 37, 'min_samples_split': 32, 'min_samples_leaf': 3, 'max_features': 'sqrt', 'bootstrap': False}. Best is trial 223 with value: 0.8806228373702423.\u001b[0m\n"
     ]
    },
    {
     "name": "stdout",
     "output_type": "stream",
     "text": [
      "0.8396143733567046, 0.8846880907372401\n"
     ]
    },
    {
     "name": "stderr",
     "output_type": "stream",
     "text": [
      "\u001b[32m[I 2023-05-15 06:59:11,856]\u001b[0m Trial 423 finished with value: 0.8242220353238016 and parameters: {'n_estimators': 452, 'criterion': 'entropy', 'max_depth': 33, 'min_samples_split': 6, 'min_samples_leaf': 2, 'max_features': None, 'bootstrap': False}. Best is trial 223 with value: 0.8806228373702423.\u001b[0m\n"
     ]
    },
    {
     "name": "stdout",
     "output_type": "stream",
     "text": [
      "0.8242220353238016, 0.8683049779458097\n"
     ]
    },
    {
     "name": "stderr",
     "output_type": "stream",
     "text": [
      "\u001b[32m[I 2023-05-15 06:59:29,749]\u001b[0m Trial 424 finished with value: 0.8376220053238688 and parameters: {'n_estimators': 128, 'criterion': 'entropy', 'max_depth': 32, 'min_samples_split': 16, 'min_samples_leaf': 3, 'max_features': 'sqrt', 'bootstrap': True}. Best is trial 223 with value: 0.8806228373702423.\u001b[0m\n"
     ]
    },
    {
     "name": "stdout",
     "output_type": "stream",
     "text": [
      "0.8376220053238688, 0.8846880907372401\n"
     ]
    },
    {
     "name": "stderr",
     "output_type": "stream",
     "text": [
      "\u001b[32m[I 2023-05-15 07:00:49,605]\u001b[0m Trial 425 finished with value: 0.88 and parameters: {'n_estimators': 318, 'criterion': 'entropy', 'max_depth': 36, 'min_samples_split': 4, 'min_samples_leaf': 1, 'max_features': 'sqrt', 'bootstrap': False}. Best is trial 223 with value: 0.8806228373702423.\u001b[0m\n"
     ]
    },
    {
     "name": "stdout",
     "output_type": "stream",
     "text": [
      "0.88, 0.9130434782608695\n"
     ]
    },
    {
     "name": "stderr",
     "output_type": "stream",
     "text": [
      "\u001b[32m[I 2023-05-15 07:01:42,944]\u001b[0m Trial 426 finished with value: 0.7899461400359067 and parameters: {'n_estimators': 324, 'criterion': 'entropy', 'max_depth': 36, 'min_samples_split': 4, 'min_samples_leaf': 24, 'max_features': 'sqrt', 'bootstrap': False}. Best is trial 223 with value: 0.8806228373702423.\u001b[0m\n"
     ]
    },
    {
     "name": "stdout",
     "output_type": "stream",
     "text": [
      "0.7899461400359067, 0.8525519848771267\n"
     ]
    },
    {
     "name": "stderr",
     "output_type": "stream",
     "text": [
      "\u001b[32m[I 2023-05-15 07:02:01,167]\u001b[0m Trial 427 finished with value: 0.7340619307832422 and parameters: {'n_estimators': 373, 'criterion': 'entropy', 'max_depth': 38, 'min_samples_split': 173, 'min_samples_leaf': 22, 'max_features': 'log2', 'bootstrap': False}. Best is trial 223 with value: 0.8806228373702423.\u001b[0m\n"
     ]
    },
    {
     "name": "stdout",
     "output_type": "stream",
     "text": [
      "0.7340619307832422, 0.8160050409577819\n"
     ]
    },
    {
     "name": "stderr",
     "output_type": "stream",
     "text": [
      "\u001b[32m[I 2023-05-15 07:03:06,558]\u001b[0m Trial 428 finished with value: 0.8744588744588746 and parameters: {'n_estimators': 314, 'criterion': 'entropy', 'max_depth': 34, 'min_samples_split': 4, 'min_samples_leaf': 1, 'max_features': 'sqrt', 'bootstrap': False}. Best is trial 223 with value: 0.8806228373702423.\u001b[0m\n"
     ]
    },
    {
     "name": "stdout",
     "output_type": "stream",
     "text": [
      "0.8744588744588746, 0.9086326402016384\n"
     ]
    },
    {
     "name": "stderr",
     "output_type": "stream",
     "text": [
      "\u001b[32m[I 2023-05-15 07:04:06,300]\u001b[0m Trial 429 finished with value: 0.8018018018018018 and parameters: {'n_estimators': 354, 'criterion': 'entropy', 'max_depth': 34, 'min_samples_split': 84, 'min_samples_leaf': 1, 'max_features': 'sqrt', 'bootstrap': False}. Best is trial 223 with value: 0.8806228373702423.\u001b[0m\n"
     ]
    },
    {
     "name": "stdout",
     "output_type": "stream",
     "text": [
      "0.8018018018018018, 0.8613736609955892\n"
     ]
    },
    {
     "name": "stderr",
     "output_type": "stream",
     "text": [
      "\u001b[32m[I 2023-05-15 07:04:42,308]\u001b[0m Trial 430 finished with value: 0.6415094339622641 and parameters: {'n_estimators': 375, 'criterion': 'entropy', 'max_depth': 34, 'min_samples_split': 4, 'min_samples_leaf': 168, 'max_features': 'sqrt', 'bootstrap': False}. Best is trial 223 with value: 0.8806228373702423.\u001b[0m\n"
     ]
    },
    {
     "name": "stdout",
     "output_type": "stream",
     "text": [
      "0.6415094339622641, 0.7605545053560177\n"
     ]
    },
    {
     "name": "stderr",
     "output_type": "stream",
     "text": [
      "\u001b[32m[I 2023-05-15 07:05:44,492]\u001b[0m Trial 431 finished with value: 0.7805755395683454 and parameters: {'n_estimators': 319, 'criterion': 'entropy', 'max_depth': 36, 'min_samples_split': 126, 'min_samples_leaf': 1, 'max_features': 'sqrt', 'bootstrap': False}. Best is trial 223 with value: 0.8806228373702423.\u001b[0m\n"
     ]
    },
    {
     "name": "stdout",
     "output_type": "stream",
     "text": [
      "0.7805755395683454, 0.8462507876496534\n"
     ]
    },
    {
     "name": "stderr",
     "output_type": "stream",
     "text": [
      "\u001b[32m[I 2023-05-15 07:06:18,416]\u001b[0m Trial 432 finished with value: 0.7216117216117215 and parameters: {'n_estimators': 307, 'criterion': 'entropy', 'max_depth': 37, 'min_samples_split': 4, 'min_samples_leaf': 67, 'max_features': 'sqrt', 'bootstrap': False}. Best is trial 223 with value: 0.8806228373702423.\u001b[0m\n"
     ]
    },
    {
     "name": "stdout",
     "output_type": "stream",
     "text": [
      "0.7216117216117215, 0.8084436042848141\n"
     ]
    },
    {
     "name": "stderr",
     "output_type": "stream",
     "text": [
      "\u001b[32m[I 2023-05-15 07:07:11,805]\u001b[0m Trial 433 finished with value: 0.8703220191470844 and parameters: {'n_estimators': 283, 'criterion': 'entropy', 'max_depth': 35, 'min_samples_split': 4, 'min_samples_leaf': 1, 'max_features': 'sqrt', 'bootstrap': False}. Best is trial 223 with value: 0.8806228373702423.\u001b[0m\n"
     ]
    },
    {
     "name": "stdout",
     "output_type": "stream",
     "text": [
      "0.8703220191470844, 0.906112161310649\n"
     ]
    },
    {
     "name": "stderr",
     "output_type": "stream",
     "text": [
      "\u001b[32m[I 2023-05-15 07:08:02,448]\u001b[0m Trial 434 finished with value: 0.8720626631853786 and parameters: {'n_estimators': 263, 'criterion': 'entropy', 'max_depth': 39, 'min_samples_split': 3, 'min_samples_leaf': 1, 'max_features': 'sqrt', 'bootstrap': False}. Best is trial 223 with value: 0.8806228373702423.\u001b[0m\n"
     ]
    },
    {
     "name": "stdout",
     "output_type": "stream",
     "text": [
      "0.8720626631853786, 0.9073724007561437\n"
     ]
    },
    {
     "name": "stderr",
     "output_type": "stream",
     "text": [
      "\u001b[32m[I 2023-05-15 07:08:55,572]\u001b[0m Trial 435 finished with value: 0.8677614520311149 and parameters: {'n_estimators': 282, 'criterion': 'entropy', 'max_depth': 27, 'min_samples_split': 5, 'min_samples_leaf': 1, 'max_features': 'sqrt', 'bootstrap': False}. Best is trial 223 with value: 0.8806228373702423.\u001b[0m\n"
     ]
    },
    {
     "name": "stdout",
     "output_type": "stream",
     "text": [
      "0.8677614520311149, 0.9035916824196597\n"
     ]
    },
    {
     "name": "stderr",
     "output_type": "stream",
     "text": [
      "\u001b[32m[I 2023-05-15 07:09:31,217]\u001b[0m Trial 436 finished with value: 0.8689655172413793 and parameters: {'n_estimators': 314, 'criterion': 'entropy', 'max_depth': 21, 'min_samples_split': 3, 'min_samples_leaf': 1, 'max_features': 'sqrt', 'bootstrap': True}. Best is trial 223 with value: 0.8806228373702423.\u001b[0m\n"
     ]
    },
    {
     "name": "stdout",
     "output_type": "stream",
     "text": [
      "0.8689655172413793, 0.9042218021424071\n"
     ]
    },
    {
     "name": "stderr",
     "output_type": "stream",
     "text": [
      "\u001b[32m[I 2023-05-15 07:09:44,425]\u001b[0m Trial 437 finished with value: 0.8703220191470844 and parameters: {'n_estimators': 63, 'criterion': 'entropy', 'max_depth': 33, 'min_samples_split': 4, 'min_samples_leaf': 1, 'max_features': 'sqrt', 'bootstrap': False}. Best is trial 223 with value: 0.8806228373702423.\u001b[0m\n"
     ]
    },
    {
     "name": "stdout",
     "output_type": "stream",
     "text": [
      "0.8703220191470844, 0.906112161310649\n"
     ]
    },
    {
     "name": "stderr",
     "output_type": "stream",
     "text": [
      "\u001b[32m[I 2023-05-15 07:10:56,662]\u001b[0m Trial 438 finished with value: 0.8546409807355517 and parameters: {'n_estimators': 353, 'criterion': 'log_loss', 'max_depth': 35, 'min_samples_split': 27, 'min_samples_leaf': 2, 'max_features': 'sqrt', 'bootstrap': False}. Best is trial 223 with value: 0.8806228373702423.\u001b[0m\n"
     ]
    },
    {
     "name": "stdout",
     "output_type": "stream",
     "text": [
      "0.8546409807355517, 0.8954001260239446\n"
     ]
    },
    {
     "name": "stderr",
     "output_type": "stream",
     "text": [
      "\u001b[32m[I 2023-05-15 07:11:46,543]\u001b[0m Trial 439 finished with value: 0.7331486611265006 and parameters: {'n_estimators': 349, 'criterion': 'entropy', 'max_depth': 30, 'min_samples_split': 5, 'min_samples_leaf': 52, 'max_features': 'sqrt', 'bootstrap': False}. Best is trial 223 with value: 0.8806228373702423.\u001b[0m\n"
     ]
    },
    {
     "name": "stdout",
     "output_type": "stream",
     "text": [
      "0.7331486611265006, 0.8178954001260239\n"
     ]
    },
    {
     "name": "stderr",
     "output_type": "stream",
     "text": [
      "\u001b[32m[I 2023-05-15 07:13:15,967]\u001b[0m Trial 440 finished with value: 0.8561525129982669 and parameters: {'n_estimators': 450, 'criterion': 'entropy', 'max_depth': 19, 'min_samples_split': 4, 'min_samples_leaf': 6, 'max_features': 'sqrt', 'bootstrap': False}. Best is trial 223 with value: 0.8806228373702423.\u001b[0m\n"
     ]
    },
    {
     "name": "stdout",
     "output_type": "stream",
     "text": [
      "0.8561525129982669, 0.8954001260239446\n"
     ]
    },
    {
     "name": "stderr",
     "output_type": "stream",
     "text": [
      "\u001b[32m[I 2023-05-15 07:13:42,828]\u001b[0m Trial 441 finished with value: 0.7275985663082437 and parameters: {'n_estimators': 204, 'criterion': 'entropy', 'max_depth': 32, 'min_samples_split': 127, 'min_samples_leaf': 79, 'max_features': 'sqrt', 'bootstrap': False}. Best is trial 223 with value: 0.8806228373702423.\u001b[0m\n"
     ]
    },
    {
     "name": "stdout",
     "output_type": "stream",
     "text": [
      "0.7275985663082437, 0.8084436042848141\n"
     ]
    },
    {
     "name": "stderr",
     "output_type": "stream",
     "text": [
      "\u001b[32m[I 2023-05-15 07:14:11,489]\u001b[0m Trial 442 finished with value: 0.7003610108303248 and parameters: {'n_estimators': 242, 'criterion': 'entropy', 'max_depth': 29, 'min_samples_split': 10, 'min_samples_leaf': 107, 'max_features': 'sqrt', 'bootstrap': False}. Best is trial 223 with value: 0.8806228373702423.\u001b[0m\n"
     ]
    },
    {
     "name": "stdout",
     "output_type": "stream",
     "text": [
      "0.7003610108303248, 0.7908002520478891\n"
     ]
    },
    {
     "name": "stderr",
     "output_type": "stream",
     "text": [
      "\u001b[32m[I 2023-05-15 07:14:49,284]\u001b[0m Trial 443 finished with value: 0.871304347826087 and parameters: {'n_estimators': 175, 'criterion': 'entropy', 'max_depth': 36, 'min_samples_split': 13, 'min_samples_leaf': 1, 'max_features': 'sqrt', 'bootstrap': False}. Best is trial 223 with value: 0.8806228373702423.\u001b[0m\n"
     ]
    },
    {
     "name": "stdout",
     "output_type": "stream",
     "text": [
      "0.871304347826087, 0.9067422810333964\n"
     ]
    },
    {
     "name": "stderr",
     "output_type": "stream",
     "text": [
      "\u001b[32m[I 2023-05-15 07:37:11,084]\u001b[0m Trial 444 finished with value: 0.7788378143972245 and parameters: {'n_estimators': 219, 'criterion': 'entropy', 'max_depth': 26, 'min_samples_split': 10, 'min_samples_leaf': 14, 'max_features': None, 'bootstrap': False}. Best is trial 223 with value: 0.8806228373702423.\u001b[0m\n"
     ]
    },
    {
     "name": "stdout",
     "output_type": "stream",
     "text": [
      "0.7788378143972245, 0.8393194706994329\n"
     ]
    },
    {
     "name": "stderr",
     "output_type": "stream",
     "text": [
      "\u001b[32m[I 2023-05-15 07:37:31,631]\u001b[0m Trial 445 finished with value: 0.8057553956834532 and parameters: {'n_estimators': 115, 'criterion': 'entropy', 'max_depth': 38, 'min_samples_split': 56, 'min_samples_leaf': 8, 'max_features': 'sqrt', 'bootstrap': False}. Best is trial 223 with value: 0.8806228373702423.\u001b[0m\n"
     ]
    },
    {
     "name": "stdout",
     "output_type": "stream",
     "text": [
      "0.8057553956834532, 0.8638941398865785\n"
     ]
    },
    {
     "name": "stderr",
     "output_type": "stream",
     "text": [
      "\u001b[32m[I 2023-05-15 07:38:12,473]\u001b[0m Trial 446 finished with value: 0.7248201438848921 and parameters: {'n_estimators': 335, 'criterion': 'entropy', 'max_depth': 34, 'min_samples_split': 151, 'min_samples_leaf': 76, 'max_features': 'sqrt', 'bootstrap': False}. Best is trial 223 with value: 0.8806228373702423.\u001b[0m\n"
     ]
    },
    {
     "name": "stdout",
     "output_type": "stream",
     "text": [
      "0.7248201438848921, 0.8071833648393195\n"
     ]
    },
    {
     "name": "stderr",
     "output_type": "stream",
     "text": [
      "\u001b[32m[I 2023-05-15 07:38:44,260]\u001b[0m Trial 447 finished with value: 0.7435897435897436 and parameters: {'n_estimators': 406, 'criterion': 'entropy', 'max_depth': 40, 'min_samples_split': 3, 'min_samples_leaf': 37, 'max_features': 'sqrt', 'bootstrap': True}. Best is trial 223 with value: 0.8806228373702423.\u001b[0m\n"
     ]
    },
    {
     "name": "stdout",
     "output_type": "stream",
     "text": [
      "0.7435897435897436, 0.8235664776307499\n"
     ]
    },
    {
     "name": "stderr",
     "output_type": "stream",
     "text": [
      "\u001b[32m[I 2023-05-15 07:39:06,325]\u001b[0m Trial 448 finished with value: 0.6559849198868991 and parameters: {'n_estimators': 208, 'criterion': 'entropy', 'max_depth': 31, 'min_samples_split': 22, 'min_samples_leaf': 130, 'max_features': 'sqrt', 'bootstrap': False}. Best is trial 223 with value: 0.8806228373702423.\u001b[0m\n"
     ]
    },
    {
     "name": "stdout",
     "output_type": "stream",
     "text": [
      "0.6559849198868991, 0.7700063011972275\n"
     ]
    },
    {
     "name": "stderr",
     "output_type": "stream",
     "text": [
      "\u001b[32m[I 2023-05-15 07:39:18,096]\u001b[0m Trial 449 finished with value: 0.8670721112076456 and parameters: {'n_estimators': 181, 'criterion': 'entropy', 'max_depth': 33, 'min_samples_split': 9, 'min_samples_leaf': 1, 'max_features': 'log2', 'bootstrap': False}. Best is trial 223 with value: 0.8806228373702423.\u001b[0m\n"
     ]
    },
    {
     "name": "stdout",
     "output_type": "stream",
     "text": [
      "0.8670721112076456, 0.9035916824196597\n"
     ]
    },
    {
     "name": "stderr",
     "output_type": "stream",
     "text": [
      "\u001b[32m[I 2023-05-15 07:39:55,004]\u001b[0m Trial 450 finished with value: 0.7637362637362637 and parameters: {'n_estimators': 294, 'criterion': 'gini', 'max_depth': 29, 'min_samples_split': 134, 'min_samples_leaf': 7, 'max_features': 'sqrt', 'bootstrap': False}. Best is trial 223 with value: 0.8806228373702423.\u001b[0m\n"
     ]
    },
    {
     "name": "stdout",
     "output_type": "stream",
     "text": [
      "0.7637362637362637, 0.8374291115311909\n"
     ]
    },
    {
     "name": "stderr",
     "output_type": "stream",
     "text": [
      "\u001b[32m[I 2023-05-15 07:40:44,574]\u001b[0m Trial 451 finished with value: 0.8627787307032588 and parameters: {'n_estimators': 254, 'criterion': 'entropy', 'max_depth': 23, 'min_samples_split': 18, 'min_samples_leaf': 1, 'max_features': 'sqrt', 'bootstrap': False}. Best is trial 223 with value: 0.8806228373702423.\u001b[0m\n"
     ]
    },
    {
     "name": "stdout",
     "output_type": "stream",
     "text": [
      "0.8627787307032588, 0.8991808443604284\n"
     ]
    },
    {
     "name": "stderr",
     "output_type": "stream",
     "text": [
      "\u001b[32m[I 2023-05-15 07:40:58,964]\u001b[0m Trial 452 finished with value: 0.7590467784642542 and parameters: {'n_estimators': 109, 'criterion': 'entropy', 'max_depth': 8, 'min_samples_split': 14, 'min_samples_leaf': 4, 'max_features': 'sqrt', 'bootstrap': False}. Best is trial 223 with value: 0.8806228373702423.\u001b[0m\n"
     ]
    },
    {
     "name": "stdout",
     "output_type": "stream",
     "text": [
      "0.7590467784642542, 0.8279773156899811\n"
     ]
    },
    {
     "name": "stderr",
     "output_type": "stream",
     "text": [
      "\u001b[32m[I 2023-05-15 07:42:55,587]\u001b[0m Trial 453 finished with value: 0.8309012875536481 and parameters: {'n_estimators': 731, 'criterion': 'entropy', 'max_depth': 12, 'min_samples_split': 5, 'min_samples_leaf': 2, 'max_features': 'sqrt', 'bootstrap': False}. Best is trial 223 with value: 0.8806228373702423.\u001b[0m\n"
     ]
    },
    {
     "name": "stdout",
     "output_type": "stream",
     "text": [
      "0.8309012875536481, 0.8758664146187776\n"
     ]
    },
    {
     "name": "stderr",
     "output_type": "stream",
     "text": [
      "\u001b[32m[I 2023-05-15 07:43:04,703]\u001b[0m Trial 454 finished with value: 0.8741379310344827 and parameters: {'n_estimators': 57, 'criterion': 'gini', 'max_depth': 37, 'min_samples_split': 11, 'min_samples_leaf': 1, 'max_features': 'sqrt', 'bootstrap': False}. Best is trial 223 with value: 0.8806228373702423.\u001b[0m\n"
     ]
    },
    {
     "name": "stdout",
     "output_type": "stream",
     "text": [
      "0.8741379310344827, 0.908002520478891\n"
     ]
    },
    {
     "name": "stderr",
     "output_type": "stream",
     "text": [
      "\u001b[32m[I 2023-05-15 07:43:19,368]\u001b[0m Trial 455 finished with value: 0.8682842287694973 and parameters: {'n_estimators': 75, 'criterion': 'entropy', 'max_depth': 32, 'min_samples_split': 9, 'min_samples_leaf': 1, 'max_features': 'sqrt', 'bootstrap': False}. Best is trial 223 with value: 0.8806228373702423.\u001b[0m\n"
     ]
    },
    {
     "name": "stdout",
     "output_type": "stream",
     "text": [
      "0.8682842287694973, 0.9042218021424071\n"
     ]
    },
    {
     "name": "stderr",
     "output_type": "stream",
     "text": [
      "\u001b[32m[I 2023-05-15 07:44:42,181]\u001b[0m Trial 456 finished with value: 0.8670721112076456 and parameters: {'n_estimators': 413, 'criterion': 'log_loss', 'max_depth': 35, 'min_samples_split': 3, 'min_samples_leaf': 4, 'max_features': 'sqrt', 'bootstrap': False}. Best is trial 223 with value: 0.8806228373702423.\u001b[0m\n"
     ]
    },
    {
     "name": "stdout",
     "output_type": "stream",
     "text": [
      "0.8670721112076456, 0.9035916824196597\n"
     ]
    },
    {
     "name": "stderr",
     "output_type": "stream",
     "text": [
      "\u001b[32m[I 2023-05-15 07:45:24,845]\u001b[0m Trial 457 finished with value: 0.8716623600344531 and parameters: {'n_estimators': 228, 'criterion': 'entropy', 'max_depth': 30, 'min_samples_split': 8, 'min_samples_leaf': 1, 'max_features': 'sqrt', 'bootstrap': False}. Best is trial 223 with value: 0.8806228373702423.\u001b[0m\n"
     ]
    },
    {
     "name": "stdout",
     "output_type": "stream",
     "text": [
      "0.8716623600344531, 0.906112161310649\n"
     ]
    },
    {
     "name": "stderr",
     "output_type": "stream",
     "text": [
      "\u001b[32m[I 2023-05-15 07:45:41,489]\u001b[0m Trial 458 finished with value: 0.8424717145343776 and parameters: {'n_estimators': 121, 'criterion': 'gini', 'max_depth': 22, 'min_samples_split': 20, 'min_samples_leaf': 3, 'max_features': 'sqrt', 'bootstrap': False}. Best is trial 223 with value: 0.8806228373702423.\u001b[0m\n"
     ]
    },
    {
     "name": "stdout",
     "output_type": "stream",
     "text": [
      "0.8424717145343776, 0.8859483301827347\n"
     ]
    },
    {
     "name": "stderr",
     "output_type": "stream",
     "text": [
      "\u001b[32m[I 2023-05-15 07:46:46,463]\u001b[0m Trial 459 finished with value: 0.870771899392888 and parameters: {'n_estimators': 284, 'criterion': 'entropy', 'max_depth': 28, 'min_samples_split': 2, 'min_samples_leaf': 1, 'max_features': 'sqrt', 'bootstrap': False}. Best is trial 223 with value: 0.8806228373702423.\u001b[0m\n"
     ]
    },
    {
     "name": "stdout",
     "output_type": "stream",
     "text": [
      "0.870771899392888, 0.906112161310649\n"
     ]
    },
    {
     "name": "stderr",
     "output_type": "stream",
     "text": [
      "\u001b[32m[I 2023-05-15 07:47:40,035]\u001b[0m Trial 460 finished with value: 0.790190735694823 and parameters: {'n_estimators': 499, 'criterion': 'entropy', 'max_depth': 25, 'min_samples_split': 4, 'min_samples_leaf': 17, 'max_features': 'sqrt', 'bootstrap': True}. Best is trial 223 with value: 0.8806228373702423.\u001b[0m\n"
     ]
    },
    {
     "name": "stdout",
     "output_type": "stream",
     "text": [
      "0.790190735694823, 0.8544423440453687\n"
     ]
    },
    {
     "name": "stderr",
     "output_type": "stream",
     "text": [
      "\u001b[32m[I 2023-05-15 07:47:51,447]\u001b[0m Trial 461 finished with value: 0.8116938950988822 and parameters: {'n_estimators': 65, 'criterion': 'entropy', 'max_depth': 10, 'min_samples_split': 4, 'min_samples_leaf': 1, 'max_features': 'sqrt', 'bootstrap': False}. Best is trial 223 with value: 0.8806228373702423.\u001b[0m\n"
     ]
    },
    {
     "name": "stdout",
     "output_type": "stream",
     "text": [
      "0.8116938950988822, 0.8620037807183365\n"
     ]
    },
    {
     "name": "stderr",
     "output_type": "stream",
     "text": [
      "\u001b[32m[I 2023-05-15 07:48:16,330]\u001b[0m Trial 462 finished with value: 0.8467532467532468 and parameters: {'n_estimators': 154, 'criterion': 'gini', 'max_depth': 15, 'min_samples_split': 2, 'min_samples_leaf': 4, 'max_features': 'sqrt', 'bootstrap': False}. Best is trial 223 with value: 0.8806228373702423.\u001b[0m\n"
     ]
    },
    {
     "name": "stdout",
     "output_type": "stream",
     "text": [
      "0.8467532467532468, 0.888468809073724\n"
     ]
    },
    {
     "name": "stderr",
     "output_type": "stream",
     "text": [
      "\u001b[32m[I 2023-05-15 07:48:45,082]\u001b[0m Trial 463 finished with value: 0.8168273444347064 and parameters: {'n_estimators': 188, 'criterion': 'entropy', 'max_depth': 13, 'min_samples_split': 13, 'min_samples_leaf': 10, 'max_features': 'sqrt', 'bootstrap': False}. Best is trial 223 with value: 0.8806228373702423.\u001b[0m\n"
     ]
    },
    {
     "name": "stdout",
     "output_type": "stream",
     "text": [
      "0.8168273444347064, 0.8683049779458097\n"
     ]
    },
    {
     "name": "stderr",
     "output_type": "stream",
     "text": [
      "\u001b[32m[I 2023-05-15 07:49:03,720]\u001b[0m Trial 464 finished with value: 0.8733850129198967 and parameters: {'n_estimators': 104, 'criterion': 'entropy', 'max_depth': 27, 'min_samples_split': 11, 'min_samples_leaf': 2, 'max_features': 'sqrt', 'bootstrap': False}. Best is trial 223 with value: 0.8806228373702423.\u001b[0m\n"
     ]
    },
    {
     "name": "stdout",
     "output_type": "stream",
     "text": [
      "0.8733850129198967, 0.9073724007561437\n"
     ]
    },
    {
     "name": "stderr",
     "output_type": "stream",
     "text": [
      "\u001b[32m[I 2023-05-15 07:49:15,002]\u001b[0m Trial 465 finished with value: 0.7076923076923077 and parameters: {'n_estimators': 126, 'criterion': 'gini', 'max_depth': 41, 'min_samples_split': 5, 'min_samples_leaf': 87, 'max_features': 'sqrt', 'bootstrap': False}. Best is trial 223 with value: 0.8806228373702423.\u001b[0m\n"
     ]
    },
    {
     "name": "stdout",
     "output_type": "stream",
     "text": [
      "0.7076923076923077, 0.796471329552615\n"
     ]
    },
    {
     "name": "stderr",
     "output_type": "stream",
     "text": [
      "\u001b[32m[I 2023-05-15 07:49:29,542]\u001b[0m Trial 466 finished with value: 0.6851338873499538 and parameters: {'n_estimators': 140, 'criterion': 'entropy', 'max_depth': 33, 'min_samples_split': 15, 'min_samples_leaf': 111, 'max_features': 'sqrt', 'bootstrap': False}. Best is trial 223 with value: 0.8806228373702423.\u001b[0m\n"
     ]
    },
    {
     "name": "stdout",
     "output_type": "stream",
     "text": [
      "0.6851338873499538, 0.7851291745431632\n"
     ]
    },
    {
     "name": "stderr",
     "output_type": "stream",
     "text": [
      "\u001b[32m[I 2023-05-15 07:57:42,660]\u001b[0m Trial 467 finished with value: 0.8087615838247684 and parameters: {'n_estimators': 81, 'criterion': 'entropy', 'max_depth': 31, 'min_samples_split': 3, 'min_samples_leaf': 6, 'max_features': None, 'bootstrap': False}. Best is trial 223 with value: 0.8806228373702423.\u001b[0m\n"
     ]
    },
    {
     "name": "stdout",
     "output_type": "stream",
     "text": [
      "0.8087615838247684, 0.856962822936358\n"
     ]
    },
    {
     "name": "stderr",
     "output_type": "stream",
     "text": [
      "\u001b[32m[I 2023-05-15 07:58:34,322]\u001b[0m Trial 468 finished with value: 0.870995670995671 and parameters: {'n_estimators': 267, 'criterion': 'entropy', 'max_depth': 36, 'min_samples_split': 8, 'min_samples_leaf': 3, 'max_features': 'sqrt', 'bootstrap': False}. Best is trial 223 with value: 0.8806228373702423.\u001b[0m\n"
     ]
    },
    {
     "name": "stdout",
     "output_type": "stream",
     "text": [
      "0.870995670995671, 0.906112161310649\n"
     ]
    },
    {
     "name": "stderr",
     "output_type": "stream",
     "text": [
      "\u001b[32m[I 2023-05-15 07:58:52,482]\u001b[0m Trial 469 finished with value: 0.8631211857018308 and parameters: {'n_estimators': 116, 'criterion': 'gini', 'max_depth': 34, 'min_samples_split': 4, 'min_samples_leaf': 1, 'max_features': 'sqrt', 'bootstrap': False}. Best is trial 223 with value: 0.8806228373702423.\u001b[0m\n"
     ]
    },
    {
     "name": "stdout",
     "output_type": "stream",
     "text": [
      "0.8631211857018308, 0.9010712035286704\n"
     ]
    },
    {
     "name": "stderr",
     "output_type": "stream",
     "text": [
      "\u001b[32m[I 2023-05-15 07:59:24,092]\u001b[0m Trial 470 finished with value: 0.7695133149678605 and parameters: {'n_estimators': 390, 'criterion': 'entropy', 'max_depth': 16, 'min_samples_split': 2, 'min_samples_leaf': 30, 'max_features': 'sqrt', 'bootstrap': True}. Best is trial 223 with value: 0.8806228373702423.\u001b[0m\n"
     ]
    },
    {
     "name": "stdout",
     "output_type": "stream",
     "text": [
      "0.7695133149678605, 0.8418399495904222\n"
     ]
    },
    {
     "name": "stderr",
     "output_type": "stream",
     "text": [
      "\u001b[32m[I 2023-05-15 07:59:27,427]\u001b[0m Trial 471 finished with value: 0.7713498622589531 and parameters: {'n_estimators': 72, 'criterion': 'entropy', 'max_depth': 29, 'min_samples_split': 3, 'min_samples_leaf': 28, 'max_features': 'log2', 'bootstrap': False}. Best is trial 223 with value: 0.8806228373702423.\u001b[0m\n"
     ]
    },
    {
     "name": "stdout",
     "output_type": "stream",
     "text": [
      "0.7713498622589531, 0.8431001890359168\n"
     ]
    },
    {
     "name": "stderr",
     "output_type": "stream",
     "text": [
      "\u001b[32m[I 2023-05-15 07:59:47,448]\u001b[0m Trial 472 finished with value: 0.8610634648370497 and parameters: {'n_estimators': 108, 'criterion': 'entropy', 'max_depth': 22, 'min_samples_split': 5, 'min_samples_leaf': 1, 'max_features': 'sqrt', 'bootstrap': False}. Best is trial 223 with value: 0.8806228373702423.\u001b[0m\n"
     ]
    },
    {
     "name": "stdout",
     "output_type": "stream",
     "text": [
      "0.8610634648370497, 0.8979206049149339\n"
     ]
    },
    {
     "name": "stderr",
     "output_type": "stream",
     "text": [
      "\u001b[32m[I 2023-05-15 08:00:08,548]\u001b[0m Trial 473 finished with value: 0.8050770625566637 and parameters: {'n_estimators': 163, 'criterion': 'gini', 'max_depth': 32, 'min_samples_split': 41, 'min_samples_leaf': 5, 'max_features': 'sqrt', 'bootstrap': False}. Best is trial 223 with value: 0.8806228373702423.\u001b[0m\n"
     ]
    },
    {
     "name": "stdout",
     "output_type": "stream",
     "text": [
      "0.8050770625566637, 0.8645242596093258\n"
     ]
    },
    {
     "name": "stderr",
     "output_type": "stream",
     "text": [
      "\u001b[32m[I 2023-05-15 08:01:03,976]\u001b[0m Trial 474 finished with value: 0.8734835355285963 and parameters: {'n_estimators': 307, 'criterion': 'entropy', 'max_depth': 38, 'min_samples_split': 10, 'min_samples_leaf': 1, 'max_features': 'sqrt', 'bootstrap': False}. Best is trial 223 with value: 0.8806228373702423.\u001b[0m\n"
     ]
    },
    {
     "name": "stdout",
     "output_type": "stream",
     "text": [
      "0.8734835355285963, 0.908002520478891\n"
     ]
    },
    {
     "name": "stderr",
     "output_type": "stream",
     "text": [
      "\u001b[32m[I 2023-05-15 08:02:08,127]\u001b[0m Trial 475 finished with value: 0.8406304728546409 and parameters: {'n_estimators': 338, 'criterion': 'entropy', 'max_depth': 30, 'min_samples_split': 36, 'min_samples_leaf': 2, 'max_features': 'sqrt', 'bootstrap': False}. Best is trial 223 with value: 0.8806228373702423.\u001b[0m\n"
     ]
    },
    {
     "name": "stdout",
     "output_type": "stream",
     "text": [
      "0.8406304728546409, 0.8853182104599874\n"
     ]
    },
    {
     "name": "stderr",
     "output_type": "stream",
     "text": [
      "\u001b[32m[I 2023-05-15 08:02:26,924]\u001b[0m Trial 476 finished with value: 0.8683522231909329 and parameters: {'n_estimators': 88, 'criterion': 'entropy', 'max_depth': 42, 'min_samples_split': 12, 'min_samples_leaf': 5, 'max_features': 'sqrt', 'bootstrap': False}. Best is trial 223 with value: 0.8806228373702423.\u001b[0m\n"
     ]
    },
    {
     "name": "stdout",
     "output_type": "stream",
     "text": [
      "0.8683522231909329, 0.9048519218651544\n"
     ]
    },
    {
     "name": "stderr",
     "output_type": "stream",
     "text": [
      "\u001b[32m[I 2023-05-15 08:02:33,800]\u001b[0m Trial 477 finished with value: 0.7385740402193784 and parameters: {'n_estimators': 53, 'criterion': 'gini', 'max_depth': 24, 'min_samples_split': 187, 'min_samples_leaf': 14, 'max_features': 'sqrt', 'bootstrap': False}. Best is trial 223 with value: 0.8806228373702423.\u001b[0m\n"
     ]
    },
    {
     "name": "stdout",
     "output_type": "stream",
     "text": [
      "0.7385740402193784, 0.8197857592942659\n"
     ]
    },
    {
     "name": "stderr",
     "output_type": "stream",
     "text": [
      "\u001b[32m[I 2023-05-15 08:03:11,614]\u001b[0m Trial 478 finished with value: 0.8337730870712402 and parameters: {'n_estimators': 199, 'criterion': 'log_loss', 'max_depth': 35, 'min_samples_split': 32, 'min_samples_leaf': 7, 'max_features': 'sqrt', 'bootstrap': False}. Best is trial 223 with value: 0.8806228373702423.\u001b[0m\n"
     ]
    },
    {
     "name": "stdout",
     "output_type": "stream",
     "text": [
      "0.8337730870712402, 0.8809073724007561\n"
     ]
    },
    {
     "name": "stderr",
     "output_type": "stream",
     "text": [
      "\u001b[32m[I 2023-05-15 08:03:21,565]\u001b[0m Trial 479 finished with value: 0.8096947935368043 and parameters: {'n_estimators': 61, 'criterion': 'entropy', 'max_depth': 27, 'min_samples_split': 15, 'min_samples_leaf': 19, 'max_features': 'sqrt', 'bootstrap': False}. Best is trial 223 with value: 0.8806228373702423.\u001b[0m\n"
     ]
    },
    {
     "name": "stdout",
     "output_type": "stream",
     "text": [
      "0.8096947935368043, 0.8664146187775678\n"
     ]
    },
    {
     "name": "stderr",
     "output_type": "stream",
     "text": [
      "\u001b[32m[I 2023-05-15 08:03:41,114]\u001b[0m Trial 480 finished with value: 0.7967625899280575 and parameters: {'n_estimators': 120, 'criterion': 'entropy', 'max_depth': 33, 'min_samples_split': 9, 'min_samples_leaf': 23, 'max_features': 'sqrt', 'bootstrap': False}. Best is trial 223 with value: 0.8806228373702423.\u001b[0m\n"
     ]
    },
    {
     "name": "stdout",
     "output_type": "stream",
     "text": [
      "0.7967625899280575, 0.8575929426591052\n"
     ]
    },
    {
     "name": "stderr",
     "output_type": "stream",
     "text": [
      "\u001b[32m[I 2023-05-15 08:03:54,922]\u001b[0m Trial 481 finished with value: 0.6501429933269781 and parameters: {'n_estimators': 235, 'criterion': 'entropy', 'max_depth': 20, 'min_samples_split': 4, 'min_samples_leaf': 123, 'max_features': 'sqrt', 'bootstrap': True}. Best is trial 223 with value: 0.8806228373702423.\u001b[0m\n"
     ]
    },
    {
     "name": "stdout",
     "output_type": "stream",
     "text": [
      "0.6501429933269781, 0.7687460617517329\n"
     ]
    },
    {
     "name": "stderr",
     "output_type": "stream",
     "text": [
      "\u001b[32m[I 2023-05-15 08:04:08,015]\u001b[0m Trial 482 finished with value: 0.8230008984725965 and parameters: {'n_estimators': 97, 'criterion': 'gini', 'max_depth': 31, 'min_samples_split': 7, 'min_samples_leaf': 12, 'max_features': 'sqrt', 'bootstrap': False}. Best is trial 223 with value: 0.8806228373702423.\u001b[0m\n"
     ]
    },
    {
     "name": "stdout",
     "output_type": "stream",
     "text": [
      "0.8230008984725965, 0.8758664146187776\n"
     ]
    },
    {
     "name": "stderr",
     "output_type": "stream",
     "text": [
      "\u001b[32m[I 2023-05-15 08:04:30,066]\u001b[0m Trial 483 finished with value: 0.7806624888093107 and parameters: {'n_estimators': 131, 'criterion': 'entropy', 'max_depth': 16, 'min_samples_split': 114, 'min_samples_leaf': 1, 'max_features': 'sqrt', 'bootstrap': False}. Best is trial 223 with value: 0.8806228373702423.\u001b[0m\n"
     ]
    },
    {
     "name": "stdout",
     "output_type": "stream",
     "text": [
      "0.7806624888093107, 0.8456206679269062\n"
     ]
    },
    {
     "name": "stderr",
     "output_type": "stream",
     "text": [
      "\u001b[32m[I 2023-05-15 08:04:58,301]\u001b[0m Trial 484 finished with value: 0.8471001757469244 and parameters: {'n_estimators': 144, 'criterion': 'entropy', 'max_depth': 39, 'min_samples_split': 28, 'min_samples_leaf': 1, 'max_features': 'sqrt', 'bootstrap': False}. Best is trial 223 with value: 0.8806228373702423.\u001b[0m\n"
     ]
    },
    {
     "name": "stdout",
     "output_type": "stream",
     "text": [
      "0.8471001757469244, 0.8903591682419659\n"
     ]
    },
    {
     "name": "stderr",
     "output_type": "stream",
     "text": [
      "\u001b[32m[I 2023-05-15 08:05:11,242]\u001b[0m Trial 485 finished with value: 0.78809738503156 and parameters: {'n_estimators': 106, 'criterion': 'gini', 'max_depth': 37, 'min_samples_split': 2, 'min_samples_leaf': 25, 'max_features': 'sqrt', 'bootstrap': False}. Best is trial 223 with value: 0.8806228373702423.\u001b[0m\n"
     ]
    },
    {
     "name": "stdout",
     "output_type": "stream",
     "text": [
      "0.78809738503156, 0.8519218651543793\n"
     ]
    },
    {
     "name": "stderr",
     "output_type": "stream",
     "text": [
      "\u001b[32m[I 2023-05-15 08:05:29,931]\u001b[0m Trial 486 finished with value: 0.8021390374331552 and parameters: {'n_estimators': 111, 'criterion': 'entropy', 'max_depth': 17, 'min_samples_split': 74, 'min_samples_leaf': 4, 'max_features': 'sqrt', 'bootstrap': False}. Best is trial 223 with value: 0.8806228373702423.\u001b[0m\n"
     ]
    },
    {
     "name": "stdout",
     "output_type": "stream",
     "text": [
      "0.8021390374331552, 0.8601134215500945\n"
     ]
    },
    {
     "name": "stderr",
     "output_type": "stream",
     "text": [
      "\u001b[32m[I 2023-05-15 08:05:37,729]\u001b[0m Trial 487 finished with value: 0.7146666666666666 and parameters: {'n_estimators': 68, 'criterion': 'entropy', 'max_depth': 18, 'min_samples_split': 6, 'min_samples_leaf': 94, 'max_features': 'sqrt', 'bootstrap': False}. Best is trial 223 with value: 0.8806228373702423.\u001b[0m\n"
     ]
    },
    {
     "name": "stdout",
     "output_type": "stream",
     "text": [
      "0.7146666666666666, 0.7977315689981096\n"
     ]
    },
    {
     "name": "stderr",
     "output_type": "stream",
     "text": [
      "\u001b[32m[I 2023-05-15 08:05:46,054]\u001b[0m Trial 488 finished with value: 0.6821130676552364 and parameters: {'n_estimators': 77, 'criterion': 'entropy', 'max_depth': 28, 'min_samples_split': 4, 'min_samples_leaf': 113, 'max_features': 'sqrt', 'bootstrap': False}. Best is trial 223 with value: 0.8806228373702423.\u001b[0m\n"
     ]
    },
    {
     "name": "stdout",
     "output_type": "stream",
     "text": [
      "0.6821130676552364, 0.7838689350976685\n"
     ]
    },
    {
     "name": "stderr",
     "output_type": "stream",
     "text": [
      "\u001b[32m[I 2023-05-15 08:14:08,166]\u001b[0m Trial 489 finished with value: 0.7364620938628158 and parameters: {'n_estimators': 125, 'criterion': 'gini', 'max_depth': 32, 'min_samples_split': 8, 'min_samples_leaf': 19, 'max_features': None, 'bootstrap': False}. Best is trial 223 with value: 0.8806228373702423.\u001b[0m\n"
     ]
    },
    {
     "name": "stdout",
     "output_type": "stream",
     "text": [
      "0.7364620938628158, 0.8160050409577819\n"
     ]
    },
    {
     "name": "stderr",
     "output_type": "stream",
     "text": [
      "\u001b[32m[I 2023-05-15 08:14:40,447]\u001b[0m Trial 490 finished with value: 0.8700173310225303 and parameters: {'n_estimators': 153, 'criterion': 'entropy', 'max_depth': 34, 'min_samples_split': 3, 'min_samples_leaf': 3, 'max_features': 'sqrt', 'bootstrap': False}. Best is trial 223 with value: 0.8806228373702423.\u001b[0m\n"
     ]
    },
    {
     "name": "stdout",
     "output_type": "stream",
     "text": [
      "0.8700173310225303, 0.9054820415879017\n"
     ]
    },
    {
     "name": "stderr",
     "output_type": "stream",
     "text": [
      "\u001b[32m[I 2023-05-15 08:14:53,304]\u001b[0m Trial 491 finished with value: 0.7200736648250461 and parameters: {'n_estimators': 98, 'criterion': 'entropy', 'max_depth': 26, 'min_samples_split': 131, 'min_samples_leaf': 69, 'max_features': 'sqrt', 'bootstrap': False}. Best is trial 223 with value: 0.8806228373702423.\u001b[0m\n"
     ]
    },
    {
     "name": "stdout",
     "output_type": "stream",
     "text": [
      "0.7200736648250461, 0.8084436042848141\n"
     ]
    },
    {
     "name": "stderr",
     "output_type": "stream",
     "text": [
      "\u001b[32m[I 2023-05-15 08:15:17,127]\u001b[0m Trial 492 finished with value: 0.8689655172413793 and parameters: {'n_estimators': 116, 'criterion': 'entropy', 'max_depth': 29, 'min_samples_split': 5, 'min_samples_leaf': 1, 'max_features': 'sqrt', 'bootstrap': False}. Best is trial 223 with value: 0.8806228373702423.\u001b[0m\n"
     ]
    },
    {
     "name": "stdout",
     "output_type": "stream",
     "text": [
      "0.8689655172413793, 0.9042218021424071\n"
     ]
    },
    {
     "name": "stderr",
     "output_type": "stream",
     "text": [
      "\u001b[32m[I 2023-05-15 08:15:39,772]\u001b[0m Trial 493 finished with value: 0.8672413793103448 and parameters: {'n_estimators': 257, 'criterion': 'gini', 'max_depth': 35, 'min_samples_split': 2, 'min_samples_leaf': 1, 'max_features': 'sqrt', 'bootstrap': True}. Best is trial 223 with value: 0.8806228373702423.\u001b[0m\n"
     ]
    },
    {
     "name": "stdout",
     "output_type": "stream",
     "text": [
      "0.8672413793103448, 0.9029615626969124\n"
     ]
    },
    {
     "name": "stderr",
     "output_type": "stream",
     "text": [
      "\u001b[32m[I 2023-05-15 08:15:44,731]\u001b[0m Trial 494 finished with value: 0.7332722273143906 and parameters: {'n_estimators': 139, 'criterion': 'entropy', 'max_depth': 48, 'min_samples_split': 2, 'min_samples_leaf': 58, 'max_features': 'log2', 'bootstrap': False}. Best is trial 223 with value: 0.8806228373702423.\u001b[0m\n"
     ]
    },
    {
     "name": "stdout",
     "output_type": "stream",
     "text": [
      "0.7332722273143906, 0.8166351606805293\n"
     ]
    },
    {
     "name": "stderr",
     "output_type": "stream",
     "text": [
      "\u001b[32m[I 2023-05-15 08:15:57,431]\u001b[0m Trial 495 finished with value: 0.7971403038427167 and parameters: {'n_estimators': 90, 'criterion': 'entropy', 'max_depth': 43, 'min_samples_split': 7, 'min_samples_leaf': 26, 'max_features': 'sqrt', 'bootstrap': False}. Best is trial 223 with value: 0.8806228373702423.\u001b[0m\n"
     ]
    },
    {
     "name": "stdout",
     "output_type": "stream",
     "text": [
      "0.7971403038427167, 0.856962822936358\n"
     ]
    },
    {
     "name": "stderr",
     "output_type": "stream",
     "text": [
      "\u001b[32m[I 2023-05-15 08:16:29,641]\u001b[0m Trial 496 finished with value: 0.8606271777003485 and parameters: {'n_estimators': 173, 'criterion': 'entropy', 'max_depth': 30, 'min_samples_split': 8, 'min_samples_leaf': 5, 'max_features': 'sqrt', 'bootstrap': False}. Best is trial 223 with value: 0.8806228373702423.\u001b[0m\n"
     ]
    },
    {
     "name": "stdout",
     "output_type": "stream",
     "text": [
      "0.8606271777003485, 0.8991808443604284\n"
     ]
    },
    {
     "name": "stderr",
     "output_type": "stream",
     "text": [
      "\u001b[32m[I 2023-05-15 08:16:46,633]\u001b[0m Trial 497 finished with value: 0.8343666961913198 and parameters: {'n_estimators': 102, 'criterion': 'gini', 'max_depth': 33, 'min_samples_split': 26, 'min_samples_leaf': 3, 'max_features': 'sqrt', 'bootstrap': False}. Best is trial 223 with value: 0.8806228373702423.\u001b[0m\n"
     ]
    },
    {
     "name": "stdout",
     "output_type": "stream",
     "text": [
      "0.8343666961913198, 0.8821676118462508\n"
     ]
    },
    {
     "name": "stderr",
     "output_type": "stream",
     "text": [
      "\u001b[32m[I 2023-05-15 08:17:13,942]\u001b[0m Trial 498 finished with value: 0.8311229000884174 and parameters: {'n_estimators': 129, 'criterion': 'entropy', 'max_depth': 40, 'min_samples_split': 44, 'min_samples_leaf': 2, 'max_features': 'sqrt', 'bootstrap': False}. Best is trial 223 with value: 0.8806228373702423.\u001b[0m\n"
     ]
    },
    {
     "name": "stdout",
     "output_type": "stream",
     "text": [
      "0.8311229000884174, 0.8796471329552615\n"
     ]
    },
    {
     "name": "stderr",
     "output_type": "stream",
     "text": [
      "\u001b[32m[I 2023-05-15 08:17:27,483]\u001b[0m Trial 499 finished with value: 0.7574931880108992 and parameters: {'n_estimators': 84, 'criterion': 'entropy', 'max_depth': 27, 'min_samples_split': 189, 'min_samples_leaf': 1, 'max_features': 'sqrt', 'bootstrap': False}. Best is trial 223 with value: 0.8806228373702423.\u001b[0m\n"
     ]
    },
    {
     "name": "stdout",
     "output_type": "stream",
     "text": [
      "0.7574931880108992, 0.831758034026465\n"
     ]
    },
    {
     "name": "stderr",
     "output_type": "stream",
     "text": [
      "\u001b[32m[I 2023-05-15 08:17:44,307]\u001b[0m Trial 500 finished with value: 0.6427221172022684 and parameters: {'n_estimators': 207, 'criterion': 'gini', 'max_depth': 14, 'min_samples_split': 9, 'min_samples_leaf': 160, 'max_features': 'sqrt', 'bootstrap': False}. Best is trial 223 with value: 0.8806228373702423.\u001b[0m\n"
     ]
    },
    {
     "name": "stdout",
     "output_type": "stream",
     "text": [
      "0.6427221172022684, 0.7618147448015122\n"
     ]
    },
    {
     "name": "stderr",
     "output_type": "stream",
     "text": [
      "\u001b[32m[I 2023-05-15 08:19:10,378]\u001b[0m Trial 501 finished with value: 0.8646288209606987 and parameters: {'n_estimators': 438, 'criterion': 'log_loss', 'max_depth': 50, 'min_samples_split': 13, 'min_samples_leaf': 2, 'max_features': 'sqrt', 'bootstrap': False}. Best is trial 223 with value: 0.8806228373702423.\u001b[0m\n"
     ]
    },
    {
     "name": "stdout",
     "output_type": "stream",
     "text": [
      "0.8646288209606987, 0.9023314429741651\n"
     ]
    },
    {
     "name": "stderr",
     "output_type": "stream",
     "text": [
      "\u001b[32m[I 2023-05-15 08:20:53,501]\u001b[0m Trial 502 finished with value: 0.8523725834797891 and parameters: {'n_estimators': 565, 'criterion': 'entropy', 'max_depth': 36, 'min_samples_split': 22, 'min_samples_leaf': 8, 'max_features': 'sqrt', 'bootstrap': False}. Best is trial 223 with value: 0.8806228373702423.\u001b[0m\n"
     ]
    },
    {
     "name": "stdout",
     "output_type": "stream",
     "text": [
      "0.8523725834797891, 0.8941398865784499\n"
     ]
    },
    {
     "name": "stderr",
     "output_type": "stream",
     "text": [
      "\u001b[32m[I 2023-05-15 08:21:48,798]\u001b[0m Trial 503 finished with value: 0.8650519031141868 and parameters: {'n_estimators': 282, 'criterion': 'entropy', 'max_depth': 32, 'min_samples_split': 6, 'min_samples_leaf': 1, 'max_features': 'sqrt', 'bootstrap': False}. Best is trial 223 with value: 0.8806228373702423.\u001b[0m\n"
     ]
    },
    {
     "name": "stdout",
     "output_type": "stream",
     "text": [
      "0.8650519031141868, 0.9017013232514177\n"
     ]
    },
    {
     "name": "stderr",
     "output_type": "stream",
     "text": [
      "\u001b[32m[I 2023-05-15 08:22:00,615]\u001b[0m Trial 504 finished with value: 0.8346595932802829 and parameters: {'n_estimators': 112, 'criterion': 'entropy', 'max_depth': 31, 'min_samples_split': 16, 'min_samples_leaf': 1, 'max_features': 'sqrt', 'bootstrap': True}. Best is trial 223 with value: 0.8806228373702423.\u001b[0m\n"
     ]
    },
    {
     "name": "stdout",
     "output_type": "stream",
     "text": [
      "0.8346595932802829, 0.8821676118462508\n"
     ]
    },
    {
     "name": "stderr",
     "output_type": "stream",
     "text": [
      "\u001b[32m[I 2023-05-15 08:22:49,681]\u001b[0m Trial 505 finished with value: 0.870771899392888 and parameters: {'n_estimators': 329, 'criterion': 'gini', 'max_depth': 45, 'min_samples_split': 10, 'min_samples_leaf': 1, 'max_features': 'sqrt', 'bootstrap': False}. Best is trial 223 with value: 0.8806228373702423.\u001b[0m\n"
     ]
    },
    {
     "name": "stdout",
     "output_type": "stream",
     "text": [
      "0.870771899392888, 0.906112161310649\n"
     ]
    },
    {
     "name": "stderr",
     "output_type": "stream",
     "text": [
      "\u001b[32m[I 2023-05-15 08:23:43,459]\u001b[0m Trial 506 finished with value: 0.7534372135655362 and parameters: {'n_estimators': 384, 'criterion': 'entropy', 'max_depth': 34, 'min_samples_split': 18, 'min_samples_leaf': 39, 'max_features': 'sqrt', 'bootstrap': False}. Best is trial 223 with value: 0.8806228373702423.\u001b[0m\n"
     ]
    },
    {
     "name": "stdout",
     "output_type": "stream",
     "text": [
      "0.7534372135655362, 0.8304977945809704\n"
     ]
    },
    {
     "name": "stderr",
     "output_type": "stream",
     "text": [
      "\u001b[32m[I 2023-05-15 08:24:44,192]\u001b[0m Trial 507 finished with value: 0.7257769652650823 and parameters: {'n_estimators': 486, 'criterion': 'entropy', 'max_depth': 29, 'min_samples_split': 3, 'min_samples_leaf': 63, 'max_features': 'sqrt', 'bootstrap': False}. Best is trial 223 with value: 0.8806228373702423.\u001b[0m\n"
     ]
    },
    {
     "name": "stdout",
     "output_type": "stream",
     "text": [
      "0.7257769652650823, 0.8109640831758034\n"
     ]
    },
    {
     "name": "stderr",
     "output_type": "stream",
     "text": [
      "\u001b[32m[I 2023-05-15 08:27:35,701]\u001b[0m Trial 508 finished with value: 0.870771899392888 and parameters: {'n_estimators': 907, 'criterion': 'entropy', 'max_depth': 37, 'min_samples_split': 11, 'min_samples_leaf': 1, 'max_features': 'sqrt', 'bootstrap': False}. Best is trial 223 with value: 0.8806228373702423.\u001b[0m\n"
     ]
    },
    {
     "name": "stdout",
     "output_type": "stream",
     "text": [
      "0.870771899392888, 0.906112161310649\n"
     ]
    },
    {
     "name": "stderr",
     "output_type": "stream",
     "text": [
      "\u001b[32m[I 2023-05-15 08:27:55,601]\u001b[0m Trial 509 finished with value: 0.7071622846781505 and parameters: {'n_estimators': 228, 'criterion': 'gini', 'max_depth': 7, 'min_samples_split': 4, 'min_samples_leaf': 79, 'max_features': 'sqrt', 'bootstrap': False}. Best is trial 223 with value: 0.8806228373702423.\u001b[0m\n"
     ]
    },
    {
     "name": "stdout",
     "output_type": "stream",
     "text": [
      "0.7071622846781505, 0.796471329552615\n"
     ]
    },
    {
     "name": "stderr",
     "output_type": "stream",
     "text": [
      "\u001b[32m[I 2023-05-15 08:28:06,157]\u001b[0m Trial 510 finished with value: 0.701086956521739 and parameters: {'n_estimators': 119, 'criterion': 'entropy', 'max_depth': 5, 'min_samples_split': 49, 'min_samples_leaf': 21, 'max_features': 'sqrt', 'bootstrap': False}. Best is trial 223 with value: 0.8806228373702423.\u001b[0m\n"
     ]
    },
    {
     "name": "stdout",
     "output_type": "stream",
     "text": [
      "0.701086956521739, 0.7920604914933838\n"
     ]
    },
    {
     "name": "stderr",
     "output_type": "stream",
     "text": [
      "\u001b[32m[I 2023-05-15 08:51:23,632]\u001b[0m Trial 511 finished with value: 0.7782357790601814 and parameters: {'n_estimators': 302, 'criterion': 'entropy', 'max_depth': 13, 'min_samples_split': 41, 'min_samples_leaf': 6, 'max_features': None, 'bootstrap': False}. Best is trial 223 with value: 0.8806228373702423.\u001b[0m\n"
     ]
    },
    {
     "name": "stdout",
     "output_type": "stream",
     "text": [
      "0.7782357790601814, 0.8304977945809704\n"
     ]
    },
    {
     "name": "stderr",
     "output_type": "stream",
     "text": [
      "\u001b[32m[I 2023-05-15 08:52:11,567]\u001b[0m Trial 512 finished with value: 0.7322907083716651 and parameters: {'n_estimators': 366, 'criterion': 'entropy', 'max_depth': 30, 'min_samples_split': 115, 'min_samples_leaf': 42, 'max_features': 'sqrt', 'bootstrap': False}. Best is trial 223 with value: 0.8806228373702423.\u001b[0m\n"
     ]
    },
    {
     "name": "stdout",
     "output_type": "stream",
     "text": [
      "0.7322907083716651, 0.8166351606805293\n"
     ]
    },
    {
     "name": "stderr",
     "output_type": "stream",
     "text": [
      "\u001b[32m[I 2023-05-15 08:52:33,460]\u001b[0m Trial 513 finished with value: 0.8076588337684942 and parameters: {'n_estimators': 189, 'criterion': 'gini', 'max_depth': 10, 'min_samples_split': 5, 'min_samples_leaf': 4, 'max_features': 'sqrt', 'bootstrap': False}. Best is trial 223 with value: 0.8806228373702423.\u001b[0m\n"
     ]
    },
    {
     "name": "stdout",
     "output_type": "stream",
     "text": [
      "0.8076588337684942, 0.8607435412728418\n"
     ]
    },
    {
     "name": "stderr",
     "output_type": "stream",
     "text": [
      "\u001b[32m[I 2023-05-15 08:52:57,881]\u001b[0m Trial 514 finished with value: 0.8699397071490095 and parameters: {'n_estimators': 135, 'criterion': 'entropy', 'max_depth': 20, 'min_samples_split': 3, 'min_samples_leaf': 3, 'max_features': 'sqrt', 'bootstrap': False}. Best is trial 223 with value: 0.8806228373702423.\u001b[0m\n"
     ]
    },
    {
     "name": "stdout",
     "output_type": "stream",
     "text": [
      "0.8699397071490095, 0.9048519218651544\n"
     ]
    },
    {
     "name": "stderr",
     "output_type": "stream",
     "text": [
      "\u001b[32m[I 2023-05-15 08:53:04,489]\u001b[0m Trial 515 finished with value: 0.7231329690346084 and parameters: {'n_estimators': 92, 'criterion': 'entropy', 'max_depth': 28, 'min_samples_split': 6, 'min_samples_leaf': 44, 'max_features': 'sqrt', 'bootstrap': True}. Best is trial 223 with value: 0.8806228373702423.\u001b[0m\n"
     ]
    },
    {
     "name": "stdout",
     "output_type": "stream",
     "text": [
      "0.7231329690346084, 0.8084436042848141\n"
     ]
    },
    {
     "name": "stderr",
     "output_type": "stream",
     "text": [
      "\u001b[32m[I 2023-05-15 08:53:06,559]\u001b[0m Trial 516 finished with value: 0.650853889943074 and parameters: {'n_estimators': 72, 'criterion': 'entropy', 'max_depth': 23, 'min_samples_split': 2, 'min_samples_leaf': 154, 'max_features': 'log2', 'bootstrap': False}. Best is trial 223 with value: 0.8806228373702423.\u001b[0m\n"
     ]
    },
    {
     "name": "stdout",
     "output_type": "stream",
     "text": [
      "0.650853889943074, 0.7681159420289855\n"
     ]
    },
    {
     "name": "stderr",
     "output_type": "stream",
     "text": [
      "\u001b[32m[I 2023-05-15 08:53:14,257]\u001b[0m Trial 517 finished with value: 0.8075539568345323 and parameters: {'n_estimators': 61, 'criterion': 'gini', 'max_depth': 39, 'min_samples_split': 9, 'min_samples_leaf': 15, 'max_features': 'sqrt', 'bootstrap': False}. Best is trial 223 with value: 0.8806228373702423.\u001b[0m\n"
     ]
    },
    {
     "name": "stdout",
     "output_type": "stream",
     "text": [
      "0.8075539568345323, 0.8651543793320731\n"
     ]
    },
    {
     "name": "stderr",
     "output_type": "stream",
     "text": [
      "\u001b[32m[I 2023-05-15 08:53:31,286]\u001b[0m Trial 518 finished with value: 0.7898550724637681 and parameters: {'n_estimators': 106, 'criterion': 'entropy', 'max_depth': 26, 'min_samples_split': 86, 'min_samples_leaf': 8, 'max_features': 'sqrt', 'bootstrap': False}. Best is trial 223 with value: 0.8806228373702423.\u001b[0m\n"
     ]
    },
    {
     "name": "stdout",
     "output_type": "stream",
     "text": [
      "0.7898550724637681, 0.8538122243226213\n"
     ]
    },
    {
     "name": "stderr",
     "output_type": "stream",
     "text": [
      "\u001b[32m[I 2023-05-15 08:53:52,093]\u001b[0m Trial 519 finished with value: 0.8142857142857144 and parameters: {'n_estimators': 128, 'criterion': 'entropy', 'max_depth': 25, 'min_samples_split': 4, 'min_samples_leaf': 17, 'max_features': 'sqrt', 'bootstrap': False}. Best is trial 223 with value: 0.8806228373702423.\u001b[0m\n"
     ]
    },
    {
     "name": "stdout",
     "output_type": "stream",
     "text": [
      "0.8142857142857144, 0.868935097668557\n"
     ]
    },
    {
     "name": "stderr",
     "output_type": "stream",
     "text": [
      "\u001b[32m[I 2023-05-15 08:54:09,399]\u001b[0m Trial 520 finished with value: 0.7661141804788214 and parameters: {'n_estimators': 150, 'criterion': 'gini', 'max_depth': 19, 'min_samples_split': 143, 'min_samples_leaf': 9, 'max_features': 'sqrt', 'bootstrap': False}. Best is trial 223 with value: 0.8806228373702423.\u001b[0m\n"
     ]
    },
    {
     "name": "stdout",
     "output_type": "stream",
     "text": [
      "0.7661141804788214, 0.8399495904221802\n"
     ]
    },
    {
     "name": "stderr",
     "output_type": "stream",
     "text": [
      "\u001b[32m[I 2023-05-15 08:54:28,506]\u001b[0m Trial 521 finished with value: 0.8278322925958964 and parameters: {'n_estimators': 120, 'criterion': 'entropy', 'max_depth': 33, 'min_samples_split': 7, 'min_samples_leaf': 13, 'max_features': 'sqrt', 'bootstrap': False}. Best is trial 223 with value: 0.8806228373702423.\u001b[0m\n"
     ]
    },
    {
     "name": "stdout",
     "output_type": "stream",
     "text": [
      "0.8278322925958964, 0.8783868935097668\n"
     ]
    },
    {
     "name": "stderr",
     "output_type": "stream",
     "text": [
      "\u001b[32m[I 2023-05-15 08:54:57,903]\u001b[0m Trial 522 finished with value: 0.8645833333333333 and parameters: {'n_estimators': 168, 'criterion': 'entropy', 'max_depth': 35, 'min_samples_split': 8, 'min_samples_leaf': 1, 'max_features': 'sqrt', 'bootstrap': False}. Best is trial 223 with value: 0.8806228373702423.\u001b[0m\n"
     ]
    },
    {
     "name": "stdout",
     "output_type": "stream",
     "text": [
      "0.8645833333333333, 0.9017013232514177\n"
     ]
    },
    {
     "name": "stderr",
     "output_type": "stream",
     "text": [
      "\u001b[32m[I 2023-05-15 08:55:14,435]\u001b[0m Trial 523 finished with value: 0.8118811881188119 and parameters: {'n_estimators': 99, 'criterion': 'entropy', 'max_depth': 47, 'min_samples_split': 56, 'min_samples_leaf': 1, 'max_features': 'sqrt', 'bootstrap': False}. Best is trial 223 with value: 0.8806228373702423.\u001b[0m\n"
     ]
    },
    {
     "name": "stdout",
     "output_type": "stream",
     "text": [
      "0.8118811881188119, 0.8683049779458097\n"
     ]
    },
    {
     "name": "stderr",
     "output_type": "stream",
     "text": [
      "\u001b[32m[I 2023-05-15 08:55:34,417]\u001b[0m Trial 524 finished with value: 0.6429240862230552 and parameters: {'n_estimators': 244, 'criterion': 'log_loss', 'max_depth': 15, 'min_samples_split': 28, 'min_samples_leaf': 182, 'max_features': 'sqrt', 'bootstrap': False}. Best is trial 223 with value: 0.8806228373702423.\u001b[0m\n"
     ]
    },
    {
     "name": "stdout",
     "output_type": "stream",
     "text": [
      "0.6429240862230552, 0.7599243856332704\n"
     ]
    },
    {
     "name": "stderr",
     "output_type": "stream",
     "text": [
      "\u001b[32m[I 2023-05-15 08:55:38,013]\u001b[0m Trial 525 finished with value: 0.6794871794871795 and parameters: {'n_estimators': 50, 'criterion': 'gini', 'max_depth': 6, 'min_samples_split': 6, 'min_samples_leaf': 99, 'max_features': 'sqrt', 'bootstrap': False}. Best is trial 223 with value: 0.8806228373702423.\u001b[0m\n"
     ]
    },
    {
     "name": "stdout",
     "output_type": "stream",
     "text": [
      "0.6794871794871795, 0.7794580970384373\n"
     ]
    },
    {
     "name": "stderr",
     "output_type": "stream",
     "text": [
      "\u001b[32m[I 2023-05-15 08:55:55,383]\u001b[0m Trial 526 finished with value: 0.8355321020228672 and parameters: {'n_estimators': 113, 'criterion': 'entropy', 'max_depth': 31, 'min_samples_split': 36, 'min_samples_leaf': 3, 'max_features': 'sqrt', 'bootstrap': False}. Best is trial 223 with value: 0.8806228373702423.\u001b[0m\n"
     ]
    },
    {
     "name": "stdout",
     "output_type": "stream",
     "text": [
      "0.8355321020228672, 0.8821676118462508\n"
     ]
    },
    {
     "name": "stderr",
     "output_type": "stream",
     "text": [
      "\u001b[32m[I 2023-05-15 08:56:00,611]\u001b[0m Trial 527 finished with value: 0.8321554770318021 and parameters: {'n_estimators': 58, 'criterion': 'entropy', 'max_depth': 32, 'min_samples_split': 17, 'min_samples_leaf': 5, 'max_features': 'sqrt', 'bootstrap': True}. Best is trial 223 with value: 0.8806228373702423.\u001b[0m\n"
     ]
    },
    {
     "name": "stdout",
     "output_type": "stream",
     "text": [
      "0.8321554770318021, 0.8802772526780088\n"
     ]
    },
    {
     "name": "stderr",
     "output_type": "stream",
     "text": [
      "\u001b[32m[I 2023-05-15 08:56:15,065]\u001b[0m Trial 528 finished with value: 0.8733624454148471 and parameters: {'n_estimators': 82, 'criterion': 'entropy', 'max_depth': 43, 'min_samples_split': 2, 'min_samples_leaf': 1, 'max_features': 'sqrt', 'bootstrap': False}. Best is trial 223 with value: 0.8806228373702423.\u001b[0m\n"
     ]
    },
    {
     "name": "stdout",
     "output_type": "stream",
     "text": [
      "0.8733624454148471, 0.9086326402016384\n"
     ]
    },
    {
     "name": "stderr",
     "output_type": "stream",
     "text": [
      "\u001b[32m[I 2023-05-15 08:56:24,178]\u001b[0m Trial 529 finished with value: 0.8693379790940766 and parameters: {'n_estimators': 67, 'criterion': 'gini', 'max_depth': 36, 'min_samples_split': 3, 'min_samples_leaf': 1, 'max_features': 'sqrt', 'bootstrap': False}. Best is trial 223 with value: 0.8806228373702423.\u001b[0m\n"
     ]
    },
    {
     "name": "stdout",
     "output_type": "stream",
     "text": [
      "0.8693379790940766, 0.9054820415879017\n"
     ]
    },
    {
     "name": "stderr",
     "output_type": "stream",
     "text": [
      "\u001b[32m[I 2023-05-15 08:56:43,689]\u001b[0m Trial 530 finished with value: 0.7833182230281052 and parameters: {'n_estimators': 141, 'criterion': 'entropy', 'max_depth': 34, 'min_samples_split': 83, 'min_samples_leaf': 16, 'max_features': 'sqrt', 'bootstrap': False}. Best is trial 223 with value: 0.8806228373702423.\u001b[0m\n"
     ]
    },
    {
     "name": "stdout",
     "output_type": "stream",
     "text": [
      "0.7833182230281052, 0.84940138626339\n"
     ]
    },
    {
     "name": "stderr",
     "output_type": "stream",
     "text": [
      "\u001b[32m[I 2023-05-15 08:57:19,466]\u001b[0m Trial 531 finished with value: 0.8714408973252804 and parameters: {'n_estimators': 216, 'criterion': 'entropy', 'max_depth': 30, 'min_samples_split': 5, 'min_samples_leaf': 2, 'max_features': 'sqrt', 'bootstrap': False}. Best is trial 223 with value: 0.8806228373702423.\u001b[0m\n"
     ]
    },
    {
     "name": "stdout",
     "output_type": "stream",
     "text": [
      "0.8714408973252804, 0.906112161310649\n"
     ]
    },
    {
     "name": "stderr",
     "output_type": "stream",
     "text": [
      "\u001b[32m[I 2023-05-15 08:57:36,819]\u001b[0m Trial 532 finished with value: 0.8616187989556137 and parameters: {'n_estimators': 106, 'criterion': 'entropy', 'max_depth': 28, 'min_samples_split': 9, 'min_samples_leaf': 4, 'max_features': 'sqrt', 'bootstrap': False}. Best is trial 223 with value: 0.8806228373702423.\u001b[0m\n"
     ]
    },
    {
     "name": "stdout",
     "output_type": "stream",
     "text": [
      "0.8616187989556137, 0.8998109640831758\n"
     ]
    },
    {
     "name": "stderr",
     "output_type": "stream",
     "text": [
      "\u001b[32m[I 2023-05-15 09:04:37,572]\u001b[0m Trial 533 finished with value: 0.7092592592592593 and parameters: {'n_estimators': 121, 'criterion': 'gini', 'max_depth': 32, 'min_samples_split': 7, 'min_samples_leaf': 57, 'max_features': None, 'bootstrap': False}. Best is trial 223 with value: 0.8806228373702423.\u001b[0m\n"
     ]
    },
    {
     "name": "stdout",
     "output_type": "stream",
     "text": [
      "0.7092592592592593, 0.8021424070573409\n"
     ]
    },
    {
     "name": "stderr",
     "output_type": "stream",
     "text": [
      "\u001b[32m[I 2023-05-15 09:04:57,881]\u001b[0m Trial 534 finished with value: 0.8675958188153309 and parameters: {'n_estimators': 94, 'criterion': 'entropy', 'max_depth': 38, 'min_samples_split': 10, 'min_samples_leaf': 1, 'max_features': 'sqrt', 'bootstrap': False}. Best is trial 223 with value: 0.8806228373702423.\u001b[0m\n"
     ]
    },
    {
     "name": "stdout",
     "output_type": "stream",
     "text": [
      "0.8675958188153309, 0.9042218021424071\n"
     ]
    },
    {
     "name": "stderr",
     "output_type": "stream",
     "text": [
      "\u001b[32m[I 2023-05-15 09:05:27,936]\u001b[0m Trial 535 finished with value: 0.8438596491228069 and parameters: {'n_estimators': 157, 'criterion': 'entropy', 'max_depth': 24, 'min_samples_split': 4, 'min_samples_leaf': 10, 'max_features': 'sqrt', 'bootstrap': False}. Best is trial 223 with value: 0.8806228373702423.\u001b[0m\n"
     ]
    },
    {
     "name": "stdout",
     "output_type": "stream",
     "text": [
      "0.8438596491228069, 0.8878386893509767\n"
     ]
    },
    {
     "name": "stderr",
     "output_type": "stream",
     "text": [
      "\u001b[32m[I 2023-05-15 09:05:41,697]\u001b[0m Trial 536 finished with value: 0.7057728119180633 and parameters: {'n_estimators': 134, 'criterion': 'gini', 'max_depth': 50, 'min_samples_split': 12, 'min_samples_leaf': 71, 'max_features': 'sqrt', 'bootstrap': False}. Best is trial 223 with value: 0.8806228373702423.\u001b[0m\n"
     ]
    },
    {
     "name": "stdout",
     "output_type": "stream",
     "text": [
      "0.7057728119180633, 0.8008821676118463\n"
     ]
    },
    {
     "name": "stderr",
     "output_type": "stream",
     "text": [
      "\u001b[32m[I 2023-05-15 09:05:46,715]\u001b[0m Trial 537 finished with value: 0.8631211857018308 and parameters: {'n_estimators': 77, 'criterion': 'entropy', 'max_depth': 41, 'min_samples_split': 2, 'min_samples_leaf': 3, 'max_features': 'log2', 'bootstrap': False}. Best is trial 223 with value: 0.8806228373702423.\u001b[0m\n"
     ]
    },
    {
     "name": "stdout",
     "output_type": "stream",
     "text": [
      "0.8631211857018308, 0.9010712035286704\n"
     ]
    },
    {
     "name": "stderr",
     "output_type": "stream",
     "text": [
      "\u001b[32m[I 2023-05-15 09:06:21,076]\u001b[0m Trial 538 finished with value: 0.8493870402802103 and parameters: {'n_estimators': 278, 'criterion': 'entropy', 'max_depth': 45, 'min_samples_split': 15, 'min_samples_leaf': 1, 'max_features': 'sqrt', 'bootstrap': True}. Best is trial 223 with value: 0.8806228373702423.\u001b[0m\n"
     ]
    },
    {
     "name": "stdout",
     "output_type": "stream",
     "text": [
      "0.8493870402802103, 0.8916194076874606\n"
     ]
    },
    {
     "name": "stderr",
     "output_type": "stream",
     "text": [
      "\u001b[32m[I 2023-05-15 09:06:38,136]\u001b[0m Trial 539 finished with value: 0.7838565022421524 and parameters: {'n_estimators': 101, 'criterion': 'entropy', 'max_depth': 34, 'min_samples_split': 105, 'min_samples_leaf': 6, 'max_features': 'sqrt', 'bootstrap': False}. Best is trial 223 with value: 0.8806228373702423.\u001b[0m\n"
     ]
    },
    {
     "name": "stdout",
     "output_type": "stream",
     "text": [
      "0.7838565022421524, 0.8481411468178954\n"
     ]
    },
    {
     "name": "stderr",
     "output_type": "stream",
     "text": [
      "\u001b[32m[I 2023-05-15 09:06:54,501]\u001b[0m Trial 540 finished with value: 0.8682842287694973 and parameters: {'n_estimators': 112, 'criterion': 'gini', 'max_depth': 27, 'min_samples_split': 8, 'min_samples_leaf': 1, 'max_features': 'sqrt', 'bootstrap': False}. Best is trial 223 with value: 0.8806228373702423.\u001b[0m\n"
     ]
    },
    {
     "name": "stdout",
     "output_type": "stream",
     "text": [
      "0.8682842287694973, 0.9042218021424071\n"
     ]
    },
    {
     "name": "stderr",
     "output_type": "stream",
     "text": [
      "\u001b[32m[I 2023-05-15 09:07:23,190]\u001b[0m Trial 541 finished with value: 0.8135593220338982 and parameters: {'n_estimators': 182, 'criterion': 'entropy', 'max_depth': 36, 'min_samples_split': 45, 'min_samples_leaf': 11, 'max_features': 'sqrt', 'bootstrap': False}. Best is trial 223 with value: 0.8806228373702423.\u001b[0m\n"
     ]
    },
    {
     "name": "stdout",
     "output_type": "stream",
     "text": [
      "0.8135593220338982, 0.8683049779458097\n"
     ]
    },
    {
     "name": "stderr",
     "output_type": "stream",
     "text": [
      "\u001b[32m[I 2023-05-15 09:07:42,040]\u001b[0m Trial 542 finished with value: 0.8128916741271262 and parameters: {'n_estimators': 122, 'criterion': 'entropy', 'max_depth': 29, 'min_samples_split': 61, 'min_samples_leaf': 2, 'max_features': 'sqrt', 'bootstrap': False}. Best is trial 223 with value: 0.8806228373702423.\u001b[0m\n"
     ]
    },
    {
     "name": "stdout",
     "output_type": "stream",
     "text": [
      "0.8128916741271262, 0.8683049779458097\n"
     ]
    },
    {
     "name": "stderr",
     "output_type": "stream",
     "text": [
      "\u001b[32m[I 2023-05-15 09:08:50,606]\u001b[0m Trial 543 finished with value: 0.8039568345323741 and parameters: {'n_estimators': 442, 'criterion': 'entropy', 'max_depth': 33, 'min_samples_split': 6, 'min_samples_leaf': 20, 'max_features': 'sqrt', 'bootstrap': False}. Best is trial 223 with value: 0.8806228373702423.\u001b[0m\n"
     ]
    },
    {
     "name": "stdout",
     "output_type": "stream",
     "text": [
      "0.8039568345323741, 0.8626339004410838\n"
     ]
    },
    {
     "name": "stderr",
     "output_type": "stream",
     "text": [
      "\u001b[32m[I 2023-05-15 09:09:07,229]\u001b[0m Trial 544 finished with value: 0.8415492957746479 and parameters: {'n_estimators': 88, 'criterion': 'log_loss', 'max_depth': 47, 'min_samples_split': 31, 'min_samples_leaf': 1, 'max_features': 'sqrt', 'bootstrap': False}. Best is trial 223 with value: 0.8806228373702423.\u001b[0m\n"
     ]
    },
    {
     "name": "stdout",
     "output_type": "stream",
     "text": [
      "0.8415492957746479, 0.8865784499054821\n"
     ]
    },
    {
     "name": "stderr",
     "output_type": "stream",
     "text": [
      "\u001b[32m[I 2023-05-15 09:09:50,775]\u001b[0m Trial 545 finished with value: 0.8352027610008627 and parameters: {'n_estimators': 351, 'criterion': 'gini', 'max_depth': 12, 'min_samples_split': 3, 'min_samples_leaf': 3, 'max_features': 'sqrt', 'bootstrap': False}. Best is trial 223 with value: 0.8806228373702423.\u001b[0m\n"
     ]
    },
    {
     "name": "stdout",
     "output_type": "stream",
     "text": [
      "0.8352027610008627, 0.8796471329552615\n"
     ]
    },
    {
     "name": "stderr",
     "output_type": "stream",
     "text": [
      "\u001b[32m[I 2023-05-15 09:10:02,143]\u001b[0m Trial 546 finished with value: 0.8546562228024368 and parameters: {'n_estimators': 65, 'criterion': 'entropy', 'max_depth': 31, 'min_samples_split': 5, 'min_samples_leaf': 7, 'max_features': 'sqrt', 'bootstrap': False}. Best is trial 223 with value: 0.8806228373702423.\u001b[0m\n"
     ]
    },
    {
     "name": "stdout",
     "output_type": "stream",
     "text": [
      "0.8546562228024368, 0.8947700063011972\n"
     ]
    },
    {
     "name": "stderr",
     "output_type": "stream",
     "text": [
      "\u001b[32m[I 2023-05-15 09:10:28,782]\u001b[0m Trial 547 finished with value: 0.750915750915751 and parameters: {'n_estimators': 196, 'criterion': 'entropy', 'max_depth': 37, 'min_samples_split': 4, 'min_samples_leaf': 41, 'max_features': 'sqrt', 'bootstrap': False}. Best is trial 223 with value: 0.8806228373702423.\u001b[0m\n"
     ]
    },
    {
     "name": "stdout",
     "output_type": "stream",
     "text": [
      "0.750915750915751, 0.8286074354127284\n"
     ]
    },
    {
     "name": "stderr",
     "output_type": "stream",
     "text": [
      "\u001b[32m[I 2023-05-15 09:10:55,236]\u001b[0m Trial 548 finished with value: 0.6402266288951841 and parameters: {'n_estimators': 296, 'criterion': 'entropy', 'max_depth': 30, 'min_samples_split': 48, 'min_samples_leaf': 167, 'max_features': 'sqrt', 'bootstrap': False}. Best is trial 223 with value: 0.8806228373702423.\u001b[0m\n"
     ]
    },
    {
     "name": "stdout",
     "output_type": "stream",
     "text": [
      "0.6402266288951841, 0.7599243856332704\n"
     ]
    },
    {
     "name": "stderr",
     "output_type": "stream",
     "text": [
      "\u001b[32m[I 2023-05-15 09:13:18,919]\u001b[0m Trial 549 finished with value: 0.8692640692640692 and parameters: {'n_estimators': 1762, 'criterion': 'gini', 'max_depth': 35, 'min_samples_split': 7, 'min_samples_leaf': 1, 'max_features': 'sqrt', 'bootstrap': True}. Best is trial 223 with value: 0.8806228373702423.\u001b[0m\n"
     ]
    },
    {
     "name": "stdout",
     "output_type": "stream",
     "text": [
      "0.8692640692640692, 0.9048519218651544\n"
     ]
    },
    {
     "name": "stderr",
     "output_type": "stream",
     "text": [
      "\u001b[32m[I 2023-05-15 09:13:28,395]\u001b[0m Trial 550 finished with value: 0.8544027898866609 and parameters: {'n_estimators': 55, 'criterion': 'entropy', 'max_depth': 32, 'min_samples_split': 11, 'min_samples_leaf': 7, 'max_features': 'sqrt', 'bootstrap': False}. Best is trial 223 with value: 0.8806228373702423.\u001b[0m\n"
     ]
    },
    {
     "name": "stdout",
     "output_type": "stream",
     "text": [
      "0.8544027898866609, 0.8947700063011972\n"
     ]
    },
    {
     "name": "stderr",
     "output_type": "stream",
     "text": [
      "\u001b[32m[I 2023-05-15 09:13:47,375]\u001b[0m Trial 551 finished with value: 0.7860340196956132 and parameters: {'n_estimators': 129, 'criterion': 'entropy', 'max_depth': 39, 'min_samples_split': 110, 'min_samples_leaf': 5, 'max_features': 'sqrt', 'bootstrap': False}. Best is trial 223 with value: 0.8806228373702423.\u001b[0m\n"
     ]
    },
    {
     "name": "stdout",
     "output_type": "stream",
     "text": [
      "0.7860340196956132, 0.84940138626339\n"
     ]
    },
    {
     "name": "stderr",
     "output_type": "stream",
     "text": [
      "\u001b[32m[I 2023-05-15 09:14:11,382]\u001b[0m Trial 552 finished with value: 0.8371278458844135 and parameters: {'n_estimators': 145, 'criterion': 'entropy', 'max_depth': 41, 'min_samples_split': 34, 'min_samples_leaf': 1, 'max_features': 'sqrt', 'bootstrap': False}. Best is trial 223 with value: 0.8806228373702423.\u001b[0m\n"
     ]
    },
    {
     "name": "stdout",
     "output_type": "stream",
     "text": [
      "0.8371278458844135, 0.8827977315689981\n"
     ]
    },
    {
     "name": "stderr",
     "output_type": "stream",
     "text": [
      "\u001b[32m[I 2023-05-15 09:15:11,603]\u001b[0m Trial 553 finished with value: 0.8576388888888888 and parameters: {'n_estimators': 466, 'criterion': 'gini', 'max_depth': 22, 'min_samples_split': 8, 'min_samples_leaf': 4, 'max_features': 'sqrt', 'bootstrap': False}. Best is trial 223 with value: 0.8806228373702423.\u001b[0m\n"
     ]
    },
    {
     "name": "stdout",
     "output_type": "stream",
     "text": [
      "0.8576388888888888, 0.8966603654694392\n"
     ]
    },
    {
     "name": "stderr",
     "output_type": "stream",
     "text": [
      "\u001b[32m[I 2023-05-15 09:15:30,768]\u001b[0m Trial 554 finished with value: 0.861111111111111 and parameters: {'n_estimators': 110, 'criterion': 'entropy', 'max_depth': 33, 'min_samples_split': 14, 'min_samples_leaf': 2, 'max_features': 'sqrt', 'bootstrap': False}. Best is trial 223 with value: 0.8806228373702423.\u001b[0m\n"
     ]
    },
    {
     "name": "stdout",
     "output_type": "stream",
     "text": [
      "0.861111111111111, 0.8991808443604284\n"
     ]
    },
    {
     "name": "stderr",
     "output_type": "stream",
     "text": [
      "\u001b[32m[I 2023-05-15 09:37:39,192]\u001b[0m Trial 555 finished with value: 0.7917737789203085 and parameters: {'n_estimators': 262, 'criterion': 'entropy', 'max_depth': 26, 'min_samples_split': 19, 'min_samples_leaf': 11, 'max_features': None, 'bootstrap': False}. Best is trial 223 with value: 0.8806228373702423.\u001b[0m\n"
     ]
    },
    {
     "name": "stdout",
     "output_type": "stream",
     "text": [
      "0.7917737789203085, 0.8468809073724007\n"
     ]
    },
    {
     "name": "stderr",
     "output_type": "stream",
     "text": [
      "\u001b[32m[I 2023-05-15 09:37:48,708]\u001b[0m Trial 556 finished with value: 0.7944969905417024 and parameters: {'n_estimators': 96, 'criterion': 'gini', 'max_depth': 8, 'min_samples_split': 2, 'min_samples_leaf': 1, 'max_features': 'sqrt', 'bootstrap': False}. Best is trial 223 with value: 0.8806228373702423.\u001b[0m\n"
     ]
    },
    {
     "name": "stdout",
     "output_type": "stream",
     "text": [
      "0.7944969905417024, 0.84940138626339\n"
     ]
    },
    {
     "name": "stderr",
     "output_type": "stream",
     "text": [
      "\u001b[32m[I 2023-05-15 09:40:53,070]\u001b[0m Trial 557 finished with value: 0.8650042992261393 and parameters: {'n_estimators': 1169, 'criterion': 'entropy', 'max_depth': 17, 'min_samples_split': 3, 'min_samples_leaf': 1, 'max_features': 'sqrt', 'bootstrap': False}. Best is trial 223 with value: 0.8806228373702423.\u001b[0m\n"
     ]
    },
    {
     "name": "stdout",
     "output_type": "stream",
     "text": [
      "0.8650042992261393, 0.9010712035286704\n"
     ]
    },
    {
     "name": "stderr",
     "output_type": "stream",
     "text": [
      "\u001b[32m[I 2023-05-15 09:42:38,056]\u001b[0m Trial 558 finished with value: 0.8691910499139415 and parameters: {'n_estimators': 552, 'criterion': 'entropy', 'max_depth': 25, 'min_samples_split': 13, 'min_samples_leaf': 1, 'max_features': 'sqrt', 'bootstrap': False}. Best is trial 223 with value: 0.8806228373702423.\u001b[0m\n"
     ]
    },
    {
     "name": "stdout",
     "output_type": "stream",
     "text": [
      "0.8691910499139415, 0.9042218021424071\n"
     ]
    },
    {
     "name": "stderr",
     "output_type": "stream",
     "text": [
      "\u001b[32m[I 2023-05-15 09:42:53,146]\u001b[0m Trial 559 finished with value: 0.7211009174311926 and parameters: {'n_estimators': 115, 'criterion': 'entropy', 'max_depth': 45, 'min_samples_split': 10, 'min_samples_leaf': 64, 'max_features': 'sqrt', 'bootstrap': False}. Best is trial 223 with value: 0.8806228373702423.\u001b[0m\n"
     ]
    },
    {
     "name": "stdout",
     "output_type": "stream",
     "text": [
      "0.7211009174311926, 0.8084436042848141\n"
     ]
    },
    {
     "name": "stderr",
     "output_type": "stream",
     "text": [
      "\u001b[32m[I 2023-05-15 09:43:07,013]\u001b[0m Trial 560 finished with value: 0.7495395948434622 and parameters: {'n_estimators': 104, 'criterion': 'gini', 'max_depth': 31, 'min_samples_split': 106, 'min_samples_leaf': 26, 'max_features': 'sqrt', 'bootstrap': False}. Best is trial 223 with value: 0.8806228373702423.\u001b[0m\n"
     ]
    },
    {
     "name": "stdout",
     "output_type": "stream",
     "text": [
      "0.7495395948434622, 0.8286074354127284\n"
     ]
    },
    {
     "name": "stderr",
     "output_type": "stream",
     "text": [
      "\u001b[32m[I 2023-05-15 09:43:15,120]\u001b[0m Trial 561 finished with value: 0.7941712204007285 and parameters: {'n_estimators': 234, 'criterion': 'entropy', 'max_depth': 29, 'min_samples_split': 39, 'min_samples_leaf': 3, 'max_features': 'log2', 'bootstrap': True}. Best is trial 223 with value: 0.8806228373702423.\u001b[0m\n"
     ]
    },
    {
     "name": "stdout",
     "output_type": "stream",
     "text": [
      "0.7941712204007285, 0.8575929426591052\n"
     ]
    },
    {
     "name": "stderr",
     "output_type": "stream",
     "text": [
      "\u001b[32m[I 2023-05-15 09:43:28,684]\u001b[0m Trial 562 finished with value: 0.8249566724436742 and parameters: {'n_estimators': 74, 'criterion': 'entropy', 'max_depth': 14, 'min_samples_split': 22, 'min_samples_leaf': 2, 'max_features': 'sqrt', 'bootstrap': False}. Best is trial 223 with value: 0.8806228373702423.\u001b[0m\n"
     ]
    },
    {
     "name": "stdout",
     "output_type": "stream",
     "text": [
      "0.8249566724436742, 0.872715816005041\n"
     ]
    },
    {
     "name": "stderr",
     "output_type": "stream",
     "text": [
      "\u001b[32m[I 2023-05-15 09:43:38,770]\u001b[0m Trial 563 finished with value: 0.7097933513027852 and parameters: {'n_estimators': 85, 'criterion': 'entropy', 'max_depth': 48, 'min_samples_split': 8, 'min_samples_leaf': 100, 'max_features': 'sqrt', 'bootstrap': False}. Best is trial 223 with value: 0.8806228373702423.\u001b[0m\n"
     ]
    },
    {
     "name": "stdout",
     "output_type": "stream",
     "text": [
      "0.7097933513027852, 0.796471329552615\n"
     ]
    },
    {
     "name": "stderr",
     "output_type": "stream",
     "text": [
      "\u001b[32m[I 2023-05-15 09:44:00,190]\u001b[0m Trial 564 finished with value: 0.8524017467248908 and parameters: {'n_estimators': 162, 'criterion': 'gini', 'max_depth': 50, 'min_samples_split': 4, 'min_samples_leaf': 4, 'max_features': 'sqrt', 'bootstrap': False}. Best is trial 223 with value: 0.8806228373702423.\u001b[0m\n"
     ]
    },
    {
     "name": "stdout",
     "output_type": "stream",
     "text": [
      "0.8524017467248908, 0.8935097668557026\n"
     ]
    },
    {
     "name": "stderr",
     "output_type": "stream",
     "text": [
      "\u001b[32m[I 2023-05-15 09:44:31,850]\u001b[0m Trial 565 finished with value: 0.6409048067860509 and parameters: {'n_estimators': 388, 'criterion': 'entropy', 'max_depth': 35, 'min_samples_split': 92, 'min_samples_leaf': 169, 'max_features': 'sqrt', 'bootstrap': False}. Best is trial 223 with value: 0.8806228373702423.\u001b[0m\n"
     ]
    },
    {
     "name": "stdout",
     "output_type": "stream",
     "text": [
      "0.6409048067860509, 0.7599243856332704\n"
     ]
    },
    {
     "name": "stderr",
     "output_type": "stream",
     "text": [
      "\u001b[32m[I 2023-05-15 09:45:36,663]\u001b[0m Trial 566 finished with value: 0.8480565371024734 and parameters: {'n_estimators': 417, 'criterion': 'entropy', 'max_depth': 43, 'min_samples_split': 20, 'min_samples_leaf': 10, 'max_features': 'sqrt', 'bootstrap': False}. Best is trial 223 with value: 0.8806228373702423.\u001b[0m\n"
     ]
    },
    {
     "name": "stdout",
     "output_type": "stream",
     "text": [
      "0.8480565371024734, 0.8916194076874606\n"
     ]
    },
    {
     "name": "stderr",
     "output_type": "stream",
     "text": [
      "\u001b[32m[I 2023-05-15 09:46:35,248]\u001b[0m Trial 567 finished with value: 0.8690372940156115 and parameters: {'n_estimators': 329, 'criterion': 'log_loss', 'max_depth': 37, 'min_samples_split': 5, 'min_samples_leaf': 1, 'max_features': 'sqrt', 'bootstrap': False}. Best is trial 223 with value: 0.8806228373702423.\u001b[0m\n"
     ]
    },
    {
     "name": "stdout",
     "output_type": "stream",
     "text": [
      "0.8690372940156115, 0.9048519218651544\n"
     ]
    },
    {
     "name": "stderr",
     "output_type": "stream",
     "text": [
      "\u001b[32m[I 2023-05-15 09:46:54,586]\u001b[0m Trial 568 finished with value: 0.7935076645626691 and parameters: {'n_estimators': 129, 'criterion': 'entropy', 'max_depth': 28, 'min_samples_split': 80, 'min_samples_leaf': 8, 'max_features': 'sqrt', 'bootstrap': False}. Best is trial 223 with value: 0.8806228373702423.\u001b[0m\n"
     ]
    },
    {
     "name": "stdout",
     "output_type": "stream",
     "text": [
      "0.7935076645626691, 0.8557025834908633\n"
     ]
    },
    {
     "name": "stderr",
     "output_type": "stream",
     "text": [
      "\u001b[32m[I 2023-05-15 09:47:06,232]\u001b[0m Trial 569 finished with value: 0.7468123861566485 and parameters: {'n_estimators': 119, 'criterion': 'gini', 'max_depth': 34, 'min_samples_split': 73, 'min_samples_leaf': 45, 'max_features': 'sqrt', 'bootstrap': False}. Best is trial 223 with value: 0.8806228373702423.\u001b[0m\n"
     ]
    },
    {
     "name": "stdout",
     "output_type": "stream",
     "text": [
      "0.7468123861566485, 0.8248267170762444\n"
     ]
    },
    {
     "name": "stderr",
     "output_type": "stream",
     "text": [
      "\u001b[32m[I 2023-05-15 09:49:03,237]\u001b[0m Trial 570 finished with value: 0.8722849695916594 and parameters: {'n_estimators': 644, 'criterion': 'entropy', 'max_depth': 32, 'min_samples_split': 2, 'min_samples_leaf': 1, 'max_features': 'sqrt', 'bootstrap': False}. Best is trial 223 with value: 0.8806228373702423.\u001b[0m\n"
     ]
    },
    {
     "name": "stdout",
     "output_type": "stream",
     "text": [
      "0.8722849695916594, 0.9073724007561437\n"
     ]
    },
    {
     "name": "stderr",
     "output_type": "stream",
     "text": [
      "\u001b[32m[I 2023-05-15 09:49:28,189]\u001b[0m Trial 571 finished with value: 0.8719723183391004 and parameters: {'n_estimators': 137, 'criterion': 'entropy', 'max_depth': 30, 'min_samples_split': 7, 'min_samples_leaf': 1, 'max_features': 'sqrt', 'bootstrap': False}. Best is trial 223 with value: 0.8806228373702423.\u001b[0m\n"
     ]
    },
    {
     "name": "stdout",
     "output_type": "stream",
     "text": [
      "0.8719723183391004, 0.9067422810333964\n"
     ]
    },
    {
     "name": "stderr",
     "output_type": "stream",
     "text": [
      "\u001b[32m[I 2023-05-15 09:50:01,765]\u001b[0m Trial 572 finished with value: 0.7649769585253456 and parameters: {'n_estimators': 511, 'criterion': 'gini', 'max_depth': 33, 'min_samples_split': 97, 'min_samples_leaf': 3, 'max_features': 'sqrt', 'bootstrap': True}. Best is trial 223 with value: 0.8806228373702423.\u001b[0m\n"
     ]
    },
    {
     "name": "stdout",
     "output_type": "stream",
     "text": [
      "0.7649769585253456, 0.8393194706994329\n"
     ]
    },
    {
     "name": "stderr",
     "output_type": "stream",
     "text": [
      "\u001b[32m[I 2023-05-15 09:50:17,848]\u001b[0m Trial 573 finished with value: 0.8645833333333333 and parameters: {'n_estimators': 93, 'criterion': 'entropy', 'max_depth': 38, 'min_samples_split': 4, 'min_samples_leaf': 4, 'max_features': 'sqrt', 'bootstrap': False}. Best is trial 223 with value: 0.8806228373702423.\u001b[0m\n"
     ]
    },
    {
     "name": "stdout",
     "output_type": "stream",
     "text": [
      "0.8645833333333333, 0.9017013232514177\n"
     ]
    },
    {
     "name": "stderr",
     "output_type": "stream",
     "text": [
      "\u001b[32m[I 2023-05-15 09:50:47,169]\u001b[0m Trial 574 finished with value: 0.8484848484848485 and parameters: {'n_estimators': 173, 'criterion': 'entropy', 'max_depth': 20, 'min_samples_split': 29, 'min_samples_leaf': 1, 'max_features': 'sqrt', 'bootstrap': False}. Best is trial 223 with value: 0.8806228373702423.\u001b[0m\n"
     ]
    },
    {
     "name": "stdout",
     "output_type": "stream",
     "text": [
      "0.8484848484848485, 0.8897290485192186\n"
     ]
    },
    {
     "name": "stderr",
     "output_type": "stream",
     "text": [
      "\u001b[32m[I 2023-05-15 09:51:23,089]\u001b[0m Trial 575 finished with value: 0.8684436801375752 and parameters: {'n_estimators': 206, 'criterion': 'entropy', 'max_depth': 21, 'min_samples_split': 6, 'min_samples_leaf': 1, 'max_features': 'sqrt', 'bootstrap': False}. Best is trial 223 with value: 0.8806228373702423.\u001b[0m\n"
     ]
    },
    {
     "name": "stdout",
     "output_type": "stream",
     "text": [
      "0.8684436801375752, 0.9035916824196597\n"
     ]
    },
    {
     "name": "stderr",
     "output_type": "stream",
     "text": [
      "\u001b[32m[I 2023-05-15 09:51:50,676]\u001b[0m Trial 576 finished with value: 0.7692307692307693 and parameters: {'n_estimators': 312, 'criterion': 'gini', 'max_depth': 7, 'min_samples_split': 2, 'min_samples_leaf': 6, 'max_features': 'sqrt', 'bootstrap': False}. Best is trial 223 with value: 0.8806228373702423.\u001b[0m\n"
     ]
    },
    {
     "name": "stdout",
     "output_type": "stream",
     "text": [
      "0.7692307692307693, 0.833648393194707\n"
     ]
    },
    {
     "name": "stderr",
     "output_type": "stream",
     "text": [
      "\u001b[32m[I 2023-05-15 10:02:48,235]\u001b[0m Trial 577 finished with value: 0.8256107834877844 and parameters: {'n_estimators': 110, 'criterion': 'entropy', 'max_depth': 31, 'min_samples_split': 9, 'min_samples_leaf': 3, 'max_features': None, 'bootstrap': False}. Best is trial 223 with value: 0.8806228373702423.\u001b[0m\n"
     ]
    },
    {
     "name": "stdout",
     "output_type": "stream",
     "text": [
      "0.8256107834877844, 0.8695652173913043\n"
     ]
    },
    {
     "name": "stderr",
     "output_type": "stream",
     "text": [
      "\u001b[32m[I 2023-05-15 10:03:04,229]\u001b[0m Trial 578 finished with value: 0.8611353711790393 and parameters: {'n_estimators': 79, 'criterion': 'entropy', 'max_depth': 36, 'min_samples_split': 3, 'min_samples_leaf': 5, 'max_features': 'sqrt', 'bootstrap': False}. Best is trial 223 with value: 0.8806228373702423.\u001b[0m\n"
     ]
    },
    {
     "name": "stdout",
     "output_type": "stream",
     "text": [
      "0.8611353711790393, 0.8998109640831758\n"
     ]
    },
    {
     "name": "stderr",
     "output_type": "stream",
     "text": [
      "\u001b[32m[I 2023-05-15 10:03:24,768]\u001b[0m Trial 579 finished with value: 0.8407079646017699 and parameters: {'n_estimators': 104, 'criterion': 'entropy', 'max_depth': 46, 'min_samples_split': 25, 'min_samples_leaf': 9, 'max_features': 'sqrt', 'bootstrap': False}. Best is trial 223 with value: 0.8806228373702423.\u001b[0m\n"
     ]
    },
    {
     "name": "stdout",
     "output_type": "stream",
     "text": [
      "0.8407079646017699, 0.8865784499054821\n"
     ]
    },
    {
     "name": "stderr",
     "output_type": "stream",
     "text": [
      "\u001b[32m[I 2023-05-15 10:07:12,147]\u001b[0m Trial 580 finished with value: 0.8182632050134288 and parameters: {'n_estimators': 1533, 'criterion': 'gini', 'max_depth': 40, 'min_samples_split': 12, 'min_samples_leaf': 14, 'max_features': 'sqrt', 'bootstrap': False}. Best is trial 223 with value: 0.8806228373702423.\u001b[0m\n"
     ]
    },
    {
     "name": "stdout",
     "output_type": "stream",
     "text": [
      "0.8182632050134288, 0.8720856962822936\n"
     ]
    },
    {
     "name": "stderr",
     "output_type": "stream",
     "text": [
      "\u001b[32m[I 2023-05-15 10:09:55,312]\u001b[0m Trial 581 finished with value: 0.8669527896995709 and parameters: {'n_estimators': 766, 'criterion': 'entropy', 'max_depth': 24, 'min_samples_split': 17, 'min_samples_leaf': 1, 'max_features': 'sqrt', 'bootstrap': False}. Best is trial 223 with value: 0.8806228373702423.\u001b[0m\n"
     ]
    },
    {
     "name": "stdout",
     "output_type": "stream",
     "text": [
      "0.8669527896995709, 0.9023314429741651\n"
     ]
    },
    {
     "name": "stderr",
     "output_type": "stream",
     "text": [
      "\u001b[32m[I 2023-05-15 10:10:01,087]\u001b[0m Trial 582 finished with value: 0.7914818101153505 and parameters: {'n_estimators': 123, 'criterion': 'entropy', 'max_depth': 11, 'min_samples_split': 5, 'min_samples_leaf': 16, 'max_features': 'log2', 'bootstrap': False}. Best is trial 223 with value: 0.8806228373702423.\u001b[0m\n"
     ]
    },
    {
     "name": "stdout",
     "output_type": "stream",
     "text": [
      "0.7914818101153505, 0.8519218651543793\n"
     ]
    },
    {
     "name": "stderr",
     "output_type": "stream",
     "text": [
      "\u001b[32m[I 2023-05-15 10:10:05,308]\u001b[0m Trial 583 finished with value: 0.6515151515151515 and parameters: {'n_estimators': 69, 'criterion': 'entropy', 'max_depth': 27, 'min_samples_split': 121, 'min_samples_leaf': 118, 'max_features': 'sqrt', 'bootstrap': True}. Best is trial 223 with value: 0.8806228373702423.\u001b[0m\n"
     ]
    },
    {
     "name": "stdout",
     "output_type": "stream",
     "text": [
      "0.6515151515151515, 0.7681159420289855\n"
     ]
    },
    {
     "name": "stderr",
     "output_type": "stream",
     "text": [
      "\u001b[32m[I 2023-05-15 10:10:19,041]\u001b[0m Trial 584 finished with value: 0.6463878326996197 and parameters: {'n_estimators': 155, 'criterion': 'gini', 'max_depth': 29, 'min_samples_split': 11, 'min_samples_leaf': 143, 'max_features': 'sqrt', 'bootstrap': False}. Best is trial 223 with value: 0.8806228373702423.\u001b[0m\n"
     ]
    },
    {
     "name": "stdout",
     "output_type": "stream",
     "text": [
      "0.6463878326996197, 0.7655954631379962\n"
     ]
    },
    {
     "name": "stderr",
     "output_type": "stream",
     "text": [
      "\u001b[32m[I 2023-05-15 10:10:32,457]\u001b[0m Trial 585 finished with value: 0.8704028021015763 and parameters: {'n_estimators': 63, 'criterion': 'entropy', 'max_depth': 35, 'min_samples_split': 4, 'min_samples_leaf': 1, 'max_features': 'sqrt', 'bootstrap': False}. Best is trial 223 with value: 0.8806228373702423.\u001b[0m\n"
     ]
    },
    {
     "name": "stdout",
     "output_type": "stream",
     "text": [
      "0.8704028021015763, 0.9067422810333964\n"
     ]
    },
    {
     "name": "stderr",
     "output_type": "stream",
     "text": [
      "\u001b[32m[I 2023-05-15 10:10:48,822]\u001b[0m Trial 586 finished with value: 0.6635514018691588 and parameters: {'n_estimators': 147, 'criterion': 'entropy', 'max_depth': 33, 'min_samples_split': 9, 'min_samples_leaf': 123, 'max_features': 'sqrt', 'bootstrap': False}. Best is trial 223 with value: 0.8806228373702423.\u001b[0m\n"
     ]
    },
    {
     "name": "stdout",
     "output_type": "stream",
     "text": [
      "0.6635514018691588, 0.7731568998109641\n"
     ]
    },
    {
     "name": "stderr",
     "output_type": "stream",
     "text": [
      "\u001b[32m[I 2023-05-15 10:11:05,802]\u001b[0m Trial 587 finished with value: 0.7547857793983591 and parameters: {'n_estimators': 99, 'criterion': 'entropy', 'max_depth': 48, 'min_samples_split': 190, 'min_samples_leaf': 4, 'max_features': 'sqrt', 'bootstrap': False}. Best is trial 223 with value: 0.8806228373702423.\u001b[0m\n"
     ]
    },
    {
     "name": "stdout",
     "output_type": "stream",
     "text": [
      "0.7547857793983591, 0.8304977945809704\n"
     ]
    },
    {
     "name": "stderr",
     "output_type": "stream",
     "text": [
      "\u001b[32m[I 2023-05-15 10:11:26,406]\u001b[0m Trial 588 finished with value: 0.8445229681978799 and parameters: {'n_estimators': 135, 'criterion': 'gini', 'max_depth': 31, 'min_samples_split': 24, 'min_samples_leaf': 2, 'max_features': 'sqrt', 'bootstrap': False}. Best is trial 223 with value: 0.8806228373702423.\u001b[0m\n"
     ]
    },
    {
     "name": "stdout",
     "output_type": "stream",
     "text": [
      "0.8445229681978799, 0.8890989287964713\n"
     ]
    },
    {
     "name": "stderr",
     "output_type": "stream",
     "text": [
      "\u001b[32m[I 2023-05-15 10:11:47,828]\u001b[0m Trial 589 finished with value: 0.8656971770744226 and parameters: {'n_estimators': 116, 'criterion': 'entropy', 'max_depth': 19, 'min_samples_split': 7, 'min_samples_leaf': 3, 'max_features': 'sqrt', 'bootstrap': False}. Best is trial 223 with value: 0.8806228373702423.\u001b[0m\n"
     ]
    },
    {
     "name": "stdout",
     "output_type": "stream",
     "text": [
      "0.8656971770744226, 0.9010712035286704\n"
     ]
    },
    {
     "name": "stderr",
     "output_type": "stream",
     "text": [
      "\u001b[32m[I 2023-05-15 10:12:04,303]\u001b[0m Trial 590 finished with value: 0.8576419213973799 and parameters: {'n_estimators': 88, 'criterion': 'entropy', 'max_depth': 34, 'min_samples_split': 3, 'min_samples_leaf': 5, 'max_features': 'sqrt', 'bootstrap': False}. Best is trial 223 with value: 0.8806228373702423.\u001b[0m\n"
     ]
    },
    {
     "name": "stdout",
     "output_type": "stream",
     "text": [
      "0.8576419213973799, 0.8972904851921865\n"
     ]
    },
    {
     "name": "stderr",
     "output_type": "stream",
     "text": [
      "\u001b[32m[I 2023-05-15 10:12:53,537]\u001b[0m Trial 591 finished with value: 0.8739205526770294 and parameters: {'n_estimators': 252, 'criterion': 'log_loss', 'max_depth': 28, 'min_samples_split': 2, 'min_samples_leaf': 1, 'max_features': 'sqrt', 'bootstrap': False}. Best is trial 223 with value: 0.8806228373702423.\u001b[0m\n"
     ]
    },
    {
     "name": "stdout",
     "output_type": "stream",
     "text": [
      "0.8739205526770294, 0.908002520478891\n"
     ]
    },
    {
     "name": "stderr",
     "output_type": "stream",
     "text": [
      "\u001b[32m[I 2023-05-15 10:13:34,287]\u001b[0m Trial 592 finished with value: 0.70856102003643 and parameters: {'n_estimators': 404, 'criterion': 'gini', 'max_depth': 26, 'min_samples_split': 8, 'min_samples_leaf': 78, 'max_features': 'sqrt', 'bootstrap': False}. Best is trial 223 with value: 0.8806228373702423.\u001b[0m\n"
     ]
    },
    {
     "name": "stdout",
     "output_type": "stream",
     "text": [
      "0.70856102003643, 0.798361688720857\n"
     ]
    },
    {
     "name": "stderr",
     "output_type": "stream",
     "text": [
      "\u001b[32m[I 2023-05-15 10:18:36,202]\u001b[0m Trial 593 finished with value: 0.7843494085532303 and parameters: {'n_estimators': 1355, 'criterion': 'entropy', 'max_depth': 32, 'min_samples_split': 93, 'min_samples_leaf': 10, 'max_features': 'sqrt', 'bootstrap': False}. Best is trial 223 with value: 0.8806228373702423.\u001b[0m\n"
     ]
    },
    {
     "name": "stdout",
     "output_type": "stream",
     "text": [
      "0.7843494085532303, 0.8506616257088847\n"
     ]
    },
    {
     "name": "stderr",
     "output_type": "stream",
     "text": [
      "\u001b[32m[I 2023-05-15 10:19:29,712]\u001b[0m Trial 594 finished with value: 0.8660328435609336 and parameters: {'n_estimators': 358, 'criterion': 'entropy', 'max_depth': 21, 'min_samples_split': 6, 'min_samples_leaf': 1, 'max_features': 'sqrt', 'bootstrap': True}. Best is trial 223 with value: 0.8806228373702423.\u001b[0m\n"
     ]
    },
    {
     "name": "stdout",
     "output_type": "stream",
     "text": [
      "0.8660328435609336, 0.9023314429741651\n"
     ]
    },
    {
     "name": "stderr",
     "output_type": "stream",
     "text": [
      "\u001b[32m[I 2023-05-15 10:19:56,678]\u001b[0m Trial 595 finished with value: 0.8148804251550044 and parameters: {'n_estimators': 128, 'criterion': 'entropy', 'max_depth': 16, 'min_samples_split': 53, 'min_samples_leaf': 1, 'max_features': 'sqrt', 'bootstrap': False}. Best is trial 223 with value: 0.8806228373702423.\u001b[0m\n"
     ]
    },
    {
     "name": "stdout",
     "output_type": "stream",
     "text": [
      "0.8148804251550044, 0.8683049779458097\n"
     ]
    },
    {
     "name": "stderr",
     "output_type": "stream",
     "text": [
      "\u001b[32m[I 2023-05-15 10:20:08,523]\u001b[0m Trial 596 finished with value: 0.6437440305635148 and parameters: {'n_estimators': 112, 'criterion': 'gini', 'max_depth': 44, 'min_samples_split': 25, 'min_samples_leaf': 137, 'max_features': 'sqrt', 'bootstrap': False}. Best is trial 223 with value: 0.8806228373702423.\u001b[0m\n"
     ]
    },
    {
     "name": "stdout",
     "output_type": "stream",
     "text": [
      "0.6437440305635148, 0.7649653434152489\n"
     ]
    },
    {
     "name": "stderr",
     "output_type": "stream",
     "text": [
      "\u001b[32m[I 2023-05-15 10:21:00,437]\u001b[0m Trial 597 finished with value: 0.8713910761154856 and parameters: {'n_estimators': 214, 'criterion': 'entropy', 'max_depth': 42, 'min_samples_split': 3, 'min_samples_leaf': 1, 'max_features': 'sqrt', 'bootstrap': False}. Best is trial 223 with value: 0.8806228373702423.\u001b[0m\n"
     ]
    },
    {
     "name": "stdout",
     "output_type": "stream",
     "text": [
      "0.8713910761154856, 0.9073724007561437\n"
     ]
    },
    {
     "name": "stderr",
     "output_type": "stream",
     "text": [
      "\u001b[32m[I 2023-05-15 10:21:15,282]\u001b[0m Trial 598 finished with value: 0.8460861917326298 and parameters: {'n_estimators': 59, 'criterion': 'entropy', 'max_depth': 30, 'min_samples_split': 19, 'min_samples_leaf': 7, 'max_features': 'sqrt', 'bootstrap': False}. Best is trial 223 with value: 0.8806228373702423.\u001b[0m\n"
     ]
    },
    {
     "name": "stdout",
     "output_type": "stream",
     "text": [
      "0.8460861917326298, 0.8897290485192186\n"
     ]
    },
    {
     "name": "stderr",
     "output_type": "stream",
     "text": [
      "\u001b[33m[W 2023-05-15 10:21:39,526]\u001b[0m Trial 599 failed with parameters: {'n_estimators': 103, 'criterion': 'entropy', 'max_depth': 22, 'min_samples_split': 14, 'min_samples_leaf': 2, 'max_features': None, 'bootstrap': False} because of the following error: KeyboardInterrupt().\u001b[0m\n",
      "Traceback (most recent call last):\n",
      "  File \"/opt/homebrew/lib/python3.10/site-packages/optuna/study/_optimize.py\", line 200, in _run_trial\n",
      "    value_or_values = func(trial)\n",
      "  File \"/var/folders/ym/m5symfp11nzfwgr30yqmsw3xtkhq7t/T/ipykernel_59328/2241224304.py\", line 16, in objective\n",
      "    rf_cls.fit(X_train, y_train_labels)\n",
      "  File \"/opt/homebrew/lib/python3.10/site-packages/sklearn/ensemble/_forest.py\", line 476, in fit\n",
      "    trees = Parallel(\n",
      "  File \"/opt/homebrew/lib/python3.10/site-packages/joblib/parallel.py\", line 1088, in __call__\n",
      "    while self.dispatch_one_batch(iterator):\n",
      "  File \"/opt/homebrew/lib/python3.10/site-packages/joblib/parallel.py\", line 901, in dispatch_one_batch\n",
      "    self._dispatch(tasks)\n",
      "  File \"/opt/homebrew/lib/python3.10/site-packages/joblib/parallel.py\", line 819, in _dispatch\n",
      "    job = self._backend.apply_async(batch, callback=cb)\n",
      "  File \"/opt/homebrew/lib/python3.10/site-packages/joblib/_parallel_backends.py\", line 208, in apply_async\n",
      "    result = ImmediateResult(func)\n",
      "  File \"/opt/homebrew/lib/python3.10/site-packages/joblib/_parallel_backends.py\", line 597, in __init__\n",
      "    self.results = batch()\n",
      "  File \"/opt/homebrew/lib/python3.10/site-packages/joblib/parallel.py\", line 288, in __call__\n",
      "    return [func(*args, **kwargs)\n",
      "  File \"/opt/homebrew/lib/python3.10/site-packages/joblib/parallel.py\", line 288, in <listcomp>\n",
      "    return [func(*args, **kwargs)\n",
      "  File \"/opt/homebrew/lib/python3.10/site-packages/sklearn/utils/fixes.py\", line 117, in __call__\n",
      "    return self.function(*args, **kwargs)\n",
      "  File \"/opt/homebrew/lib/python3.10/site-packages/sklearn/ensemble/_forest.py\", line 191, in _parallel_build_trees\n",
      "    tree.fit(X, y, sample_weight=sample_weight, check_input=False)\n",
      "  File \"/opt/homebrew/lib/python3.10/site-packages/sklearn/tree/_classes.py\", line 969, in fit\n",
      "    super().fit(\n",
      "  File \"/opt/homebrew/lib/python3.10/site-packages/sklearn/tree/_classes.py\", line 458, in fit\n",
      "    builder.build(self.tree_, X, y, sample_weight)\n",
      "KeyboardInterrupt\n",
      "\u001b[33m[W 2023-05-15 10:21:39,536]\u001b[0m Trial 599 failed with value None.\u001b[0m\n"
     ]
    },
    {
     "ename": "KeyboardInterrupt",
     "evalue": "",
     "output_type": "error",
     "traceback": [
      "\u001b[0;31m---------------------------------------------------------------------------\u001b[0m",
      "\u001b[0;31mKeyboardInterrupt\u001b[0m                         Traceback (most recent call last)",
      "Cell \u001b[0;32mIn [15], line 5\u001b[0m\n\u001b[1;32m      3\u001b[0m sampler \u001b[38;5;241m=\u001b[39m TPESampler(seed\u001b[38;5;241m=\u001b[39m\u001b[38;5;241m2\u001b[39m)\n\u001b[1;32m      4\u001b[0m study \u001b[38;5;241m=\u001b[39m optuna\u001b[38;5;241m.\u001b[39mcreate_study(study_name\u001b[38;5;241m=\u001b[39m\u001b[38;5;124m\"\u001b[39m\u001b[38;5;124mrf\u001b[39m\u001b[38;5;124m\"\u001b[39m, direction\u001b[38;5;241m=\u001b[39m\u001b[38;5;124m\"\u001b[39m\u001b[38;5;124mmaximize\u001b[39m\u001b[38;5;124m\"\u001b[39m, sampler\u001b[38;5;241m=\u001b[39msampler)\n\u001b[0;32m----> 5\u001b[0m \u001b[43mstudy\u001b[49m\u001b[38;5;241;43m.\u001b[39;49m\u001b[43moptimize\u001b[49m\u001b[43m(\u001b[49m\u001b[43mobjective\u001b[49m\u001b[43m,\u001b[49m\u001b[43m \u001b[49m\u001b[43mn_trials\u001b[49m\u001b[38;5;241;43m=\u001b[39;49m\u001b[38;5;241;43m100000\u001b[39;49m\u001b[43m)\u001b[49m\n",
      "File \u001b[0;32m/opt/homebrew/lib/python3.10/site-packages/optuna/study/study.py:425\u001b[0m, in \u001b[0;36mStudy.optimize\u001b[0;34m(self, func, n_trials, timeout, n_jobs, catch, callbacks, gc_after_trial, show_progress_bar)\u001b[0m\n\u001b[1;32m    321\u001b[0m \u001b[38;5;28;01mdef\u001b[39;00m \u001b[38;5;21moptimize\u001b[39m(\n\u001b[1;32m    322\u001b[0m     \u001b[38;5;28mself\u001b[39m,\n\u001b[1;32m    323\u001b[0m     func: ObjectiveFuncType,\n\u001b[0;32m   (...)\u001b[0m\n\u001b[1;32m    330\u001b[0m     show_progress_bar: \u001b[38;5;28mbool\u001b[39m \u001b[38;5;241m=\u001b[39m \u001b[38;5;28;01mFalse\u001b[39;00m,\n\u001b[1;32m    331\u001b[0m ) \u001b[38;5;241m-\u001b[39m\u001b[38;5;241m>\u001b[39m \u001b[38;5;28;01mNone\u001b[39;00m:\n\u001b[1;32m    332\u001b[0m     \u001b[38;5;124;03m\"\"\"Optimize an objective function.\u001b[39;00m\n\u001b[1;32m    333\u001b[0m \n\u001b[1;32m    334\u001b[0m \u001b[38;5;124;03m    Optimization is done by choosing a suitable set of hyperparameter values from a given\u001b[39;00m\n\u001b[0;32m   (...)\u001b[0m\n\u001b[1;32m    422\u001b[0m \u001b[38;5;124;03m            If nested invocation of this method occurs.\u001b[39;00m\n\u001b[1;32m    423\u001b[0m \u001b[38;5;124;03m    \"\"\"\u001b[39;00m\n\u001b[0;32m--> 425\u001b[0m     \u001b[43m_optimize\u001b[49m\u001b[43m(\u001b[49m\n\u001b[1;32m    426\u001b[0m \u001b[43m        \u001b[49m\u001b[43mstudy\u001b[49m\u001b[38;5;241;43m=\u001b[39;49m\u001b[38;5;28;43mself\u001b[39;49m\u001b[43m,\u001b[49m\n\u001b[1;32m    427\u001b[0m \u001b[43m        \u001b[49m\u001b[43mfunc\u001b[49m\u001b[38;5;241;43m=\u001b[39;49m\u001b[43mfunc\u001b[49m\u001b[43m,\u001b[49m\n\u001b[1;32m    428\u001b[0m \u001b[43m        \u001b[49m\u001b[43mn_trials\u001b[49m\u001b[38;5;241;43m=\u001b[39;49m\u001b[43mn_trials\u001b[49m\u001b[43m,\u001b[49m\n\u001b[1;32m    429\u001b[0m \u001b[43m        \u001b[49m\u001b[43mtimeout\u001b[49m\u001b[38;5;241;43m=\u001b[39;49m\u001b[43mtimeout\u001b[49m\u001b[43m,\u001b[49m\n\u001b[1;32m    430\u001b[0m \u001b[43m        \u001b[49m\u001b[43mn_jobs\u001b[49m\u001b[38;5;241;43m=\u001b[39;49m\u001b[43mn_jobs\u001b[49m\u001b[43m,\u001b[49m\n\u001b[1;32m    431\u001b[0m \u001b[43m        \u001b[49m\u001b[43mcatch\u001b[49m\u001b[38;5;241;43m=\u001b[39;49m\u001b[38;5;28;43mtuple\u001b[39;49m\u001b[43m(\u001b[49m\u001b[43mcatch\u001b[49m\u001b[43m)\u001b[49m\u001b[43m \u001b[49m\u001b[38;5;28;43;01mif\u001b[39;49;00m\u001b[43m \u001b[49m\u001b[38;5;28;43misinstance\u001b[39;49m\u001b[43m(\u001b[49m\u001b[43mcatch\u001b[49m\u001b[43m,\u001b[49m\u001b[43m \u001b[49m\u001b[43mIterable\u001b[49m\u001b[43m)\u001b[49m\u001b[43m \u001b[49m\u001b[38;5;28;43;01melse\u001b[39;49;00m\u001b[43m \u001b[49m\u001b[43m(\u001b[49m\u001b[43mcatch\u001b[49m\u001b[43m,\u001b[49m\u001b[43m)\u001b[49m\u001b[43m,\u001b[49m\n\u001b[1;32m    432\u001b[0m \u001b[43m        \u001b[49m\u001b[43mcallbacks\u001b[49m\u001b[38;5;241;43m=\u001b[39;49m\u001b[43mcallbacks\u001b[49m\u001b[43m,\u001b[49m\n\u001b[1;32m    433\u001b[0m \u001b[43m        \u001b[49m\u001b[43mgc_after_trial\u001b[49m\u001b[38;5;241;43m=\u001b[39;49m\u001b[43mgc_after_trial\u001b[49m\u001b[43m,\u001b[49m\n\u001b[1;32m    434\u001b[0m \u001b[43m        \u001b[49m\u001b[43mshow_progress_bar\u001b[49m\u001b[38;5;241;43m=\u001b[39;49m\u001b[43mshow_progress_bar\u001b[49m\u001b[43m,\u001b[49m\n\u001b[1;32m    435\u001b[0m \u001b[43m    \u001b[49m\u001b[43m)\u001b[49m\n",
      "File \u001b[0;32m/opt/homebrew/lib/python3.10/site-packages/optuna/study/_optimize.py:66\u001b[0m, in \u001b[0;36m_optimize\u001b[0;34m(study, func, n_trials, timeout, n_jobs, catch, callbacks, gc_after_trial, show_progress_bar)\u001b[0m\n\u001b[1;32m     64\u001b[0m \u001b[38;5;28;01mtry\u001b[39;00m:\n\u001b[1;32m     65\u001b[0m     \u001b[38;5;28;01mif\u001b[39;00m n_jobs \u001b[38;5;241m==\u001b[39m \u001b[38;5;241m1\u001b[39m:\n\u001b[0;32m---> 66\u001b[0m         \u001b[43m_optimize_sequential\u001b[49m\u001b[43m(\u001b[49m\n\u001b[1;32m     67\u001b[0m \u001b[43m            \u001b[49m\u001b[43mstudy\u001b[49m\u001b[43m,\u001b[49m\n\u001b[1;32m     68\u001b[0m \u001b[43m            \u001b[49m\u001b[43mfunc\u001b[49m\u001b[43m,\u001b[49m\n\u001b[1;32m     69\u001b[0m \u001b[43m            \u001b[49m\u001b[43mn_trials\u001b[49m\u001b[43m,\u001b[49m\n\u001b[1;32m     70\u001b[0m \u001b[43m            \u001b[49m\u001b[43mtimeout\u001b[49m\u001b[43m,\u001b[49m\n\u001b[1;32m     71\u001b[0m \u001b[43m            \u001b[49m\u001b[43mcatch\u001b[49m\u001b[43m,\u001b[49m\n\u001b[1;32m     72\u001b[0m \u001b[43m            \u001b[49m\u001b[43mcallbacks\u001b[49m\u001b[43m,\u001b[49m\n\u001b[1;32m     73\u001b[0m \u001b[43m            \u001b[49m\u001b[43mgc_after_trial\u001b[49m\u001b[43m,\u001b[49m\n\u001b[1;32m     74\u001b[0m \u001b[43m            \u001b[49m\u001b[43mreseed_sampler_rng\u001b[49m\u001b[38;5;241;43m=\u001b[39;49m\u001b[38;5;28;43;01mFalse\u001b[39;49;00m\u001b[43m,\u001b[49m\n\u001b[1;32m     75\u001b[0m \u001b[43m            \u001b[49m\u001b[43mtime_start\u001b[49m\u001b[38;5;241;43m=\u001b[39;49m\u001b[38;5;28;43;01mNone\u001b[39;49;00m\u001b[43m,\u001b[49m\n\u001b[1;32m     76\u001b[0m \u001b[43m            \u001b[49m\u001b[43mprogress_bar\u001b[49m\u001b[38;5;241;43m=\u001b[39;49m\u001b[43mprogress_bar\u001b[49m\u001b[43m,\u001b[49m\n\u001b[1;32m     77\u001b[0m \u001b[43m        \u001b[49m\u001b[43m)\u001b[49m\n\u001b[1;32m     78\u001b[0m     \u001b[38;5;28;01melse\u001b[39;00m:\n\u001b[1;32m     79\u001b[0m         \u001b[38;5;28;01mif\u001b[39;00m n_jobs \u001b[38;5;241m==\u001b[39m \u001b[38;5;241m-\u001b[39m\u001b[38;5;241m1\u001b[39m:\n",
      "File \u001b[0;32m/opt/homebrew/lib/python3.10/site-packages/optuna/study/_optimize.py:163\u001b[0m, in \u001b[0;36m_optimize_sequential\u001b[0;34m(study, func, n_trials, timeout, catch, callbacks, gc_after_trial, reseed_sampler_rng, time_start, progress_bar)\u001b[0m\n\u001b[1;32m    160\u001b[0m         \u001b[38;5;28;01mbreak\u001b[39;00m\n\u001b[1;32m    162\u001b[0m \u001b[38;5;28;01mtry\u001b[39;00m:\n\u001b[0;32m--> 163\u001b[0m     frozen_trial \u001b[38;5;241m=\u001b[39m \u001b[43m_run_trial\u001b[49m\u001b[43m(\u001b[49m\u001b[43mstudy\u001b[49m\u001b[43m,\u001b[49m\u001b[43m \u001b[49m\u001b[43mfunc\u001b[49m\u001b[43m,\u001b[49m\u001b[43m \u001b[49m\u001b[43mcatch\u001b[49m\u001b[43m)\u001b[49m\n\u001b[1;32m    164\u001b[0m \u001b[38;5;28;01mfinally\u001b[39;00m:\n\u001b[1;32m    165\u001b[0m     \u001b[38;5;66;03m# The following line mitigates memory problems that can be occurred in some\u001b[39;00m\n\u001b[1;32m    166\u001b[0m     \u001b[38;5;66;03m# environments (e.g., services that use computing containers such as GitHub Actions).\u001b[39;00m\n\u001b[1;32m    167\u001b[0m     \u001b[38;5;66;03m# Please refer to the following PR for further details:\u001b[39;00m\n\u001b[1;32m    168\u001b[0m     \u001b[38;5;66;03m# https://github.com/optuna/optuna/pull/325.\u001b[39;00m\n\u001b[1;32m    169\u001b[0m     \u001b[38;5;28;01mif\u001b[39;00m gc_after_trial:\n",
      "File \u001b[0;32m/opt/homebrew/lib/python3.10/site-packages/optuna/study/_optimize.py:251\u001b[0m, in \u001b[0;36m_run_trial\u001b[0;34m(study, func, catch)\u001b[0m\n\u001b[1;32m    244\u001b[0m         \u001b[38;5;28;01massert\u001b[39;00m \u001b[38;5;28;01mFalse\u001b[39;00m, \u001b[38;5;124m\"\u001b[39m\u001b[38;5;124mShould not reach.\u001b[39m\u001b[38;5;124m\"\u001b[39m\n\u001b[1;32m    246\u001b[0m \u001b[38;5;28;01mif\u001b[39;00m (\n\u001b[1;32m    247\u001b[0m     frozen_trial\u001b[38;5;241m.\u001b[39mstate \u001b[38;5;241m==\u001b[39m TrialState\u001b[38;5;241m.\u001b[39mFAIL\n\u001b[1;32m    248\u001b[0m     \u001b[38;5;129;01mand\u001b[39;00m func_err \u001b[38;5;129;01mis\u001b[39;00m \u001b[38;5;129;01mnot\u001b[39;00m \u001b[38;5;28;01mNone\u001b[39;00m\n\u001b[1;32m    249\u001b[0m     \u001b[38;5;129;01mand\u001b[39;00m \u001b[38;5;129;01mnot\u001b[39;00m \u001b[38;5;28misinstance\u001b[39m(func_err, catch)\n\u001b[1;32m    250\u001b[0m ):\n\u001b[0;32m--> 251\u001b[0m     \u001b[38;5;28;01mraise\u001b[39;00m func_err\n\u001b[1;32m    252\u001b[0m \u001b[38;5;28;01mreturn\u001b[39;00m frozen_trial\n",
      "File \u001b[0;32m/opt/homebrew/lib/python3.10/site-packages/optuna/study/_optimize.py:200\u001b[0m, in \u001b[0;36m_run_trial\u001b[0;34m(study, func, catch)\u001b[0m\n\u001b[1;32m    198\u001b[0m \u001b[38;5;28;01mwith\u001b[39;00m get_heartbeat_thread(trial\u001b[38;5;241m.\u001b[39m_trial_id, study\u001b[38;5;241m.\u001b[39m_storage):\n\u001b[1;32m    199\u001b[0m     \u001b[38;5;28;01mtry\u001b[39;00m:\n\u001b[0;32m--> 200\u001b[0m         value_or_values \u001b[38;5;241m=\u001b[39m \u001b[43mfunc\u001b[49m\u001b[43m(\u001b[49m\u001b[43mtrial\u001b[49m\u001b[43m)\u001b[49m\n\u001b[1;32m    201\u001b[0m     \u001b[38;5;28;01mexcept\u001b[39;00m exceptions\u001b[38;5;241m.\u001b[39mTrialPruned \u001b[38;5;28;01mas\u001b[39;00m e:\n\u001b[1;32m    202\u001b[0m         \u001b[38;5;66;03m# TODO(mamu): Handle multi-objective cases.\u001b[39;00m\n\u001b[1;32m    203\u001b[0m         state \u001b[38;5;241m=\u001b[39m TrialState\u001b[38;5;241m.\u001b[39mPRUNED\n",
      "Cell \u001b[0;32mIn [14], line 16\u001b[0m, in \u001b[0;36mobjective\u001b[0;34m(trial)\u001b[0m\n\u001b[1;32m      5\u001b[0m param \u001b[38;5;241m=\u001b[39m {\n\u001b[1;32m      6\u001b[0m     \u001b[38;5;124m\"\u001b[39m\u001b[38;5;124mn_estimators\u001b[39m\u001b[38;5;124m\"\u001b[39m: trial\u001b[38;5;241m.\u001b[39msuggest_int(\u001b[38;5;124m\"\u001b[39m\u001b[38;5;124mn_estimators\u001b[39m\u001b[38;5;124m\"\u001b[39m, \u001b[38;5;241m50\u001b[39m, \u001b[38;5;241m2000\u001b[39m, log\u001b[38;5;241m=\u001b[39m\u001b[38;5;28;01mTrue\u001b[39;00m),\n\u001b[1;32m      7\u001b[0m     \u001b[38;5;124m\"\u001b[39m\u001b[38;5;124mcriterion\u001b[39m\u001b[38;5;124m\"\u001b[39m: trial\u001b[38;5;241m.\u001b[39msuggest_categorical(\u001b[38;5;124m\"\u001b[39m\u001b[38;5;124mcriterion\u001b[39m\u001b[38;5;124m\"\u001b[39m, [\u001b[38;5;124m\"\u001b[39m\u001b[38;5;124mgini\u001b[39m\u001b[38;5;124m\"\u001b[39m, \u001b[38;5;124m\"\u001b[39m\u001b[38;5;124mentropy\u001b[39m\u001b[38;5;124m\"\u001b[39m, \u001b[38;5;124m\"\u001b[39m\u001b[38;5;124mlog_loss\u001b[39m\u001b[38;5;124m\"\u001b[39m]),\n\u001b[0;32m   (...)\u001b[0m\n\u001b[1;32m     12\u001b[0m     \u001b[38;5;124m\"\u001b[39m\u001b[38;5;124mbootstrap\u001b[39m\u001b[38;5;124m\"\u001b[39m: trial\u001b[38;5;241m.\u001b[39msuggest_categorical(\u001b[38;5;124m\"\u001b[39m\u001b[38;5;124mbootstrap\u001b[39m\u001b[38;5;124m\"\u001b[39m, [\u001b[38;5;28;01mFalse\u001b[39;00m, \u001b[38;5;28;01mTrue\u001b[39;00m]),\n\u001b[1;32m     13\u001b[0m }\n\u001b[1;32m     14\u001b[0m rf_cls \u001b[38;5;241m=\u001b[39m RandomForestClassifier(\u001b[38;5;241m*\u001b[39m\u001b[38;5;241m*\u001b[39mparam)\n\u001b[0;32m---> 16\u001b[0m \u001b[43mrf_cls\u001b[49m\u001b[38;5;241;43m.\u001b[39;49m\u001b[43mfit\u001b[49m\u001b[43m(\u001b[49m\u001b[43mX_train\u001b[49m\u001b[43m,\u001b[49m\u001b[43m \u001b[49m\u001b[43my_train_labels\u001b[49m\u001b[43m)\u001b[49m\n\u001b[1;32m     18\u001b[0m preds \u001b[38;5;241m=\u001b[39m rf_cls\u001b[38;5;241m.\u001b[39mpredict(X_test)\n\u001b[1;32m     19\u001b[0m f1 \u001b[38;5;241m=\u001b[39m f1_score(y_test_labels, preds)\n",
      "File \u001b[0;32m/opt/homebrew/lib/python3.10/site-packages/sklearn/ensemble/_forest.py:476\u001b[0m, in \u001b[0;36mBaseForest.fit\u001b[0;34m(self, X, y, sample_weight)\u001b[0m\n\u001b[1;32m    465\u001b[0m trees \u001b[38;5;241m=\u001b[39m [\n\u001b[1;32m    466\u001b[0m     \u001b[38;5;28mself\u001b[39m\u001b[38;5;241m.\u001b[39m_make_estimator(append\u001b[38;5;241m=\u001b[39m\u001b[38;5;28;01mFalse\u001b[39;00m, random_state\u001b[38;5;241m=\u001b[39mrandom_state)\n\u001b[1;32m    467\u001b[0m     \u001b[38;5;28;01mfor\u001b[39;00m i \u001b[38;5;129;01min\u001b[39;00m \u001b[38;5;28mrange\u001b[39m(n_more_estimators)\n\u001b[1;32m    468\u001b[0m ]\n\u001b[1;32m    470\u001b[0m \u001b[38;5;66;03m# Parallel loop: we prefer the threading backend as the Cython code\u001b[39;00m\n\u001b[1;32m    471\u001b[0m \u001b[38;5;66;03m# for fitting the trees is internally releasing the Python GIL\u001b[39;00m\n\u001b[1;32m    472\u001b[0m \u001b[38;5;66;03m# making threading more efficient than multiprocessing in\u001b[39;00m\n\u001b[1;32m    473\u001b[0m \u001b[38;5;66;03m# that case. However, for joblib 0.12+ we respect any\u001b[39;00m\n\u001b[1;32m    474\u001b[0m \u001b[38;5;66;03m# parallel_backend contexts set at a higher level,\u001b[39;00m\n\u001b[1;32m    475\u001b[0m \u001b[38;5;66;03m# since correctness does not rely on using threads.\u001b[39;00m\n\u001b[0;32m--> 476\u001b[0m trees \u001b[38;5;241m=\u001b[39m \u001b[43mParallel\u001b[49m\u001b[43m(\u001b[49m\n\u001b[1;32m    477\u001b[0m \u001b[43m    \u001b[49m\u001b[43mn_jobs\u001b[49m\u001b[38;5;241;43m=\u001b[39;49m\u001b[38;5;28;43mself\u001b[39;49m\u001b[38;5;241;43m.\u001b[39;49m\u001b[43mn_jobs\u001b[49m\u001b[43m,\u001b[49m\n\u001b[1;32m    478\u001b[0m \u001b[43m    \u001b[49m\u001b[43mverbose\u001b[49m\u001b[38;5;241;43m=\u001b[39;49m\u001b[38;5;28;43mself\u001b[39;49m\u001b[38;5;241;43m.\u001b[39;49m\u001b[43mverbose\u001b[49m\u001b[43m,\u001b[49m\n\u001b[1;32m    479\u001b[0m \u001b[43m    \u001b[49m\u001b[43mprefer\u001b[49m\u001b[38;5;241;43m=\u001b[39;49m\u001b[38;5;124;43m\"\u001b[39;49m\u001b[38;5;124;43mthreads\u001b[39;49m\u001b[38;5;124;43m\"\u001b[39;49m\u001b[43m,\u001b[49m\n\u001b[1;32m    480\u001b[0m \u001b[43m\u001b[49m\u001b[43m)\u001b[49m\u001b[43m(\u001b[49m\n\u001b[1;32m    481\u001b[0m \u001b[43m    \u001b[49m\u001b[43mdelayed\u001b[49m\u001b[43m(\u001b[49m\u001b[43m_parallel_build_trees\u001b[49m\u001b[43m)\u001b[49m\u001b[43m(\u001b[49m\n\u001b[1;32m    482\u001b[0m \u001b[43m        \u001b[49m\u001b[43mt\u001b[49m\u001b[43m,\u001b[49m\n\u001b[1;32m    483\u001b[0m \u001b[43m        \u001b[49m\u001b[38;5;28;43mself\u001b[39;49m\u001b[38;5;241;43m.\u001b[39;49m\u001b[43mbootstrap\u001b[49m\u001b[43m,\u001b[49m\n\u001b[1;32m    484\u001b[0m \u001b[43m        \u001b[49m\u001b[43mX\u001b[49m\u001b[43m,\u001b[49m\n\u001b[1;32m    485\u001b[0m \u001b[43m        \u001b[49m\u001b[43my\u001b[49m\u001b[43m,\u001b[49m\n\u001b[1;32m    486\u001b[0m \u001b[43m        \u001b[49m\u001b[43msample_weight\u001b[49m\u001b[43m,\u001b[49m\n\u001b[1;32m    487\u001b[0m \u001b[43m        \u001b[49m\u001b[43mi\u001b[49m\u001b[43m,\u001b[49m\n\u001b[1;32m    488\u001b[0m \u001b[43m        \u001b[49m\u001b[38;5;28;43mlen\u001b[39;49m\u001b[43m(\u001b[49m\u001b[43mtrees\u001b[49m\u001b[43m)\u001b[49m\u001b[43m,\u001b[49m\n\u001b[1;32m    489\u001b[0m \u001b[43m        \u001b[49m\u001b[43mverbose\u001b[49m\u001b[38;5;241;43m=\u001b[39;49m\u001b[38;5;28;43mself\u001b[39;49m\u001b[38;5;241;43m.\u001b[39;49m\u001b[43mverbose\u001b[49m\u001b[43m,\u001b[49m\n\u001b[1;32m    490\u001b[0m \u001b[43m        \u001b[49m\u001b[43mclass_weight\u001b[49m\u001b[38;5;241;43m=\u001b[39;49m\u001b[38;5;28;43mself\u001b[39;49m\u001b[38;5;241;43m.\u001b[39;49m\u001b[43mclass_weight\u001b[49m\u001b[43m,\u001b[49m\n\u001b[1;32m    491\u001b[0m \u001b[43m        \u001b[49m\u001b[43mn_samples_bootstrap\u001b[49m\u001b[38;5;241;43m=\u001b[39;49m\u001b[43mn_samples_bootstrap\u001b[49m\u001b[43m,\u001b[49m\n\u001b[1;32m    492\u001b[0m \u001b[43m    \u001b[49m\u001b[43m)\u001b[49m\n\u001b[1;32m    493\u001b[0m \u001b[43m    \u001b[49m\u001b[38;5;28;43;01mfor\u001b[39;49;00m\u001b[43m \u001b[49m\u001b[43mi\u001b[49m\u001b[43m,\u001b[49m\u001b[43m \u001b[49m\u001b[43mt\u001b[49m\u001b[43m \u001b[49m\u001b[38;5;129;43;01min\u001b[39;49;00m\u001b[43m \u001b[49m\u001b[38;5;28;43menumerate\u001b[39;49m\u001b[43m(\u001b[49m\u001b[43mtrees\u001b[49m\u001b[43m)\u001b[49m\n\u001b[1;32m    494\u001b[0m \u001b[43m\u001b[49m\u001b[43m)\u001b[49m\n\u001b[1;32m    496\u001b[0m \u001b[38;5;66;03m# Collect newly grown trees\u001b[39;00m\n\u001b[1;32m    497\u001b[0m \u001b[38;5;28mself\u001b[39m\u001b[38;5;241m.\u001b[39mestimators_\u001b[38;5;241m.\u001b[39mextend(trees)\n",
      "File \u001b[0;32m/opt/homebrew/lib/python3.10/site-packages/joblib/parallel.py:1088\u001b[0m, in \u001b[0;36mParallel.__call__\u001b[0;34m(self, iterable)\u001b[0m\n\u001b[1;32m   1085\u001b[0m \u001b[38;5;28;01mif\u001b[39;00m \u001b[38;5;28mself\u001b[39m\u001b[38;5;241m.\u001b[39mdispatch_one_batch(iterator):\n\u001b[1;32m   1086\u001b[0m     \u001b[38;5;28mself\u001b[39m\u001b[38;5;241m.\u001b[39m_iterating \u001b[38;5;241m=\u001b[39m \u001b[38;5;28mself\u001b[39m\u001b[38;5;241m.\u001b[39m_original_iterator \u001b[38;5;129;01mis\u001b[39;00m \u001b[38;5;129;01mnot\u001b[39;00m \u001b[38;5;28;01mNone\u001b[39;00m\n\u001b[0;32m-> 1088\u001b[0m \u001b[38;5;28;01mwhile\u001b[39;00m \u001b[38;5;28;43mself\u001b[39;49m\u001b[38;5;241;43m.\u001b[39;49m\u001b[43mdispatch_one_batch\u001b[49m\u001b[43m(\u001b[49m\u001b[43miterator\u001b[49m\u001b[43m)\u001b[49m:\n\u001b[1;32m   1089\u001b[0m     \u001b[38;5;28;01mpass\u001b[39;00m\n\u001b[1;32m   1091\u001b[0m \u001b[38;5;28;01mif\u001b[39;00m pre_dispatch \u001b[38;5;241m==\u001b[39m \u001b[38;5;124m\"\u001b[39m\u001b[38;5;124mall\u001b[39m\u001b[38;5;124m\"\u001b[39m \u001b[38;5;129;01mor\u001b[39;00m n_jobs \u001b[38;5;241m==\u001b[39m \u001b[38;5;241m1\u001b[39m:\n\u001b[1;32m   1092\u001b[0m     \u001b[38;5;66;03m# The iterable was consumed all at once by the above for loop.\u001b[39;00m\n\u001b[1;32m   1093\u001b[0m     \u001b[38;5;66;03m# No need to wait for async callbacks to trigger to\u001b[39;00m\n\u001b[1;32m   1094\u001b[0m     \u001b[38;5;66;03m# consumption.\u001b[39;00m\n",
      "File \u001b[0;32m/opt/homebrew/lib/python3.10/site-packages/joblib/parallel.py:901\u001b[0m, in \u001b[0;36mParallel.dispatch_one_batch\u001b[0;34m(self, iterator)\u001b[0m\n\u001b[1;32m    899\u001b[0m     \u001b[38;5;28;01mreturn\u001b[39;00m \u001b[38;5;28;01mFalse\u001b[39;00m\n\u001b[1;32m    900\u001b[0m \u001b[38;5;28;01melse\u001b[39;00m:\n\u001b[0;32m--> 901\u001b[0m     \u001b[38;5;28;43mself\u001b[39;49m\u001b[38;5;241;43m.\u001b[39;49m\u001b[43m_dispatch\u001b[49m\u001b[43m(\u001b[49m\u001b[43mtasks\u001b[49m\u001b[43m)\u001b[49m\n\u001b[1;32m    902\u001b[0m     \u001b[38;5;28;01mreturn\u001b[39;00m \u001b[38;5;28;01mTrue\u001b[39;00m\n",
      "File \u001b[0;32m/opt/homebrew/lib/python3.10/site-packages/joblib/parallel.py:819\u001b[0m, in \u001b[0;36mParallel._dispatch\u001b[0;34m(self, batch)\u001b[0m\n\u001b[1;32m    817\u001b[0m \u001b[38;5;28;01mwith\u001b[39;00m \u001b[38;5;28mself\u001b[39m\u001b[38;5;241m.\u001b[39m_lock:\n\u001b[1;32m    818\u001b[0m     job_idx \u001b[38;5;241m=\u001b[39m \u001b[38;5;28mlen\u001b[39m(\u001b[38;5;28mself\u001b[39m\u001b[38;5;241m.\u001b[39m_jobs)\n\u001b[0;32m--> 819\u001b[0m     job \u001b[38;5;241m=\u001b[39m \u001b[38;5;28;43mself\u001b[39;49m\u001b[38;5;241;43m.\u001b[39;49m\u001b[43m_backend\u001b[49m\u001b[38;5;241;43m.\u001b[39;49m\u001b[43mapply_async\u001b[49m\u001b[43m(\u001b[49m\u001b[43mbatch\u001b[49m\u001b[43m,\u001b[49m\u001b[43m \u001b[49m\u001b[43mcallback\u001b[49m\u001b[38;5;241;43m=\u001b[39;49m\u001b[43mcb\u001b[49m\u001b[43m)\u001b[49m\n\u001b[1;32m    820\u001b[0m     \u001b[38;5;66;03m# A job can complete so quickly than its callback is\u001b[39;00m\n\u001b[1;32m    821\u001b[0m     \u001b[38;5;66;03m# called before we get here, causing self._jobs to\u001b[39;00m\n\u001b[1;32m    822\u001b[0m     \u001b[38;5;66;03m# grow. To ensure correct results ordering, .insert is\u001b[39;00m\n\u001b[1;32m    823\u001b[0m     \u001b[38;5;66;03m# used (rather than .append) in the following line\u001b[39;00m\n\u001b[1;32m    824\u001b[0m     \u001b[38;5;28mself\u001b[39m\u001b[38;5;241m.\u001b[39m_jobs\u001b[38;5;241m.\u001b[39minsert(job_idx, job)\n",
      "File \u001b[0;32m/opt/homebrew/lib/python3.10/site-packages/joblib/_parallel_backends.py:208\u001b[0m, in \u001b[0;36mSequentialBackend.apply_async\u001b[0;34m(self, func, callback)\u001b[0m\n\u001b[1;32m    206\u001b[0m \u001b[38;5;28;01mdef\u001b[39;00m \u001b[38;5;21mapply_async\u001b[39m(\u001b[38;5;28mself\u001b[39m, func, callback\u001b[38;5;241m=\u001b[39m\u001b[38;5;28;01mNone\u001b[39;00m):\n\u001b[1;32m    207\u001b[0m     \u001b[38;5;124;03m\"\"\"Schedule a func to be run\"\"\"\u001b[39;00m\n\u001b[0;32m--> 208\u001b[0m     result \u001b[38;5;241m=\u001b[39m \u001b[43mImmediateResult\u001b[49m\u001b[43m(\u001b[49m\u001b[43mfunc\u001b[49m\u001b[43m)\u001b[49m\n\u001b[1;32m    209\u001b[0m     \u001b[38;5;28;01mif\u001b[39;00m callback:\n\u001b[1;32m    210\u001b[0m         callback(result)\n",
      "File \u001b[0;32m/opt/homebrew/lib/python3.10/site-packages/joblib/_parallel_backends.py:597\u001b[0m, in \u001b[0;36mImmediateResult.__init__\u001b[0;34m(self, batch)\u001b[0m\n\u001b[1;32m    594\u001b[0m \u001b[38;5;28;01mdef\u001b[39;00m \u001b[38;5;21m__init__\u001b[39m(\u001b[38;5;28mself\u001b[39m, batch):\n\u001b[1;32m    595\u001b[0m     \u001b[38;5;66;03m# Don't delay the application, to avoid keeping the input\u001b[39;00m\n\u001b[1;32m    596\u001b[0m     \u001b[38;5;66;03m# arguments in memory\u001b[39;00m\n\u001b[0;32m--> 597\u001b[0m     \u001b[38;5;28mself\u001b[39m\u001b[38;5;241m.\u001b[39mresults \u001b[38;5;241m=\u001b[39m \u001b[43mbatch\u001b[49m\u001b[43m(\u001b[49m\u001b[43m)\u001b[49m\n",
      "File \u001b[0;32m/opt/homebrew/lib/python3.10/site-packages/joblib/parallel.py:288\u001b[0m, in \u001b[0;36mBatchedCalls.__call__\u001b[0;34m(self)\u001b[0m\n\u001b[1;32m    284\u001b[0m \u001b[38;5;28;01mdef\u001b[39;00m \u001b[38;5;21m__call__\u001b[39m(\u001b[38;5;28mself\u001b[39m):\n\u001b[1;32m    285\u001b[0m     \u001b[38;5;66;03m# Set the default nested backend to self._backend but do not set the\u001b[39;00m\n\u001b[1;32m    286\u001b[0m     \u001b[38;5;66;03m# change the default number of processes to -1\u001b[39;00m\n\u001b[1;32m    287\u001b[0m     \u001b[38;5;28;01mwith\u001b[39;00m parallel_backend(\u001b[38;5;28mself\u001b[39m\u001b[38;5;241m.\u001b[39m_backend, n_jobs\u001b[38;5;241m=\u001b[39m\u001b[38;5;28mself\u001b[39m\u001b[38;5;241m.\u001b[39m_n_jobs):\n\u001b[0;32m--> 288\u001b[0m         \u001b[38;5;28;01mreturn\u001b[39;00m [func(\u001b[38;5;241m*\u001b[39margs, \u001b[38;5;241m*\u001b[39m\u001b[38;5;241m*\u001b[39mkwargs)\n\u001b[1;32m    289\u001b[0m                 \u001b[38;5;28;01mfor\u001b[39;00m func, args, kwargs \u001b[38;5;129;01min\u001b[39;00m \u001b[38;5;28mself\u001b[39m\u001b[38;5;241m.\u001b[39mitems]\n",
      "File \u001b[0;32m/opt/homebrew/lib/python3.10/site-packages/joblib/parallel.py:288\u001b[0m, in \u001b[0;36m<listcomp>\u001b[0;34m(.0)\u001b[0m\n\u001b[1;32m    284\u001b[0m \u001b[38;5;28;01mdef\u001b[39;00m \u001b[38;5;21m__call__\u001b[39m(\u001b[38;5;28mself\u001b[39m):\n\u001b[1;32m    285\u001b[0m     \u001b[38;5;66;03m# Set the default nested backend to self._backend but do not set the\u001b[39;00m\n\u001b[1;32m    286\u001b[0m     \u001b[38;5;66;03m# change the default number of processes to -1\u001b[39;00m\n\u001b[1;32m    287\u001b[0m     \u001b[38;5;28;01mwith\u001b[39;00m parallel_backend(\u001b[38;5;28mself\u001b[39m\u001b[38;5;241m.\u001b[39m_backend, n_jobs\u001b[38;5;241m=\u001b[39m\u001b[38;5;28mself\u001b[39m\u001b[38;5;241m.\u001b[39m_n_jobs):\n\u001b[0;32m--> 288\u001b[0m         \u001b[38;5;28;01mreturn\u001b[39;00m [\u001b[43mfunc\u001b[49m\u001b[43m(\u001b[49m\u001b[38;5;241;43m*\u001b[39;49m\u001b[43margs\u001b[49m\u001b[43m,\u001b[49m\u001b[43m \u001b[49m\u001b[38;5;241;43m*\u001b[39;49m\u001b[38;5;241;43m*\u001b[39;49m\u001b[43mkwargs\u001b[49m\u001b[43m)\u001b[49m\n\u001b[1;32m    289\u001b[0m                 \u001b[38;5;28;01mfor\u001b[39;00m func, args, kwargs \u001b[38;5;129;01min\u001b[39;00m \u001b[38;5;28mself\u001b[39m\u001b[38;5;241m.\u001b[39mitems]\n",
      "File \u001b[0;32m/opt/homebrew/lib/python3.10/site-packages/sklearn/utils/fixes.py:117\u001b[0m, in \u001b[0;36m_FuncWrapper.__call__\u001b[0;34m(self, *args, **kwargs)\u001b[0m\n\u001b[1;32m    115\u001b[0m \u001b[38;5;28;01mdef\u001b[39;00m \u001b[38;5;21m__call__\u001b[39m(\u001b[38;5;28mself\u001b[39m, \u001b[38;5;241m*\u001b[39margs, \u001b[38;5;241m*\u001b[39m\u001b[38;5;241m*\u001b[39mkwargs):\n\u001b[1;32m    116\u001b[0m     \u001b[38;5;28;01mwith\u001b[39;00m config_context(\u001b[38;5;241m*\u001b[39m\u001b[38;5;241m*\u001b[39m\u001b[38;5;28mself\u001b[39m\u001b[38;5;241m.\u001b[39mconfig):\n\u001b[0;32m--> 117\u001b[0m         \u001b[38;5;28;01mreturn\u001b[39;00m \u001b[38;5;28;43mself\u001b[39;49m\u001b[38;5;241;43m.\u001b[39;49m\u001b[43mfunction\u001b[49m\u001b[43m(\u001b[49m\u001b[38;5;241;43m*\u001b[39;49m\u001b[43margs\u001b[49m\u001b[43m,\u001b[49m\u001b[43m \u001b[49m\u001b[38;5;241;43m*\u001b[39;49m\u001b[38;5;241;43m*\u001b[39;49m\u001b[43mkwargs\u001b[49m\u001b[43m)\u001b[49m\n",
      "File \u001b[0;32m/opt/homebrew/lib/python3.10/site-packages/sklearn/ensemble/_forest.py:191\u001b[0m, in \u001b[0;36m_parallel_build_trees\u001b[0;34m(tree, bootstrap, X, y, sample_weight, tree_idx, n_trees, verbose, class_weight, n_samples_bootstrap)\u001b[0m\n\u001b[1;32m    189\u001b[0m     tree\u001b[38;5;241m.\u001b[39mfit(X, y, sample_weight\u001b[38;5;241m=\u001b[39mcurr_sample_weight, check_input\u001b[38;5;241m=\u001b[39m\u001b[38;5;28;01mFalse\u001b[39;00m)\n\u001b[1;32m    190\u001b[0m \u001b[38;5;28;01melse\u001b[39;00m:\n\u001b[0;32m--> 191\u001b[0m     \u001b[43mtree\u001b[49m\u001b[38;5;241;43m.\u001b[39;49m\u001b[43mfit\u001b[49m\u001b[43m(\u001b[49m\u001b[43mX\u001b[49m\u001b[43m,\u001b[49m\u001b[43m \u001b[49m\u001b[43my\u001b[49m\u001b[43m,\u001b[49m\u001b[43m \u001b[49m\u001b[43msample_weight\u001b[49m\u001b[38;5;241;43m=\u001b[39;49m\u001b[43msample_weight\u001b[49m\u001b[43m,\u001b[49m\u001b[43m \u001b[49m\u001b[43mcheck_input\u001b[49m\u001b[38;5;241;43m=\u001b[39;49m\u001b[38;5;28;43;01mFalse\u001b[39;49;00m\u001b[43m)\u001b[49m\n\u001b[1;32m    193\u001b[0m \u001b[38;5;28;01mreturn\u001b[39;00m tree\n",
      "File \u001b[0;32m/opt/homebrew/lib/python3.10/site-packages/sklearn/tree/_classes.py:969\u001b[0m, in \u001b[0;36mDecisionTreeClassifier.fit\u001b[0;34m(self, X, y, sample_weight, check_input)\u001b[0m\n\u001b[1;32m    939\u001b[0m \u001b[38;5;28;01mdef\u001b[39;00m \u001b[38;5;21mfit\u001b[39m(\u001b[38;5;28mself\u001b[39m, X, y, sample_weight\u001b[38;5;241m=\u001b[39m\u001b[38;5;28;01mNone\u001b[39;00m, check_input\u001b[38;5;241m=\u001b[39m\u001b[38;5;28;01mTrue\u001b[39;00m):\n\u001b[1;32m    940\u001b[0m     \u001b[38;5;124;03m\"\"\"Build a decision tree classifier from the training set (X, y).\u001b[39;00m\n\u001b[1;32m    941\u001b[0m \n\u001b[1;32m    942\u001b[0m \u001b[38;5;124;03m    Parameters\u001b[39;00m\n\u001b[0;32m   (...)\u001b[0m\n\u001b[1;32m    966\u001b[0m \u001b[38;5;124;03m        Fitted estimator.\u001b[39;00m\n\u001b[1;32m    967\u001b[0m \u001b[38;5;124;03m    \"\"\"\u001b[39;00m\n\u001b[0;32m--> 969\u001b[0m     \u001b[38;5;28;43msuper\u001b[39;49m\u001b[43m(\u001b[49m\u001b[43m)\u001b[49m\u001b[38;5;241;43m.\u001b[39;49m\u001b[43mfit\u001b[49m\u001b[43m(\u001b[49m\n\u001b[1;32m    970\u001b[0m \u001b[43m        \u001b[49m\u001b[43mX\u001b[49m\u001b[43m,\u001b[49m\n\u001b[1;32m    971\u001b[0m \u001b[43m        \u001b[49m\u001b[43my\u001b[49m\u001b[43m,\u001b[49m\n\u001b[1;32m    972\u001b[0m \u001b[43m        \u001b[49m\u001b[43msample_weight\u001b[49m\u001b[38;5;241;43m=\u001b[39;49m\u001b[43msample_weight\u001b[49m\u001b[43m,\u001b[49m\n\u001b[1;32m    973\u001b[0m \u001b[43m        \u001b[49m\u001b[43mcheck_input\u001b[49m\u001b[38;5;241;43m=\u001b[39;49m\u001b[43mcheck_input\u001b[49m\u001b[43m,\u001b[49m\n\u001b[1;32m    974\u001b[0m \u001b[43m    \u001b[49m\u001b[43m)\u001b[49m\n\u001b[1;32m    975\u001b[0m     \u001b[38;5;28;01mreturn\u001b[39;00m \u001b[38;5;28mself\u001b[39m\n",
      "File \u001b[0;32m/opt/homebrew/lib/python3.10/site-packages/sklearn/tree/_classes.py:458\u001b[0m, in \u001b[0;36mBaseDecisionTree.fit\u001b[0;34m(self, X, y, sample_weight, check_input)\u001b[0m\n\u001b[1;32m    447\u001b[0m \u001b[38;5;28;01melse\u001b[39;00m:\n\u001b[1;32m    448\u001b[0m     builder \u001b[38;5;241m=\u001b[39m BestFirstTreeBuilder(\n\u001b[1;32m    449\u001b[0m         splitter,\n\u001b[1;32m    450\u001b[0m         min_samples_split,\n\u001b[0;32m   (...)\u001b[0m\n\u001b[1;32m    455\u001b[0m         \u001b[38;5;28mself\u001b[39m\u001b[38;5;241m.\u001b[39mmin_impurity_decrease,\n\u001b[1;32m    456\u001b[0m     )\n\u001b[0;32m--> 458\u001b[0m \u001b[43mbuilder\u001b[49m\u001b[38;5;241;43m.\u001b[39;49m\u001b[43mbuild\u001b[49m\u001b[43m(\u001b[49m\u001b[38;5;28;43mself\u001b[39;49m\u001b[38;5;241;43m.\u001b[39;49m\u001b[43mtree_\u001b[49m\u001b[43m,\u001b[49m\u001b[43m \u001b[49m\u001b[43mX\u001b[49m\u001b[43m,\u001b[49m\u001b[43m \u001b[49m\u001b[43my\u001b[49m\u001b[43m,\u001b[49m\u001b[43m \u001b[49m\u001b[43msample_weight\u001b[49m\u001b[43m)\u001b[49m\n\u001b[1;32m    460\u001b[0m \u001b[38;5;28;01mif\u001b[39;00m \u001b[38;5;28mself\u001b[39m\u001b[38;5;241m.\u001b[39mn_outputs_ \u001b[38;5;241m==\u001b[39m \u001b[38;5;241m1\u001b[39m \u001b[38;5;129;01mand\u001b[39;00m is_classifier(\u001b[38;5;28mself\u001b[39m):\n\u001b[1;32m    461\u001b[0m     \u001b[38;5;28mself\u001b[39m\u001b[38;5;241m.\u001b[39mn_classes_ \u001b[38;5;241m=\u001b[39m \u001b[38;5;28mself\u001b[39m\u001b[38;5;241m.\u001b[39mn_classes_[\u001b[38;5;241m0\u001b[39m]\n",
      "\u001b[0;31mKeyboardInterrupt\u001b[0m: "
     ]
    }
   ],
   "source": [
    "import optuna\n",
    "\n",
    "sampler = TPESampler(seed=2)\n",
    "study = optuna.create_study(study_name=\"rf\", direction=\"maximize\", sampler=sampler)\n",
    "study.optimize(objective, n_trials=100000)"
   ]
  },
  {
   "cell_type": "code",
   "execution_count": 16,
   "metadata": {},
   "outputs": [],
   "source": [
    "bp = study.best_params\n",
    "rf_cls = RandomForestClassifier(**bp)\n",
    "\n",
    "rf_cls.fit(X_train, y_train_labels)\n",
    "\n",
    "preds = rf_cls.predict(X_test)\n"
   ]
  },
  {
   "cell_type": "code",
   "execution_count": 17,
   "metadata": {},
   "outputs": [
    {
     "name": "stdout",
     "output_type": "stream",
     "text": [
      "{'n_estimators': 119, 'criterion': 'entropy', 'max_depth': 34, 'min_samples_split': 2, 'min_samples_leaf': 1, 'max_features': 'sqrt', 'bootstrap': False}\n"
     ]
    }
   ],
   "source": [
    "print(bp)"
   ]
  },
  {
   "cell_type": "code",
   "execution_count": 19,
   "metadata": {},
   "outputs": [
    {
     "name": "stdout",
     "output_type": "stream",
     "text": [
      "Random forest train F1 Score 1.0\n",
      "Random forest train Accuracy 1.0\n",
      "Random forest test  F1 Score 0.8698689956331879\n",
      "Random forest test  Accuracy 0.906112161310649\n"
     ]
    }
   ],
   "source": [
    "print(f'Random forest train F1 Score {f1_score(y_train_labels, rf_cls.predict(X_train))}')\n",
    "print(f'Random forest train Accuracy {accuracy_score(y_train_labels, rf_cls.predict(X_train))}')\n",
    "print(f'Random forest test  F1 Score {f1_score(y_test_labels, rf_cls.predict(X_test))}')\n",
    "print(f'Random forest test  Accuracy {accuracy_score(y_test_labels, rf_cls.predict(X_test))}')"
   ]
  },
  {
   "cell_type": "code",
   "execution_count": 22,
   "metadata": {},
   "outputs": [],
   "source": [
    "import pickle\n",
    "with open('rf-clf.pkl', 'wb') as fout:\n",
    "    pickle.dump(rf_cls, fout)"
   ]
  },
  {
   "cell_type": "code",
   "execution_count": null,
   "metadata": {},
   "outputs": [],
   "source": []
  }
 ],
 "metadata": {
  "colab": {
   "provenance": []
  },
  "kernelspec": {
   "display_name": "Python 3 (ipykernel)",
   "language": "python",
   "name": "python3"
  },
  "language_info": {
   "codemirror_mode": {
    "name": "ipython",
    "version": 3
   },
   "file_extension": ".py",
   "mimetype": "text/x-python",
   "name": "python",
   "nbconvert_exporter": "python",
   "pygments_lexer": "ipython3",
   "version": "3.10.11"
  }
 },
 "nbformat": 4,
 "nbformat_minor": 1
}
